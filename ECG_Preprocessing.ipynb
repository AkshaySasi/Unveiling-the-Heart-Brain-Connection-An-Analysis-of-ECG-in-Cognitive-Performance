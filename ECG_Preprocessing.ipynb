{
  "cells": [
    {
      "cell_type": "code",
      "execution_count": 1,
      "metadata": {
        "colab": {
          "base_uri": "https://localhost:8080/"
        },
        "id": "pj-E58Ie3qfI",
        "outputId": "af1d68a7-c0a4-41d2-85a5-f1a9d2edac98"
      },
      "outputs": [
        {
          "name": "stdout",
          "output_type": "stream",
          "text": [
            "\u001b[?25l   \u001b[90m━━━━━━━━━━━━━━━━━━━━━━━━━━━━━━━━━━━━━━━━\u001b[0m \u001b[32m0.0/7.4 MB\u001b[0m \u001b[31m?\u001b[0m eta \u001b[36m-:--:--\u001b[0m\r\u001b[2K   \u001b[91m━━━━━━━━━\u001b[0m\u001b[91m╸\u001b[0m\u001b[90m━━━━━━━━━━━━━━━━━━━━━━━━━━━━━━\u001b[0m \u001b[32m1.8/7.4 MB\u001b[0m \u001b[31m53.8 MB/s\u001b[0m eta \u001b[36m0:00:01\u001b[0m\r\u001b[2K   \u001b[91m━━━━━━━━━━━━━━━━━━━━━━━━━━━━━━━━━━\u001b[0m\u001b[90m╺\u001b[0m\u001b[90m━━━━━\u001b[0m \u001b[32m6.3/7.4 MB\u001b[0m \u001b[31m105.1 MB/s\u001b[0m eta \u001b[36m0:00:01\u001b[0m\r\u001b[2K   \u001b[91m━━━━━━━━━━━━━━━━━━━━━━━━━━━━━━━━━━\u001b[0m\u001b[90m╺\u001b[0m\u001b[90m━━━━━\u001b[0m \u001b[32m6.3/7.4 MB\u001b[0m \u001b[31m105.1 MB/s\u001b[0m eta \u001b[36m0:00:01\u001b[0m\r\u001b[2K   \u001b[91m━━━━━━━━━━━━━━━━━━━━━━━━━━━━━━━━━━━━━━━\u001b[0m\u001b[91m╸\u001b[0m \u001b[32m7.4/7.4 MB\u001b[0m \u001b[31m56.2 MB/s\u001b[0m eta \u001b[36m0:00:01\u001b[0m\r\u001b[2K   \u001b[90m━━━━━━━━━━━━━━━━━━━━━━━━━━━━━━━━━━━━━━━━\u001b[0m \u001b[32m7.4/7.4 MB\u001b[0m \u001b[31m44.0 MB/s\u001b[0m eta \u001b[36m0:00:00\u001b[0m\n",
            "\u001b[?25h\u001b[?25l   \u001b[90m━━━━━━━━━━━━━━━━━━━━━━━━━━━━━━━━━━━━━━━━\u001b[0m \u001b[32m0.0/693.1 kB\u001b[0m \u001b[31m?\u001b[0m eta \u001b[36m-:--:--\u001b[0m\r\u001b[2K   \u001b[90m━━━━━━━━━━━━━━━━━━━━━━━━━━━━━━━━━━━━━━━━\u001b[0m \u001b[32m693.1/693.1 kB\u001b[0m \u001b[31m38.4 MB/s\u001b[0m eta \u001b[36m0:00:00\u001b[0m\n",
            "\u001b[?25h"
          ]
        }
      ],
      "source": [
        "# ✅ Install required packages\n",
        "!pip install mne neurokit2 matplotlib tqdm --quiet"
      ]
    },
    {
      "cell_type": "code",
      "execution_count": 2,
      "metadata": {
        "colab": {
          "base_uri": "https://localhost:8080/"
        },
        "id": "d2iaZCw24sSG",
        "outputId": "d40a177e-26c2-49d9-dc4c-002ab82ac1e9"
      },
      "outputs": [
        {
          "name": "stdout",
          "output_type": "stream",
          "text": [
            "Collecting pymatreader\n",
            "  Downloading pymatreader-1.0.0-py3-none-any.whl.metadata (1.5 kB)\n",
            "Requirement already satisfied: h5py in /usr/local/lib/python3.11/dist-packages (3.13.0)\n",
            "Requirement already satisfied: mne in /usr/local/lib/python3.11/dist-packages (1.9.0)\n",
            "Requirement already satisfied: neurokit2 in /usr/local/lib/python3.11/dist-packages (0.2.10)\n",
            "Requirement already satisfied: numpy in /usr/local/lib/python3.11/dist-packages (from pymatreader) (2.0.2)\n",
            "Requirement already satisfied: scipy>=1.7.1 in /usr/local/lib/python3.11/dist-packages (from pymatreader) (1.14.1)\n",
            "Collecting xmltodict (from pymatreader)\n",
            "  Downloading xmltodict-0.14.2-py2.py3-none-any.whl.metadata (8.0 kB)\n",
            "Requirement already satisfied: decorator in /usr/local/lib/python3.11/dist-packages (from mne) (4.4.2)\n",
            "Requirement already satisfied: jinja2 in /usr/local/lib/python3.11/dist-packages (from mne) (3.1.6)\n",
            "Requirement already satisfied: lazy-loader>=0.3 in /usr/local/lib/python3.11/dist-packages (from mne) (0.4)\n",
            "Requirement already satisfied: matplotlib>=3.6 in /usr/local/lib/python3.11/dist-packages (from mne) (3.10.0)\n",
            "Requirement already satisfied: packaging in /usr/local/lib/python3.11/dist-packages (from mne) (24.2)\n",
            "Requirement already satisfied: pooch>=1.5 in /usr/local/lib/python3.11/dist-packages (from mne) (1.8.2)\n",
            "Requirement already satisfied: tqdm in /usr/local/lib/python3.11/dist-packages (from mne) (4.67.1)\n",
            "Requirement already satisfied: requests in /usr/local/lib/python3.11/dist-packages (from neurokit2) (2.32.3)\n",
            "Requirement already satisfied: pandas in /usr/local/lib/python3.11/dist-packages (from neurokit2) (2.2.2)\n",
            "Requirement already satisfied: scikit-learn>=1.0.0 in /usr/local/lib/python3.11/dist-packages (from neurokit2) (1.6.1)\n",
            "Requirement already satisfied: contourpy>=1.0.1 in /usr/local/lib/python3.11/dist-packages (from matplotlib>=3.6->mne) (1.3.1)\n",
            "Requirement already satisfied: cycler>=0.10 in /usr/local/lib/python3.11/dist-packages (from matplotlib>=3.6->mne) (0.12.1)\n",
            "Requirement already satisfied: fonttools>=4.22.0 in /usr/local/lib/python3.11/dist-packages (from matplotlib>=3.6->mne) (4.57.0)\n",
            "Requirement already satisfied: kiwisolver>=1.3.1 in /usr/local/lib/python3.11/dist-packages (from matplotlib>=3.6->mne) (1.4.8)\n",
            "Requirement already satisfied: pillow>=8 in /usr/local/lib/python3.11/dist-packages (from matplotlib>=3.6->mne) (11.1.0)\n",
            "Requirement already satisfied: pyparsing>=2.3.1 in /usr/local/lib/python3.11/dist-packages (from matplotlib>=3.6->mne) (3.2.3)\n",
            "Requirement already satisfied: python-dateutil>=2.7 in /usr/local/lib/python3.11/dist-packages (from matplotlib>=3.6->mne) (2.8.2)\n",
            "Requirement already satisfied: platformdirs>=2.5.0 in /usr/local/lib/python3.11/dist-packages (from pooch>=1.5->mne) (4.3.7)\n",
            "Requirement already satisfied: charset-normalizer<4,>=2 in /usr/local/lib/python3.11/dist-packages (from requests->neurokit2) (3.4.1)\n",
            "Requirement already satisfied: idna<4,>=2.5 in /usr/local/lib/python3.11/dist-packages (from requests->neurokit2) (3.10)\n",
            "Requirement already satisfied: urllib3<3,>=1.21.1 in /usr/local/lib/python3.11/dist-packages (from requests->neurokit2) (2.3.0)\n",
            "Requirement already satisfied: certifi>=2017.4.17 in /usr/local/lib/python3.11/dist-packages (from requests->neurokit2) (2025.1.31)\n",
            "Requirement already satisfied: joblib>=1.2.0 in /usr/local/lib/python3.11/dist-packages (from scikit-learn>=1.0.0->neurokit2) (1.4.2)\n",
            "Requirement already satisfied: threadpoolctl>=3.1.0 in /usr/local/lib/python3.11/dist-packages (from scikit-learn>=1.0.0->neurokit2) (3.6.0)\n",
            "Requirement already satisfied: MarkupSafe>=2.0 in /usr/local/lib/python3.11/dist-packages (from jinja2->mne) (3.0.2)\n",
            "Requirement already satisfied: pytz>=2020.1 in /usr/local/lib/python3.11/dist-packages (from pandas->neurokit2) (2025.2)\n",
            "Requirement already satisfied: tzdata>=2022.7 in /usr/local/lib/python3.11/dist-packages (from pandas->neurokit2) (2025.2)\n",
            "Requirement already satisfied: six>=1.5 in /usr/local/lib/python3.11/dist-packages (from python-dateutil>=2.7->matplotlib>=3.6->mne) (1.17.0)\n",
            "Downloading pymatreader-1.0.0-py3-none-any.whl (9.3 kB)\n",
            "Downloading xmltodict-0.14.2-py2.py3-none-any.whl (10.0 kB)\n",
            "Installing collected packages: xmltodict, pymatreader\n",
            "Successfully installed pymatreader-1.0.0 xmltodict-0.14.2\n"
          ]
        }
      ],
      "source": [
        "!pip install pymatreader h5py mne neurokit2"
      ]
    },
    {
      "cell_type": "code",
      "execution_count": 3,
      "metadata": {
        "id": "5Ltx8Uq5CxJA"
      },
      "outputs": [],
      "source": [
        "# ✅ Import libraries\n",
        "import os\n",
        "import mne\n",
        "import neurokit2 as nk\n",
        "import numpy as np\n",
        "import matplotlib.pyplot as plt\n",
        "import pickle\n",
        "import gc\n",
        "from tqdm import tqdm"
      ]
    },
    {
      "cell_type": "code",
      "execution_count": 4,
      "metadata": {
        "id": "D3pQiMs-4neI"
      },
      "outputs": [],
      "source": [
        "# ✅ Parameters\n",
        "SAVE_PLOTS = False  # Set to True to save ECG plots\n",
        "dataset_path = \"/content/drive/MyDrive/EntireDataset_240GB\"\n",
        "output_root = \"/content/output_ecg_data\"\n",
        "output_images_dir = \"/content/output_ecg_images\"\n",
        "os.makedirs(output_root, exist_ok=True)\n",
        "if SAVE_PLOTS:\n",
        "    os.makedirs(output_images_dir, exist_ok=True)\n",
        "\n"
      ]
    },
    {
      "cell_type": "code",
      "execution_count": 5,
      "metadata": {
        "id": "fm-d80qrC7v_"
      },
      "outputs": [],
      "source": [
        "num_conditions = 3\n",
        "num_subconditions = 3\n",
        "num_trials = 54\n",
        "max_time = 26000\n",
        "\n",
        "# ✅ Event dictionary\n",
        "event_dicts = {\n",
        "    \"five\": {\n",
        "        \"justlisten/five\": 1,\n",
        "        \"memory/correct/five\": 29,\n",
        "        \"memory/incorrect/five\": 28\n",
        "    },\n",
        "    \"nine\": {\n",
        "        \"justlisten/nine\": 2,\n",
        "        \"memory/correct/nine\": 31,\n",
        "        \"memory/incorrect/nine\": 30\n",
        "    },\n",
        "    \"thirteen\": {\n",
        "        \"justlisten/thirteen\": 3,\n",
        "        \"memory/correct/thirteen\": 33,\n",
        "        \"memory/incorrect/thirteen\": 32\n",
        "    }\n",
        "}"
      ]
    },
    {
      "cell_type": "code",
      "execution_count": 6,
      "metadata": {
        "id": "C736pbxRDE2o"
      },
      "outputs": [],
      "source": [
        "epoch_durations = {\"five\": 10, \"nine\": 18, \"thirteen\": 26}\n",
        "reject_criteria = dict(ecg=1000000e-6)\n",
        "\n",
        "excluded_subjects = {\n",
        "    \"sub-013\", \"sub-014\", \"sub-015\", \"sub-016\", \"sub-017\", \"sub-018\", \"sub-019\",\n",
        "    \"sub-020\", \"sub-021\", \"sub-022\", \"sub-023\", \"sub-024\", \"sub-025\", \"sub-026\",\n",
        "    \"sub-027\", \"sub-028\", \"sub-029\", \"sub-030\", \"sub-031\", \"sub-037\", \"sub-066\"\n",
        "}\n",
        "\n",
        "# ✅ Locate .set files\n",
        "def find_set_files(root_dir):\n",
        "    set_files = []\n",
        "    for root, _, files in os.walk(root_dir):\n",
        "        for file in files:\n",
        "            if file.endswith(\".set\") and \"task-memory_ecg\" in file:\n",
        "                set_files.append(os.path.join(root, file))\n",
        "    return set_files\n",
        "\n",
        "set_files = find_set_files(dataset_path)"
      ]
    },
    {
      "cell_type": "code",
      "execution_count": 7,
      "metadata": {
        "colab": {
          "base_uri": "https://localhost:8080/"
        },
        "id": "Pv7BHmhsDKL-",
        "outputId": "7c7bb658-69b6-4ae3-a099-39bc3a5208a8"
      },
      "outputs": [
        {
          "name": "stderr",
          "output_type": "stream",
          "text": [
            "\rProcessing subjects:   0%|          | 0/83 [00:00<?, ?it/s]"
          ]
        },
        {
          "name": "stdout",
          "output_type": "stream",
          "text": [
            "\n",
            "🔍 Processing sub-033...\n"
          ]
        },
        {
          "name": "stderr",
          "output_type": "stream",
          "text": [
            "/usr/local/lib/python3.11/dist-packages/pymatreader/utils.py:168: UserWarning: Complex objects (like classes) are not supported. They are imported on a best effort base but your mileage will vary.\n",
            "  warn(\n"
          ]
        },
        {
          "name": "stdout",
          "output_type": "stream",
          "text": [
            "Used Annotations descriptions: [np.str_('500105'), np.str_('500109'), np.str_('500113'), np.str_('500205'), np.str_('500209'), np.str_('500213'), np.str_('500305'), np.str_('500309'), np.str_('500313'), np.str_('500405'), np.str_('500409'), np.str_('500413'), np.str_('500505'), np.str_('500509'), np.str_('500513'), np.str_('500609'), np.str_('500613'), np.str_('500709'), np.str_('500713'), np.str_('500809'), np.str_('500813'), np.str_('500909'), np.str_('500913'), np.str_('501013'), np.str_('501113'), np.str_('501213'), np.str_('501313'), np.str_('6001050'), np.str_('6001051'), np.str_('6001090'), np.str_('6001091'), np.str_('6001130'), np.str_('6001131'), np.str_('6002050'), np.str_('6002051'), np.str_('6002090'), np.str_('6002091'), np.str_('6002130'), np.str_('6002131'), np.str_('6003050'), np.str_('6003051'), np.str_('6003090'), np.str_('6003091'), np.str_('6003130'), np.str_('6003131'), np.str_('6004050'), np.str_('6004051'), np.str_('6004090'), np.str_('6004091'), np.str_('6004130'), np.str_('6004131'), np.str_('6005050'), np.str_('6005051'), np.str_('6005090'), np.str_('6005091'), np.str_('6005130'), np.str_('6005131'), np.str_('6006090'), np.str_('6006091'), np.str_('6006130'), np.str_('6006131'), np.str_('6007090'), np.str_('6007091'), np.str_('6007130'), np.str_('6007131'), np.str_('6008090'), np.str_('6008130'), np.str_('6009090'), np.str_('6009130'), np.str_('6009131'), np.str_('6010130'), np.str_('6011130'), np.str_('6012130'), np.str_('6013130'), np.str_('boundary')]\n",
            "Not setting metadata\n",
            "54 matching events found\n",
            "No baseline correction applied\n",
            "0 projection items activated\n",
            "Using data from preloaded Raw for 54 events and 13001 original time points ...\n",
            "    Rejecting  epoch based on ECG : ['ECG']\n",
            "    Rejecting  epoch based on ECG : ['ECG']\n",
            "    Rejecting  epoch based on ECG : ['ECG']\n",
            "    Rejecting  epoch based on ECG : ['ECG']\n",
            "    Rejecting  epoch based on ECG : ['ECG']\n",
            "    Rejecting  epoch based on ECG : ['ECG']\n",
            "    Rejecting  epoch based on ECG : ['ECG']\n",
            "    Rejecting  epoch based on ECG : ['ECG']\n",
            "    Rejecting  epoch based on ECG : ['ECG']\n",
            "    Rejecting  epoch based on ECG : ['ECG']\n",
            "    Rejecting  epoch based on ECG : ['ECG']\n",
            "    Rejecting  epoch based on ECG : ['ECG']\n",
            "    Rejecting  epoch based on ECG : ['ECG']\n",
            "13 bad epochs dropped\n"
          ]
        },
        {
          "name": "stderr",
          "output_type": "stream",
          "text": [
            "<ipython-input-7-5e7cde8d0c1e>:12: RuntimeWarning: The data contains 'boundary' events, indicating data discontinuities. Be cautious of filtering and epoching around these events.\n",
            "  raw = mne.io.read_raw_eeglab(file_path, preload=True)\n"
          ]
        },
        {
          "name": "stdout",
          "output_type": "stream",
          "text": [
            "Not setting metadata\n",
            "54 matching events found\n",
            "No baseline correction applied\n",
            "0 projection items activated\n",
            "Using data from preloaded Raw for 54 events and 21001 original time points ...\n",
            "    Rejecting  epoch based on ECG : ['ECG']\n",
            "    Rejecting  epoch based on ECG : ['ECG']\n",
            "    Rejecting  epoch based on ECG : ['ECG']\n",
            "    Rejecting  epoch based on ECG : ['ECG']\n",
            "    Rejecting  epoch based on ECG : ['ECG']\n",
            "    Rejecting  epoch based on ECG : ['ECG']\n",
            "    Rejecting  epoch based on ECG : ['ECG']\n",
            "    Rejecting  epoch based on ECG : ['ECG']\n",
            "    Rejecting  epoch based on ECG : ['ECG']\n",
            "    Rejecting  epoch based on ECG : ['ECG']\n",
            "    Rejecting  epoch based on ECG : ['ECG']\n",
            "    Rejecting  epoch based on ECG : ['ECG']\n",
            "    Rejecting  epoch based on ECG : ['ECG']\n",
            "    Rejecting  epoch based on ECG : ['ECG']\n",
            "    Rejecting  epoch based on ECG : ['ECG']\n",
            "    Rejecting  epoch based on ECG : ['ECG']\n",
            "    Rejecting  epoch based on ECG : ['ECG']\n",
            "    Rejecting  epoch based on ECG : ['ECG']\n",
            "    Rejecting  epoch based on ECG : ['ECG']\n",
            "    Rejecting  epoch based on ECG : ['ECG']\n",
            "20 bad epochs dropped\n",
            "Not setting metadata\n",
            "54 matching events found\n",
            "No baseline correction applied\n",
            "0 projection items activated\n",
            "Using data from preloaded Raw for 54 events and 29001 original time points ...\n",
            "    Rejecting  epoch based on ECG : ['ECG']\n",
            "    Rejecting  epoch based on ECG : ['ECG']\n",
            "    Rejecting  epoch based on ECG : ['ECG']\n",
            "    Rejecting  epoch based on ECG : ['ECG']\n",
            "    Rejecting  epoch based on ECG : ['ECG']\n",
            "    Rejecting  epoch based on ECG : ['ECG']\n",
            "    Rejecting  epoch based on ECG : ['ECG']\n",
            "    Rejecting  epoch based on ECG : ['ECG']\n",
            "    Rejecting  epoch based on ECG : ['ECG']\n",
            "    Rejecting  epoch based on ECG : ['ECG']\n",
            "    Rejecting  epoch based on ECG : ['ECG']\n",
            "    Rejecting  epoch based on ECG : ['ECG']\n",
            "    Rejecting  epoch based on ECG : ['ECG']\n",
            "    Rejecting  epoch based on ECG : ['ECG']\n",
            "    Rejecting  epoch based on ECG : ['ECG']\n",
            "    Rejecting  epoch based on ECG : ['ECG']\n",
            "    Rejecting  epoch based on ECG : ['ECG']\n",
            "    Rejecting  epoch based on ECG : ['ECG']\n",
            "    Rejecting  epoch based on ECG : ['ECG']\n",
            "    Rejecting  epoch based on ECG : ['ECG']\n",
            "    Rejecting  epoch based on ECG : ['ECG']\n",
            "    Rejecting  epoch based on ECG : ['ECG']\n",
            "    Rejecting  epoch based on ECG : ['ECG']\n",
            "    Rejecting  epoch based on ECG : ['ECG']\n",
            "24 bad epochs dropped\n"
          ]
        },
        {
          "name": "stderr",
          "output_type": "stream",
          "text": [
            "\rProcessing subjects:  22%|██▏       | 18/83 [00:59<03:35,  3.32s/it]"
          ]
        },
        {
          "name": "stdout",
          "output_type": "stream",
          "text": [
            "\n",
            "🔍 Processing sub-038...\n"
          ]
        },
        {
          "name": "stderr",
          "output_type": "stream",
          "text": [
            "/usr/local/lib/python3.11/dist-packages/pymatreader/utils.py:168: UserWarning: Complex objects (like classes) are not supported. They are imported on a best effort base but your mileage will vary.\n",
            "  warn(\n"
          ]
        },
        {
          "name": "stdout",
          "output_type": "stream",
          "text": [
            "Used Annotations descriptions: [np.str_('500105'), np.str_('500109'), np.str_('500113'), np.str_('500205'), np.str_('500209'), np.str_('500213'), np.str_('500305'), np.str_('500309'), np.str_('500313'), np.str_('500405'), np.str_('500409'), np.str_('500413'), np.str_('500505'), np.str_('500509'), np.str_('500513'), np.str_('500609'), np.str_('500613'), np.str_('500709'), np.str_('500713'), np.str_('500809'), np.str_('500813'), np.str_('500909'), np.str_('500913'), np.str_('501013'), np.str_('501113'), np.str_('501213'), np.str_('501313'), np.str_('6001051'), np.str_('6001090'), np.str_('6001091'), np.str_('6001130'), np.str_('6001131'), np.str_('6002050'), np.str_('6002051'), np.str_('6002090'), np.str_('6002091'), np.str_('6002130'), np.str_('6002131'), np.str_('6003050'), np.str_('6003051'), np.str_('6003090'), np.str_('6003091'), np.str_('6003130'), np.str_('6003131'), np.str_('6004050'), np.str_('6004051'), np.str_('6004090'), np.str_('6004091'), np.str_('6004130'), np.str_('6004131'), np.str_('6005050'), np.str_('6005051'), np.str_('6005090'), np.str_('6005091'), np.str_('6005130'), np.str_('6005131'), np.str_('6006090'), np.str_('6006091'), np.str_('6006130'), np.str_('6007090'), np.str_('6007091'), np.str_('6007130'), np.str_('6007131'), np.str_('6008090'), np.str_('6008091'), np.str_('6008130'), np.str_('6008131'), np.str_('6009090'), np.str_('6009130'), np.str_('6009131'), np.str_('6010130'), np.str_('6011130'), np.str_('6011131'), np.str_('6012130'), np.str_('6013130'), np.str_('boundary')]\n",
            "Not setting metadata\n",
            "62 matching events found\n",
            "No baseline correction applied\n",
            "0 projection items activated\n",
            "Using data from preloaded Raw for 62 events and 13001 original time points ...\n",
            "    Rejecting  epoch based on ECG : ['ECG']\n",
            "    Rejecting  epoch based on ECG : ['ECG']\n",
            "    Rejecting  epoch based on ECG : ['ECG']\n",
            "    Rejecting  epoch based on ECG : ['ECG']\n",
            "    Rejecting  epoch based on ECG : ['ECG']\n",
            "    Rejecting  epoch based on ECG : ['ECG']\n",
            "    Rejecting  epoch based on ECG : ['ECG']\n",
            "    Rejecting  epoch based on ECG : ['ECG']\n",
            "    Rejecting  epoch based on ECG : ['ECG']\n",
            "    Rejecting  epoch based on ECG : ['ECG']\n",
            "    Rejecting  epoch based on ECG : ['ECG']\n",
            "11 bad epochs dropped\n"
          ]
        },
        {
          "name": "stderr",
          "output_type": "stream",
          "text": [
            "<ipython-input-7-5e7cde8d0c1e>:12: RuntimeWarning: The data contains 'boundary' events, indicating data discontinuities. Be cautious of filtering and epoching around these events.\n",
            "  raw = mne.io.read_raw_eeglab(file_path, preload=True)\n",
            "/usr/local/lib/python3.11/dist-packages/neurokit2/signal/signal_fixpeaks.py:307: RuntimeWarning: invalid value encountered in divide\n",
            "  mrrs /= th2\n",
            "/usr/local/lib/python3.11/dist-packages/neurokit2/signal/signal_period.py:84: NeuroKitWarning: Too few peaks detected to compute the rate. Returning empty vector.\n",
            "  warn(\n"
          ]
        },
        {
          "name": "stdout",
          "output_type": "stream",
          "text": [
            "⚠️ [sub-038] Trial 27 processing failed: cannot convert float NaN to integer\n",
            "⚠️ [sub-038] Trial 50 processing failed: cannot convert float NaN to integer\n",
            "Not setting metadata\n",
            "56 matching events found\n",
            "No baseline correction applied\n",
            "0 projection items activated\n",
            "Using data from preloaded Raw for 56 events and 21001 original time points ...\n",
            "    Rejecting  epoch based on ECG : ['ECG']\n",
            "    Rejecting  epoch based on ECG : ['ECG']\n",
            "    Rejecting  epoch based on ECG : ['ECG']\n",
            "    Rejecting  epoch based on ECG : ['ECG']\n",
            "    Rejecting  epoch based on ECG : ['ECG']\n",
            "    Rejecting  epoch based on ECG : ['ECG']\n",
            "    Rejecting  epoch based on ECG : ['ECG']\n",
            "    Rejecting  epoch based on ECG : ['ECG']\n",
            "8 bad epochs dropped\n"
          ]
        },
        {
          "name": "stderr",
          "output_type": "stream",
          "text": [
            "/usr/local/lib/python3.11/dist-packages/neurokit2/signal/signal_period.py:84: NeuroKitWarning: Too few peaks detected to compute the rate. Returning empty vector.\n",
            "  warn(\n"
          ]
        },
        {
          "name": "stdout",
          "output_type": "stream",
          "text": [
            "Not setting metadata\n",
            "48 matching events found\n",
            "No baseline correction applied\n",
            "0 projection items activated\n",
            "Using data from preloaded Raw for 48 events and 29001 original time points ...\n",
            "    Rejecting  epoch based on ECG : ['ECG']\n",
            "    Rejecting  epoch based on ECG : ['ECG']\n",
            "    Rejecting  epoch based on ECG : ['ECG']\n",
            "    Rejecting  epoch based on ECG : ['ECG']\n",
            "    Rejecting  epoch based on ECG : ['ECG']\n",
            "    Rejecting  epoch based on ECG : ['ECG']\n",
            "    Rejecting  epoch based on ECG : ['ECG']\n",
            "7 bad epochs dropped\n"
          ]
        },
        {
          "name": "stderr",
          "output_type": "stream",
          "text": [
            "\rProcessing subjects:  23%|██▎       | 19/83 [02:10<08:50,  8.29s/it]"
          ]
        },
        {
          "name": "stdout",
          "output_type": "stream",
          "text": [
            "\n",
            "🔍 Processing sub-040...\n"
          ]
        },
        {
          "name": "stderr",
          "output_type": "stream",
          "text": [
            "/usr/local/lib/python3.11/dist-packages/pymatreader/utils.py:168: UserWarning: Complex objects (like classes) are not supported. They are imported on a best effort base but your mileage will vary.\n",
            "  warn(\n"
          ]
        },
        {
          "name": "stdout",
          "output_type": "stream",
          "text": [
            "Used Annotations descriptions: [np.str_('500105'), np.str_('500109'), np.str_('500113'), np.str_('500205'), np.str_('500209'), np.str_('500213'), np.str_('500305'), np.str_('500309'), np.str_('500313'), np.str_('500405'), np.str_('500409'), np.str_('500413'), np.str_('500505'), np.str_('500509'), np.str_('500513'), np.str_('500609'), np.str_('500613'), np.str_('500709'), np.str_('500713'), np.str_('500809'), np.str_('500813'), np.str_('500909'), np.str_('500913'), np.str_('501013'), np.str_('501113'), np.str_('501213'), np.str_('501313'), np.str_('6001051'), np.str_('6001090'), np.str_('6001091'), np.str_('6001130'), np.str_('6001131'), np.str_('6002051'), np.str_('6002090'), np.str_('6002091'), np.str_('6002130'), np.str_('6002131'), np.str_('6003051'), np.str_('6003090'), np.str_('6003091'), np.str_('6003130'), np.str_('6003131'), np.str_('6004051'), np.str_('6004090'), np.str_('6004091'), np.str_('6004130'), np.str_('6004131'), np.str_('6005051'), np.str_('6005090'), np.str_('6005091'), np.str_('6005130'), np.str_('6005131'), np.str_('6006090'), np.str_('6006091'), np.str_('6006130'), np.str_('6006131'), np.str_('6007090'), np.str_('6007091'), np.str_('6007130'), np.str_('6007131'), np.str_('6008090'), np.str_('6008091'), np.str_('6008130'), np.str_('6008131'), np.str_('6009090'), np.str_('6009091'), np.str_('6009130'), np.str_('6009131'), np.str_('6010130'), np.str_('6010131'), np.str_('6011130'), np.str_('6012130'), np.str_('6013130'), np.str_('boundary')]\n",
            "Not setting metadata\n",
            "58 matching events found\n",
            "No baseline correction applied\n",
            "0 projection items activated\n",
            "Using data from preloaded Raw for 58 events and 13001 original time points ...\n",
            "0 bad epochs dropped\n"
          ]
        },
        {
          "name": "stderr",
          "output_type": "stream",
          "text": [
            "<ipython-input-7-5e7cde8d0c1e>:12: RuntimeWarning: The data contains 'boundary' events, indicating data discontinuities. Be cautious of filtering and epoching around these events.\n",
            "  raw = mne.io.read_raw_eeglab(file_path, preload=True)\n"
          ]
        },
        {
          "name": "stdout",
          "output_type": "stream",
          "text": [
            "Not setting metadata\n",
            "55 matching events found\n",
            "No baseline correction applied\n",
            "0 projection items activated\n",
            "Using data from preloaded Raw for 55 events and 21001 original time points ...\n",
            "0 bad epochs dropped\n",
            "Not setting metadata\n",
            "85 matching events found\n",
            "No baseline correction applied\n",
            "0 projection items activated\n",
            "Using data from preloaded Raw for 85 events and 29001 original time points ...\n",
            "0 bad epochs dropped\n"
          ]
        },
        {
          "name": "stderr",
          "output_type": "stream",
          "text": [
            "\rProcessing subjects:  25%|██▌       | 21/83 [03:32<14:23, 13.93s/it]"
          ]
        },
        {
          "name": "stdout",
          "output_type": "stream",
          "text": [
            "\n",
            "🔍 Processing sub-039...\n"
          ]
        },
        {
          "name": "stderr",
          "output_type": "stream",
          "text": [
            "/usr/local/lib/python3.11/dist-packages/pymatreader/utils.py:168: UserWarning: Complex objects (like classes) are not supported. They are imported on a best effort base but your mileage will vary.\n",
            "  warn(\n"
          ]
        },
        {
          "name": "stdout",
          "output_type": "stream",
          "text": [
            "Used Annotations descriptions: [np.str_('500105'), np.str_('500109'), np.str_('500113'), np.str_('500205'), np.str_('500209'), np.str_('500213'), np.str_('500305'), np.str_('500309'), np.str_('500313'), np.str_('500405'), np.str_('500409'), np.str_('500413'), np.str_('500505'), np.str_('500509'), np.str_('500513'), np.str_('500609'), np.str_('500613'), np.str_('500709'), np.str_('500713'), np.str_('500809'), np.str_('500813'), np.str_('500909'), np.str_('500913'), np.str_('501013'), np.str_('501113'), np.str_('501213'), np.str_('501313'), np.str_('6001051'), np.str_('6001091'), np.str_('6001130'), np.str_('6001131'), np.str_('6002051'), np.str_('6002090'), np.str_('6002091'), np.str_('6002130'), np.str_('6002131'), np.str_('6003051'), np.str_('6003090'), np.str_('6003091'), np.str_('6003130'), np.str_('6003131'), np.str_('6004050'), np.str_('6004051'), np.str_('6004090'), np.str_('6004091'), np.str_('6004130'), np.str_('6004131'), np.str_('6005050'), np.str_('6005051'), np.str_('6005090'), np.str_('6005091'), np.str_('6005130'), np.str_('6005131'), np.str_('6006090'), np.str_('6006091'), np.str_('6006130'), np.str_('6006131'), np.str_('6007090'), np.str_('6007091'), np.str_('6007130'), np.str_('6007131'), np.str_('6008090'), np.str_('6008091'), np.str_('6008130'), np.str_('6008131'), np.str_('6009090'), np.str_('6009091'), np.str_('6009130'), np.str_('6009131'), np.str_('6010130'), np.str_('6010131'), np.str_('6011130'), np.str_('6012130'), np.str_('6013130'), np.str_('boundary')]\n",
            "Not setting metadata\n",
            "90 matching events found\n",
            "No baseline correction applied\n",
            "0 projection items activated\n",
            "Using data from preloaded Raw for 90 events and 13001 original time points ...\n",
            "    Rejecting  epoch based on ECG : ['ECG']\n",
            "    Rejecting  epoch based on ECG : ['ECG']\n",
            "    Rejecting  epoch based on ECG : ['ECG']\n",
            "    Rejecting  epoch based on ECG : ['ECG']\n",
            "    Rejecting  epoch based on ECG : ['ECG']\n",
            "    Rejecting  epoch based on ECG : ['ECG']\n",
            "6 bad epochs dropped\n"
          ]
        },
        {
          "name": "stderr",
          "output_type": "stream",
          "text": [
            "<ipython-input-7-5e7cde8d0c1e>:12: RuntimeWarning: The data contains 'boundary' events, indicating data discontinuities. Be cautious of filtering and epoching around these events.\n",
            "  raw = mne.io.read_raw_eeglab(file_path, preload=True)\n"
          ]
        },
        {
          "name": "stdout",
          "output_type": "stream",
          "text": [
            "Not setting metadata\n",
            "54 matching events found\n",
            "No baseline correction applied\n",
            "0 projection items activated\n",
            "Using data from preloaded Raw for 54 events and 21001 original time points ...\n",
            "    Rejecting  epoch based on ECG : ['ECG']\n",
            "    Rejecting  epoch based on ECG : ['ECG']\n",
            "    Rejecting  epoch based on ECG : ['ECG']\n",
            "3 bad epochs dropped\n",
            "Not setting metadata\n",
            "60 matching events found\n",
            "No baseline correction applied\n",
            "0 projection items activated\n",
            "Using data from preloaded Raw for 60 events and 29001 original time points ...\n",
            "    Rejecting  epoch based on ECG : ['ECG']\n",
            "    Rejecting  epoch based on ECG : ['ECG']\n",
            "    Rejecting  epoch based on ECG : ['ECG']\n",
            "    Rejecting  epoch based on ECG : ['ECG']\n",
            "    Rejecting  epoch based on ECG : ['ECG']\n",
            "    Rejecting  epoch based on ECG : ['ECG']\n",
            "    Rejecting  epoch based on ECG : ['ECG']\n",
            "    Rejecting  epoch based on ECG : ['ECG']\n",
            "    Rejecting  epoch based on ECG : ['ECG']\n",
            "9 bad epochs dropped\n"
          ]
        },
        {
          "name": "stderr",
          "output_type": "stream",
          "text": [
            "\rProcessing subjects:  27%|██▋       | 22/83 [04:50<21:23, 21.04s/it]"
          ]
        },
        {
          "name": "stdout",
          "output_type": "stream",
          "text": [
            "\n",
            "🔍 Processing sub-032...\n"
          ]
        },
        {
          "name": "stderr",
          "output_type": "stream",
          "text": [
            "/usr/local/lib/python3.11/dist-packages/pymatreader/utils.py:168: UserWarning: Complex objects (like classes) are not supported. They are imported on a best effort base but your mileage will vary.\n",
            "  warn(\n"
          ]
        },
        {
          "name": "stdout",
          "output_type": "stream",
          "text": [
            "Used Annotations descriptions: [np.str_('500105'), np.str_('500109'), np.str_('500113'), np.str_('500205'), np.str_('500209'), np.str_('500213'), np.str_('500305'), np.str_('500309'), np.str_('500313'), np.str_('500405'), np.str_('500409'), np.str_('500413'), np.str_('500505'), np.str_('500509'), np.str_('500513'), np.str_('500609'), np.str_('500613'), np.str_('500709'), np.str_('500713'), np.str_('500809'), np.str_('500813'), np.str_('500909'), np.str_('500913'), np.str_('501013'), np.str_('501113'), np.str_('501213'), np.str_('501313'), np.str_('6001051'), np.str_('6001090'), np.str_('6001091'), np.str_('6001130'), np.str_('6001131'), np.str_('6002051'), np.str_('6002090'), np.str_('6002091'), np.str_('6002130'), np.str_('6002131'), np.str_('6003051'), np.str_('6003090'), np.str_('6003091'), np.str_('6003130'), np.str_('6003131'), np.str_('6004051'), np.str_('6004090'), np.str_('6004091'), np.str_('6004130'), np.str_('6004131'), np.str_('6005051'), np.str_('6005090'), np.str_('6005091'), np.str_('6005130'), np.str_('6005131'), np.str_('6006090'), np.str_('6006091'), np.str_('6006130'), np.str_('6006131'), np.str_('6007090'), np.str_('6007091'), np.str_('6007130'), np.str_('6007131'), np.str_('6008090'), np.str_('6008091'), np.str_('6008130'), np.str_('6008131'), np.str_('6009090'), np.str_('6009091'), np.str_('6009130'), np.str_('6009131'), np.str_('6010130'), np.str_('6011130'), np.str_('6012130'), np.str_('6013130'), np.str_('boundary')]\n",
            "Not setting metadata\n",
            "55 matching events found\n",
            "No baseline correction applied\n",
            "0 projection items activated\n",
            "Using data from preloaded Raw for 55 events and 13001 original time points ...\n",
            "0 bad epochs dropped\n"
          ]
        },
        {
          "name": "stderr",
          "output_type": "stream",
          "text": [
            "<ipython-input-7-5e7cde8d0c1e>:12: RuntimeWarning: The data contains 'boundary' events, indicating data discontinuities. Be cautious of filtering and epoching around these events.\n",
            "  raw = mne.io.read_raw_eeglab(file_path, preload=True)\n"
          ]
        },
        {
          "name": "stdout",
          "output_type": "stream",
          "text": [
            "Not setting metadata\n",
            "54 matching events found\n",
            "No baseline correction applied\n",
            "0 projection items activated\n",
            "Using data from preloaded Raw for 54 events and 21001 original time points ...\n",
            "    Rejecting  epoch based on ECG : ['ECG']\n",
            "1 bad epochs dropped\n",
            "Not setting metadata\n",
            "89 matching events found\n",
            "No baseline correction applied\n",
            "0 projection items activated\n",
            "Using data from preloaded Raw for 89 events and 29001 original time points ...\n",
            "0 bad epochs dropped\n"
          ]
        },
        {
          "name": "stderr",
          "output_type": "stream",
          "text": [
            "\rProcessing subjects:  28%|██▊       | 23/83 [06:16<29:53, 29.90s/it]"
          ]
        },
        {
          "name": "stdout",
          "output_type": "stream",
          "text": [
            "\n",
            "🔍 Processing sub-034...\n"
          ]
        },
        {
          "name": "stderr",
          "output_type": "stream",
          "text": [
            "/usr/local/lib/python3.11/dist-packages/pymatreader/utils.py:168: UserWarning: Complex objects (like classes) are not supported. They are imported on a best effort base but your mileage will vary.\n",
            "  warn(\n"
          ]
        },
        {
          "name": "stdout",
          "output_type": "stream",
          "text": [
            "Used Annotations descriptions: [np.str_('500105'), np.str_('500109'), np.str_('500113'), np.str_('500205'), np.str_('500209'), np.str_('500213'), np.str_('500305'), np.str_('500309'), np.str_('500313'), np.str_('500405'), np.str_('500409'), np.str_('500413'), np.str_('500505'), np.str_('500509'), np.str_('500513'), np.str_('500609'), np.str_('500613'), np.str_('500709'), np.str_('500713'), np.str_('500809'), np.str_('500813'), np.str_('500909'), np.str_('500913'), np.str_('501013'), np.str_('501113'), np.str_('501213'), np.str_('501313'), np.str_('6001051'), np.str_('6001091'), np.str_('6001131'), np.str_('6002051'), np.str_('6002090'), np.str_('6002091'), np.str_('6002130'), np.str_('6002131'), np.str_('6003051'), np.str_('6003090'), np.str_('6003091'), np.str_('6003130'), np.str_('6003131'), np.str_('6004051'), np.str_('6004090'), np.str_('6004091'), np.str_('6004130'), np.str_('6004131'), np.str_('6005051'), np.str_('6005090'), np.str_('6005091'), np.str_('6005130'), np.str_('6005131'), np.str_('6006090'), np.str_('6006091'), np.str_('6006130'), np.str_('6006131'), np.str_('6007090'), np.str_('6007091'), np.str_('6007130'), np.str_('6007131'), np.str_('6008090'), np.str_('6008091'), np.str_('6008130'), np.str_('6008131'), np.str_('6009090'), np.str_('6009091'), np.str_('6009130'), np.str_('6009131'), np.str_('6010130'), np.str_('6010131'), np.str_('6011130'), np.str_('6012130'), np.str_('6013130'), np.str_('boundary')]\n",
            "Not setting metadata\n",
            "90 matching events found\n",
            "No baseline correction applied\n",
            "0 projection items activated\n",
            "Using data from preloaded Raw for 90 events and 13001 original time points ...\n",
            "0 bad epochs dropped\n"
          ]
        },
        {
          "name": "stderr",
          "output_type": "stream",
          "text": [
            "<ipython-input-7-5e7cde8d0c1e>:12: RuntimeWarning: The data contains 'boundary' events, indicating data discontinuities. Be cautious of filtering and epoching around these events.\n",
            "  raw = mne.io.read_raw_eeglab(file_path, preload=True)\n"
          ]
        },
        {
          "name": "stdout",
          "output_type": "stream",
          "text": [
            "Not setting metadata\n",
            "90 matching events found\n",
            "No baseline correction applied\n",
            "0 projection items activated\n",
            "Using data from preloaded Raw for 90 events and 21001 original time points ...\n",
            "0 bad epochs dropped\n",
            "Not setting metadata\n",
            "54 matching events found\n",
            "No baseline correction applied\n",
            "0 projection items activated\n",
            "Using data from preloaded Raw for 54 events and 29001 original time points ...\n",
            "0 bad epochs dropped\n"
          ]
        },
        {
          "name": "stderr",
          "output_type": "stream",
          "text": [
            "\rProcessing subjects:  29%|██▉       | 24/83 [07:36<37:19, 37.95s/it]"
          ]
        },
        {
          "name": "stdout",
          "output_type": "stream",
          "text": [
            "\n",
            "🔍 Processing sub-036...\n"
          ]
        },
        {
          "name": "stderr",
          "output_type": "stream",
          "text": [
            "/usr/local/lib/python3.11/dist-packages/pymatreader/utils.py:168: UserWarning: Complex objects (like classes) are not supported. They are imported on a best effort base but your mileage will vary.\n",
            "  warn(\n"
          ]
        },
        {
          "name": "stdout",
          "output_type": "stream",
          "text": [
            "Used Annotations descriptions: [np.str_('500105'), np.str_('500109'), np.str_('500113'), np.str_('500205'), np.str_('500209'), np.str_('500213'), np.str_('500305'), np.str_('500309'), np.str_('500313'), np.str_('500405'), np.str_('500409'), np.str_('500413'), np.str_('500505'), np.str_('500509'), np.str_('500513'), np.str_('500609'), np.str_('500613'), np.str_('500709'), np.str_('500713'), np.str_('500809'), np.str_('500813'), np.str_('500909'), np.str_('500913'), np.str_('501013'), np.str_('501113'), np.str_('501213'), np.str_('501313'), np.str_('6001050'), np.str_('6001051'), np.str_('6001090'), np.str_('6001091'), np.str_('6001130'), np.str_('6001131'), np.str_('6002050'), np.str_('6002051'), np.str_('6002090'), np.str_('6002091'), np.str_('6002130'), np.str_('6002131'), np.str_('6003050'), np.str_('6003051'), np.str_('6003090'), np.str_('6003091'), np.str_('6003130'), np.str_('6003131'), np.str_('6004050'), np.str_('6004051'), np.str_('6004090'), np.str_('6004091'), np.str_('6004130'), np.str_('6004131'), np.str_('6005050'), np.str_('6005051'), np.str_('6005090'), np.str_('6005091'), np.str_('6005130'), np.str_('6005131'), np.str_('6006090'), np.str_('6006091'), np.str_('6006130'), np.str_('6006131'), np.str_('6007090'), np.str_('6007091'), np.str_('6007130'), np.str_('6007131'), np.str_('6008090'), np.str_('6008130'), np.str_('6008131'), np.str_('6009090'), np.str_('6009091'), np.str_('6009130'), np.str_('6009131'), np.str_('6010130'), np.str_('6011130'), np.str_('6012130'), np.str_('6013130'), np.str_('boundary')]\n",
            "Not setting metadata\n",
            "54 matching events found\n",
            "No baseline correction applied\n",
            "0 projection items activated\n",
            "Using data from preloaded Raw for 54 events and 13001 original time points ...\n",
            "0 bad epochs dropped\n"
          ]
        },
        {
          "name": "stderr",
          "output_type": "stream",
          "text": [
            "<ipython-input-7-5e7cde8d0c1e>:12: RuntimeWarning: The data contains 'boundary' events, indicating data discontinuities. Be cautious of filtering and epoching around these events.\n",
            "  raw = mne.io.read_raw_eeglab(file_path, preload=True)\n"
          ]
        },
        {
          "name": "stdout",
          "output_type": "stream",
          "text": [
            "Not setting metadata\n",
            "54 matching events found\n",
            "No baseline correction applied\n",
            "0 projection items activated\n",
            "Using data from preloaded Raw for 54 events and 21001 original time points ...\n",
            "0 bad epochs dropped\n",
            "Not setting metadata\n",
            "54 matching events found\n",
            "No baseline correction applied\n",
            "0 projection items activated\n",
            "Using data from preloaded Raw for 54 events and 29001 original time points ...\n",
            "0 bad epochs dropped\n"
          ]
        },
        {
          "name": "stderr",
          "output_type": "stream",
          "text": [
            "\rProcessing subjects:  30%|███       | 25/83 [08:51<43:35, 45.09s/it]"
          ]
        },
        {
          "name": "stdout",
          "output_type": "stream",
          "text": [
            "\n",
            "🔍 Processing sub-035...\n"
          ]
        },
        {
          "name": "stderr",
          "output_type": "stream",
          "text": [
            "/usr/local/lib/python3.11/dist-packages/pymatreader/utils.py:168: UserWarning: Complex objects (like classes) are not supported. They are imported on a best effort base but your mileage will vary.\n",
            "  warn(\n"
          ]
        },
        {
          "name": "stdout",
          "output_type": "stream",
          "text": [
            "Used Annotations descriptions: [np.str_('500105'), np.str_('500109'), np.str_('500113'), np.str_('500205'), np.str_('500209'), np.str_('500213'), np.str_('500305'), np.str_('500309'), np.str_('500313'), np.str_('500405'), np.str_('500409'), np.str_('500413'), np.str_('500505'), np.str_('500509'), np.str_('500513'), np.str_('500609'), np.str_('500613'), np.str_('500709'), np.str_('500713'), np.str_('500809'), np.str_('500813'), np.str_('500909'), np.str_('500913'), np.str_('501013'), np.str_('501113'), np.str_('501213'), np.str_('501313'), np.str_('6001051'), np.str_('6001090'), np.str_('6001091'), np.str_('6001130'), np.str_('6001131'), np.str_('6002051'), np.str_('6002090'), np.str_('6002091'), np.str_('6002130'), np.str_('6002131'), np.str_('6003050'), np.str_('6003051'), np.str_('6003090'), np.str_('6003091'), np.str_('6003130'), np.str_('6003131'), np.str_('6004050'), np.str_('6004051'), np.str_('6004090'), np.str_('6004091'), np.str_('6004130'), np.str_('6004131'), np.str_('6005050'), np.str_('6005051'), np.str_('6005090'), np.str_('6005091'), np.str_('6005130'), np.str_('6005131'), np.str_('6006090'), np.str_('6006091'), np.str_('6006130'), np.str_('6006131'), np.str_('6007090'), np.str_('6007091'), np.str_('6007130'), np.str_('6007131'), np.str_('6008090'), np.str_('6008091'), np.str_('6008130'), np.str_('6008131'), np.str_('6009090'), np.str_('6009091'), np.str_('6009130'), np.str_('6009131'), np.str_('6010130'), np.str_('6010131'), np.str_('6011130'), np.str_('6011131'), np.str_('6012130'), np.str_('6012131'), np.str_('6013130'), np.str_('boundary')]\n",
            "Not setting metadata\n",
            "56 matching events found\n",
            "No baseline correction applied\n",
            "0 projection items activated\n",
            "Using data from preloaded Raw for 56 events and 13001 original time points ...\n",
            "0 bad epochs dropped\n"
          ]
        },
        {
          "name": "stderr",
          "output_type": "stream",
          "text": [
            "<ipython-input-7-5e7cde8d0c1e>:12: RuntimeWarning: The data contains 'boundary' events, indicating data discontinuities. Be cautious of filtering and epoching around these events.\n",
            "  raw = mne.io.read_raw_eeglab(file_path, preload=True)\n"
          ]
        },
        {
          "name": "stdout",
          "output_type": "stream",
          "text": [
            "Not setting metadata\n",
            "61 matching events found\n",
            "No baseline correction applied\n",
            "0 projection items activated\n",
            "Using data from preloaded Raw for 61 events and 21001 original time points ...\n",
            "    Rejecting  epoch based on ECG : ['ECG']\n",
            "1 bad epochs dropped\n",
            "Not setting metadata\n",
            "81 matching events found\n",
            "No baseline correction applied\n",
            "0 projection items activated\n",
            "Using data from preloaded Raw for 81 events and 29001 original time points ...\n",
            "0 bad epochs dropped\n"
          ]
        },
        {
          "name": "stderr",
          "output_type": "stream",
          "text": [
            "\rProcessing subjects:  31%|███▏      | 26/83 [10:15<50:36, 53.27s/it]"
          ]
        },
        {
          "name": "stdout",
          "output_type": "stream",
          "text": [
            "\n",
            "🔍 Processing sub-041...\n"
          ]
        },
        {
          "name": "stderr",
          "output_type": "stream",
          "text": [
            "/usr/local/lib/python3.11/dist-packages/pymatreader/utils.py:168: UserWarning: Complex objects (like classes) are not supported. They are imported on a best effort base but your mileage will vary.\n",
            "  warn(\n"
          ]
        },
        {
          "name": "stdout",
          "output_type": "stream",
          "text": [
            "Used Annotations descriptions: [np.str_('500105'), np.str_('500109'), np.str_('500113'), np.str_('500205'), np.str_('500209'), np.str_('500213'), np.str_('500305'), np.str_('500309'), np.str_('500313'), np.str_('500405'), np.str_('500409'), np.str_('500413'), np.str_('500505'), np.str_('500509'), np.str_('500513'), np.str_('500609'), np.str_('500613'), np.str_('500709'), np.str_('500713'), np.str_('500809'), np.str_('500813'), np.str_('500909'), np.str_('500913'), np.str_('501013'), np.str_('501113'), np.str_('501213'), np.str_('501313'), np.str_('6001051'), np.str_('6001090'), np.str_('6001091'), np.str_('6001130'), np.str_('6001131'), np.str_('6002051'), np.str_('6002090'), np.str_('6002091'), np.str_('6002130'), np.str_('6002131'), np.str_('6003050'), np.str_('6003051'), np.str_('6003090'), np.str_('6003091'), np.str_('6003130'), np.str_('6003131'), np.str_('6004050'), np.str_('6004051'), np.str_('6004090'), np.str_('6004091'), np.str_('6004130'), np.str_('6004131'), np.str_('6005050'), np.str_('6005051'), np.str_('6005090'), np.str_('6005091'), np.str_('6005130'), np.str_('6005131'), np.str_('6006090'), np.str_('6006091'), np.str_('6006130'), np.str_('6006131'), np.str_('6007090'), np.str_('6007091'), np.str_('6007130'), np.str_('6007131'), np.str_('6008090'), np.str_('6008091'), np.str_('6008130'), np.str_('6008131'), np.str_('6009090'), np.str_('6009091'), np.str_('6009130'), np.str_('6009131'), np.str_('6010130'), np.str_('6010131'), np.str_('6011130'), np.str_('6011131'), np.str_('6012130'), np.str_('6012131'), np.str_('6013130'), np.str_('boundary')]\n",
            "Not setting metadata\n",
            "57 matching events found\n",
            "No baseline correction applied\n",
            "0 projection items activated\n",
            "Using data from preloaded Raw for 57 events and 13001 original time points ...\n",
            "0 bad epochs dropped\n"
          ]
        },
        {
          "name": "stderr",
          "output_type": "stream",
          "text": [
            "<ipython-input-7-5e7cde8d0c1e>:12: RuntimeWarning: The data contains 'boundary' events, indicating data discontinuities. Be cautious of filtering and epoching around these events.\n",
            "  raw = mne.io.read_raw_eeglab(file_path, preload=True)\n"
          ]
        },
        {
          "name": "stdout",
          "output_type": "stream",
          "text": [
            "Not setting metadata\n",
            "56 matching events found\n",
            "No baseline correction applied\n",
            "0 projection items activated\n",
            "Using data from preloaded Raw for 56 events and 21001 original time points ...\n",
            "0 bad epochs dropped\n",
            "Not setting metadata\n",
            "85 matching events found\n",
            "No baseline correction applied\n",
            "0 projection items activated\n",
            "Using data from preloaded Raw for 85 events and 29001 original time points ...\n",
            "0 bad epochs dropped\n"
          ]
        },
        {
          "name": "stderr",
          "output_type": "stream",
          "text": [
            "\rProcessing subjects:  33%|███▎      | 27/83 [11:37<56:02, 60.05s/it]"
          ]
        },
        {
          "name": "stdout",
          "output_type": "stream",
          "text": [
            "\n",
            "🔍 Processing sub-047...\n"
          ]
        },
        {
          "name": "stderr",
          "output_type": "stream",
          "text": [
            "/usr/local/lib/python3.11/dist-packages/pymatreader/utils.py:168: UserWarning: Complex objects (like classes) are not supported. They are imported on a best effort base but your mileage will vary.\n",
            "  warn(\n"
          ]
        },
        {
          "name": "stdout",
          "output_type": "stream",
          "text": [
            "Used Annotations descriptions: [np.str_('500105'), np.str_('500109'), np.str_('500113'), np.str_('500205'), np.str_('500209'), np.str_('500213'), np.str_('500305'), np.str_('500309'), np.str_('500313'), np.str_('500405'), np.str_('500409'), np.str_('500413'), np.str_('500505'), np.str_('500509'), np.str_('500513'), np.str_('500609'), np.str_('500613'), np.str_('500709'), np.str_('500713'), np.str_('500809'), np.str_('500813'), np.str_('500909'), np.str_('500913'), np.str_('501013'), np.str_('501113'), np.str_('501213'), np.str_('501313'), np.str_('6001050'), np.str_('6001051'), np.str_('6001090'), np.str_('6001091'), np.str_('6001130'), np.str_('6001131'), np.str_('6002051'), np.str_('6002090'), np.str_('6002091'), np.str_('6002130'), np.str_('6002131'), np.str_('6003050'), np.str_('6003051'), np.str_('6003090'), np.str_('6003091'), np.str_('6003130'), np.str_('6003131'), np.str_('6004050'), np.str_('6004051'), np.str_('6004090'), np.str_('6004091'), np.str_('6004130'), np.str_('6004131'), np.str_('6005050'), np.str_('6005051'), np.str_('6005090'), np.str_('6005091'), np.str_('6005130'), np.str_('6005131'), np.str_('6006090'), np.str_('6006091'), np.str_('6006130'), np.str_('6006131'), np.str_('6007090'), np.str_('6007091'), np.str_('6007130'), np.str_('6007131'), np.str_('6008090'), np.str_('6008091'), np.str_('6008130'), np.str_('6008131'), np.str_('6009090'), np.str_('6009091'), np.str_('6009130'), np.str_('6009131'), np.str_('6010130'), np.str_('6010131'), np.str_('6011130'), np.str_('6011131'), np.str_('6012130'), np.str_('6013130'), np.str_('boundary')]\n",
            "Not setting metadata\n",
            "54 matching events found\n",
            "No baseline correction applied\n",
            "0 projection items activated\n",
            "Using data from preloaded Raw for 54 events and 13001 original time points ...\n",
            "    Rejecting  epoch based on ECG : ['ECG']\n",
            "    Rejecting  epoch based on ECG : ['ECG']\n",
            "    Rejecting  epoch based on ECG : ['ECG']\n",
            "3 bad epochs dropped\n"
          ]
        },
        {
          "name": "stderr",
          "output_type": "stream",
          "text": [
            "<ipython-input-7-5e7cde8d0c1e>:12: RuntimeWarning: The data contains 'boundary' events, indicating data discontinuities. Be cautious of filtering and epoching around these events.\n",
            "  raw = mne.io.read_raw_eeglab(file_path, preload=True)\n"
          ]
        },
        {
          "name": "stdout",
          "output_type": "stream",
          "text": [
            "Not setting metadata\n",
            "54 matching events found\n",
            "No baseline correction applied\n",
            "0 projection items activated\n",
            "Using data from preloaded Raw for 54 events and 21001 original time points ...\n",
            "    Rejecting  epoch based on ECG : ['ECG']\n",
            "    Rejecting  epoch based on ECG : ['ECG']\n",
            "    Rejecting  epoch based on ECG : ['ECG']\n",
            "    Rejecting  epoch based on ECG : ['ECG']\n",
            "    Rejecting  epoch based on ECG : ['ECG']\n",
            "    Rejecting  epoch based on ECG : ['ECG']\n",
            "6 bad epochs dropped\n",
            "Not setting metadata\n",
            "54 matching events found\n",
            "No baseline correction applied\n",
            "0 projection items activated\n",
            "Using data from preloaded Raw for 54 events and 29001 original time points ...\n",
            "    Rejecting  epoch based on ECG : ['ECG']\n",
            "1 bad epochs dropped\n"
          ]
        },
        {
          "name": "stderr",
          "output_type": "stream",
          "text": [
            "\rProcessing subjects:  34%|███▎      | 28/83 [12:50<57:55, 63.20s/it]"
          ]
        },
        {
          "name": "stdout",
          "output_type": "stream",
          "text": [
            "\n",
            "🔍 Processing sub-043...\n"
          ]
        },
        {
          "name": "stderr",
          "output_type": "stream",
          "text": [
            "/usr/local/lib/python3.11/dist-packages/pymatreader/utils.py:168: UserWarning: Complex objects (like classes) are not supported. They are imported on a best effort base but your mileage will vary.\n",
            "  warn(\n"
          ]
        },
        {
          "name": "stdout",
          "output_type": "stream",
          "text": [
            "Used Annotations descriptions: [np.str_('500105'), np.str_('500109'), np.str_('500113'), np.str_('500205'), np.str_('500209'), np.str_('500213'), np.str_('500305'), np.str_('500309'), np.str_('500313'), np.str_('500405'), np.str_('500409'), np.str_('500413'), np.str_('500505'), np.str_('500509'), np.str_('500513'), np.str_('500609'), np.str_('500613'), np.str_('500709'), np.str_('500713'), np.str_('500809'), np.str_('500813'), np.str_('500909'), np.str_('500913'), np.str_('501013'), np.str_('501113'), np.str_('501213'), np.str_('501313'), np.str_('6001050'), np.str_('6001051'), np.str_('6001090'), np.str_('6001091'), np.str_('6001130'), np.str_('6001131'), np.str_('6002050'), np.str_('6002051'), np.str_('6002090'), np.str_('6002091'), np.str_('6002130'), np.str_('6002131'), np.str_('6003050'), np.str_('6003051'), np.str_('6003090'), np.str_('6003091'), np.str_('6003130'), np.str_('6003131'), np.str_('6004050'), np.str_('6004051'), np.str_('6004090'), np.str_('6004091'), np.str_('6004130'), np.str_('6004131'), np.str_('6005050'), np.str_('6005051'), np.str_('6005090'), np.str_('6005091'), np.str_('6005130'), np.str_('6005131'), np.str_('6006090'), np.str_('6006091'), np.str_('6006130'), np.str_('6006131'), np.str_('6007090'), np.str_('6007091'), np.str_('6007130'), np.str_('6007131'), np.str_('6008090'), np.str_('6008091'), np.str_('6008130'), np.str_('6008131'), np.str_('6009090'), np.str_('6009091'), np.str_('6009130'), np.str_('6009131'), np.str_('6010130'), np.str_('6010131'), np.str_('6011130'), np.str_('6012130'), np.str_('6013130'), np.str_('boundary')]\n",
            "Not setting metadata\n",
            "54 matching events found\n",
            "No baseline correction applied\n",
            "0 projection items activated\n",
            "Using data from preloaded Raw for 54 events and 13001 original time points ...\n",
            "0 bad epochs dropped\n"
          ]
        },
        {
          "name": "stderr",
          "output_type": "stream",
          "text": [
            "<ipython-input-7-5e7cde8d0c1e>:12: RuntimeWarning: The data contains 'boundary' events, indicating data discontinuities. Be cautious of filtering and epoching around these events.\n",
            "  raw = mne.io.read_raw_eeglab(file_path, preload=True)\n"
          ]
        },
        {
          "name": "stdout",
          "output_type": "stream",
          "text": [
            "Not setting metadata\n",
            "54 matching events found\n",
            "No baseline correction applied\n",
            "0 projection items activated\n",
            "Using data from preloaded Raw for 54 events and 21001 original time points ...\n",
            "0 bad epochs dropped\n",
            "Not setting metadata\n",
            "54 matching events found\n",
            "No baseline correction applied\n",
            "0 projection items activated\n",
            "Using data from preloaded Raw for 54 events and 29001 original time points ...\n",
            "0 bad epochs dropped\n"
          ]
        },
        {
          "name": "stderr",
          "output_type": "stream",
          "text": [
            "\rProcessing subjects:  35%|███▍      | 29/83 [14:09<1:00:42, 67.46s/it]"
          ]
        },
        {
          "name": "stdout",
          "output_type": "stream",
          "text": [
            "\n",
            "🔍 Processing sub-044...\n"
          ]
        },
        {
          "name": "stderr",
          "output_type": "stream",
          "text": [
            "/usr/local/lib/python3.11/dist-packages/pymatreader/utils.py:168: UserWarning: Complex objects (like classes) are not supported. They are imported on a best effort base but your mileage will vary.\n",
            "  warn(\n"
          ]
        },
        {
          "name": "stdout",
          "output_type": "stream",
          "text": [
            "Used Annotations descriptions: [np.str_('500105'), np.str_('500109'), np.str_('500113'), np.str_('500205'), np.str_('500209'), np.str_('500213'), np.str_('500305'), np.str_('500309'), np.str_('500313'), np.str_('500405'), np.str_('500409'), np.str_('500413'), np.str_('500505'), np.str_('500509'), np.str_('500513'), np.str_('500609'), np.str_('500613'), np.str_('500709'), np.str_('500713'), np.str_('500809'), np.str_('500813'), np.str_('500909'), np.str_('500913'), np.str_('501013'), np.str_('501113'), np.str_('501213'), np.str_('501313'), np.str_('6001050'), np.str_('6001051'), np.str_('6001091'), np.str_('6001130'), np.str_('6001131'), np.str_('6002050'), np.str_('6002051'), np.str_('6002090'), np.str_('6002091'), np.str_('6002130'), np.str_('6002131'), np.str_('6003050'), np.str_('6003051'), np.str_('6003090'), np.str_('6003091'), np.str_('6003130'), np.str_('6003131'), np.str_('6004050'), np.str_('6004051'), np.str_('6004090'), np.str_('6004091'), np.str_('6004130'), np.str_('6004131'), np.str_('6005050'), np.str_('6005051'), np.str_('6005090'), np.str_('6005091'), np.str_('6005130'), np.str_('6005131'), np.str_('6006090'), np.str_('6006091'), np.str_('6006130'), np.str_('6006131'), np.str_('6007090'), np.str_('6007091'), np.str_('6007130'), np.str_('6007131'), np.str_('6008090'), np.str_('6008091'), np.str_('6008130'), np.str_('6008131'), np.str_('6009090'), np.str_('6009091'), np.str_('6009130'), np.str_('6009131'), np.str_('6010130'), np.str_('6010131'), np.str_('6011130'), np.str_('6012130'), np.str_('6012131'), np.str_('6013130'), np.str_('boundary')]\n",
            "Not setting metadata\n",
            "54 matching events found\n",
            "No baseline correction applied\n",
            "0 projection items activated\n",
            "Using data from preloaded Raw for 54 events and 13001 original time points ...\n",
            "0 bad epochs dropped\n"
          ]
        },
        {
          "name": "stderr",
          "output_type": "stream",
          "text": [
            "<ipython-input-7-5e7cde8d0c1e>:12: RuntimeWarning: The data contains 'boundary' events, indicating data discontinuities. Be cautious of filtering and epoching around these events.\n",
            "  raw = mne.io.read_raw_eeglab(file_path, preload=True)\n"
          ]
        },
        {
          "name": "stdout",
          "output_type": "stream",
          "text": [
            "Not setting metadata\n",
            "59 matching events found\n",
            "No baseline correction applied\n",
            "0 projection items activated\n",
            "Using data from preloaded Raw for 59 events and 21001 original time points ...\n",
            "0 bad epochs dropped\n",
            "Not setting metadata\n",
            "50 matching events found\n",
            "No baseline correction applied\n",
            "0 projection items activated\n",
            "Using data from preloaded Raw for 50 events and 29001 original time points ...\n",
            "0 bad epochs dropped\n"
          ]
        },
        {
          "name": "stderr",
          "output_type": "stream",
          "text": [
            "\rProcessing subjects:  36%|███▌      | 30/83 [15:36<1:04:16, 72.76s/it]"
          ]
        },
        {
          "name": "stdout",
          "output_type": "stream",
          "text": [
            "\n",
            "🔍 Processing sub-045...\n"
          ]
        },
        {
          "name": "stderr",
          "output_type": "stream",
          "text": [
            "/usr/local/lib/python3.11/dist-packages/pymatreader/utils.py:168: UserWarning: Complex objects (like classes) are not supported. They are imported on a best effort base but your mileage will vary.\n",
            "  warn(\n"
          ]
        },
        {
          "name": "stdout",
          "output_type": "stream",
          "text": [
            "Used Annotations descriptions: [np.str_('500105'), np.str_('500109'), np.str_('500113'), np.str_('500205'), np.str_('500209'), np.str_('500213'), np.str_('500305'), np.str_('500309'), np.str_('500313'), np.str_('500405'), np.str_('500409'), np.str_('500413'), np.str_('500505'), np.str_('500509'), np.str_('500513'), np.str_('500609'), np.str_('500613'), np.str_('500709'), np.str_('500713'), np.str_('500809'), np.str_('500813'), np.str_('500909'), np.str_('500913'), np.str_('501013'), np.str_('501113'), np.str_('501213'), np.str_('501313'), np.str_('6001050'), np.str_('6001051'), np.str_('6001090'), np.str_('6001091'), np.str_('6001130'), np.str_('6001131'), np.str_('6002050'), np.str_('6002051'), np.str_('6002090'), np.str_('6002091'), np.str_('6002130'), np.str_('6002131'), np.str_('6003050'), np.str_('6003051'), np.str_('6003090'), np.str_('6003091'), np.str_('6003130'), np.str_('6003131'), np.str_('6004050'), np.str_('6004051'), np.str_('6004090'), np.str_('6004091'), np.str_('6004130'), np.str_('6004131'), np.str_('6005050'), np.str_('6005051'), np.str_('6005090'), np.str_('6005091'), np.str_('6005130'), np.str_('6005131'), np.str_('6006090'), np.str_('6006091'), np.str_('6006130'), np.str_('6006131'), np.str_('6007090'), np.str_('6007091'), np.str_('6007130'), np.str_('6007131'), np.str_('6008090'), np.str_('6008091'), np.str_('6008130'), np.str_('6008131'), np.str_('6009090'), np.str_('6009130'), np.str_('6010130'), np.str_('6011130'), np.str_('6012130'), np.str_('6013130'), np.str_('boundary')]\n",
            "Not setting metadata\n",
            "54 matching events found\n",
            "No baseline correction applied\n",
            "0 projection items activated\n",
            "Using data from preloaded Raw for 54 events and 13001 original time points ...\n",
            "0 bad epochs dropped\n"
          ]
        },
        {
          "name": "stderr",
          "output_type": "stream",
          "text": [
            "<ipython-input-7-5e7cde8d0c1e>:12: RuntimeWarning: The data contains 'boundary' events, indicating data discontinuities. Be cautious of filtering and epoching around these events.\n",
            "  raw = mne.io.read_raw_eeglab(file_path, preload=True)\n"
          ]
        },
        {
          "name": "stdout",
          "output_type": "stream",
          "text": [
            "Not setting metadata\n",
            "54 matching events found\n",
            "No baseline correction applied\n",
            "0 projection items activated\n",
            "Using data from preloaded Raw for 54 events and 21001 original time points ...\n",
            "0 bad epochs dropped\n",
            "Not setting metadata\n",
            "54 matching events found\n",
            "No baseline correction applied\n",
            "0 projection items activated\n",
            "Using data from preloaded Raw for 54 events and 29001 original time points ...\n",
            "    Rejecting  epoch based on ECG : ['ECG']\n",
            "1 bad epochs dropped\n"
          ]
        },
        {
          "name": "stderr",
          "output_type": "stream",
          "text": [
            "\rProcessing subjects:  37%|███▋      | 31/83 [16:56<1:04:44, 74.71s/it]"
          ]
        },
        {
          "name": "stdout",
          "output_type": "stream",
          "text": [
            "\n",
            "🔍 Processing sub-046...\n"
          ]
        },
        {
          "name": "stderr",
          "output_type": "stream",
          "text": [
            "/usr/local/lib/python3.11/dist-packages/pymatreader/utils.py:168: UserWarning: Complex objects (like classes) are not supported. They are imported on a best effort base but your mileage will vary.\n",
            "  warn(\n"
          ]
        },
        {
          "name": "stdout",
          "output_type": "stream",
          "text": [
            "Used Annotations descriptions: [np.str_('500105'), np.str_('500109'), np.str_('500113'), np.str_('500205'), np.str_('500209'), np.str_('500213'), np.str_('500305'), np.str_('500309'), np.str_('500313'), np.str_('500405'), np.str_('500409'), np.str_('500413'), np.str_('500505'), np.str_('500509'), np.str_('500513'), np.str_('500609'), np.str_('500613'), np.str_('500709'), np.str_('500713'), np.str_('500809'), np.str_('500813'), np.str_('500909'), np.str_('500913'), np.str_('501013'), np.str_('501113'), np.str_('501213'), np.str_('501313'), np.str_('6001050'), np.str_('6001051'), np.str_('6001090'), np.str_('6001091'), np.str_('6001130'), np.str_('6001131'), np.str_('6002050'), np.str_('6002051'), np.str_('6002090'), np.str_('6002091'), np.str_('6002130'), np.str_('6002131'), np.str_('6003050'), np.str_('6003051'), np.str_('6003090'), np.str_('6003091'), np.str_('6003130'), np.str_('6003131'), np.str_('6004050'), np.str_('6004051'), np.str_('6004090'), np.str_('6004091'), np.str_('6004130'), np.str_('6004131'), np.str_('6005050'), np.str_('6005051'), np.str_('6005090'), np.str_('6005091'), np.str_('6005130'), np.str_('6005131'), np.str_('6006090'), np.str_('6006091'), np.str_('6006130'), np.str_('6006131'), np.str_('6007090'), np.str_('6007091'), np.str_('6007130'), np.str_('6007131'), np.str_('6008090'), np.str_('6008091'), np.str_('6008130'), np.str_('6008131'), np.str_('6009090'), np.str_('6009091'), np.str_('6009130'), np.str_('6009131'), np.str_('6010130'), np.str_('6010131'), np.str_('6011130'), np.str_('6011131'), np.str_('6012130'), np.str_('6012131'), np.str_('6013130'), np.str_('boundary')]\n",
            "Not setting metadata\n",
            "54 matching events found\n",
            "No baseline correction applied\n",
            "0 projection items activated\n",
            "Using data from preloaded Raw for 54 events and 13001 original time points ...\n",
            "0 bad epochs dropped\n"
          ]
        },
        {
          "name": "stderr",
          "output_type": "stream",
          "text": [
            "<ipython-input-7-5e7cde8d0c1e>:12: RuntimeWarning: The data contains 'boundary' events, indicating data discontinuities. Be cautious of filtering and epoching around these events.\n",
            "  raw = mne.io.read_raw_eeglab(file_path, preload=True)\n"
          ]
        },
        {
          "name": "stdout",
          "output_type": "stream",
          "text": [
            "Not setting metadata\n",
            "54 matching events found\n",
            "No baseline correction applied\n",
            "0 projection items activated\n",
            "Using data from preloaded Raw for 54 events and 21001 original time points ...\n",
            "0 bad epochs dropped\n",
            "Not setting metadata\n",
            "54 matching events found\n",
            "No baseline correction applied\n",
            "0 projection items activated\n",
            "Using data from preloaded Raw for 54 events and 29001 original time points ...\n",
            "0 bad epochs dropped\n"
          ]
        },
        {
          "name": "stderr",
          "output_type": "stream",
          "text": [
            "\rProcessing subjects:  39%|███▊      | 32/83 [18:22<1:06:07, 77.80s/it]"
          ]
        },
        {
          "name": "stdout",
          "output_type": "stream",
          "text": [
            "\n",
            "🔍 Processing sub-050...\n"
          ]
        },
        {
          "name": "stderr",
          "output_type": "stream",
          "text": [
            "/usr/local/lib/python3.11/dist-packages/pymatreader/utils.py:168: UserWarning: Complex objects (like classes) are not supported. They are imported on a best effort base but your mileage will vary.\n",
            "  warn(\n"
          ]
        },
        {
          "name": "stdout",
          "output_type": "stream",
          "text": [
            "Used Annotations descriptions: [np.str_('500105'), np.str_('500109'), np.str_('500113'), np.str_('500205'), np.str_('500209'), np.str_('500213'), np.str_('500305'), np.str_('500309'), np.str_('500313'), np.str_('500405'), np.str_('500409'), np.str_('500413'), np.str_('500505'), np.str_('500509'), np.str_('500513'), np.str_('500609'), np.str_('500613'), np.str_('500709'), np.str_('500713'), np.str_('500809'), np.str_('500813'), np.str_('500909'), np.str_('500913'), np.str_('501013'), np.str_('501113'), np.str_('501213'), np.str_('501313'), np.str_('6001050'), np.str_('6001051'), np.str_('6001090'), np.str_('6001091'), np.str_('6001130'), np.str_('6001131'), np.str_('6002050'), np.str_('6002051'), np.str_('6002090'), np.str_('6002091'), np.str_('6002130'), np.str_('6002131'), np.str_('6003050'), np.str_('6003051'), np.str_('6003090'), np.str_('6003091'), np.str_('6003130'), np.str_('6003131'), np.str_('6004050'), np.str_('6004051'), np.str_('6004090'), np.str_('6004091'), np.str_('6004130'), np.str_('6004131'), np.str_('6005050'), np.str_('6005051'), np.str_('6005090'), np.str_('6005091'), np.str_('6005130'), np.str_('6005131'), np.str_('6006090'), np.str_('6006091'), np.str_('6006130'), np.str_('6006131'), np.str_('6007090'), np.str_('6007091'), np.str_('6007130'), np.str_('6007131'), np.str_('6008090'), np.str_('6008091'), np.str_('6008130'), np.str_('6008131'), np.str_('6009090'), np.str_('6009091'), np.str_('6009130'), np.str_('6009131'), np.str_('6010130'), np.str_('6011130'), np.str_('6012130'), np.str_('6013130'), np.str_('6013131'), np.str_('boundary')]\n",
            "Not setting metadata\n",
            "54 matching events found\n",
            "No baseline correction applied\n",
            "0 projection items activated\n",
            "Using data from preloaded Raw for 54 events and 13001 original time points ...\n",
            "    Rejecting  epoch based on ECG : ['ECG']\n",
            "1 bad epochs dropped\n"
          ]
        },
        {
          "name": "stderr",
          "output_type": "stream",
          "text": [
            "<ipython-input-7-5e7cde8d0c1e>:12: RuntimeWarning: The data contains 'boundary' events, indicating data discontinuities. Be cautious of filtering and epoching around these events.\n",
            "  raw = mne.io.read_raw_eeglab(file_path, preload=True)\n"
          ]
        },
        {
          "name": "stdout",
          "output_type": "stream",
          "text": [
            "Not setting metadata\n",
            "54 matching events found\n",
            "No baseline correction applied\n",
            "0 projection items activated\n",
            "Using data from preloaded Raw for 54 events and 21001 original time points ...\n",
            "    Rejecting  epoch based on ECG : ['ECG']\n",
            "1 bad epochs dropped\n",
            "Not setting metadata\n",
            "54 matching events found\n",
            "No baseline correction applied\n",
            "0 projection items activated\n",
            "Using data from preloaded Raw for 54 events and 29001 original time points ...\n",
            "0 bad epochs dropped\n"
          ]
        },
        {
          "name": "stderr",
          "output_type": "stream",
          "text": [
            "\rProcessing subjects:  40%|███▉      | 33/83 [19:45<1:06:12, 79.45s/it]"
          ]
        },
        {
          "name": "stdout",
          "output_type": "stream",
          "text": [
            "\n",
            "🔍 Processing sub-042...\n"
          ]
        },
        {
          "name": "stderr",
          "output_type": "stream",
          "text": [
            "/usr/local/lib/python3.11/dist-packages/pymatreader/utils.py:168: UserWarning: Complex objects (like classes) are not supported. They are imported on a best effort base but your mileage will vary.\n",
            "  warn(\n"
          ]
        },
        {
          "name": "stdout",
          "output_type": "stream",
          "text": [
            "Used Annotations descriptions: [np.str_('500105'), np.str_('500109'), np.str_('500113'), np.str_('500205'), np.str_('500209'), np.str_('500213'), np.str_('500305'), np.str_('500309'), np.str_('500313'), np.str_('500405'), np.str_('500409'), np.str_('500413'), np.str_('500505'), np.str_('500509'), np.str_('500513'), np.str_('500609'), np.str_('500613'), np.str_('500709'), np.str_('500713'), np.str_('500809'), np.str_('500813'), np.str_('500909'), np.str_('500913'), np.str_('501013'), np.str_('501113'), np.str_('501213'), np.str_('501313'), np.str_('6001051'), np.str_('6001091'), np.str_('6001130'), np.str_('6001131'), np.str_('6002051'), np.str_('6002090'), np.str_('6002091'), np.str_('6002130'), np.str_('6002131'), np.str_('6003050'), np.str_('6003051'), np.str_('6003090'), np.str_('6003091'), np.str_('6003130'), np.str_('6003131'), np.str_('6004051'), np.str_('6004090'), np.str_('6004091'), np.str_('6004130'), np.str_('6004131'), np.str_('6005050'), np.str_('6005051'), np.str_('6005090'), np.str_('6005091'), np.str_('6005130'), np.str_('6005131'), np.str_('6006090'), np.str_('6006091'), np.str_('6006130'), np.str_('6006131'), np.str_('6007090'), np.str_('6007091'), np.str_('6007130'), np.str_('6007131'), np.str_('6008090'), np.str_('6008091'), np.str_('6008130'), np.str_('6008131'), np.str_('6009090'), np.str_('6009091'), np.str_('6009130'), np.str_('6009131'), np.str_('6010130'), np.str_('6010131'), np.str_('6011130'), np.str_('6012130'), np.str_('6013130'), np.str_('boundary')]\n",
            "Not setting metadata\n",
            "91 matching events found\n",
            "No baseline correction applied\n",
            "0 projection items activated\n",
            "Using data from preloaded Raw for 91 events and 13001 original time points ...\n",
            "0 bad epochs dropped\n"
          ]
        },
        {
          "name": "stderr",
          "output_type": "stream",
          "text": [
            "<ipython-input-7-5e7cde8d0c1e>:12: RuntimeWarning: The data contains 'boundary' events, indicating data discontinuities. Be cautious of filtering and epoching around these events.\n",
            "  raw = mne.io.read_raw_eeglab(file_path, preload=True)\n"
          ]
        },
        {
          "name": "stdout",
          "output_type": "stream",
          "text": [
            "Not setting metadata\n",
            "55 matching events found\n",
            "No baseline correction applied\n",
            "0 projection items activated\n",
            "Using data from preloaded Raw for 55 events and 21001 original time points ...\n",
            "0 bad epochs dropped\n",
            "Not setting metadata\n",
            "59 matching events found\n",
            "No baseline correction applied\n",
            "0 projection items activated\n",
            "Using data from preloaded Raw for 59 events and 29001 original time points ...\n",
            "0 bad epochs dropped\n"
          ]
        },
        {
          "name": "stderr",
          "output_type": "stream",
          "text": [
            "\rProcessing subjects:  41%|████      | 34/83 [21:06<1:05:17, 79.96s/it]"
          ]
        },
        {
          "name": "stdout",
          "output_type": "stream",
          "text": [
            "\n",
            "🔍 Processing sub-049...\n"
          ]
        },
        {
          "name": "stderr",
          "output_type": "stream",
          "text": [
            "/usr/local/lib/python3.11/dist-packages/pymatreader/utils.py:168: UserWarning: Complex objects (like classes) are not supported. They are imported on a best effort base but your mileage will vary.\n",
            "  warn(\n"
          ]
        },
        {
          "name": "stdout",
          "output_type": "stream",
          "text": [
            "Used Annotations descriptions: [np.str_('500105'), np.str_('500109'), np.str_('500113'), np.str_('500205'), np.str_('500209'), np.str_('500213'), np.str_('500305'), np.str_('500309'), np.str_('500313'), np.str_('500405'), np.str_('500409'), np.str_('500413'), np.str_('500505'), np.str_('500509'), np.str_('500513'), np.str_('500609'), np.str_('500613'), np.str_('500709'), np.str_('500713'), np.str_('500809'), np.str_('500813'), np.str_('500909'), np.str_('500913'), np.str_('501013'), np.str_('501113'), np.str_('501213'), np.str_('501313'), np.str_('6001051'), np.str_('6001090'), np.str_('6001091'), np.str_('6001130'), np.str_('6001131'), np.str_('6002050'), np.str_('6002051'), np.str_('6002090'), np.str_('6002091'), np.str_('6002130'), np.str_('6002131'), np.str_('6003050'), np.str_('6003051'), np.str_('6003090'), np.str_('6003091'), np.str_('6003130'), np.str_('6003131'), np.str_('6004050'), np.str_('6004051'), np.str_('6004090'), np.str_('6004091'), np.str_('6004130'), np.str_('6004131'), np.str_('6005050'), np.str_('6005051'), np.str_('6005090'), np.str_('6005091'), np.str_('6005130'), np.str_('6005131'), np.str_('6006090'), np.str_('6006091'), np.str_('6006130'), np.str_('6006131'), np.str_('6007090'), np.str_('6007091'), np.str_('6007130'), np.str_('6007131'), np.str_('6008090'), np.str_('6008091'), np.str_('6008130'), np.str_('6008131'), np.str_('6009090'), np.str_('6009091'), np.str_('6009130'), np.str_('6009131'), np.str_('6010130'), np.str_('6010131'), np.str_('6011130'), np.str_('6011131'), np.str_('6012130'), np.str_('6013130'), np.str_('boundary')]\n",
            "Not setting metadata\n",
            "61 matching events found\n",
            "No baseline correction applied\n",
            "0 projection items activated\n",
            "Using data from preloaded Raw for 61 events and 13001 original time points ...\n",
            "    Rejecting  epoch based on ECG : ['ECG']\n",
            "1 bad epochs dropped\n"
          ]
        },
        {
          "name": "stderr",
          "output_type": "stream",
          "text": [
            "<ipython-input-7-5e7cde8d0c1e>:12: RuntimeWarning: The data contains 'boundary' events, indicating data discontinuities. Be cautious of filtering and epoching around these events.\n",
            "  raw = mne.io.read_raw_eeglab(file_path, preload=True)\n"
          ]
        },
        {
          "name": "stdout",
          "output_type": "stream",
          "text": [
            "Not setting metadata\n",
            "49 matching events found\n",
            "No baseline correction applied\n",
            "0 projection items activated\n",
            "Using data from preloaded Raw for 49 events and 21001 original time points ...\n",
            "    Rejecting  epoch based on ECG : ['ECG']\n",
            "    Rejecting  epoch based on ECG : ['ECG']\n",
            "    Rejecting  epoch based on ECG : ['ECG']\n",
            "3 bad epochs dropped\n",
            "Not setting metadata\n",
            "54 matching events found\n",
            "No baseline correction applied\n",
            "0 projection items activated\n",
            "Using data from preloaded Raw for 54 events and 29001 original time points ...\n",
            "0 bad epochs dropped\n"
          ]
        },
        {
          "name": "stderr",
          "output_type": "stream",
          "text": [
            "\rProcessing subjects:  42%|████▏     | 35/83 [22:24<1:03:28, 79.35s/it]"
          ]
        },
        {
          "name": "stdout",
          "output_type": "stream",
          "text": [
            "\n",
            "🔍 Processing sub-048...\n"
          ]
        },
        {
          "name": "stderr",
          "output_type": "stream",
          "text": [
            "/usr/local/lib/python3.11/dist-packages/pymatreader/utils.py:168: UserWarning: Complex objects (like classes) are not supported. They are imported on a best effort base but your mileage will vary.\n",
            "  warn(\n"
          ]
        },
        {
          "name": "stdout",
          "output_type": "stream",
          "text": [
            "Used Annotations descriptions: [np.str_('500105'), np.str_('500109'), np.str_('500113'), np.str_('500205'), np.str_('500209'), np.str_('500213'), np.str_('500305'), np.str_('500309'), np.str_('500313'), np.str_('500405'), np.str_('500409'), np.str_('500413'), np.str_('500505'), np.str_('500509'), np.str_('500513'), np.str_('500609'), np.str_('500613'), np.str_('500709'), np.str_('500713'), np.str_('500809'), np.str_('500813'), np.str_('500909'), np.str_('500913'), np.str_('501013'), np.str_('501113'), np.str_('501213'), np.str_('501313'), np.str_('6001050'), np.str_('6001051'), np.str_('6001090'), np.str_('6001091'), np.str_('6001130'), np.str_('6001131'), np.str_('6002050'), np.str_('6002051'), np.str_('6002090'), np.str_('6002091'), np.str_('6002130'), np.str_('6002131'), np.str_('6003050'), np.str_('6003051'), np.str_('6003090'), np.str_('6003091'), np.str_('6003130'), np.str_('6003131'), np.str_('6004050'), np.str_('6004051'), np.str_('6004090'), np.str_('6004091'), np.str_('6004130'), np.str_('6004131'), np.str_('6005050'), np.str_('6005051'), np.str_('6005090'), np.str_('6005091'), np.str_('6005130'), np.str_('6005131'), np.str_('6006090'), np.str_('6006091'), np.str_('6006130'), np.str_('6006131'), np.str_('6007090'), np.str_('6007091'), np.str_('6007130'), np.str_('6007131'), np.str_('6008090'), np.str_('6008091'), np.str_('6008130'), np.str_('6008131'), np.str_('6009090'), np.str_('6009091'), np.str_('6009130'), np.str_('6009131'), np.str_('6010130'), np.str_('6010131'), np.str_('6011130'), np.str_('6011131'), np.str_('6012130'), np.str_('6012131'), np.str_('6013130'), np.str_('6013131'), np.str_('boundary')]\n",
            "Not setting metadata\n",
            "54 matching events found\n",
            "No baseline correction applied\n",
            "0 projection items activated\n",
            "Using data from preloaded Raw for 54 events and 13001 original time points ...\n",
            "    Rejecting  epoch based on ECG : ['ECG']\n",
            "1 bad epochs dropped\n"
          ]
        },
        {
          "name": "stderr",
          "output_type": "stream",
          "text": [
            "<ipython-input-7-5e7cde8d0c1e>:12: RuntimeWarning: The data contains 'boundary' events, indicating data discontinuities. Be cautious of filtering and epoching around these events.\n",
            "  raw = mne.io.read_raw_eeglab(file_path, preload=True)\n"
          ]
        },
        {
          "name": "stdout",
          "output_type": "stream",
          "text": [
            "Not setting metadata\n",
            "54 matching events found\n",
            "No baseline correction applied\n",
            "0 projection items activated\n",
            "Using data from preloaded Raw for 54 events and 21001 original time points ...\n",
            "    Rejecting  epoch based on ECG : ['ECG']\n",
            "1 bad epochs dropped\n",
            "Not setting metadata\n",
            "54 matching events found\n",
            "No baseline correction applied\n",
            "0 projection items activated\n",
            "Using data from preloaded Raw for 54 events and 29001 original time points ...\n",
            "    Rejecting  epoch based on ECG : ['ECG']\n",
            "1 bad epochs dropped\n"
          ]
        },
        {
          "name": "stderr",
          "output_type": "stream",
          "text": [
            "\rProcessing subjects:  43%|████▎     | 36/83 [23:44<1:02:16, 79.50s/it]"
          ]
        },
        {
          "name": "stdout",
          "output_type": "stream",
          "text": [
            "\n",
            "🔍 Processing sub-060...\n"
          ]
        },
        {
          "name": "stderr",
          "output_type": "stream",
          "text": [
            "/usr/local/lib/python3.11/dist-packages/pymatreader/utils.py:168: UserWarning: Complex objects (like classes) are not supported. They are imported on a best effort base but your mileage will vary.\n",
            "  warn(\n"
          ]
        },
        {
          "name": "stdout",
          "output_type": "stream",
          "text": [
            "Used Annotations descriptions: [np.str_('500105'), np.str_('500109'), np.str_('500113'), np.str_('500205'), np.str_('500209'), np.str_('500213'), np.str_('500305'), np.str_('500309'), np.str_('500313'), np.str_('500405'), np.str_('500409'), np.str_('500413'), np.str_('500505'), np.str_('500509'), np.str_('500513'), np.str_('500609'), np.str_('500613'), np.str_('500709'), np.str_('500713'), np.str_('500809'), np.str_('500813'), np.str_('500909'), np.str_('500913'), np.str_('501013'), np.str_('501113'), np.str_('501213'), np.str_('501313'), np.str_('6001050'), np.str_('6001051'), np.str_('6001090'), np.str_('6001091'), np.str_('6001130'), np.str_('6001131'), np.str_('6002051'), np.str_('6002090'), np.str_('6002091'), np.str_('6002130'), np.str_('6002131'), np.str_('6003050'), np.str_('6003051'), np.str_('6003090'), np.str_('6003091'), np.str_('6003130'), np.str_('6003131'), np.str_('6004050'), np.str_('6004051'), np.str_('6004090'), np.str_('6004091'), np.str_('6004130'), np.str_('6004131'), np.str_('6005050'), np.str_('6005051'), np.str_('6005090'), np.str_('6005091'), np.str_('6005130'), np.str_('6005131'), np.str_('6006090'), np.str_('6006091'), np.str_('6006130'), np.str_('6006131'), np.str_('6007090'), np.str_('6007091'), np.str_('6007130'), np.str_('6007131'), np.str_('6008090'), np.str_('6008091'), np.str_('6008130'), np.str_('6008131'), np.str_('6009090'), np.str_('6009091'), np.str_('6009130'), np.str_('6009131'), np.str_('6010130'), np.str_('6010131'), np.str_('6011130'), np.str_('6012130'), np.str_('6012131'), np.str_('6013130'), np.str_('6013131'), np.str_('boundary')]\n",
            "Not setting metadata\n",
            "54 matching events found\n",
            "No baseline correction applied\n",
            "0 projection items activated\n",
            "Using data from preloaded Raw for 54 events and 13001 original time points ...\n",
            "0 bad epochs dropped\n"
          ]
        },
        {
          "name": "stderr",
          "output_type": "stream",
          "text": [
            "<ipython-input-7-5e7cde8d0c1e>:12: RuntimeWarning: The data contains 'boundary' events, indicating data discontinuities. Be cautious of filtering and epoching around these events.\n",
            "  raw = mne.io.read_raw_eeglab(file_path, preload=True)\n"
          ]
        },
        {
          "name": "stdout",
          "output_type": "stream",
          "text": [
            "Not setting metadata\n",
            "54 matching events found\n",
            "No baseline correction applied\n",
            "0 projection items activated\n",
            "Using data from preloaded Raw for 54 events and 21001 original time points ...\n",
            "0 bad epochs dropped\n",
            "Not setting metadata\n",
            "54 matching events found\n",
            "No baseline correction applied\n",
            "0 projection items activated\n",
            "Using data from preloaded Raw for 54 events and 29001 original time points ...\n",
            "0 bad epochs dropped\n"
          ]
        },
        {
          "name": "stderr",
          "output_type": "stream",
          "text": [
            "\rProcessing subjects:  45%|████▍     | 37/83 [25:11<1:02:47, 81.89s/it]"
          ]
        },
        {
          "name": "stdout",
          "output_type": "stream",
          "text": [
            "\n",
            "🔍 Processing sub-057...\n"
          ]
        },
        {
          "name": "stderr",
          "output_type": "stream",
          "text": [
            "/usr/local/lib/python3.11/dist-packages/pymatreader/utils.py:168: UserWarning: Complex objects (like classes) are not supported. They are imported on a best effort base but your mileage will vary.\n",
            "  warn(\n"
          ]
        },
        {
          "name": "stdout",
          "output_type": "stream",
          "text": [
            "Used Annotations descriptions: [np.str_('500105'), np.str_('500109'), np.str_('500113'), np.str_('500205'), np.str_('500209'), np.str_('500213'), np.str_('500305'), np.str_('500309'), np.str_('500313'), np.str_('500405'), np.str_('500409'), np.str_('500413'), np.str_('500505'), np.str_('500509'), np.str_('500513'), np.str_('500609'), np.str_('500613'), np.str_('500709'), np.str_('500713'), np.str_('500809'), np.str_('500813'), np.str_('500909'), np.str_('500913'), np.str_('501013'), np.str_('501113'), np.str_('501213'), np.str_('501313'), np.str_('6001050'), np.str_('6001051'), np.str_('6001090'), np.str_('6001091'), np.str_('6001130'), np.str_('6001131'), np.str_('6002051'), np.str_('6002090'), np.str_('6002091'), np.str_('6002130'), np.str_('6002131'), np.str_('6003050'), np.str_('6003051'), np.str_('6003090'), np.str_('6003091'), np.str_('6003130'), np.str_('6003131'), np.str_('6004051'), np.str_('6004090'), np.str_('6004091'), np.str_('6004130'), np.str_('6004131'), np.str_('6005051'), np.str_('6005090'), np.str_('6005091'), np.str_('6005130'), np.str_('6005131'), np.str_('6006090'), np.str_('6006091'), np.str_('6006130'), np.str_('6006131'), np.str_('6007090'), np.str_('6007091'), np.str_('6007130'), np.str_('6007131'), np.str_('6008090'), np.str_('6008091'), np.str_('6008130'), np.str_('6008131'), np.str_('6009090'), np.str_('6009091'), np.str_('6009130'), np.str_('6009131'), np.str_('6010130'), np.str_('6010131'), np.str_('6011130'), np.str_('6011131'), np.str_('6012130'), np.str_('6012131'), np.str_('6013130'), np.str_('6013131'), np.str_('boundary')]\n",
            "Not setting metadata\n",
            "54 matching events found\n",
            "No baseline correction applied\n",
            "0 projection items activated\n",
            "Using data from preloaded Raw for 54 events and 13001 original time points ...\n",
            "0 bad epochs dropped\n"
          ]
        },
        {
          "name": "stderr",
          "output_type": "stream",
          "text": [
            "<ipython-input-7-5e7cde8d0c1e>:12: RuntimeWarning: The data contains 'boundary' events, indicating data discontinuities. Be cautious of filtering and epoching around these events.\n",
            "  raw = mne.io.read_raw_eeglab(file_path, preload=True)\n"
          ]
        },
        {
          "name": "stdout",
          "output_type": "stream",
          "text": [
            "Not setting metadata\n",
            "54 matching events found\n",
            "No baseline correction applied\n",
            "0 projection items activated\n",
            "Using data from preloaded Raw for 54 events and 21001 original time points ...\n",
            "0 bad epochs dropped\n",
            "Not setting metadata\n",
            "54 matching events found\n",
            "No baseline correction applied\n",
            "0 projection items activated\n",
            "Using data from preloaded Raw for 54 events and 29001 original time points ...\n",
            "0 bad epochs dropped\n"
          ]
        },
        {
          "name": "stderr",
          "output_type": "stream",
          "text": [
            "\rProcessing subjects:  46%|████▌     | 38/83 [26:31<1:00:56, 81.26s/it]"
          ]
        },
        {
          "name": "stdout",
          "output_type": "stream",
          "text": [
            "\n",
            "🔍 Processing sub-059...\n"
          ]
        },
        {
          "name": "stderr",
          "output_type": "stream",
          "text": [
            "/usr/local/lib/python3.11/dist-packages/pymatreader/utils.py:168: UserWarning: Complex objects (like classes) are not supported. They are imported on a best effort base but your mileage will vary.\n",
            "  warn(\n"
          ]
        },
        {
          "name": "stdout",
          "output_type": "stream",
          "text": [
            "Used Annotations descriptions: [np.str_('500105'), np.str_('500109'), np.str_('500113'), np.str_('500205'), np.str_('500209'), np.str_('500213'), np.str_('500305'), np.str_('500309'), np.str_('500313'), np.str_('500405'), np.str_('500409'), np.str_('500413'), np.str_('500505'), np.str_('500509'), np.str_('500513'), np.str_('500609'), np.str_('500613'), np.str_('500709'), np.str_('500713'), np.str_('500809'), np.str_('500813'), np.str_('500909'), np.str_('500913'), np.str_('501013'), np.str_('501113'), np.str_('501213'), np.str_('501313'), np.str_('6001050'), np.str_('6001051'), np.str_('6001090'), np.str_('6001091'), np.str_('6001130'), np.str_('6001131'), np.str_('6002050'), np.str_('6002051'), np.str_('6002090'), np.str_('6002091'), np.str_('6002130'), np.str_('6002131'), np.str_('6003050'), np.str_('6003051'), np.str_('6003090'), np.str_('6003091'), np.str_('6003130'), np.str_('6003131'), np.str_('6004050'), np.str_('6004051'), np.str_('6004090'), np.str_('6004091'), np.str_('6004130'), np.str_('6004131'), np.str_('6005050'), np.str_('6005051'), np.str_('6005090'), np.str_('6005091'), np.str_('6005130'), np.str_('6005131'), np.str_('6006090'), np.str_('6006091'), np.str_('6006130'), np.str_('6006131'), np.str_('6007090'), np.str_('6007091'), np.str_('6007130'), np.str_('6007131'), np.str_('6008090'), np.str_('6008091'), np.str_('6008130'), np.str_('6008131'), np.str_('6009090'), np.str_('6009091'), np.str_('6009130'), np.str_('6010130'), np.str_('6011130'), np.str_('6012130'), np.str_('6013130'), np.str_('boundary')]\n",
            "Not setting metadata\n",
            "54 matching events found\n",
            "No baseline correction applied\n",
            "0 projection items activated\n",
            "Using data from preloaded Raw for 54 events and 13001 original time points ...\n",
            "0 bad epochs dropped\n"
          ]
        },
        {
          "name": "stderr",
          "output_type": "stream",
          "text": [
            "<ipython-input-7-5e7cde8d0c1e>:12: RuntimeWarning: The data contains 'boundary' events, indicating data discontinuities. Be cautious of filtering and epoching around these events.\n",
            "  raw = mne.io.read_raw_eeglab(file_path, preload=True)\n"
          ]
        },
        {
          "name": "stdout",
          "output_type": "stream",
          "text": [
            "Not setting metadata\n",
            "54 matching events found\n",
            "No baseline correction applied\n",
            "0 projection items activated\n",
            "Using data from preloaded Raw for 54 events and 21001 original time points ...\n",
            "    Rejecting  epoch based on ECG : ['ECG']\n",
            "1 bad epochs dropped\n",
            "Not setting metadata\n",
            "54 matching events found\n",
            "No baseline correction applied\n",
            "0 projection items activated\n",
            "Using data from preloaded Raw for 54 events and 29001 original time points ...\n",
            "    Rejecting  epoch based on ECG : ['ECG']\n",
            "1 bad epochs dropped\n"
          ]
        },
        {
          "name": "stderr",
          "output_type": "stream",
          "text": [
            "\rProcessing subjects:  47%|████▋     | 39/83 [27:50<58:58, 80.41s/it]  "
          ]
        },
        {
          "name": "stdout",
          "output_type": "stream",
          "text": [
            "\n",
            "🔍 Processing sub-053...\n"
          ]
        },
        {
          "name": "stderr",
          "output_type": "stream",
          "text": [
            "/usr/local/lib/python3.11/dist-packages/pymatreader/utils.py:168: UserWarning: Complex objects (like classes) are not supported. They are imported on a best effort base but your mileage will vary.\n",
            "  warn(\n"
          ]
        },
        {
          "name": "stdout",
          "output_type": "stream",
          "text": [
            "Used Annotations descriptions: [np.str_('500105'), np.str_('500109'), np.str_('500113'), np.str_('500205'), np.str_('500209'), np.str_('500213'), np.str_('500305'), np.str_('500309'), np.str_('500313'), np.str_('500405'), np.str_('500409'), np.str_('500413'), np.str_('500505'), np.str_('500509'), np.str_('500513'), np.str_('500609'), np.str_('500613'), np.str_('500709'), np.str_('500713'), np.str_('500809'), np.str_('500813'), np.str_('500909'), np.str_('500913'), np.str_('501013'), np.str_('501113'), np.str_('501213'), np.str_('501313'), np.str_('6001051'), np.str_('6001090'), np.str_('6001091'), np.str_('6001130'), np.str_('6001131'), np.str_('6002050'), np.str_('6002051'), np.str_('6002090'), np.str_('6002091'), np.str_('6002130'), np.str_('6002131'), np.str_('6003050'), np.str_('6003051'), np.str_('6003090'), np.str_('6003091'), np.str_('6003130'), np.str_('6003131'), np.str_('6004050'), np.str_('6004051'), np.str_('6004090'), np.str_('6004091'), np.str_('6004130'), np.str_('6004131'), np.str_('6005050'), np.str_('6005051'), np.str_('6005090'), np.str_('6005091'), np.str_('6005130'), np.str_('6005131'), np.str_('6006090'), np.str_('6006091'), np.str_('6006130'), np.str_('6006131'), np.str_('6007090'), np.str_('6007091'), np.str_('6007130'), np.str_('6007131'), np.str_('6008090'), np.str_('6008091'), np.str_('6008130'), np.str_('6008131'), np.str_('6009090'), np.str_('6009091'), np.str_('6009130'), np.str_('6009131'), np.str_('6010130'), np.str_('6010131'), np.str_('6011130'), np.str_('6012130'), np.str_('6013130'), np.str_('boundary')]\n",
            "Not setting metadata\n",
            "56 matching events found\n",
            "No baseline correction applied\n",
            "0 projection items activated\n",
            "Using data from preloaded Raw for 56 events and 13001 original time points ...\n",
            "    Rejecting  epoch based on ECG : ['ECG']\n",
            "    Rejecting  epoch based on ECG : ['ECG']\n",
            "2 bad epochs dropped\n"
          ]
        },
        {
          "name": "stderr",
          "output_type": "stream",
          "text": [
            "<ipython-input-7-5e7cde8d0c1e>:12: RuntimeWarning: The data contains 'boundary' events, indicating data discontinuities. Be cautious of filtering and epoching around these events.\n",
            "  raw = mne.io.read_raw_eeglab(file_path, preload=True)\n"
          ]
        },
        {
          "name": "stdout",
          "output_type": "stream",
          "text": [
            "Not setting metadata\n",
            "55 matching events found\n",
            "No baseline correction applied\n",
            "0 projection items activated\n",
            "Using data from preloaded Raw for 55 events and 21001 original time points ...\n",
            "    Rejecting  epoch based on ECG : ['ECG']\n",
            "1 bad epochs dropped\n",
            "Not setting metadata\n",
            "55 matching events found\n",
            "No baseline correction applied\n",
            "0 projection items activated\n",
            "Using data from preloaded Raw for 55 events and 29001 original time points ...\n",
            "    Rejecting  epoch based on ECG : ['ECG']\n",
            "    Rejecting  epoch based on ECG : ['ECG']\n",
            "    Rejecting  epoch based on ECG : ['ECG']\n",
            "    Rejecting  epoch based on ECG : ['ECG']\n",
            "4 bad epochs dropped\n"
          ]
        },
        {
          "name": "stderr",
          "output_type": "stream",
          "text": [
            "\rProcessing subjects:  48%|████▊     | 40/83 [29:09<57:29, 80.22s/it]"
          ]
        },
        {
          "name": "stdout",
          "output_type": "stream",
          "text": [
            "\n",
            "🔍 Processing sub-055...\n"
          ]
        },
        {
          "name": "stderr",
          "output_type": "stream",
          "text": [
            "/usr/local/lib/python3.11/dist-packages/pymatreader/utils.py:168: UserWarning: Complex objects (like classes) are not supported. They are imported on a best effort base but your mileage will vary.\n",
            "  warn(\n"
          ]
        },
        {
          "name": "stdout",
          "output_type": "stream",
          "text": [
            "Used Annotations descriptions: [np.str_('500105'), np.str_('500109'), np.str_('500113'), np.str_('500205'), np.str_('500209'), np.str_('500213'), np.str_('500305'), np.str_('500309'), np.str_('500313'), np.str_('500405'), np.str_('500409'), np.str_('500413'), np.str_('500505'), np.str_('500509'), np.str_('500513'), np.str_('500609'), np.str_('500613'), np.str_('500709'), np.str_('500713'), np.str_('500809'), np.str_('500813'), np.str_('500909'), np.str_('500913'), np.str_('501013'), np.str_('501113'), np.str_('501213'), np.str_('501313'), np.str_('6001050'), np.str_('6001051'), np.str_('6001090'), np.str_('6001091'), np.str_('6001130'), np.str_('6001131'), np.str_('6002050'), np.str_('6002051'), np.str_('6002090'), np.str_('6002091'), np.str_('6002130'), np.str_('6002131'), np.str_('6003050'), np.str_('6003051'), np.str_('6003090'), np.str_('6003091'), np.str_('6003130'), np.str_('6003131'), np.str_('6004050'), np.str_('6004051'), np.str_('6004090'), np.str_('6004091'), np.str_('6004130'), np.str_('6004131'), np.str_('6005050'), np.str_('6005051'), np.str_('6005090'), np.str_('6005091'), np.str_('6005130'), np.str_('6005131'), np.str_('6006090'), np.str_('6006091'), np.str_('6006130'), np.str_('6006131'), np.str_('6007090'), np.str_('6007091'), np.str_('6007130'), np.str_('6007131'), np.str_('6008090'), np.str_('6008091'), np.str_('6008130'), np.str_('6008131'), np.str_('6009090'), np.str_('6009091'), np.str_('6009130'), np.str_('6009131'), np.str_('6010130'), np.str_('6010131'), np.str_('6011130'), np.str_('6011131'), np.str_('6012130'), np.str_('6013130'), np.str_('boundary')]\n",
            "Not setting metadata\n",
            "54 matching events found\n",
            "No baseline correction applied\n",
            "0 projection items activated\n",
            "Using data from preloaded Raw for 54 events and 13001 original time points ...\n",
            "0 bad epochs dropped\n"
          ]
        },
        {
          "name": "stderr",
          "output_type": "stream",
          "text": [
            "<ipython-input-7-5e7cde8d0c1e>:12: RuntimeWarning: The data contains 'boundary' events, indicating data discontinuities. Be cautious of filtering and epoching around these events.\n",
            "  raw = mne.io.read_raw_eeglab(file_path, preload=True)\n"
          ]
        },
        {
          "name": "stdout",
          "output_type": "stream",
          "text": [
            "Not setting metadata\n",
            "54 matching events found\n",
            "No baseline correction applied\n",
            "0 projection items activated\n",
            "Using data from preloaded Raw for 54 events and 21001 original time points ...\n",
            "0 bad epochs dropped\n",
            "Not setting metadata\n",
            "54 matching events found\n",
            "No baseline correction applied\n",
            "0 projection items activated\n",
            "Using data from preloaded Raw for 54 events and 29001 original time points ...\n",
            "0 bad epochs dropped\n"
          ]
        },
        {
          "name": "stderr",
          "output_type": "stream",
          "text": [
            "\rProcessing subjects:  49%|████▉     | 41/83 [30:40<58:18, 83.31s/it]"
          ]
        },
        {
          "name": "stdout",
          "output_type": "stream",
          "text": [
            "\n",
            "🔍 Processing sub-054...\n"
          ]
        },
        {
          "name": "stderr",
          "output_type": "stream",
          "text": [
            "/usr/local/lib/python3.11/dist-packages/pymatreader/utils.py:168: UserWarning: Complex objects (like classes) are not supported. They are imported on a best effort base but your mileage will vary.\n",
            "  warn(\n"
          ]
        },
        {
          "name": "stdout",
          "output_type": "stream",
          "text": [
            "Used Annotations descriptions: [np.str_('500105'), np.str_('500109'), np.str_('500113'), np.str_('500205'), np.str_('500209'), np.str_('500213'), np.str_('500305'), np.str_('500309'), np.str_('500313'), np.str_('500405'), np.str_('500409'), np.str_('500413'), np.str_('500505'), np.str_('500509'), np.str_('500513'), np.str_('500609'), np.str_('500613'), np.str_('500709'), np.str_('500713'), np.str_('500809'), np.str_('500813'), np.str_('500909'), np.str_('500913'), np.str_('501013'), np.str_('501113'), np.str_('501213'), np.str_('501313'), np.str_('6001050'), np.str_('6001051'), np.str_('6001090'), np.str_('6001091'), np.str_('6001130'), np.str_('6001131'), np.str_('6002050'), np.str_('6002051'), np.str_('6002090'), np.str_('6002091'), np.str_('6002130'), np.str_('6002131'), np.str_('6003050'), np.str_('6003051'), np.str_('6003090'), np.str_('6003091'), np.str_('6003130'), np.str_('6003131'), np.str_('6004050'), np.str_('6004051'), np.str_('6004090'), np.str_('6004091'), np.str_('6004130'), np.str_('6004131'), np.str_('6005050'), np.str_('6005051'), np.str_('6005090'), np.str_('6005091'), np.str_('6005130'), np.str_('6005131'), np.str_('6006090'), np.str_('6006091'), np.str_('6006130'), np.str_('6006131'), np.str_('6007090'), np.str_('6007091'), np.str_('6007130'), np.str_('6007131'), np.str_('6008090'), np.str_('6008091'), np.str_('6008130'), np.str_('6008131'), np.str_('6009090'), np.str_('6009091'), np.str_('6009130'), np.str_('6009131'), np.str_('6010130'), np.str_('6010131'), np.str_('6011130'), np.str_('6011131'), np.str_('6012130'), np.str_('6012131'), np.str_('6013130'), np.str_('boundary')]\n",
            "Not setting metadata\n",
            "54 matching events found\n",
            "No baseline correction applied\n",
            "0 projection items activated\n",
            "Using data from preloaded Raw for 54 events and 13001 original time points ...\n",
            "    Rejecting  epoch based on ECG : ['ECG']\n",
            "1 bad epochs dropped\n"
          ]
        },
        {
          "name": "stderr",
          "output_type": "stream",
          "text": [
            "<ipython-input-7-5e7cde8d0c1e>:12: RuntimeWarning: The data contains 'boundary' events, indicating data discontinuities. Be cautious of filtering and epoching around these events.\n",
            "  raw = mne.io.read_raw_eeglab(file_path, preload=True)\n"
          ]
        },
        {
          "name": "stdout",
          "output_type": "stream",
          "text": [
            "Not setting metadata\n",
            "54 matching events found\n",
            "No baseline correction applied\n",
            "0 projection items activated\n",
            "Using data from preloaded Raw for 54 events and 21001 original time points ...\n",
            "    Rejecting  epoch based on ECG : ['ECG']\n",
            "1 bad epochs dropped\n",
            "Not setting metadata\n",
            "54 matching events found\n",
            "No baseline correction applied\n",
            "0 projection items activated\n",
            "Using data from preloaded Raw for 54 events and 29001 original time points ...\n",
            "0 bad epochs dropped\n"
          ]
        },
        {
          "name": "stderr",
          "output_type": "stream",
          "text": [
            "\rProcessing subjects:  51%|█████     | 42/83 [31:58<55:48, 81.66s/it]"
          ]
        },
        {
          "name": "stdout",
          "output_type": "stream",
          "text": [
            "\n",
            "🔍 Processing sub-056...\n"
          ]
        },
        {
          "name": "stderr",
          "output_type": "stream",
          "text": [
            "/usr/local/lib/python3.11/dist-packages/pymatreader/utils.py:168: UserWarning: Complex objects (like classes) are not supported. They are imported on a best effort base but your mileage will vary.\n",
            "  warn(\n"
          ]
        },
        {
          "name": "stdout",
          "output_type": "stream",
          "text": [
            "Used Annotations descriptions: [np.str_('500105'), np.str_('500109'), np.str_('500113'), np.str_('500205'), np.str_('500209'), np.str_('500213'), np.str_('500305'), np.str_('500309'), np.str_('500313'), np.str_('500405'), np.str_('500409'), np.str_('500413'), np.str_('500505'), np.str_('500509'), np.str_('500513'), np.str_('500609'), np.str_('500613'), np.str_('500709'), np.str_('500713'), np.str_('500809'), np.str_('500813'), np.str_('500909'), np.str_('500913'), np.str_('501013'), np.str_('501113'), np.str_('501213'), np.str_('501313'), np.str_('6001050'), np.str_('6001051'), np.str_('6001090'), np.str_('6001091'), np.str_('6001130'), np.str_('6001131'), np.str_('6002050'), np.str_('6002051'), np.str_('6002090'), np.str_('6002091'), np.str_('6002130'), np.str_('6002131'), np.str_('6003050'), np.str_('6003051'), np.str_('6003090'), np.str_('6003091'), np.str_('6003130'), np.str_('6003131'), np.str_('6004050'), np.str_('6004051'), np.str_('6004090'), np.str_('6004091'), np.str_('6004130'), np.str_('6004131'), np.str_('6005050'), np.str_('6005051'), np.str_('6005090'), np.str_('6005091'), np.str_('6005130'), np.str_('6005131'), np.str_('6006090'), np.str_('6006091'), np.str_('6006130'), np.str_('6006131'), np.str_('6007090'), np.str_('6007091'), np.str_('6007130'), np.str_('6007131'), np.str_('6008090'), np.str_('6008091'), np.str_('6008130'), np.str_('6008131'), np.str_('6009090'), np.str_('6009091'), np.str_('6009130'), np.str_('6009131'), np.str_('6010130'), np.str_('6011130'), np.str_('6012130'), np.str_('6013130'), np.str_('boundary')]\n",
            "Not setting metadata\n",
            "54 matching events found\n",
            "No baseline correction applied\n",
            "0 projection items activated\n",
            "Using data from preloaded Raw for 54 events and 13001 original time points ...\n",
            "0 bad epochs dropped\n"
          ]
        },
        {
          "name": "stderr",
          "output_type": "stream",
          "text": [
            "<ipython-input-7-5e7cde8d0c1e>:12: RuntimeWarning: The data contains 'boundary' events, indicating data discontinuities. Be cautious of filtering and epoching around these events.\n",
            "  raw = mne.io.read_raw_eeglab(file_path, preload=True)\n"
          ]
        },
        {
          "name": "stdout",
          "output_type": "stream",
          "text": [
            "Not setting metadata\n",
            "54 matching events found\n",
            "No baseline correction applied\n",
            "0 projection items activated\n",
            "Using data from preloaded Raw for 54 events and 21001 original time points ...\n",
            "    Rejecting  epoch based on ECG : ['ECG']\n",
            "1 bad epochs dropped\n",
            "Not setting metadata\n",
            "54 matching events found\n",
            "No baseline correction applied\n",
            "0 projection items activated\n",
            "Using data from preloaded Raw for 54 events and 29001 original time points ...\n",
            "0 bad epochs dropped\n"
          ]
        },
        {
          "name": "stderr",
          "output_type": "stream",
          "text": [
            "\rProcessing subjects:  52%|█████▏    | 43/83 [33:17<53:55, 80.89s/it]"
          ]
        },
        {
          "name": "stdout",
          "output_type": "stream",
          "text": [
            "\n",
            "🔍 Processing sub-051...\n"
          ]
        },
        {
          "name": "stderr",
          "output_type": "stream",
          "text": [
            "/usr/local/lib/python3.11/dist-packages/pymatreader/utils.py:168: UserWarning: Complex objects (like classes) are not supported. They are imported on a best effort base but your mileage will vary.\n",
            "  warn(\n"
          ]
        },
        {
          "name": "stdout",
          "output_type": "stream",
          "text": [
            "Used Annotations descriptions: [np.str_('500105'), np.str_('500109'), np.str_('500113'), np.str_('500205'), np.str_('500209'), np.str_('500213'), np.str_('500305'), np.str_('500309'), np.str_('500313'), np.str_('500405'), np.str_('500409'), np.str_('500413'), np.str_('500505'), np.str_('500509'), np.str_('500513'), np.str_('500609'), np.str_('500613'), np.str_('500709'), np.str_('500713'), np.str_('500809'), np.str_('500813'), np.str_('500909'), np.str_('500913'), np.str_('501013'), np.str_('501113'), np.str_('501213'), np.str_('501313'), np.str_('6001051'), np.str_('6001091'), np.str_('6001130'), np.str_('6001131'), np.str_('6002051'), np.str_('6002090'), np.str_('6002091'), np.str_('6002130'), np.str_('6002131'), np.str_('6003050'), np.str_('6003051'), np.str_('6003090'), np.str_('6003091'), np.str_('6003130'), np.str_('6003131'), np.str_('6004050'), np.str_('6004051'), np.str_('6004090'), np.str_('6004091'), np.str_('6004130'), np.str_('6004131'), np.str_('6005050'), np.str_('6005051'), np.str_('6005090'), np.str_('6005091'), np.str_('6005130'), np.str_('6005131'), np.str_('6006090'), np.str_('6006091'), np.str_('6006130'), np.str_('6006131'), np.str_('6007090'), np.str_('6007091'), np.str_('6007130'), np.str_('6007131'), np.str_('6008090'), np.str_('6008091'), np.str_('6008130'), np.str_('6008131'), np.str_('6009090'), np.str_('6009091'), np.str_('6009130'), np.str_('6009131'), np.str_('6010130'), np.str_('6011130'), np.str_('6012130'), np.str_('6013130'), np.str_('boundary')]\n",
            "Not setting metadata\n",
            "90 matching events found\n",
            "No baseline correction applied\n",
            "0 projection items activated\n",
            "Using data from preloaded Raw for 90 events and 13001 original time points ...\n",
            "0 bad epochs dropped\n"
          ]
        },
        {
          "name": "stderr",
          "output_type": "stream",
          "text": [
            "<ipython-input-7-5e7cde8d0c1e>:12: RuntimeWarning: The data contains 'boundary' events, indicating data discontinuities. Be cautious of filtering and epoching around these events.\n",
            "  raw = mne.io.read_raw_eeglab(file_path, preload=True)\n"
          ]
        },
        {
          "name": "stdout",
          "output_type": "stream",
          "text": [
            "Not setting metadata\n",
            "54 matching events found\n",
            "No baseline correction applied\n",
            "0 projection items activated\n",
            "Using data from preloaded Raw for 54 events and 21001 original time points ...\n",
            "0 bad epochs dropped\n",
            "Not setting metadata\n",
            "55 matching events found\n",
            "No baseline correction applied\n",
            "0 projection items activated\n",
            "Using data from preloaded Raw for 55 events and 29001 original time points ...\n",
            "0 bad epochs dropped\n"
          ]
        },
        {
          "name": "stderr",
          "output_type": "stream",
          "text": [
            "\rProcessing subjects:  53%|█████▎    | 44/83 [34:36<52:15, 80.39s/it]"
          ]
        },
        {
          "name": "stdout",
          "output_type": "stream",
          "text": [
            "\n",
            "🔍 Processing sub-052...\n"
          ]
        },
        {
          "name": "stderr",
          "output_type": "stream",
          "text": [
            "/usr/local/lib/python3.11/dist-packages/pymatreader/utils.py:168: UserWarning: Complex objects (like classes) are not supported. They are imported on a best effort base but your mileage will vary.\n",
            "  warn(\n"
          ]
        },
        {
          "name": "stdout",
          "output_type": "stream",
          "text": [
            "Used Annotations descriptions: [np.str_('500105'), np.str_('500109'), np.str_('500113'), np.str_('500205'), np.str_('500209'), np.str_('500213'), np.str_('500305'), np.str_('500309'), np.str_('500313'), np.str_('500405'), np.str_('500409'), np.str_('500413'), np.str_('500505'), np.str_('500509'), np.str_('500513'), np.str_('500609'), np.str_('500613'), np.str_('500709'), np.str_('500713'), np.str_('500809'), np.str_('500813'), np.str_('500909'), np.str_('500913'), np.str_('501013'), np.str_('501113'), np.str_('501213'), np.str_('501313'), np.str_('6001051'), np.str_('6001090'), np.str_('6001091'), np.str_('6001130'), np.str_('6001131'), np.str_('6002050'), np.str_('6002051'), np.str_('6002090'), np.str_('6002091'), np.str_('6002130'), np.str_('6002131'), np.str_('6003050'), np.str_('6003051'), np.str_('6003090'), np.str_('6003091'), np.str_('6003130'), np.str_('6003131'), np.str_('6004050'), np.str_('6004051'), np.str_('6004090'), np.str_('6004091'), np.str_('6004130'), np.str_('6004131'), np.str_('6005050'), np.str_('6005051'), np.str_('6005090'), np.str_('6005091'), np.str_('6005130'), np.str_('6005131'), np.str_('6006090'), np.str_('6006091'), np.str_('6006130'), np.str_('6006131'), np.str_('6007090'), np.str_('6007091'), np.str_('6007130'), np.str_('6007131'), np.str_('6008090'), np.str_('6008130'), np.str_('6008131'), np.str_('6009090'), np.str_('6009130'), np.str_('6010130'), np.str_('6011130'), np.str_('6012130'), np.str_('6013130'), np.str_('boundary')]\n",
            "Not setting metadata\n",
            "73 matching events found\n",
            "No baseline correction applied\n",
            "0 projection items activated\n",
            "Using data from preloaded Raw for 73 events and 13001 original time points ...\n",
            "    Rejecting  epoch based on ECG : ['ECG']\n",
            "1 bad epochs dropped\n"
          ]
        },
        {
          "name": "stderr",
          "output_type": "stream",
          "text": [
            "<ipython-input-7-5e7cde8d0c1e>:12: RuntimeWarning: The data contains 'boundary' events, indicating data discontinuities. Be cautious of filtering and epoching around these events.\n",
            "  raw = mne.io.read_raw_eeglab(file_path, preload=True)\n"
          ]
        },
        {
          "name": "stdout",
          "output_type": "stream",
          "text": [
            "Not setting metadata\n",
            "55 matching events found\n",
            "No baseline correction applied\n",
            "0 projection items activated\n",
            "Using data from preloaded Raw for 55 events and 21001 original time points ...\n",
            "0 bad epochs dropped\n",
            "Not setting metadata\n",
            "35 matching events found\n",
            "No baseline correction applied\n",
            "0 projection items activated\n",
            "Using data from preloaded Raw for 35 events and 29001 original time points ...\n",
            "0 bad epochs dropped\n"
          ]
        },
        {
          "name": "stderr",
          "output_type": "stream",
          "text": [
            "\rProcessing subjects:  54%|█████▍    | 45/83 [35:49<49:29, 78.15s/it]"
          ]
        },
        {
          "name": "stdout",
          "output_type": "stream",
          "text": [
            "\n",
            "🔍 Processing sub-058...\n"
          ]
        },
        {
          "name": "stderr",
          "output_type": "stream",
          "text": [
            "/usr/local/lib/python3.11/dist-packages/pymatreader/utils.py:168: UserWarning: Complex objects (like classes) are not supported. They are imported on a best effort base but your mileage will vary.\n",
            "  warn(\n"
          ]
        },
        {
          "name": "stdout",
          "output_type": "stream",
          "text": [
            "Used Annotations descriptions: [np.str_('500105'), np.str_('500109'), np.str_('500113'), np.str_('500205'), np.str_('500209'), np.str_('500213'), np.str_('500305'), np.str_('500309'), np.str_('500313'), np.str_('500405'), np.str_('500409'), np.str_('500413'), np.str_('500505'), np.str_('500509'), np.str_('500513'), np.str_('500609'), np.str_('500613'), np.str_('500709'), np.str_('500713'), np.str_('500809'), np.str_('500813'), np.str_('500909'), np.str_('500913'), np.str_('501013'), np.str_('501113'), np.str_('501213'), np.str_('501313'), np.str_('6001051'), np.str_('6001090'), np.str_('6001091'), np.str_('6001130'), np.str_('6001131'), np.str_('6002051'), np.str_('6002090'), np.str_('6002091'), np.str_('6002130'), np.str_('6002131'), np.str_('6003050'), np.str_('6003051'), np.str_('6003090'), np.str_('6003091'), np.str_('6003130'), np.str_('6003131'), np.str_('6004050'), np.str_('6004051'), np.str_('6004090'), np.str_('6004091'), np.str_('6004130'), np.str_('6004131'), np.str_('6005050'), np.str_('6005051'), np.str_('6005090'), np.str_('6005091'), np.str_('6005130'), np.str_('6005131'), np.str_('6006090'), np.str_('6006091'), np.str_('6006130'), np.str_('6006131'), np.str_('6007090'), np.str_('6007091'), np.str_('6007130'), np.str_('6007131'), np.str_('6008090'), np.str_('6008091'), np.str_('6008130'), np.str_('6008131'), np.str_('6009090'), np.str_('6009091'), np.str_('6009130'), np.str_('6009131'), np.str_('6010130'), np.str_('6011130'), np.str_('6012130'), np.str_('6013130'), np.str_('boundary')]\n",
            "Not setting metadata\n",
            "55 matching events found\n",
            "No baseline correction applied\n",
            "0 projection items activated\n",
            "Using data from preloaded Raw for 55 events and 13001 original time points ...\n",
            "0 bad epochs dropped\n"
          ]
        },
        {
          "name": "stderr",
          "output_type": "stream",
          "text": [
            "<ipython-input-7-5e7cde8d0c1e>:12: RuntimeWarning: The data contains 'boundary' events, indicating data discontinuities. Be cautious of filtering and epoching around these events.\n",
            "  raw = mne.io.read_raw_eeglab(file_path, preload=True)\n"
          ]
        },
        {
          "name": "stdout",
          "output_type": "stream",
          "text": [
            "Not setting metadata\n",
            "55 matching events found\n",
            "No baseline correction applied\n",
            "0 projection items activated\n",
            "Using data from preloaded Raw for 55 events and 21001 original time points ...\n",
            "0 bad epochs dropped\n",
            "Not setting metadata\n",
            "88 matching events found\n",
            "No baseline correction applied\n",
            "0 projection items activated\n",
            "Using data from preloaded Raw for 88 events and 29001 original time points ...\n",
            "0 bad epochs dropped\n"
          ]
        },
        {
          "name": "stderr",
          "output_type": "stream",
          "text": [
            "\rProcessing subjects:  55%|█████▌    | 46/83 [37:13<49:13, 79.81s/it]"
          ]
        },
        {
          "name": "stdout",
          "output_type": "stream",
          "text": [
            "\n",
            "🔍 Processing sub-068...\n"
          ]
        },
        {
          "name": "stderr",
          "output_type": "stream",
          "text": [
            "/usr/local/lib/python3.11/dist-packages/pymatreader/utils.py:168: UserWarning: Complex objects (like classes) are not supported. They are imported on a best effort base but your mileage will vary.\n",
            "  warn(\n"
          ]
        },
        {
          "name": "stdout",
          "output_type": "stream",
          "text": [
            "Used Annotations descriptions: [np.str_('500105'), np.str_('500109'), np.str_('500113'), np.str_('500205'), np.str_('500209'), np.str_('500213'), np.str_('500305'), np.str_('500309'), np.str_('500313'), np.str_('500405'), np.str_('500409'), np.str_('500413'), np.str_('500505'), np.str_('500509'), np.str_('500513'), np.str_('500609'), np.str_('500613'), np.str_('500709'), np.str_('500713'), np.str_('500809'), np.str_('500813'), np.str_('500909'), np.str_('500913'), np.str_('501013'), np.str_('501113'), np.str_('501213'), np.str_('501313'), np.str_('6001051'), np.str_('6001091'), np.str_('6001131'), np.str_('6002051'), np.str_('6002090'), np.str_('6002091'), np.str_('6002130'), np.str_('6002131'), np.str_('6003050'), np.str_('6003051'), np.str_('6003090'), np.str_('6003091'), np.str_('6003130'), np.str_('6003131'), np.str_('6004050'), np.str_('6004051'), np.str_('6004090'), np.str_('6004091'), np.str_('6004130'), np.str_('6004131'), np.str_('6005050'), np.str_('6005051'), np.str_('6005090'), np.str_('6005091'), np.str_('6005130'), np.str_('6005131'), np.str_('6006090'), np.str_('6006091'), np.str_('6006130'), np.str_('6006131'), np.str_('6007090'), np.str_('6007091'), np.str_('6007130'), np.str_('6007131'), np.str_('6008090'), np.str_('6008091'), np.str_('6008130'), np.str_('6008131'), np.str_('6009090'), np.str_('6009091'), np.str_('6009130'), np.str_('6009131'), np.str_('6010130'), np.str_('6011130'), np.str_('6012130'), np.str_('6013130'), np.str_('boundary')]\n",
            "Not setting metadata\n",
            "90 matching events found\n",
            "No baseline correction applied\n",
            "0 projection items activated\n",
            "Using data from preloaded Raw for 90 events and 13001 original time points ...\n",
            "0 bad epochs dropped\n"
          ]
        },
        {
          "name": "stderr",
          "output_type": "stream",
          "text": [
            "<ipython-input-7-5e7cde8d0c1e>:12: RuntimeWarning: The data contains 'boundary' events, indicating data discontinuities. Be cautious of filtering and epoching around these events.\n",
            "  raw = mne.io.read_raw_eeglab(file_path, preload=True)\n"
          ]
        },
        {
          "name": "stdout",
          "output_type": "stream",
          "text": [
            "Not setting metadata\n",
            "90 matching events found\n",
            "No baseline correction applied\n",
            "0 projection items activated\n",
            "Using data from preloaded Raw for 90 events and 21001 original time points ...\n",
            "0 bad epochs dropped\n",
            "Not setting metadata\n",
            "54 matching events found\n",
            "No baseline correction applied\n",
            "0 projection items activated\n",
            "Using data from preloaded Raw for 54 events and 29001 original time points ...\n",
            "0 bad epochs dropped\n"
          ]
        },
        {
          "name": "stderr",
          "output_type": "stream",
          "text": [
            "\rProcessing subjects:  57%|█████▋    | 47/83 [38:38<48:51, 81.43s/it]"
          ]
        },
        {
          "name": "stdout",
          "output_type": "stream",
          "text": [
            "\n",
            "🔍 Processing sub-063...\n"
          ]
        },
        {
          "name": "stderr",
          "output_type": "stream",
          "text": [
            "/usr/local/lib/python3.11/dist-packages/pymatreader/utils.py:168: UserWarning: Complex objects (like classes) are not supported. They are imported on a best effort base but your mileage will vary.\n",
            "  warn(\n"
          ]
        },
        {
          "name": "stdout",
          "output_type": "stream",
          "text": [
            "Used Annotations descriptions: [np.str_('500105'), np.str_('500109'), np.str_('500113'), np.str_('500205'), np.str_('500209'), np.str_('500213'), np.str_('500305'), np.str_('500309'), np.str_('500313'), np.str_('500405'), np.str_('500409'), np.str_('500413'), np.str_('500505'), np.str_('500509'), np.str_('500513'), np.str_('500609'), np.str_('500613'), np.str_('500709'), np.str_('500713'), np.str_('500809'), np.str_('500813'), np.str_('500909'), np.str_('500913'), np.str_('501013'), np.str_('501113'), np.str_('501213'), np.str_('501313'), np.str_('6001051'), np.str_('6001090'), np.str_('6001091'), np.str_('6001130'), np.str_('6001131'), np.str_('6002050'), np.str_('6002051'), np.str_('6002090'), np.str_('6002091'), np.str_('6002130'), np.str_('6002131'), np.str_('6003050'), np.str_('6003051'), np.str_('6003090'), np.str_('6003091'), np.str_('6003130'), np.str_('6003131'), np.str_('6004050'), np.str_('6004051'), np.str_('6004090'), np.str_('6004091'), np.str_('6004130'), np.str_('6004131'), np.str_('6005050'), np.str_('6005051'), np.str_('6005090'), np.str_('6005091'), np.str_('6005130'), np.str_('6005131'), np.str_('6006090'), np.str_('6006091'), np.str_('6006130'), np.str_('6006131'), np.str_('6007090'), np.str_('6007091'), np.str_('6007130'), np.str_('6007131'), np.str_('6008090'), np.str_('6008091'), np.str_('6008130'), np.str_('6008131'), np.str_('6009090'), np.str_('6009091'), np.str_('6009130'), np.str_('6009131'), np.str_('6010130'), np.str_('6010131'), np.str_('6011130'), np.str_('6011131'), np.str_('6012130'), np.str_('6012131'), np.str_('6013130'), np.str_('6013131'), np.str_('boundary')]\n",
            "Not setting metadata\n",
            "61 matching events found\n",
            "No baseline correction applied\n",
            "0 projection items activated\n",
            "Using data from preloaded Raw for 61 events and 13001 original time points ...\n",
            "0 bad epochs dropped\n"
          ]
        },
        {
          "name": "stderr",
          "output_type": "stream",
          "text": [
            "<ipython-input-7-5e7cde8d0c1e>:12: RuntimeWarning: The data contains 'boundary' events, indicating data discontinuities. Be cautious of filtering and epoching around these events.\n",
            "  raw = mne.io.read_raw_eeglab(file_path, preload=True)\n"
          ]
        },
        {
          "name": "stdout",
          "output_type": "stream",
          "text": [
            "Not setting metadata\n",
            "56 matching events found\n",
            "No baseline correction applied\n",
            "0 projection items activated\n",
            "Using data from preloaded Raw for 56 events and 21001 original time points ...\n",
            "0 bad epochs dropped\n",
            "Not setting metadata\n",
            "47 matching events found\n",
            "No baseline correction applied\n",
            "0 projection items activated\n",
            "Using data from preloaded Raw for 47 events and 29001 original time points ...\n",
            "0 bad epochs dropped\n"
          ]
        },
        {
          "name": "stderr",
          "output_type": "stream",
          "text": [
            "\rProcessing subjects:  58%|█████▊    | 48/83 [39:52<46:15, 79.29s/it]"
          ]
        },
        {
          "name": "stdout",
          "output_type": "stream",
          "text": [
            "\n",
            "🔍 Processing sub-067...\n"
          ]
        },
        {
          "name": "stderr",
          "output_type": "stream",
          "text": [
            "/usr/local/lib/python3.11/dist-packages/pymatreader/utils.py:168: UserWarning: Complex objects (like classes) are not supported. They are imported on a best effort base but your mileage will vary.\n",
            "  warn(\n"
          ]
        },
        {
          "name": "stdout",
          "output_type": "stream",
          "text": [
            "Used Annotations descriptions: [np.str_('500105'), np.str_('500109'), np.str_('500113'), np.str_('500205'), np.str_('500209'), np.str_('500213'), np.str_('500305'), np.str_('500309'), np.str_('500313'), np.str_('500405'), np.str_('500409'), np.str_('500413'), np.str_('500505'), np.str_('500509'), np.str_('500513'), np.str_('500609'), np.str_('500613'), np.str_('500709'), np.str_('500713'), np.str_('500809'), np.str_('500813'), np.str_('500909'), np.str_('500913'), np.str_('501013'), np.str_('501113'), np.str_('501213'), np.str_('501313'), np.str_('6001050'), np.str_('6001051'), np.str_('6001090'), np.str_('6001091'), np.str_('6001130'), np.str_('6001131'), np.str_('6002050'), np.str_('6002051'), np.str_('6002090'), np.str_('6002091'), np.str_('6002130'), np.str_('6002131'), np.str_('6003050'), np.str_('6003051'), np.str_('6003090'), np.str_('6003091'), np.str_('6003130'), np.str_('6003131'), np.str_('6004050'), np.str_('6004051'), np.str_('6004090'), np.str_('6004091'), np.str_('6004130'), np.str_('6004131'), np.str_('6005050'), np.str_('6005051'), np.str_('6005090'), np.str_('6005091'), np.str_('6005130'), np.str_('6005131'), np.str_('6006090'), np.str_('6006091'), np.str_('6006130'), np.str_('6006131'), np.str_('6007090'), np.str_('6007091'), np.str_('6007130'), np.str_('6007131'), np.str_('6008090'), np.str_('6008091'), np.str_('6008130'), np.str_('6008131'), np.str_('6009090'), np.str_('6009091'), np.str_('6009130'), np.str_('6009131'), np.str_('6010130'), np.str_('6010131'), np.str_('6011130'), np.str_('6011131'), np.str_('6012130'), np.str_('6013130'), np.str_('6013131'), np.str_('boundary')]\n",
            "Not setting metadata\n",
            "54 matching events found\n",
            "No baseline correction applied\n",
            "0 projection items activated\n",
            "Using data from preloaded Raw for 54 events and 13001 original time points ...\n",
            "0 bad epochs dropped\n"
          ]
        },
        {
          "name": "stderr",
          "output_type": "stream",
          "text": [
            "<ipython-input-7-5e7cde8d0c1e>:12: RuntimeWarning: The data contains 'boundary' events, indicating data discontinuities. Be cautious of filtering and epoching around these events.\n",
            "  raw = mne.io.read_raw_eeglab(file_path, preload=True)\n"
          ]
        },
        {
          "name": "stdout",
          "output_type": "stream",
          "text": [
            "Not setting metadata\n",
            "54 matching events found\n",
            "No baseline correction applied\n",
            "0 projection items activated\n",
            "Using data from preloaded Raw for 54 events and 21001 original time points ...\n",
            "0 bad epochs dropped\n",
            "Not setting metadata\n",
            "54 matching events found\n",
            "No baseline correction applied\n",
            "0 projection items activated\n",
            "Using data from preloaded Raw for 54 events and 29001 original time points ...\n",
            "0 bad epochs dropped\n"
          ]
        },
        {
          "name": "stderr",
          "output_type": "stream",
          "text": [
            "\rProcessing subjects:  59%|█████▉    | 49/83 [41:19<46:09, 81.46s/it]"
          ]
        },
        {
          "name": "stdout",
          "output_type": "stream",
          "text": [
            "\n",
            "🔍 Processing sub-064...\n"
          ]
        },
        {
          "name": "stderr",
          "output_type": "stream",
          "text": [
            "/usr/local/lib/python3.11/dist-packages/pymatreader/utils.py:168: UserWarning: Complex objects (like classes) are not supported. They are imported on a best effort base but your mileage will vary.\n",
            "  warn(\n"
          ]
        },
        {
          "name": "stdout",
          "output_type": "stream",
          "text": [
            "Used Annotations descriptions: [np.str_('500105'), np.str_('500109'), np.str_('500113'), np.str_('500205'), np.str_('500209'), np.str_('500213'), np.str_('500305'), np.str_('500309'), np.str_('500313'), np.str_('500405'), np.str_('500409'), np.str_('500413'), np.str_('500505'), np.str_('500509'), np.str_('500513'), np.str_('500609'), np.str_('500613'), np.str_('500709'), np.str_('500713'), np.str_('500809'), np.str_('500813'), np.str_('500909'), np.str_('500913'), np.str_('501013'), np.str_('501113'), np.str_('501213'), np.str_('501313'), np.str_('6001050'), np.str_('6001051'), np.str_('6001090'), np.str_('6001091'), np.str_('6001130'), np.str_('6001131'), np.str_('6002050'), np.str_('6002051'), np.str_('6002090'), np.str_('6002091'), np.str_('6002130'), np.str_('6002131'), np.str_('6003050'), np.str_('6003051'), np.str_('6003090'), np.str_('6003091'), np.str_('6003130'), np.str_('6003131'), np.str_('6004050'), np.str_('6004051'), np.str_('6004090'), np.str_('6004091'), np.str_('6004130'), np.str_('6004131'), np.str_('6005050'), np.str_('6005051'), np.str_('6005090'), np.str_('6005091'), np.str_('6005130'), np.str_('6005131'), np.str_('6006090'), np.str_('6006091'), np.str_('6006130'), np.str_('6006131'), np.str_('6007090'), np.str_('6007091'), np.str_('6007130'), np.str_('6007131'), np.str_('6008090'), np.str_('6008091'), np.str_('6008130'), np.str_('6008131'), np.str_('6009090'), np.str_('6009091'), np.str_('6009130'), np.str_('6009131'), np.str_('6010130'), np.str_('6010131'), np.str_('6011130'), np.str_('6011131'), np.str_('6012130'), np.str_('6012131'), np.str_('6013130'), np.str_('boundary')]\n",
            "Not setting metadata\n",
            "54 matching events found\n",
            "No baseline correction applied\n",
            "0 projection items activated\n",
            "Using data from preloaded Raw for 54 events and 13001 original time points ...\n",
            "0 bad epochs dropped\n"
          ]
        },
        {
          "name": "stderr",
          "output_type": "stream",
          "text": [
            "<ipython-input-7-5e7cde8d0c1e>:12: RuntimeWarning: The data contains 'boundary' events, indicating data discontinuities. Be cautious of filtering and epoching around these events.\n",
            "  raw = mne.io.read_raw_eeglab(file_path, preload=True)\n"
          ]
        },
        {
          "name": "stdout",
          "output_type": "stream",
          "text": [
            "Not setting metadata\n",
            "54 matching events found\n",
            "No baseline correction applied\n",
            "0 projection items activated\n",
            "Using data from preloaded Raw for 54 events and 21001 original time points ...\n",
            "0 bad epochs dropped\n",
            "Not setting metadata\n",
            "54 matching events found\n",
            "No baseline correction applied\n",
            "0 projection items activated\n",
            "Using data from preloaded Raw for 54 events and 29001 original time points ...\n",
            "0 bad epochs dropped\n"
          ]
        },
        {
          "name": "stderr",
          "output_type": "stream",
          "text": [
            "\rProcessing subjects:  60%|██████    | 50/83 [42:44<45:21, 82.47s/it]"
          ]
        },
        {
          "name": "stdout",
          "output_type": "stream",
          "text": [
            "\n",
            "🔍 Processing sub-061...\n"
          ]
        },
        {
          "name": "stderr",
          "output_type": "stream",
          "text": [
            "/usr/local/lib/python3.11/dist-packages/pymatreader/utils.py:168: UserWarning: Complex objects (like classes) are not supported. They are imported on a best effort base but your mileage will vary.\n",
            "  warn(\n"
          ]
        },
        {
          "name": "stdout",
          "output_type": "stream",
          "text": [
            "Used Annotations descriptions: [np.str_('500105'), np.str_('500109'), np.str_('500113'), np.str_('500205'), np.str_('500209'), np.str_('500213'), np.str_('500305'), np.str_('500309'), np.str_('500313'), np.str_('500405'), np.str_('500409'), np.str_('500413'), np.str_('500505'), np.str_('500509'), np.str_('500513'), np.str_('500609'), np.str_('500613'), np.str_('500709'), np.str_('500713'), np.str_('500809'), np.str_('500813'), np.str_('500909'), np.str_('500913'), np.str_('501013'), np.str_('501113'), np.str_('501213'), np.str_('501313'), np.str_('6001050'), np.str_('6001051'), np.str_('6001090'), np.str_('6001091'), np.str_('6001130'), np.str_('6001131'), np.str_('6002050'), np.str_('6002051'), np.str_('6002090'), np.str_('6002091'), np.str_('6002130'), np.str_('6002131'), np.str_('6003050'), np.str_('6003051'), np.str_('6003090'), np.str_('6003091'), np.str_('6003130'), np.str_('6003131'), np.str_('6004050'), np.str_('6004051'), np.str_('6004090'), np.str_('6004091'), np.str_('6004130'), np.str_('6004131'), np.str_('6005050'), np.str_('6005051'), np.str_('6005090'), np.str_('6005091'), np.str_('6005130'), np.str_('6005131'), np.str_('6006090'), np.str_('6006091'), np.str_('6006130'), np.str_('6006131'), np.str_('6007090'), np.str_('6007091'), np.str_('6007130'), np.str_('6007131'), np.str_('6008090'), np.str_('6008091'), np.str_('6008130'), np.str_('6008131'), np.str_('6009090'), np.str_('6009091'), np.str_('6009130'), np.str_('6009131'), np.str_('6010130'), np.str_('6010131'), np.str_('6011130'), np.str_('6012130'), np.str_('6013130'), np.str_('boundary')]\n",
            "Not setting metadata\n",
            "54 matching events found\n",
            "No baseline correction applied\n",
            "0 projection items activated\n",
            "Using data from preloaded Raw for 54 events and 13001 original time points ...\n",
            "0 bad epochs dropped\n"
          ]
        },
        {
          "name": "stderr",
          "output_type": "stream",
          "text": [
            "<ipython-input-7-5e7cde8d0c1e>:12: RuntimeWarning: The data contains 'boundary' events, indicating data discontinuities. Be cautious of filtering and epoching around these events.\n",
            "  raw = mne.io.read_raw_eeglab(file_path, preload=True)\n"
          ]
        },
        {
          "name": "stdout",
          "output_type": "stream",
          "text": [
            "Not setting metadata\n",
            "54 matching events found\n",
            "No baseline correction applied\n",
            "0 projection items activated\n",
            "Using data from preloaded Raw for 54 events and 21001 original time points ...\n",
            "0 bad epochs dropped\n",
            "Not setting metadata\n",
            "54 matching events found\n",
            "No baseline correction applied\n",
            "0 projection items activated\n",
            "Using data from preloaded Raw for 54 events and 29001 original time points ...\n",
            "0 bad epochs dropped\n"
          ]
        },
        {
          "name": "stderr",
          "output_type": "stream",
          "text": [
            "\rProcessing subjects:  61%|██████▏   | 51/83 [44:04<43:36, 81.78s/it]"
          ]
        },
        {
          "name": "stdout",
          "output_type": "stream",
          "text": [
            "\n",
            "🔍 Processing sub-070...\n"
          ]
        },
        {
          "name": "stderr",
          "output_type": "stream",
          "text": [
            "/usr/local/lib/python3.11/dist-packages/pymatreader/utils.py:168: UserWarning: Complex objects (like classes) are not supported. They are imported on a best effort base but your mileage will vary.\n",
            "  warn(\n"
          ]
        },
        {
          "name": "stdout",
          "output_type": "stream",
          "text": [
            "Used Annotations descriptions: [np.str_('500105'), np.str_('500109'), np.str_('500113'), np.str_('500205'), np.str_('500209'), np.str_('500213'), np.str_('500305'), np.str_('500309'), np.str_('500313'), np.str_('500405'), np.str_('500409'), np.str_('500413'), np.str_('500505'), np.str_('500509'), np.str_('500513'), np.str_('500609'), np.str_('500613'), np.str_('500709'), np.str_('500713'), np.str_('500809'), np.str_('500813'), np.str_('500909'), np.str_('500913'), np.str_('501013'), np.str_('501113'), np.str_('501213'), np.str_('501313'), np.str_('6001050'), np.str_('6001051'), np.str_('6001090'), np.str_('6001091'), np.str_('6001130'), np.str_('6001131'), np.str_('6002050'), np.str_('6002051'), np.str_('6002090'), np.str_('6002091'), np.str_('6002130'), np.str_('6002131'), np.str_('6003050'), np.str_('6003051'), np.str_('6003090'), np.str_('6003091'), np.str_('6003130'), np.str_('6003131'), np.str_('6004050'), np.str_('6004051'), np.str_('6004090'), np.str_('6004091'), np.str_('6004130'), np.str_('6004131'), np.str_('6005050'), np.str_('6005051'), np.str_('6005090'), np.str_('6005091'), np.str_('6005130'), np.str_('6005131'), np.str_('6006090'), np.str_('6006091'), np.str_('6006130'), np.str_('6006131'), np.str_('6007090'), np.str_('6007091'), np.str_('6007130'), np.str_('6007131'), np.str_('6008090'), np.str_('6008091'), np.str_('6008130'), np.str_('6008131'), np.str_('6009090'), np.str_('6009091'), np.str_('6009130'), np.str_('6009131'), np.str_('6010130'), np.str_('6010131'), np.str_('6011130'), np.str_('6012130'), np.str_('6013130'), np.str_('boundary')]\n",
            "Not setting metadata\n",
            "54 matching events found\n",
            "No baseline correction applied\n",
            "0 projection items activated\n",
            "Using data from preloaded Raw for 54 events and 13001 original time points ...\n",
            "    Rejecting  epoch based on ECG : ['ECG']\n",
            "    Rejecting  epoch based on ECG : ['ECG']\n",
            "    Rejecting  epoch based on ECG : ['ECG']\n",
            "3 bad epochs dropped\n"
          ]
        },
        {
          "name": "stderr",
          "output_type": "stream",
          "text": [
            "<ipython-input-7-5e7cde8d0c1e>:12: RuntimeWarning: The data contains 'boundary' events, indicating data discontinuities. Be cautious of filtering and epoching around these events.\n",
            "  raw = mne.io.read_raw_eeglab(file_path, preload=True)\n"
          ]
        },
        {
          "name": "stdout",
          "output_type": "stream",
          "text": [
            "Not setting metadata\n",
            "54 matching events found\n",
            "No baseline correction applied\n",
            "0 projection items activated\n",
            "Using data from preloaded Raw for 54 events and 21001 original time points ...\n",
            "    Rejecting  epoch based on ECG : ['ECG']\n",
            "    Rejecting  epoch based on ECG : ['ECG']\n",
            "    Rejecting  epoch based on ECG : ['ECG']\n",
            "    Rejecting  epoch based on ECG : ['ECG']\n",
            "    Rejecting  epoch based on ECG : ['ECG']\n",
            "    Rejecting  epoch based on ECG : ['ECG']\n",
            "    Rejecting  epoch based on ECG : ['ECG']\n",
            "7 bad epochs dropped\n",
            "Not setting metadata\n",
            "54 matching events found\n",
            "No baseline correction applied\n",
            "0 projection items activated\n",
            "Using data from preloaded Raw for 54 events and 29001 original time points ...\n",
            "    Rejecting  epoch based on ECG : ['ECG']\n",
            "    Rejecting  epoch based on ECG : ['ECG']\n",
            "    Rejecting  epoch based on ECG : ['ECG']\n",
            "    Rejecting  epoch based on ECG : ['ECG']\n",
            "    Rejecting  epoch based on ECG : ['ECG']\n",
            "5 bad epochs dropped\n"
          ]
        },
        {
          "name": "stderr",
          "output_type": "stream",
          "text": [
            "\rProcessing subjects:  63%|██████▎   | 52/83 [45:22<41:41, 80.71s/it]"
          ]
        },
        {
          "name": "stdout",
          "output_type": "stream",
          "text": [
            "\n",
            "🔍 Processing sub-062...\n"
          ]
        },
        {
          "name": "stderr",
          "output_type": "stream",
          "text": [
            "/usr/local/lib/python3.11/dist-packages/pymatreader/utils.py:168: UserWarning: Complex objects (like classes) are not supported. They are imported on a best effort base but your mileage will vary.\n",
            "  warn(\n"
          ]
        },
        {
          "name": "stdout",
          "output_type": "stream",
          "text": [
            "Used Annotations descriptions: [np.str_('500105'), np.str_('500109'), np.str_('500113'), np.str_('500205'), np.str_('500209'), np.str_('500213'), np.str_('500305'), np.str_('500309'), np.str_('500313'), np.str_('500405'), np.str_('500409'), np.str_('500413'), np.str_('500505'), np.str_('500509'), np.str_('500513'), np.str_('500609'), np.str_('500613'), np.str_('500709'), np.str_('500713'), np.str_('500809'), np.str_('500813'), np.str_('500909'), np.str_('500913'), np.str_('501013'), np.str_('501113'), np.str_('501213'), np.str_('501313'), np.str_('6001051'), np.str_('6001090'), np.str_('6001091'), np.str_('6001130'), np.str_('6001131'), np.str_('6002050'), np.str_('6002051'), np.str_('6002090'), np.str_('6002091'), np.str_('6002130'), np.str_('6002131'), np.str_('6003050'), np.str_('6003051'), np.str_('6003090'), np.str_('6003091'), np.str_('6003130'), np.str_('6003131'), np.str_('6004050'), np.str_('6004051'), np.str_('6004090'), np.str_('6004091'), np.str_('6004130'), np.str_('6004131'), np.str_('6005050'), np.str_('6005051'), np.str_('6005090'), np.str_('6005091'), np.str_('6005130'), np.str_('6005131'), np.str_('6006090'), np.str_('6006091'), np.str_('6006130'), np.str_('6006131'), np.str_('6007090'), np.str_('6007091'), np.str_('6007130'), np.str_('6007131'), np.str_('6008090'), np.str_('6008091'), np.str_('6008130'), np.str_('6008131'), np.str_('6009090'), np.str_('6009091'), np.str_('6009130'), np.str_('6009131'), np.str_('6010130'), np.str_('6010131'), np.str_('6011130'), np.str_('6011131'), np.str_('6012130'), np.str_('6013130'), np.str_('boundary')]\n",
            "Not setting metadata\n",
            "55 matching events found\n",
            "No baseline correction applied\n",
            "0 projection items activated\n",
            "Using data from preloaded Raw for 55 events and 13001 original time points ...\n",
            "0 bad epochs dropped\n"
          ]
        },
        {
          "name": "stderr",
          "output_type": "stream",
          "text": [
            "<ipython-input-7-5e7cde8d0c1e>:12: RuntimeWarning: The data contains 'boundary' events, indicating data discontinuities. Be cautious of filtering and epoching around these events.\n",
            "  raw = mne.io.read_raw_eeglab(file_path, preload=True)\n"
          ]
        },
        {
          "name": "stdout",
          "output_type": "stream",
          "text": [
            "Not setting metadata\n",
            "62 matching events found\n",
            "No baseline correction applied\n",
            "0 projection items activated\n",
            "Using data from preloaded Raw for 62 events and 21001 original time points ...\n",
            "0 bad epochs dropped\n",
            "Not setting metadata\n",
            "46 matching events found\n",
            "No baseline correction applied\n",
            "0 projection items activated\n",
            "Using data from preloaded Raw for 46 events and 29001 original time points ...\n",
            "0 bad epochs dropped\n"
          ]
        },
        {
          "name": "stderr",
          "output_type": "stream",
          "text": [
            "\rProcessing subjects:  64%|██████▍   | 53/83 [46:40<39:53, 79.77s/it]"
          ]
        },
        {
          "name": "stdout",
          "output_type": "stream",
          "text": [
            "\n",
            "🔍 Processing sub-065...\n"
          ]
        },
        {
          "name": "stderr",
          "output_type": "stream",
          "text": [
            "/usr/local/lib/python3.11/dist-packages/pymatreader/utils.py:168: UserWarning: Complex objects (like classes) are not supported. They are imported on a best effort base but your mileage will vary.\n",
            "  warn(\n"
          ]
        },
        {
          "name": "stdout",
          "output_type": "stream",
          "text": [
            "Used Annotations descriptions: [np.str_('500105'), np.str_('500109'), np.str_('500113'), np.str_('500205'), np.str_('500209'), np.str_('500213'), np.str_('500305'), np.str_('500309'), np.str_('500313'), np.str_('500405'), np.str_('500409'), np.str_('500413'), np.str_('500505'), np.str_('500509'), np.str_('500513'), np.str_('500609'), np.str_('500613'), np.str_('500709'), np.str_('500713'), np.str_('500809'), np.str_('500813'), np.str_('500909'), np.str_('500913'), np.str_('501013'), np.str_('501113'), np.str_('501213'), np.str_('501313'), np.str_('6001051'), np.str_('6001090'), np.str_('6001091'), np.str_('6001130'), np.str_('6001131'), np.str_('6002051'), np.str_('6002090'), np.str_('6002091'), np.str_('6002130'), np.str_('6002131'), np.str_('6003050'), np.str_('6003051'), np.str_('6003090'), np.str_('6003091'), np.str_('6003130'), np.str_('6003131'), np.str_('6004051'), np.str_('6004090'), np.str_('6004091'), np.str_('6004130'), np.str_('6004131'), np.str_('6005051'), np.str_('6005090'), np.str_('6005091'), np.str_('6005130'), np.str_('6005131'), np.str_('6006090'), np.str_('6006091'), np.str_('6006130'), np.str_('6006131'), np.str_('6007090'), np.str_('6007091'), np.str_('6007130'), np.str_('6007131'), np.str_('6008090'), np.str_('6008091'), np.str_('6008130'), np.str_('6008131'), np.str_('6009090'), np.str_('6009091'), np.str_('6009130'), np.str_('6009131'), np.str_('6010130'), np.str_('6010131'), np.str_('6011130'), np.str_('6011131'), np.str_('6012130'), np.str_('6012131'), np.str_('6013130'), np.str_('6013131'), np.str_('boundary')]\n",
            "Not setting metadata\n",
            "56 matching events found\n",
            "No baseline correction applied\n",
            "0 projection items activated\n",
            "Using data from preloaded Raw for 56 events and 13001 original time points ...\n",
            "0 bad epochs dropped\n"
          ]
        },
        {
          "name": "stderr",
          "output_type": "stream",
          "text": [
            "<ipython-input-7-5e7cde8d0c1e>:12: RuntimeWarning: The data contains 'boundary' events, indicating data discontinuities. Be cautious of filtering and epoching around these events.\n",
            "  raw = mne.io.read_raw_eeglab(file_path, preload=True)\n"
          ]
        },
        {
          "name": "stdout",
          "output_type": "stream",
          "text": [
            "Not setting metadata\n",
            "54 matching events found\n",
            "No baseline correction applied\n",
            "0 projection items activated\n",
            "Using data from preloaded Raw for 54 events and 21001 original time points ...\n",
            "0 bad epochs dropped\n",
            "Not setting metadata\n",
            "88 matching events found\n",
            "No baseline correction applied\n",
            "0 projection items activated\n",
            "Using data from preloaded Raw for 88 events and 29001 original time points ...\n",
            "0 bad epochs dropped\n"
          ]
        },
        {
          "name": "stderr",
          "output_type": "stream",
          "text": [
            "\rProcessing subjects:  65%|██████▌   | 54/83 [48:08<39:49, 82.40s/it]"
          ]
        },
        {
          "name": "stdout",
          "output_type": "stream",
          "text": [
            "\n",
            "🔍 Processing sub-069...\n"
          ]
        },
        {
          "name": "stderr",
          "output_type": "stream",
          "text": [
            "/usr/local/lib/python3.11/dist-packages/pymatreader/utils.py:168: UserWarning: Complex objects (like classes) are not supported. They are imported on a best effort base but your mileage will vary.\n",
            "  warn(\n"
          ]
        },
        {
          "name": "stdout",
          "output_type": "stream",
          "text": [
            "Used Annotations descriptions: [np.str_('500105'), np.str_('500109'), np.str_('500113'), np.str_('500205'), np.str_('500209'), np.str_('500213'), np.str_('500305'), np.str_('500309'), np.str_('500313'), np.str_('500405'), np.str_('500409'), np.str_('500413'), np.str_('500505'), np.str_('500509'), np.str_('500513'), np.str_('500609'), np.str_('500613'), np.str_('500709'), np.str_('500713'), np.str_('500809'), np.str_('500813'), np.str_('500909'), np.str_('500913'), np.str_('501013'), np.str_('501113'), np.str_('501213'), np.str_('501313'), np.str_('6001050'), np.str_('6001051'), np.str_('6001090'), np.str_('6001091'), np.str_('6001130'), np.str_('6001131'), np.str_('6002050'), np.str_('6002051'), np.str_('6002090'), np.str_('6002091'), np.str_('6002130'), np.str_('6002131'), np.str_('6003050'), np.str_('6003051'), np.str_('6003090'), np.str_('6003091'), np.str_('6003130'), np.str_('6003131'), np.str_('6004050'), np.str_('6004051'), np.str_('6004090'), np.str_('6004091'), np.str_('6004130'), np.str_('6004131'), np.str_('6005050'), np.str_('6005051'), np.str_('6005090'), np.str_('6005091'), np.str_('6005130'), np.str_('6005131'), np.str_('6006090'), np.str_('6006091'), np.str_('6006130'), np.str_('6006131'), np.str_('6007090'), np.str_('6007091'), np.str_('6007130'), np.str_('6007131'), np.str_('6008090'), np.str_('6008091'), np.str_('6008130'), np.str_('6008131'), np.str_('6009090'), np.str_('6009091'), np.str_('6009130'), np.str_('6009131'), np.str_('6010130'), np.str_('6010131'), np.str_('6011130'), np.str_('6011131'), np.str_('6012130'), np.str_('6012131'), np.str_('6013130'), np.str_('6013131'), np.str_('boundary')]\n",
            "Not setting metadata\n",
            "54 matching events found\n",
            "No baseline correction applied\n",
            "0 projection items activated\n",
            "Using data from preloaded Raw for 54 events and 13001 original time points ...\n",
            "0 bad epochs dropped\n"
          ]
        },
        {
          "name": "stderr",
          "output_type": "stream",
          "text": [
            "<ipython-input-7-5e7cde8d0c1e>:12: RuntimeWarning: The data contains 'boundary' events, indicating data discontinuities. Be cautious of filtering and epoching around these events.\n",
            "  raw = mne.io.read_raw_eeglab(file_path, preload=True)\n"
          ]
        },
        {
          "name": "stdout",
          "output_type": "stream",
          "text": [
            "Not setting metadata\n",
            "54 matching events found\n",
            "No baseline correction applied\n",
            "0 projection items activated\n",
            "Using data from preloaded Raw for 54 events and 21001 original time points ...\n",
            "0 bad epochs dropped\n",
            "Not setting metadata\n",
            "54 matching events found\n",
            "No baseline correction applied\n",
            "0 projection items activated\n",
            "Using data from preloaded Raw for 54 events and 29001 original time points ...\n",
            "    Rejecting  epoch based on ECG : ['ECG']\n",
            "    Rejecting  epoch based on ECG : ['ECG']\n",
            "2 bad epochs dropped\n"
          ]
        },
        {
          "name": "stderr",
          "output_type": "stream",
          "text": [
            "\rProcessing subjects:  66%|██████▋   | 55/83 [49:27<37:54, 81.24s/it]"
          ]
        },
        {
          "name": "stdout",
          "output_type": "stream",
          "text": [
            "\n",
            "🔍 Processing sub-074...\n"
          ]
        },
        {
          "name": "stderr",
          "output_type": "stream",
          "text": [
            "/usr/local/lib/python3.11/dist-packages/pymatreader/utils.py:168: UserWarning: Complex objects (like classes) are not supported. They are imported on a best effort base but your mileage will vary.\n",
            "  warn(\n"
          ]
        },
        {
          "name": "stdout",
          "output_type": "stream",
          "text": [
            "Used Annotations descriptions: [np.str_('500105'), np.str_('500109'), np.str_('500113'), np.str_('500205'), np.str_('500209'), np.str_('500213'), np.str_('500305'), np.str_('500309'), np.str_('500313'), np.str_('500405'), np.str_('500409'), np.str_('500413'), np.str_('500505'), np.str_('500509'), np.str_('500513'), np.str_('500609'), np.str_('500613'), np.str_('500709'), np.str_('500713'), np.str_('500809'), np.str_('500813'), np.str_('500909'), np.str_('500913'), np.str_('501013'), np.str_('501113'), np.str_('501213'), np.str_('501313'), np.str_('6001050'), np.str_('6001051'), np.str_('6001090'), np.str_('6001091'), np.str_('6001130'), np.str_('6001131'), np.str_('6002050'), np.str_('6002051'), np.str_('6002090'), np.str_('6002091'), np.str_('6002130'), np.str_('6002131'), np.str_('6003050'), np.str_('6003051'), np.str_('6003090'), np.str_('6003091'), np.str_('6003130'), np.str_('6003131'), np.str_('6004050'), np.str_('6004051'), np.str_('6004090'), np.str_('6004091'), np.str_('6004130'), np.str_('6004131'), np.str_('6005050'), np.str_('6005051'), np.str_('6005090'), np.str_('6005091'), np.str_('6005130'), np.str_('6005131'), np.str_('6006090'), np.str_('6006091'), np.str_('6006130'), np.str_('6006131'), np.str_('6007090'), np.str_('6007091'), np.str_('6007130'), np.str_('6007131'), np.str_('6008090'), np.str_('6008091'), np.str_('6008130'), np.str_('6008131'), np.str_('6009090'), np.str_('6009091'), np.str_('6009130'), np.str_('6010130'), np.str_('6011130'), np.str_('6012130'), np.str_('6013130'), np.str_('boundary')]\n",
            "Not setting metadata\n",
            "54 matching events found\n",
            "No baseline correction applied\n",
            "0 projection items activated\n",
            "Using data from preloaded Raw for 54 events and 13001 original time points ...\n",
            "    Rejecting  epoch based on ECG : ['ECG']\n",
            "    Rejecting  epoch based on ECG : ['ECG']\n",
            "2 bad epochs dropped\n"
          ]
        },
        {
          "name": "stderr",
          "output_type": "stream",
          "text": [
            "<ipython-input-7-5e7cde8d0c1e>:12: RuntimeWarning: The data contains 'boundary' events, indicating data discontinuities. Be cautious of filtering and epoching around these events.\n",
            "  raw = mne.io.read_raw_eeglab(file_path, preload=True)\n"
          ]
        },
        {
          "name": "stdout",
          "output_type": "stream",
          "text": [
            "Not setting metadata\n",
            "54 matching events found\n",
            "No baseline correction applied\n",
            "0 projection items activated\n",
            "Using data from preloaded Raw for 54 events and 21001 original time points ...\n",
            "    Rejecting  epoch based on ECG : ['ECG']\n",
            "    Rejecting  epoch based on ECG : ['ECG']\n",
            "    Rejecting  epoch based on ECG : ['ECG']\n",
            "    Rejecting  epoch based on ECG : ['ECG']\n",
            "    Rejecting  epoch based on ECG : ['ECG']\n",
            "    Rejecting  epoch based on ECG : ['ECG']\n",
            "6 bad epochs dropped\n",
            "Not setting metadata\n",
            "54 matching events found\n",
            "No baseline correction applied\n",
            "0 projection items activated\n",
            "Using data from preloaded Raw for 54 events and 29001 original time points ...\n",
            "    Rejecting  epoch based on ECG : ['ECG']\n",
            "    Rejecting  epoch based on ECG : ['ECG']\n",
            "    Rejecting  epoch based on ECG : ['ECG']\n",
            "    Rejecting  epoch based on ECG : ['ECG']\n",
            "    Rejecting  epoch based on ECG : ['ECG']\n",
            "    Rejecting  epoch based on ECG : ['ECG']\n",
            "    Rejecting  epoch based on ECG : ['ECG']\n",
            "    Rejecting  epoch based on ECG : ['ECG']\n",
            "    Rejecting  epoch based on ECG : ['ECG']\n",
            "    Rejecting  epoch based on ECG : ['ECG']\n",
            "    Rejecting  epoch based on ECG : ['ECG']\n",
            "    Rejecting  epoch based on ECG : ['ECG']\n",
            "12 bad epochs dropped\n"
          ]
        },
        {
          "name": "stderr",
          "output_type": "stream",
          "text": [
            "\rProcessing subjects:  67%|██████▋   | 56/83 [50:40<35:27, 78.80s/it]"
          ]
        },
        {
          "name": "stdout",
          "output_type": "stream",
          "text": [
            "\n",
            "🔍 Processing sub-076...\n"
          ]
        },
        {
          "name": "stderr",
          "output_type": "stream",
          "text": [
            "/usr/local/lib/python3.11/dist-packages/pymatreader/utils.py:168: UserWarning: Complex objects (like classes) are not supported. They are imported on a best effort base but your mileage will vary.\n",
            "  warn(\n"
          ]
        },
        {
          "name": "stdout",
          "output_type": "stream",
          "text": [
            "Used Annotations descriptions: [np.str_('500105'), np.str_('500109'), np.str_('500113'), np.str_('500205'), np.str_('500209'), np.str_('500213'), np.str_('500305'), np.str_('500309'), np.str_('500313'), np.str_('500405'), np.str_('500409'), np.str_('500413'), np.str_('500505'), np.str_('500509'), np.str_('500513'), np.str_('500609'), np.str_('500613'), np.str_('500709'), np.str_('500713'), np.str_('500809'), np.str_('500813'), np.str_('500909'), np.str_('500913'), np.str_('501013'), np.str_('501113'), np.str_('501213'), np.str_('501313'), np.str_('6001050'), np.str_('6001051'), np.str_('6001090'), np.str_('6001091'), np.str_('6001131'), np.str_('6002050'), np.str_('6002051'), np.str_('6002090'), np.str_('6002091'), np.str_('6002130'), np.str_('6002131'), np.str_('6003050'), np.str_('6003051'), np.str_('6003090'), np.str_('6003091'), np.str_('6003130'), np.str_('6003131'), np.str_('6004050'), np.str_('6004051'), np.str_('6004090'), np.str_('6004091'), np.str_('6004130'), np.str_('6004131'), np.str_('6005051'), np.str_('6005090'), np.str_('6005091'), np.str_('6005130'), np.str_('6005131'), np.str_('6006090'), np.str_('6006091'), np.str_('6006130'), np.str_('6006131'), np.str_('6007090'), np.str_('6007091'), np.str_('6007130'), np.str_('6007131'), np.str_('6008090'), np.str_('6008130'), np.str_('6008131'), np.str_('6009090'), np.str_('6009130'), np.str_('6009131'), np.str_('6010130'), np.str_('6011130'), np.str_('6012130'), np.str_('6013130'), np.str_('boundary')]\n",
            "Not setting metadata\n",
            "54 matching events found\n",
            "No baseline correction applied\n",
            "0 projection items activated\n",
            "Using data from preloaded Raw for 54 events and 13001 original time points ...\n",
            "0 bad epochs dropped\n"
          ]
        },
        {
          "name": "stderr",
          "output_type": "stream",
          "text": [
            "<ipython-input-7-5e7cde8d0c1e>:12: RuntimeWarning: The data contains 'boundary' events, indicating data discontinuities. Be cautious of filtering and epoching around these events.\n",
            "  raw = mne.io.read_raw_eeglab(file_path, preload=True)\n"
          ]
        },
        {
          "name": "stdout",
          "output_type": "stream",
          "text": [
            "Not setting metadata\n",
            "54 matching events found\n",
            "No baseline correction applied\n",
            "0 projection items activated\n",
            "Using data from preloaded Raw for 54 events and 21001 original time points ...\n",
            "0 bad epochs dropped\n",
            "Not setting metadata\n",
            "56 matching events found\n",
            "No baseline correction applied\n",
            "0 projection items activated\n",
            "Using data from preloaded Raw for 56 events and 29001 original time points ...\n",
            "0 bad epochs dropped\n"
          ]
        },
        {
          "name": "stderr",
          "output_type": "stream",
          "text": [
            "\rProcessing subjects:  69%|██████▊   | 57/83 [52:01<34:29, 79.58s/it]"
          ]
        },
        {
          "name": "stdout",
          "output_type": "stream",
          "text": [
            "\n",
            "🔍 Processing sub-071...\n"
          ]
        },
        {
          "name": "stderr",
          "output_type": "stream",
          "text": [
            "/usr/local/lib/python3.11/dist-packages/pymatreader/utils.py:168: UserWarning: Complex objects (like classes) are not supported. They are imported on a best effort base but your mileage will vary.\n",
            "  warn(\n"
          ]
        },
        {
          "name": "stdout",
          "output_type": "stream",
          "text": [
            "Used Annotations descriptions: [np.str_('500105'), np.str_('500109'), np.str_('500113'), np.str_('500205'), np.str_('500209'), np.str_('500213'), np.str_('500305'), np.str_('500309'), np.str_('500313'), np.str_('500405'), np.str_('500409'), np.str_('500413'), np.str_('500505'), np.str_('500509'), np.str_('500513'), np.str_('500609'), np.str_('500613'), np.str_('500709'), np.str_('500713'), np.str_('500809'), np.str_('500813'), np.str_('500909'), np.str_('500913'), np.str_('501013'), np.str_('501113'), np.str_('501213'), np.str_('501313'), np.str_('6001051'), np.str_('6001090'), np.str_('6001091'), np.str_('6001130'), np.str_('6001131'), np.str_('6002050'), np.str_('6002051'), np.str_('6002091'), np.str_('6002130'), np.str_('6002131'), np.str_('6003050'), np.str_('6003051'), np.str_('6003090'), np.str_('6003091'), np.str_('6003130'), np.str_('6003131'), np.str_('6004051'), np.str_('6004090'), np.str_('6004091'), np.str_('6004130'), np.str_('6004131'), np.str_('6005050'), np.str_('6005051'), np.str_('6005090'), np.str_('6005091'), np.str_('6005130'), np.str_('6005131'), np.str_('6006090'), np.str_('6006091'), np.str_('6006130'), np.str_('6006131'), np.str_('6007090'), np.str_('6007091'), np.str_('6007130'), np.str_('6007131'), np.str_('6008090'), np.str_('6008130'), np.str_('6009090'), np.str_('6009130'), np.str_('6010130'), np.str_('6011130'), np.str_('6012130'), np.str_('6013130'), np.str_('boundary')]\n",
            "Not setting metadata\n",
            "55 matching events found\n",
            "No baseline correction applied\n",
            "0 projection items activated\n",
            "Using data from preloaded Raw for 55 events and 13001 original time points ...\n",
            "0 bad epochs dropped\n"
          ]
        },
        {
          "name": "stderr",
          "output_type": "stream",
          "text": [
            "<ipython-input-7-5e7cde8d0c1e>:12: RuntimeWarning: The data contains 'boundary' events, indicating data discontinuities. Be cautious of filtering and epoching around these events.\n",
            "  raw = mne.io.read_raw_eeglab(file_path, preload=True)\n"
          ]
        },
        {
          "name": "stdout",
          "output_type": "stream",
          "text": [
            "Not setting metadata\n",
            "54 matching events found\n",
            "No baseline correction applied\n",
            "0 projection items activated\n",
            "Using data from preloaded Raw for 54 events and 21001 original time points ...\n",
            "    Rejecting  epoch based on ECG : ['ECG']\n",
            "1 bad epochs dropped\n",
            "Not setting metadata\n",
            "54 matching events found\n",
            "No baseline correction applied\n",
            "0 projection items activated\n",
            "Using data from preloaded Raw for 54 events and 29001 original time points ...\n",
            "0 bad epochs dropped\n"
          ]
        },
        {
          "name": "stderr",
          "output_type": "stream",
          "text": [
            "\rProcessing subjects:  70%|██████▉   | 58/83 [53:24<33:32, 80.48s/it]"
          ]
        },
        {
          "name": "stdout",
          "output_type": "stream",
          "text": [
            "\n",
            "🔍 Processing sub-077...\n"
          ]
        },
        {
          "name": "stderr",
          "output_type": "stream",
          "text": [
            "/usr/local/lib/python3.11/dist-packages/pymatreader/utils.py:168: UserWarning: Complex objects (like classes) are not supported. They are imported on a best effort base but your mileage will vary.\n",
            "  warn(\n"
          ]
        },
        {
          "name": "stdout",
          "output_type": "stream",
          "text": [
            "Used Annotations descriptions: [np.str_('500105'), np.str_('500109'), np.str_('500113'), np.str_('500205'), np.str_('500209'), np.str_('500213'), np.str_('500305'), np.str_('500309'), np.str_('500313'), np.str_('500405'), np.str_('500409'), np.str_('500413'), np.str_('500505'), np.str_('500509'), np.str_('500513'), np.str_('500609'), np.str_('500613'), np.str_('500709'), np.str_('500713'), np.str_('500809'), np.str_('500813'), np.str_('500909'), np.str_('500913'), np.str_('501013'), np.str_('501113'), np.str_('501213'), np.str_('501313'), np.str_('6001051'), np.str_('6001090'), np.str_('6001091'), np.str_('6001130'), np.str_('6001131'), np.str_('6002050'), np.str_('6002051'), np.str_('6002090'), np.str_('6002091'), np.str_('6002130'), np.str_('6002131'), np.str_('6003050'), np.str_('6003051'), np.str_('6003090'), np.str_('6003091'), np.str_('6003130'), np.str_('6003131'), np.str_('6004050'), np.str_('6004051'), np.str_('6004090'), np.str_('6004091'), np.str_('6004130'), np.str_('6004131'), np.str_('6005050'), np.str_('6005051'), np.str_('6005090'), np.str_('6005091'), np.str_('6005130'), np.str_('6005131'), np.str_('6006090'), np.str_('6006091'), np.str_('6006130'), np.str_('6006131'), np.str_('6007090'), np.str_('6007091'), np.str_('6007130'), np.str_('6007131'), np.str_('6008090'), np.str_('6008091'), np.str_('6008130'), np.str_('6008131'), np.str_('6009090'), np.str_('6009091'), np.str_('6009130'), np.str_('6009131'), np.str_('6010130'), np.str_('6010131'), np.str_('6011130'), np.str_('6011131'), np.str_('6012130'), np.str_('6012131'), np.str_('6013130'), np.str_('6013131'), np.str_('boundary')]\n",
            "Not setting metadata\n",
            "66 matching events found\n",
            "No baseline correction applied\n",
            "0 projection items activated\n",
            "Using data from preloaded Raw for 66 events and 13001 original time points ...\n",
            "0 bad epochs dropped\n"
          ]
        },
        {
          "name": "stderr",
          "output_type": "stream",
          "text": [
            "<ipython-input-7-5e7cde8d0c1e>:12: RuntimeWarning: The data contains 'boundary' events, indicating data discontinuities. Be cautious of filtering and epoching around these events.\n",
            "  raw = mne.io.read_raw_eeglab(file_path, preload=True)\n"
          ]
        },
        {
          "name": "stdout",
          "output_type": "stream",
          "text": [
            "Not setting metadata\n",
            "67 matching events found\n",
            "No baseline correction applied\n",
            "0 projection items activated\n",
            "Using data from preloaded Raw for 67 events and 21001 original time points ...\n",
            "0 bad epochs dropped\n",
            "Not setting metadata\n",
            "32 matching events found\n",
            "No baseline correction applied\n",
            "0 projection items activated\n",
            "Using data from preloaded Raw for 32 events and 29001 original time points ...\n",
            "0 bad epochs dropped\n"
          ]
        },
        {
          "name": "stderr",
          "output_type": "stream",
          "text": [
            "\rProcessing subjects:  71%|███████   | 59/83 [54:35<31:03, 77.64s/it]"
          ]
        },
        {
          "name": "stdout",
          "output_type": "stream",
          "text": [
            "\n",
            "🔍 Processing sub-072...\n"
          ]
        },
        {
          "name": "stderr",
          "output_type": "stream",
          "text": [
            "/usr/local/lib/python3.11/dist-packages/pymatreader/utils.py:168: UserWarning: Complex objects (like classes) are not supported. They are imported on a best effort base but your mileage will vary.\n",
            "  warn(\n"
          ]
        },
        {
          "name": "stdout",
          "output_type": "stream",
          "text": [
            "Used Annotations descriptions: [np.str_('500105'), np.str_('500109'), np.str_('500113'), np.str_('500205'), np.str_('500209'), np.str_('500213'), np.str_('500305'), np.str_('500309'), np.str_('500313'), np.str_('500405'), np.str_('500409'), np.str_('500413'), np.str_('500505'), np.str_('500509'), np.str_('500513'), np.str_('500609'), np.str_('500613'), np.str_('500709'), np.str_('500713'), np.str_('500809'), np.str_('500813'), np.str_('500909'), np.str_('500913'), np.str_('501013'), np.str_('501113'), np.str_('501213'), np.str_('501313'), np.str_('6001050'), np.str_('6001051'), np.str_('6001090'), np.str_('6001091'), np.str_('6001130'), np.str_('6001131'), np.str_('6002050'), np.str_('6002051'), np.str_('6002090'), np.str_('6002091'), np.str_('6002130'), np.str_('6002131'), np.str_('6003050'), np.str_('6003051'), np.str_('6003090'), np.str_('6003091'), np.str_('6003130'), np.str_('6003131'), np.str_('6004050'), np.str_('6004051'), np.str_('6004090'), np.str_('6004091'), np.str_('6004130'), np.str_('6004131'), np.str_('6005050'), np.str_('6005051'), np.str_('6005090'), np.str_('6005091'), np.str_('6005130'), np.str_('6005131'), np.str_('6006090'), np.str_('6006091'), np.str_('6006130'), np.str_('6006131'), np.str_('6007090'), np.str_('6007091'), np.str_('6007130'), np.str_('6007131'), np.str_('6008090'), np.str_('6008130'), np.str_('6008131'), np.str_('6009090'), np.str_('6009091'), np.str_('6009130'), np.str_('6009131'), np.str_('6010130'), np.str_('6010131'), np.str_('6011130'), np.str_('6011131'), np.str_('6012130'), np.str_('6012131'), np.str_('6013130'), np.str_('boundary')]\n",
            "Not setting metadata\n",
            "54 matching events found\n",
            "No baseline correction applied\n",
            "0 projection items activated\n",
            "Using data from preloaded Raw for 54 events and 13001 original time points ...\n",
            "0 bad epochs dropped\n"
          ]
        },
        {
          "name": "stderr",
          "output_type": "stream",
          "text": [
            "<ipython-input-7-5e7cde8d0c1e>:12: RuntimeWarning: The data contains 'boundary' events, indicating data discontinuities. Be cautious of filtering and epoching around these events.\n",
            "  raw = mne.io.read_raw_eeglab(file_path, preload=True)\n"
          ]
        },
        {
          "name": "stdout",
          "output_type": "stream",
          "text": [
            "Not setting metadata\n",
            "54 matching events found\n",
            "No baseline correction applied\n",
            "0 projection items activated\n",
            "Using data from preloaded Raw for 54 events and 21001 original time points ...\n",
            "0 bad epochs dropped\n",
            "Not setting metadata\n",
            "54 matching events found\n",
            "No baseline correction applied\n",
            "0 projection items activated\n",
            "Using data from preloaded Raw for 54 events and 29001 original time points ...\n",
            "0 bad epochs dropped\n"
          ]
        },
        {
          "name": "stderr",
          "output_type": "stream",
          "text": [
            "\rProcessing subjects:  72%|███████▏  | 60/83 [56:07<31:25, 81.97s/it]"
          ]
        },
        {
          "name": "stdout",
          "output_type": "stream",
          "text": [
            "\n",
            "🔍 Processing sub-075...\n"
          ]
        },
        {
          "name": "stderr",
          "output_type": "stream",
          "text": [
            "/usr/local/lib/python3.11/dist-packages/pymatreader/utils.py:168: UserWarning: Complex objects (like classes) are not supported. They are imported on a best effort base but your mileage will vary.\n",
            "  warn(\n"
          ]
        },
        {
          "name": "stdout",
          "output_type": "stream",
          "text": [
            "Used Annotations descriptions: [np.str_('500105'), np.str_('500109'), np.str_('500113'), np.str_('500205'), np.str_('500209'), np.str_('500213'), np.str_('500305'), np.str_('500309'), np.str_('500313'), np.str_('500405'), np.str_('500409'), np.str_('500413'), np.str_('500505'), np.str_('500509'), np.str_('500513'), np.str_('500609'), np.str_('500613'), np.str_('500709'), np.str_('500713'), np.str_('500809'), np.str_('500813'), np.str_('500909'), np.str_('500913'), np.str_('501013'), np.str_('501113'), np.str_('501213'), np.str_('501313'), np.str_('6001051'), np.str_('6001091'), np.str_('6001131'), np.str_('6002051'), np.str_('6002090'), np.str_('6002091'), np.str_('6002130'), np.str_('6002131'), np.str_('6003050'), np.str_('6003051'), np.str_('6003090'), np.str_('6003091'), np.str_('6003130'), np.str_('6003131'), np.str_('6004050'), np.str_('6004051'), np.str_('6004090'), np.str_('6004091'), np.str_('6004130'), np.str_('6004131'), np.str_('6005051'), np.str_('6005090'), np.str_('6005091'), np.str_('6005130'), np.str_('6005131'), np.str_('6006090'), np.str_('6006091'), np.str_('6006130'), np.str_('6006131'), np.str_('6007090'), np.str_('6007091'), np.str_('6007130'), np.str_('6007131'), np.str_('6008090'), np.str_('6008091'), np.str_('6008130'), np.str_('6008131'), np.str_('6009090'), np.str_('6009091'), np.str_('6009130'), np.str_('6009131'), np.str_('6010130'), np.str_('6010131'), np.str_('6011130'), np.str_('6011131'), np.str_('6012130'), np.str_('6012131'), np.str_('6013130'), np.str_('6013131'), np.str_('boundary')]\n",
            "Not setting metadata\n",
            "90 matching events found\n",
            "No baseline correction applied\n",
            "0 projection items activated\n",
            "Using data from preloaded Raw for 90 events and 13001 original time points ...\n",
            "0 bad epochs dropped\n"
          ]
        },
        {
          "name": "stderr",
          "output_type": "stream",
          "text": [
            "<ipython-input-7-5e7cde8d0c1e>:12: RuntimeWarning: The data contains 'boundary' events, indicating data discontinuities. Be cautious of filtering and epoching around these events.\n",
            "  raw = mne.io.read_raw_eeglab(file_path, preload=True)\n"
          ]
        },
        {
          "name": "stdout",
          "output_type": "stream",
          "text": [
            "Not setting metadata\n",
            "90 matching events found\n",
            "No baseline correction applied\n",
            "0 projection items activated\n",
            "Using data from preloaded Raw for 90 events and 21001 original time points ...\n",
            "    Rejecting  epoch based on ECG : ['ECG']\n",
            "    Rejecting  epoch based on ECG : ['ECG']\n",
            "2 bad epochs dropped\n",
            "Not setting metadata\n",
            "54 matching events found\n",
            "No baseline correction applied\n",
            "0 projection items activated\n",
            "Using data from preloaded Raw for 54 events and 29001 original time points ...\n",
            "0 bad epochs dropped\n"
          ]
        },
        {
          "name": "stderr",
          "output_type": "stream",
          "text": [
            "\rProcessing subjects:  73%|███████▎  | 61/83 [57:24<29:31, 80.53s/it]"
          ]
        },
        {
          "name": "stdout",
          "output_type": "stream",
          "text": [
            "\n",
            "🔍 Processing sub-073...\n"
          ]
        },
        {
          "name": "stderr",
          "output_type": "stream",
          "text": [
            "/usr/local/lib/python3.11/dist-packages/pymatreader/utils.py:168: UserWarning: Complex objects (like classes) are not supported. They are imported on a best effort base but your mileage will vary.\n",
            "  warn(\n"
          ]
        },
        {
          "name": "stdout",
          "output_type": "stream",
          "text": [
            "Used Annotations descriptions: [np.str_('500105'), np.str_('500109'), np.str_('500113'), np.str_('500205'), np.str_('500209'), np.str_('500213'), np.str_('500305'), np.str_('500309'), np.str_('500313'), np.str_('500405'), np.str_('500409'), np.str_('500413'), np.str_('500505'), np.str_('500509'), np.str_('500513'), np.str_('500609'), np.str_('500613'), np.str_('500709'), np.str_('500713'), np.str_('500809'), np.str_('500813'), np.str_('500909'), np.str_('500913'), np.str_('501013'), np.str_('501113'), np.str_('501213'), np.str_('501313'), np.str_('6001050'), np.str_('6001051'), np.str_('6001090'), np.str_('6001091'), np.str_('6001130'), np.str_('6001131'), np.str_('6002050'), np.str_('6002051'), np.str_('6002090'), np.str_('6002091'), np.str_('6002130'), np.str_('6002131'), np.str_('6003050'), np.str_('6003051'), np.str_('6003090'), np.str_('6003091'), np.str_('6003130'), np.str_('6003131'), np.str_('6004050'), np.str_('6004051'), np.str_('6004090'), np.str_('6004091'), np.str_('6004130'), np.str_('6004131'), np.str_('6005050'), np.str_('6005051'), np.str_('6005090'), np.str_('6005091'), np.str_('6005130'), np.str_('6005131'), np.str_('6006090'), np.str_('6006130'), np.str_('6006131'), np.str_('6007090'), np.str_('6007091'), np.str_('6007130'), np.str_('6007131'), np.str_('6008090'), np.str_('6008130'), np.str_('6008131'), np.str_('6009090'), np.str_('6009130'), np.str_('6010130'), np.str_('6011130'), np.str_('6012130'), np.str_('6013130'), np.str_('boundary')]\n",
            "Not setting metadata\n",
            "54 matching events found\n",
            "No baseline correction applied\n",
            "0 projection items activated\n",
            "Using data from preloaded Raw for 54 events and 13001 original time points ...\n",
            "0 bad epochs dropped\n"
          ]
        },
        {
          "name": "stderr",
          "output_type": "stream",
          "text": [
            "<ipython-input-7-5e7cde8d0c1e>:12: RuntimeWarning: The data contains 'boundary' events, indicating data discontinuities. Be cautious of filtering and epoching around these events.\n",
            "  raw = mne.io.read_raw_eeglab(file_path, preload=True)\n"
          ]
        },
        {
          "name": "stdout",
          "output_type": "stream",
          "text": [
            "Not setting metadata\n",
            "54 matching events found\n",
            "No baseline correction applied\n",
            "0 projection items activated\n",
            "Using data from preloaded Raw for 54 events and 21001 original time points ...\n",
            "0 bad epochs dropped\n",
            "Not setting metadata\n",
            "54 matching events found\n",
            "No baseline correction applied\n",
            "0 projection items activated\n",
            "Using data from preloaded Raw for 54 events and 29001 original time points ...\n",
            "0 bad epochs dropped\n"
          ]
        },
        {
          "name": "stderr",
          "output_type": "stream",
          "text": [
            "\rProcessing subjects:  75%|███████▍  | 62/83 [58:46<28:19, 80.93s/it]"
          ]
        },
        {
          "name": "stdout",
          "output_type": "stream",
          "text": [
            "\n",
            "🔍 Processing sub-080...\n"
          ]
        },
        {
          "name": "stderr",
          "output_type": "stream",
          "text": [
            "/usr/local/lib/python3.11/dist-packages/pymatreader/utils.py:168: UserWarning: Complex objects (like classes) are not supported. They are imported on a best effort base but your mileage will vary.\n",
            "  warn(\n"
          ]
        },
        {
          "name": "stdout",
          "output_type": "stream",
          "text": [
            "Used Annotations descriptions: [np.str_('500105'), np.str_('500109'), np.str_('500113'), np.str_('500205'), np.str_('500209'), np.str_('500213'), np.str_('500305'), np.str_('500309'), np.str_('500313'), np.str_('500405'), np.str_('500409'), np.str_('500413'), np.str_('500505'), np.str_('500509'), np.str_('500513'), np.str_('500609'), np.str_('500613'), np.str_('500709'), np.str_('500713'), np.str_('500809'), np.str_('500813'), np.str_('500909'), np.str_('500913'), np.str_('501013'), np.str_('501113'), np.str_('501213'), np.str_('501313'), np.str_('6001051'), np.str_('6001090'), np.str_('6001091'), np.str_('6001130'), np.str_('6001131'), np.str_('6002051'), np.str_('6002090'), np.str_('6002091'), np.str_('6002130'), np.str_('6002131'), np.str_('6003051'), np.str_('6003090'), np.str_('6003091'), np.str_('6003130'), np.str_('6003131'), np.str_('6004050'), np.str_('6004051'), np.str_('6004090'), np.str_('6004091'), np.str_('6004130'), np.str_('6004131'), np.str_('6005050'), np.str_('6005051'), np.str_('6005090'), np.str_('6005091'), np.str_('6005130'), np.str_('6005131'), np.str_('6006090'), np.str_('6006091'), np.str_('6006130'), np.str_('6006131'), np.str_('6007090'), np.str_('6007130'), np.str_('6007131'), np.str_('6008090'), np.str_('6008130'), np.str_('6009090'), np.str_('6009130'), np.str_('6010130'), np.str_('6011130'), np.str_('6012130'), np.str_('6013130'), np.str_('boundary')]\n",
            "Not setting metadata\n",
            "55 matching events found\n",
            "No baseline correction applied\n",
            "0 projection items activated\n",
            "Using data from preloaded Raw for 55 events and 13001 original time points ...\n",
            "    Rejecting  epoch based on ECG : ['ECG']\n",
            "    Rejecting  epoch based on ECG : ['ECG']\n",
            "    Rejecting  epoch based on ECG : ['ECG']\n",
            "    Rejecting  epoch based on ECG : ['ECG']\n",
            "4 bad epochs dropped\n"
          ]
        },
        {
          "name": "stderr",
          "output_type": "stream",
          "text": [
            "<ipython-input-7-5e7cde8d0c1e>:12: RuntimeWarning: The data contains 'boundary' events, indicating data discontinuities. Be cautious of filtering and epoching around these events.\n",
            "  raw = mne.io.read_raw_eeglab(file_path, preload=True)\n"
          ]
        },
        {
          "name": "stdout",
          "output_type": "stream",
          "text": [
            "Not setting metadata\n",
            "54 matching events found\n",
            "No baseline correction applied\n",
            "0 projection items activated\n",
            "Using data from preloaded Raw for 54 events and 21001 original time points ...\n",
            "    Rejecting  epoch based on ECG : ['ECG']\n",
            "    Rejecting  epoch based on ECG : ['ECG']\n",
            "2 bad epochs dropped\n",
            "Not setting metadata\n",
            "89 matching events found\n",
            "No baseline correction applied\n",
            "0 projection items activated\n",
            "Using data from preloaded Raw for 89 events and 29001 original time points ...\n",
            "    Rejecting  epoch based on ECG : ['ECG']\n",
            "    Rejecting  epoch based on ECG : ['ECG']\n",
            "    Rejecting  epoch based on ECG : ['ECG']\n",
            "    Rejecting  epoch based on ECG : ['ECG']\n",
            "4 bad epochs dropped\n"
          ]
        },
        {
          "name": "stderr",
          "output_type": "stream",
          "text": [
            "\rProcessing subjects:  76%|███████▌  | 63/83 [1:00:03<26:37, 79.88s/it]"
          ]
        },
        {
          "name": "stdout",
          "output_type": "stream",
          "text": [
            "\n",
            "🔍 Processing sub-079...\n"
          ]
        },
        {
          "name": "stderr",
          "output_type": "stream",
          "text": [
            "/usr/local/lib/python3.11/dist-packages/pymatreader/utils.py:168: UserWarning: Complex objects (like classes) are not supported. They are imported on a best effort base but your mileage will vary.\n",
            "  warn(\n"
          ]
        },
        {
          "name": "stdout",
          "output_type": "stream",
          "text": [
            "Used Annotations descriptions: [np.str_('500105'), np.str_('500109'), np.str_('500113'), np.str_('500205'), np.str_('500209'), np.str_('500213'), np.str_('500305'), np.str_('500309'), np.str_('500313'), np.str_('500405'), np.str_('500409'), np.str_('500413'), np.str_('500505'), np.str_('500509'), np.str_('500513'), np.str_('500609'), np.str_('500613'), np.str_('500709'), np.str_('500713'), np.str_('500809'), np.str_('500813'), np.str_('500909'), np.str_('500913'), np.str_('501013'), np.str_('501113'), np.str_('501213'), np.str_('501313'), np.str_('6001050'), np.str_('6001051'), np.str_('6001090'), np.str_('6001091'), np.str_('6001130'), np.str_('6001131'), np.str_('6002050'), np.str_('6002051'), np.str_('6002090'), np.str_('6002091'), np.str_('6002130'), np.str_('6002131'), np.str_('6003050'), np.str_('6003051'), np.str_('6003090'), np.str_('6003091'), np.str_('6003130'), np.str_('6003131'), np.str_('6004050'), np.str_('6004051'), np.str_('6004090'), np.str_('6004091'), np.str_('6004130'), np.str_('6004131'), np.str_('6005050'), np.str_('6005051'), np.str_('6005090'), np.str_('6005091'), np.str_('6005130'), np.str_('6005131'), np.str_('6006090'), np.str_('6006091'), np.str_('6006130'), np.str_('6006131'), np.str_('6007090'), np.str_('6007091'), np.str_('6007130'), np.str_('6007131'), np.str_('6008090'), np.str_('6008091'), np.str_('6008130'), np.str_('6008131'), np.str_('6009090'), np.str_('6009091'), np.str_('6009130'), np.str_('6009131'), np.str_('6010130'), np.str_('6010131'), np.str_('6011130'), np.str_('6011131'), np.str_('6012130'), np.str_('6013130'), np.str_('boundary')]\n",
            "Not setting metadata\n",
            "54 matching events found\n",
            "No baseline correction applied\n",
            "0 projection items activated\n",
            "Using data from preloaded Raw for 54 events and 13001 original time points ...\n",
            "0 bad epochs dropped\n"
          ]
        },
        {
          "name": "stderr",
          "output_type": "stream",
          "text": [
            "<ipython-input-7-5e7cde8d0c1e>:12: RuntimeWarning: The data contains 'boundary' events, indicating data discontinuities. Be cautious of filtering and epoching around these events.\n",
            "  raw = mne.io.read_raw_eeglab(file_path, preload=True)\n"
          ]
        },
        {
          "name": "stdout",
          "output_type": "stream",
          "text": [
            "Not setting metadata\n",
            "54 matching events found\n",
            "No baseline correction applied\n",
            "0 projection items activated\n",
            "Using data from preloaded Raw for 54 events and 21001 original time points ...\n",
            "    Rejecting  epoch based on ECG : ['ECG']\n",
            "1 bad epochs dropped\n",
            "Not setting metadata\n",
            "54 matching events found\n",
            "No baseline correction applied\n",
            "0 projection items activated\n",
            "Using data from preloaded Raw for 54 events and 29001 original time points ...\n",
            "    Rejecting  epoch based on ECG : ['ECG']\n",
            "    Rejecting  epoch based on ECG : ['ECG']\n",
            "2 bad epochs dropped\n"
          ]
        },
        {
          "name": "stderr",
          "output_type": "stream",
          "text": [
            "\rProcessing subjects:  77%|███████▋  | 64/83 [1:01:19<24:52, 78.56s/it]"
          ]
        },
        {
          "name": "stdout",
          "output_type": "stream",
          "text": [
            "\n",
            "🔍 Processing sub-078...\n"
          ]
        },
        {
          "name": "stderr",
          "output_type": "stream",
          "text": [
            "/usr/local/lib/python3.11/dist-packages/pymatreader/utils.py:168: UserWarning: Complex objects (like classes) are not supported. They are imported on a best effort base but your mileage will vary.\n",
            "  warn(\n"
          ]
        },
        {
          "name": "stdout",
          "output_type": "stream",
          "text": [
            "Used Annotations descriptions: [np.str_('500105'), np.str_('500109'), np.str_('500113'), np.str_('500205'), np.str_('500209'), np.str_('500213'), np.str_('500305'), np.str_('500309'), np.str_('500313'), np.str_('500405'), np.str_('500409'), np.str_('500413'), np.str_('500505'), np.str_('500509'), np.str_('500513'), np.str_('500609'), np.str_('500613'), np.str_('500709'), np.str_('500713'), np.str_('500809'), np.str_('500813'), np.str_('500909'), np.str_('500913'), np.str_('501013'), np.str_('501113'), np.str_('501213'), np.str_('501313'), np.str_('6001050'), np.str_('6001051'), np.str_('6001090'), np.str_('6001091'), np.str_('6001130'), np.str_('6001131'), np.str_('6002050'), np.str_('6002051'), np.str_('6002090'), np.str_('6002091'), np.str_('6002130'), np.str_('6002131'), np.str_('6003050'), np.str_('6003051'), np.str_('6003090'), np.str_('6003091'), np.str_('6003130'), np.str_('6003131'), np.str_('6004050'), np.str_('6004051'), np.str_('6004090'), np.str_('6004091'), np.str_('6004130'), np.str_('6004131'), np.str_('6005050'), np.str_('6005051'), np.str_('6005090'), np.str_('6005091'), np.str_('6005130'), np.str_('6005131'), np.str_('6006090'), np.str_('6006091'), np.str_('6006130'), np.str_('6006131'), np.str_('6007090'), np.str_('6007091'), np.str_('6007130'), np.str_('6007131'), np.str_('6008090'), np.str_('6008091'), np.str_('6008130'), np.str_('6008131'), np.str_('6009090'), np.str_('6009091'), np.str_('6009130'), np.str_('6009131'), np.str_('6010130'), np.str_('6010131'), np.str_('6011130'), np.str_('6011131'), np.str_('6012130'), np.str_('6013130'), np.str_('boundary')]\n",
            "Not setting metadata\n",
            "54 matching events found\n",
            "No baseline correction applied\n",
            "0 projection items activated\n",
            "Using data from preloaded Raw for 54 events and 13001 original time points ...\n",
            "    Rejecting  epoch based on ECG : ['ECG']\n",
            "    Rejecting  epoch based on ECG : ['ECG']\n",
            "    Rejecting  epoch based on ECG : ['ECG']\n",
            "3 bad epochs dropped\n"
          ]
        },
        {
          "name": "stderr",
          "output_type": "stream",
          "text": [
            "<ipython-input-7-5e7cde8d0c1e>:12: RuntimeWarning: The data contains 'boundary' events, indicating data discontinuities. Be cautious of filtering and epoching around these events.\n",
            "  raw = mne.io.read_raw_eeglab(file_path, preload=True)\n"
          ]
        },
        {
          "name": "stdout",
          "output_type": "stream",
          "text": [
            "Not setting metadata\n",
            "54 matching events found\n",
            "No baseline correction applied\n",
            "0 projection items activated\n",
            "Using data from preloaded Raw for 54 events and 21001 original time points ...\n",
            "    Rejecting  epoch based on ECG : ['ECG']\n",
            "    Rejecting  epoch based on ECG : ['ECG']\n",
            "    Rejecting  epoch based on ECG : ['ECG']\n",
            "3 bad epochs dropped\n",
            "Not setting metadata\n",
            "54 matching events found\n",
            "No baseline correction applied\n",
            "0 projection items activated\n",
            "Using data from preloaded Raw for 54 events and 29001 original time points ...\n",
            "    Rejecting  epoch based on ECG : ['ECG']\n",
            "    Rejecting  epoch based on ECG : ['ECG']\n",
            "    Rejecting  epoch based on ECG : ['ECG']\n",
            "    Rejecting  epoch based on ECG : ['ECG']\n",
            "4 bad epochs dropped\n"
          ]
        },
        {
          "name": "stderr",
          "output_type": "stream",
          "text": [
            "\rProcessing subjects:  78%|███████▊  | 65/83 [1:02:35<23:19, 77.77s/it]"
          ]
        },
        {
          "name": "stdout",
          "output_type": "stream",
          "text": [
            "\n",
            "🔍 Processing sub-087...\n"
          ]
        },
        {
          "name": "stderr",
          "output_type": "stream",
          "text": [
            "/usr/local/lib/python3.11/dist-packages/pymatreader/utils.py:168: UserWarning: Complex objects (like classes) are not supported. They are imported on a best effort base but your mileage will vary.\n",
            "  warn(\n"
          ]
        },
        {
          "name": "stdout",
          "output_type": "stream",
          "text": [
            "Used Annotations descriptions: [np.str_('500105'), np.str_('500109'), np.str_('500113'), np.str_('500205'), np.str_('500209'), np.str_('500213'), np.str_('500305'), np.str_('500309'), np.str_('500313'), np.str_('500405'), np.str_('500409'), np.str_('500413'), np.str_('500505'), np.str_('500509'), np.str_('500513'), np.str_('500609'), np.str_('500613'), np.str_('500709'), np.str_('500713'), np.str_('500809'), np.str_('500813'), np.str_('500909'), np.str_('500913'), np.str_('501013'), np.str_('501113'), np.str_('501213'), np.str_('501313'), np.str_('6001050'), np.str_('6001051'), np.str_('6001090'), np.str_('6001091'), np.str_('6001130'), np.str_('6001131'), np.str_('6002050'), np.str_('6002051'), np.str_('6002090'), np.str_('6002091'), np.str_('6002130'), np.str_('6002131'), np.str_('6003050'), np.str_('6003051'), np.str_('6003090'), np.str_('6003091'), np.str_('6003130'), np.str_('6003131'), np.str_('6004050'), np.str_('6004051'), np.str_('6004090'), np.str_('6004091'), np.str_('6004130'), np.str_('6004131'), np.str_('6005050'), np.str_('6005051'), np.str_('6005090'), np.str_('6005091'), np.str_('6005130'), np.str_('6005131'), np.str_('6006090'), np.str_('6006091'), np.str_('6006130'), np.str_('6006131'), np.str_('6007090'), np.str_('6007091'), np.str_('6007130'), np.str_('6007131'), np.str_('6008090'), np.str_('6008091'), np.str_('6008130'), np.str_('6008131'), np.str_('6009090'), np.str_('6009130'), np.str_('6010130'), np.str_('6010131'), np.str_('6011130'), np.str_('6012130'), np.str_('6013130'), np.str_('boundary')]\n",
            "Not setting metadata\n",
            "54 matching events found\n",
            "No baseline correction applied\n",
            "0 projection items activated\n",
            "Using data from preloaded Raw for 54 events and 13001 original time points ...\n",
            "0 bad epochs dropped\n"
          ]
        },
        {
          "name": "stderr",
          "output_type": "stream",
          "text": [
            "<ipython-input-7-5e7cde8d0c1e>:12: RuntimeWarning: The data contains 'boundary' events, indicating data discontinuities. Be cautious of filtering and epoching around these events.\n",
            "  raw = mne.io.read_raw_eeglab(file_path, preload=True)\n"
          ]
        },
        {
          "name": "stdout",
          "output_type": "stream",
          "text": [
            "Not setting metadata\n",
            "54 matching events found\n",
            "No baseline correction applied\n",
            "0 projection items activated\n",
            "Using data from preloaded Raw for 54 events and 21001 original time points ...\n",
            "0 bad epochs dropped\n",
            "Not setting metadata\n",
            "54 matching events found\n",
            "No baseline correction applied\n",
            "0 projection items activated\n",
            "Using data from preloaded Raw for 54 events and 29001 original time points ...\n",
            "0 bad epochs dropped\n"
          ]
        },
        {
          "name": "stderr",
          "output_type": "stream",
          "text": [
            "\rProcessing subjects:  80%|███████▉  | 66/83 [1:03:53<22:03, 77.83s/it]"
          ]
        },
        {
          "name": "stdout",
          "output_type": "stream",
          "text": [
            "\n",
            "🔍 Processing sub-081...\n"
          ]
        },
        {
          "name": "stderr",
          "output_type": "stream",
          "text": [
            "/usr/local/lib/python3.11/dist-packages/pymatreader/utils.py:168: UserWarning: Complex objects (like classes) are not supported. They are imported on a best effort base but your mileage will vary.\n",
            "  warn(\n"
          ]
        },
        {
          "name": "stdout",
          "output_type": "stream",
          "text": [
            "Used Annotations descriptions: [np.str_('500105'), np.str_('500109'), np.str_('500113'), np.str_('500205'), np.str_('500209'), np.str_('500213'), np.str_('500305'), np.str_('500309'), np.str_('500313'), np.str_('500405'), np.str_('500409'), np.str_('500413'), np.str_('500505'), np.str_('500509'), np.str_('500513'), np.str_('500609'), np.str_('500613'), np.str_('500709'), np.str_('500713'), np.str_('500809'), np.str_('500813'), np.str_('500909'), np.str_('500913'), np.str_('501013'), np.str_('501113'), np.str_('501213'), np.str_('501313'), np.str_('6001051'), np.str_('6001090'), np.str_('6001091'), np.str_('6001130'), np.str_('6001131'), np.str_('6002050'), np.str_('6002051'), np.str_('6002090'), np.str_('6002091'), np.str_('6002130'), np.str_('6002131'), np.str_('6003050'), np.str_('6003051'), np.str_('6003090'), np.str_('6003091'), np.str_('6003130'), np.str_('6003131'), np.str_('6004050'), np.str_('6004051'), np.str_('6004090'), np.str_('6004091'), np.str_('6004130'), np.str_('6004131'), np.str_('6005050'), np.str_('6005051'), np.str_('6005090'), np.str_('6005091'), np.str_('6005130'), np.str_('6005131'), np.str_('6006090'), np.str_('6006091'), np.str_('6006130'), np.str_('6006131'), np.str_('6007090'), np.str_('6007091'), np.str_('6007130'), np.str_('6007131'), np.str_('6008090'), np.str_('6008091'), np.str_('6008130'), np.str_('6008131'), np.str_('6009090'), np.str_('6009091'), np.str_('6009130'), np.str_('6009131'), np.str_('6010130'), np.str_('6011130'), np.str_('6011131'), np.str_('6012130'), np.str_('6013130'), np.str_('boundary')]\n",
            "Not setting metadata\n",
            "56 matching events found\n",
            "No baseline correction applied\n",
            "0 projection items activated\n",
            "Using data from preloaded Raw for 56 events and 13001 original time points ...\n",
            "0 bad epochs dropped\n"
          ]
        },
        {
          "name": "stderr",
          "output_type": "stream",
          "text": [
            "<ipython-input-7-5e7cde8d0c1e>:12: RuntimeWarning: The data contains 'boundary' events, indicating data discontinuities. Be cautious of filtering and epoching around these events.\n",
            "  raw = mne.io.read_raw_eeglab(file_path, preload=True)\n"
          ]
        },
        {
          "name": "stdout",
          "output_type": "stream",
          "text": [
            "Not setting metadata\n",
            "56 matching events found\n",
            "No baseline correction applied\n",
            "0 projection items activated\n",
            "Using data from preloaded Raw for 56 events and 21001 original time points ...\n",
            "    Rejecting  epoch based on ECG : ['ECG']\n",
            "1 bad epochs dropped\n",
            "Not setting metadata\n",
            "51 matching events found\n",
            "No baseline correction applied\n",
            "0 projection items activated\n",
            "Using data from preloaded Raw for 51 events and 29001 original time points ...\n",
            "0 bad epochs dropped\n"
          ]
        },
        {
          "name": "stderr",
          "output_type": "stream",
          "text": [
            "\rProcessing subjects:  81%|████████  | 67/83 [1:05:13<20:58, 78.63s/it]"
          ]
        },
        {
          "name": "stdout",
          "output_type": "stream",
          "text": [
            "\n",
            "🔍 Processing sub-085...\n"
          ]
        },
        {
          "name": "stderr",
          "output_type": "stream",
          "text": [
            "/usr/local/lib/python3.11/dist-packages/pymatreader/utils.py:168: UserWarning: Complex objects (like classes) are not supported. They are imported on a best effort base but your mileage will vary.\n",
            "  warn(\n"
          ]
        },
        {
          "name": "stdout",
          "output_type": "stream",
          "text": [
            "Used Annotations descriptions: [np.str_('500105'), np.str_('500109'), np.str_('500113'), np.str_('500205'), np.str_('500209'), np.str_('500213'), np.str_('500305'), np.str_('500309'), np.str_('500313'), np.str_('500405'), np.str_('500409'), np.str_('500413'), np.str_('500505'), np.str_('500509'), np.str_('500513'), np.str_('500609'), np.str_('500613'), np.str_('500709'), np.str_('500713'), np.str_('500809'), np.str_('500813'), np.str_('500909'), np.str_('500913'), np.str_('501013'), np.str_('501113'), np.str_('501213'), np.str_('501313'), np.str_('6001050'), np.str_('6001051'), np.str_('6001090'), np.str_('6001091'), np.str_('6001130'), np.str_('6001131'), np.str_('6002050'), np.str_('6002051'), np.str_('6002090'), np.str_('6002091'), np.str_('6002130'), np.str_('6002131'), np.str_('6003050'), np.str_('6003051'), np.str_('6003090'), np.str_('6003091'), np.str_('6003130'), np.str_('6003131'), np.str_('6004050'), np.str_('6004051'), np.str_('6004090'), np.str_('6004091'), np.str_('6004130'), np.str_('6004131'), np.str_('6005050'), np.str_('6005051'), np.str_('6005090'), np.str_('6005091'), np.str_('6005130'), np.str_('6005131'), np.str_('6006090'), np.str_('6006091'), np.str_('6006130'), np.str_('6006131'), np.str_('6007090'), np.str_('6007091'), np.str_('6007130'), np.str_('6007131'), np.str_('6008090'), np.str_('6008091'), np.str_('6008130'), np.str_('6008131'), np.str_('6009090'), np.str_('6009091'), np.str_('6009130'), np.str_('6009131'), np.str_('6010130'), np.str_('6010131'), np.str_('6011130'), np.str_('6012130'), np.str_('6013130'), np.str_('boundary')]\n"
          ]
        },
        {
          "name": "stderr",
          "output_type": "stream",
          "text": [
            "<ipython-input-7-5e7cde8d0c1e>:12: RuntimeWarning: The data contains 'boundary' events, indicating data discontinuities. Be cautious of filtering and epoching around these events.\n",
            "  raw = mne.io.read_raw_eeglab(file_path, preload=True)\n"
          ]
        },
        {
          "name": "stdout",
          "output_type": "stream",
          "text": [
            "Not setting metadata\n",
            "54 matching events found\n",
            "No baseline correction applied\n",
            "0 projection items activated\n",
            "Using data from preloaded Raw for 54 events and 13001 original time points ...\n",
            "0 bad epochs dropped\n",
            "Not setting metadata\n",
            "54 matching events found\n",
            "No baseline correction applied\n",
            "0 projection items activated\n",
            "Using data from preloaded Raw for 54 events and 21001 original time points ...\n",
            "0 bad epochs dropped\n",
            "Not setting metadata\n",
            "54 matching events found\n",
            "No baseline correction applied\n",
            "0 projection items activated\n",
            "Using data from preloaded Raw for 54 events and 29001 original time points ...\n",
            "0 bad epochs dropped\n"
          ]
        },
        {
          "name": "stderr",
          "output_type": "stream",
          "text": [
            "\rProcessing subjects:  82%|████████▏ | 68/83 [1:06:39<20:13, 80.89s/it]"
          ]
        },
        {
          "name": "stdout",
          "output_type": "stream",
          "text": [
            "\n",
            "🔍 Processing sub-082...\n"
          ]
        },
        {
          "name": "stderr",
          "output_type": "stream",
          "text": [
            "/usr/local/lib/python3.11/dist-packages/pymatreader/utils.py:168: UserWarning: Complex objects (like classes) are not supported. They are imported on a best effort base but your mileage will vary.\n",
            "  warn(\n"
          ]
        },
        {
          "name": "stdout",
          "output_type": "stream",
          "text": [
            "Used Annotations descriptions: [np.str_('500105'), np.str_('500109'), np.str_('500113'), np.str_('500205'), np.str_('500209'), np.str_('500213'), np.str_('500305'), np.str_('500309'), np.str_('500313'), np.str_('500405'), np.str_('500409'), np.str_('500413'), np.str_('500505'), np.str_('500509'), np.str_('500513'), np.str_('500609'), np.str_('500613'), np.str_('500709'), np.str_('500713'), np.str_('500809'), np.str_('500813'), np.str_('500909'), np.str_('500913'), np.str_('501013'), np.str_('501113'), np.str_('501213'), np.str_('501313'), np.str_('6001050'), np.str_('6001051'), np.str_('6001090'), np.str_('6001091'), np.str_('6001130'), np.str_('6001131'), np.str_('6002050'), np.str_('6002051'), np.str_('6002090'), np.str_('6002091'), np.str_('6002130'), np.str_('6002131'), np.str_('6003050'), np.str_('6003051'), np.str_('6003090'), np.str_('6003091'), np.str_('6003130'), np.str_('6003131'), np.str_('6004050'), np.str_('6004051'), np.str_('6004090'), np.str_('6004091'), np.str_('6004130'), np.str_('6004131'), np.str_('6005050'), np.str_('6005051'), np.str_('6005090'), np.str_('6005091'), np.str_('6005130'), np.str_('6005131'), np.str_('6006090'), np.str_('6006091'), np.str_('6006130'), np.str_('6006131'), np.str_('6007090'), np.str_('6007091'), np.str_('6007130'), np.str_('6007131'), np.str_('6008090'), np.str_('6008091'), np.str_('6008130'), np.str_('6008131'), np.str_('6009090'), np.str_('6009091'), np.str_('6009130'), np.str_('6010130'), np.str_('6011130'), np.str_('6012130'), np.str_('6013130'), np.str_('boundary')]\n",
            "Not setting metadata\n",
            "54 matching events found\n",
            "No baseline correction applied\n",
            "0 projection items activated\n",
            "Using data from preloaded Raw for 54 events and 13001 original time points ...\n",
            "0 bad epochs dropped\n"
          ]
        },
        {
          "name": "stderr",
          "output_type": "stream",
          "text": [
            "<ipython-input-7-5e7cde8d0c1e>:12: RuntimeWarning: The data contains 'boundary' events, indicating data discontinuities. Be cautious of filtering and epoching around these events.\n",
            "  raw = mne.io.read_raw_eeglab(file_path, preload=True)\n"
          ]
        },
        {
          "name": "stdout",
          "output_type": "stream",
          "text": [
            "Not setting metadata\n",
            "54 matching events found\n",
            "No baseline correction applied\n",
            "0 projection items activated\n",
            "Using data from preloaded Raw for 54 events and 21001 original time points ...\n",
            "0 bad epochs dropped\n",
            "Not setting metadata\n",
            "54 matching events found\n",
            "No baseline correction applied\n",
            "0 projection items activated\n",
            "Using data from preloaded Raw for 54 events and 29001 original time points ...\n",
            "0 bad epochs dropped\n"
          ]
        },
        {
          "name": "stderr",
          "output_type": "stream",
          "text": [
            "\rProcessing subjects:  83%|████████▎ | 69/83 [1:08:01<18:57, 81.28s/it]"
          ]
        },
        {
          "name": "stdout",
          "output_type": "stream",
          "text": [
            "\n",
            "🔍 Processing sub-084...\n"
          ]
        },
        {
          "name": "stderr",
          "output_type": "stream",
          "text": [
            "/usr/local/lib/python3.11/dist-packages/pymatreader/utils.py:168: UserWarning: Complex objects (like classes) are not supported. They are imported on a best effort base but your mileage will vary.\n",
            "  warn(\n"
          ]
        },
        {
          "name": "stdout",
          "output_type": "stream",
          "text": [
            "Used Annotations descriptions: [np.str_('500105'), np.str_('500109'), np.str_('500113'), np.str_('500205'), np.str_('500209'), np.str_('500213'), np.str_('500305'), np.str_('500309'), np.str_('500313'), np.str_('500405'), np.str_('500409'), np.str_('500413'), np.str_('500505'), np.str_('500509'), np.str_('500513'), np.str_('500609'), np.str_('500613'), np.str_('500709'), np.str_('500713'), np.str_('500809'), np.str_('500813'), np.str_('500909'), np.str_('500913'), np.str_('501013'), np.str_('501113'), np.str_('501213'), np.str_('501313'), np.str_('6001050'), np.str_('6001051'), np.str_('6001090'), np.str_('6001091'), np.str_('6001130'), np.str_('6001131'), np.str_('6002050'), np.str_('6002051'), np.str_('6002090'), np.str_('6002091'), np.str_('6002130'), np.str_('6002131'), np.str_('6003050'), np.str_('6003051'), np.str_('6003090'), np.str_('6003091'), np.str_('6003130'), np.str_('6003131'), np.str_('6004050'), np.str_('6004051'), np.str_('6004090'), np.str_('6004091'), np.str_('6004130'), np.str_('6004131'), np.str_('6005050'), np.str_('6005051'), np.str_('6005090'), np.str_('6005091'), np.str_('6005130'), np.str_('6005131'), np.str_('6006090'), np.str_('6006091'), np.str_('6006130'), np.str_('6006131'), np.str_('6007090'), np.str_('6007091'), np.str_('6007130'), np.str_('6007131'), np.str_('6008090'), np.str_('6008091'), np.str_('6008130'), np.str_('6008131'), np.str_('6009090'), np.str_('6009091'), np.str_('6009130'), np.str_('6010130'), np.str_('6010131'), np.str_('6011130'), np.str_('6012130'), np.str_('6013130'), np.str_('boundary')]\n",
            "Not setting metadata\n",
            "54 matching events found\n",
            "No baseline correction applied\n",
            "0 projection items activated\n",
            "Using data from preloaded Raw for 54 events and 13001 original time points ...\n",
            "0 bad epochs dropped\n"
          ]
        },
        {
          "name": "stderr",
          "output_type": "stream",
          "text": [
            "<ipython-input-7-5e7cde8d0c1e>:12: RuntimeWarning: The data contains 'boundary' events, indicating data discontinuities. Be cautious of filtering and epoching around these events.\n",
            "  raw = mne.io.read_raw_eeglab(file_path, preload=True)\n"
          ]
        },
        {
          "name": "stdout",
          "output_type": "stream",
          "text": [
            "Not setting metadata\n",
            "54 matching events found\n",
            "No baseline correction applied\n",
            "0 projection items activated\n",
            "Using data from preloaded Raw for 54 events and 21001 original time points ...\n",
            "0 bad epochs dropped\n",
            "Not setting metadata\n",
            "54 matching events found\n",
            "No baseline correction applied\n",
            "0 projection items activated\n",
            "Using data from preloaded Raw for 54 events and 29001 original time points ...\n",
            "0 bad epochs dropped\n"
          ]
        },
        {
          "name": "stderr",
          "output_type": "stream",
          "text": [
            "\rProcessing subjects:  84%|████████▍ | 70/83 [1:09:24<17:41, 81.68s/it]"
          ]
        },
        {
          "name": "stdout",
          "output_type": "stream",
          "text": [
            "\n",
            "🔍 Processing sub-086...\n"
          ]
        },
        {
          "name": "stderr",
          "output_type": "stream",
          "text": [
            "/usr/local/lib/python3.11/dist-packages/pymatreader/utils.py:168: UserWarning: Complex objects (like classes) are not supported. They are imported on a best effort base but your mileage will vary.\n",
            "  warn(\n"
          ]
        },
        {
          "name": "stdout",
          "output_type": "stream",
          "text": [
            "Used Annotations descriptions: [np.str_('500105'), np.str_('500109'), np.str_('500113'), np.str_('500205'), np.str_('500209'), np.str_('500213'), np.str_('500305'), np.str_('500309'), np.str_('500313'), np.str_('500405'), np.str_('500409'), np.str_('500413'), np.str_('500505'), np.str_('500509'), np.str_('500513'), np.str_('500609'), np.str_('500613'), np.str_('500709'), np.str_('500713'), np.str_('500809'), np.str_('500813'), np.str_('500909'), np.str_('500913'), np.str_('501013'), np.str_('501113'), np.str_('501213'), np.str_('501313'), np.str_('6001050'), np.str_('6001051'), np.str_('6001090'), np.str_('6001091'), np.str_('6001130'), np.str_('6001131'), np.str_('6002050'), np.str_('6002051'), np.str_('6002090'), np.str_('6002091'), np.str_('6002130'), np.str_('6002131'), np.str_('6003050'), np.str_('6003051'), np.str_('6003090'), np.str_('6003091'), np.str_('6003130'), np.str_('6003131'), np.str_('6004050'), np.str_('6004051'), np.str_('6004090'), np.str_('6004091'), np.str_('6004130'), np.str_('6004131'), np.str_('6005050'), np.str_('6005051'), np.str_('6005090'), np.str_('6005091'), np.str_('6005130'), np.str_('6005131'), np.str_('6006090'), np.str_('6006091'), np.str_('6006130'), np.str_('6006131'), np.str_('6007090'), np.str_('6007091'), np.str_('6007130'), np.str_('6007131'), np.str_('6008090'), np.str_('6008091'), np.str_('6008130'), np.str_('6008131'), np.str_('6009090'), np.str_('6009091'), np.str_('6009130'), np.str_('6010130'), np.str_('6010131'), np.str_('6011130'), np.str_('6011131'), np.str_('6012130'), np.str_('6013130'), np.str_('boundary')]\n",
            "Not setting metadata\n",
            "54 matching events found\n",
            "No baseline correction applied\n",
            "0 projection items activated\n",
            "Using data from preloaded Raw for 54 events and 13001 original time points ...\n",
            "0 bad epochs dropped\n"
          ]
        },
        {
          "name": "stderr",
          "output_type": "stream",
          "text": [
            "<ipython-input-7-5e7cde8d0c1e>:12: RuntimeWarning: The data contains 'boundary' events, indicating data discontinuities. Be cautious of filtering and epoching around these events.\n",
            "  raw = mne.io.read_raw_eeglab(file_path, preload=True)\n"
          ]
        },
        {
          "name": "stdout",
          "output_type": "stream",
          "text": [
            "Not setting metadata\n",
            "54 matching events found\n",
            "No baseline correction applied\n",
            "0 projection items activated\n",
            "Using data from preloaded Raw for 54 events and 21001 original time points ...\n",
            "0 bad epochs dropped\n",
            "Not setting metadata\n",
            "54 matching events found\n",
            "No baseline correction applied\n",
            "0 projection items activated\n",
            "Using data from preloaded Raw for 54 events and 29001 original time points ...\n",
            "0 bad epochs dropped\n"
          ]
        },
        {
          "name": "stderr",
          "output_type": "stream",
          "text": [
            "\rProcessing subjects:  86%|████████▌ | 71/83 [1:10:45<16:17, 81.46s/it]"
          ]
        },
        {
          "name": "stdout",
          "output_type": "stream",
          "text": [
            "\n",
            "🔍 Processing sub-083...\n"
          ]
        },
        {
          "name": "stderr",
          "output_type": "stream",
          "text": [
            "/usr/local/lib/python3.11/dist-packages/pymatreader/utils.py:168: UserWarning: Complex objects (like classes) are not supported. They are imported on a best effort base but your mileage will vary.\n",
            "  warn(\n"
          ]
        },
        {
          "name": "stdout",
          "output_type": "stream",
          "text": [
            "Used Annotations descriptions: [np.str_('500105'), np.str_('500109'), np.str_('500113'), np.str_('500205'), np.str_('500209'), np.str_('500213'), np.str_('500305'), np.str_('500309'), np.str_('500313'), np.str_('500405'), np.str_('500409'), np.str_('500413'), np.str_('500505'), np.str_('500509'), np.str_('500513'), np.str_('500609'), np.str_('500613'), np.str_('500709'), np.str_('500713'), np.str_('500809'), np.str_('500813'), np.str_('500909'), np.str_('500913'), np.str_('501013'), np.str_('501113'), np.str_('501213'), np.str_('501313'), np.str_('6001051'), np.str_('6001090'), np.str_('6001091'), np.str_('6001130'), np.str_('6001131'), np.str_('6002050'), np.str_('6002051'), np.str_('6002090'), np.str_('6002091'), np.str_('6002130'), np.str_('6002131'), np.str_('6003050'), np.str_('6003051'), np.str_('6003090'), np.str_('6003091'), np.str_('6003130'), np.str_('6003131'), np.str_('6004051'), np.str_('6004090'), np.str_('6004091'), np.str_('6004130'), np.str_('6004131'), np.str_('6005051'), np.str_('6005090'), np.str_('6005091'), np.str_('6005130'), np.str_('6005131'), np.str_('6006090'), np.str_('6006091'), np.str_('6006130'), np.str_('6006131'), np.str_('6007090'), np.str_('6007091'), np.str_('6007130'), np.str_('6007131'), np.str_('6008090'), np.str_('6008091'), np.str_('6008130'), np.str_('6008131'), np.str_('6009090'), np.str_('6009091'), np.str_('6009130'), np.str_('6009131'), np.str_('6010130'), np.str_('6010131'), np.str_('6011130'), np.str_('6012130'), np.str_('6012131'), np.str_('6013130'), np.str_('6013131'), np.str_('boundary')]\n",
            "Not setting metadata\n",
            "57 matching events found\n",
            "No baseline correction applied\n",
            "0 projection items activated\n",
            "Using data from preloaded Raw for 57 events and 13001 original time points ...\n",
            "0 bad epochs dropped\n"
          ]
        },
        {
          "name": "stderr",
          "output_type": "stream",
          "text": [
            "<ipython-input-7-5e7cde8d0c1e>:12: RuntimeWarning: The data contains 'boundary' events, indicating data discontinuities. Be cautious of filtering and epoching around these events.\n",
            "  raw = mne.io.read_raw_eeglab(file_path, preload=True)\n"
          ]
        },
        {
          "name": "stdout",
          "output_type": "stream",
          "text": [
            "Not setting metadata\n",
            "57 matching events found\n",
            "No baseline correction applied\n",
            "0 projection items activated\n",
            "Using data from preloaded Raw for 57 events and 21001 original time points ...\n",
            "0 bad epochs dropped\n",
            "Not setting metadata\n",
            "49 matching events found\n",
            "No baseline correction applied\n",
            "0 projection items activated\n",
            "Using data from preloaded Raw for 49 events and 29001 original time points ...\n",
            "0 bad epochs dropped\n"
          ]
        },
        {
          "name": "stderr",
          "output_type": "stream",
          "text": [
            "\rProcessing subjects:  87%|████████▋ | 72/83 [1:12:00<14:33, 79.44s/it]"
          ]
        },
        {
          "name": "stdout",
          "output_type": "stream",
          "text": [
            "\n",
            "🔍 Processing sub-088...\n"
          ]
        },
        {
          "name": "stderr",
          "output_type": "stream",
          "text": [
            "/usr/local/lib/python3.11/dist-packages/pymatreader/utils.py:168: UserWarning: Complex objects (like classes) are not supported. They are imported on a best effort base but your mileage will vary.\n",
            "  warn(\n"
          ]
        },
        {
          "name": "stdout",
          "output_type": "stream",
          "text": [
            "Used Annotations descriptions: [np.str_('500105'), np.str_('500109'), np.str_('500113'), np.str_('500205'), np.str_('500209'), np.str_('500213'), np.str_('500305'), np.str_('500309'), np.str_('500313'), np.str_('500405'), np.str_('500409'), np.str_('500413'), np.str_('500505'), np.str_('500509'), np.str_('500513'), np.str_('500609'), np.str_('500613'), np.str_('500709'), np.str_('500713'), np.str_('500809'), np.str_('500813'), np.str_('500909'), np.str_('500913'), np.str_('501013'), np.str_('501113'), np.str_('501213'), np.str_('501313'), np.str_('6001051'), np.str_('6001090'), np.str_('6001091'), np.str_('6001130'), np.str_('6001131'), np.str_('6002051'), np.str_('6002090'), np.str_('6002091'), np.str_('6002130'), np.str_('6002131'), np.str_('6003050'), np.str_('6003051'), np.str_('6003090'), np.str_('6003091'), np.str_('6003130'), np.str_('6003131'), np.str_('6004050'), np.str_('6004051'), np.str_('6004090'), np.str_('6004091'), np.str_('6004130'), np.str_('6004131'), np.str_('6005050'), np.str_('6005051'), np.str_('6005090'), np.str_('6005091'), np.str_('6005130'), np.str_('6005131'), np.str_('6006090'), np.str_('6006091'), np.str_('6006130'), np.str_('6006131'), np.str_('6007090'), np.str_('6007091'), np.str_('6007130'), np.str_('6007131'), np.str_('6008090'), np.str_('6008091'), np.str_('6008130'), np.str_('6008131'), np.str_('6009090'), np.str_('6009091'), np.str_('6009130'), np.str_('6009131'), np.str_('6010130'), np.str_('6010131'), np.str_('6011130'), np.str_('6012130'), np.str_('6013130'), np.str_('boundary')]\n",
            "Not setting metadata\n",
            "55 matching events found\n",
            "No baseline correction applied\n",
            "0 projection items activated\n",
            "Using data from preloaded Raw for 55 events and 13001 original time points ...\n",
            "0 bad epochs dropped\n"
          ]
        },
        {
          "name": "stderr",
          "output_type": "stream",
          "text": [
            "<ipython-input-7-5e7cde8d0c1e>:12: RuntimeWarning: The data contains 'boundary' events, indicating data discontinuities. Be cautious of filtering and epoching around these events.\n",
            "  raw = mne.io.read_raw_eeglab(file_path, preload=True)\n"
          ]
        },
        {
          "name": "stdout",
          "output_type": "stream",
          "text": [
            "Not setting metadata\n",
            "55 matching events found\n",
            "No baseline correction applied\n",
            "0 projection items activated\n",
            "Using data from preloaded Raw for 55 events and 21001 original time points ...\n",
            "0 bad epochs dropped\n",
            "Not setting metadata\n",
            "88 matching events found\n",
            "No baseline correction applied\n",
            "0 projection items activated\n",
            "Using data from preloaded Raw for 88 events and 29001 original time points ...\n",
            "0 bad epochs dropped\n"
          ]
        },
        {
          "name": "stderr",
          "output_type": "stream",
          "text": [
            "\rProcessing subjects:  88%|████████▊ | 73/83 [1:13:24<13:28, 80.85s/it]"
          ]
        },
        {
          "name": "stdout",
          "output_type": "stream",
          "text": [
            "\n",
            "🔍 Processing sub-090...\n"
          ]
        },
        {
          "name": "stderr",
          "output_type": "stream",
          "text": [
            "/usr/local/lib/python3.11/dist-packages/pymatreader/utils.py:168: UserWarning: Complex objects (like classes) are not supported. They are imported on a best effort base but your mileage will vary.\n",
            "  warn(\n"
          ]
        },
        {
          "name": "stdout",
          "output_type": "stream",
          "text": [
            "Used Annotations descriptions: [np.str_('500105'), np.str_('500109'), np.str_('500113'), np.str_('500205'), np.str_('500209'), np.str_('500213'), np.str_('500305'), np.str_('500309'), np.str_('500313'), np.str_('500405'), np.str_('500409'), np.str_('500413'), np.str_('500505'), np.str_('500509'), np.str_('500513'), np.str_('500609'), np.str_('500613'), np.str_('500709'), np.str_('500713'), np.str_('500809'), np.str_('500813'), np.str_('500909'), np.str_('500913'), np.str_('501013'), np.str_('501113'), np.str_('501213'), np.str_('501313'), np.str_('6001050'), np.str_('6001051'), np.str_('6001090'), np.str_('6001091'), np.str_('6001130'), np.str_('6001131'), np.str_('6002050'), np.str_('6002051'), np.str_('6002090'), np.str_('6002091'), np.str_('6002130'), np.str_('6002131'), np.str_('6003050'), np.str_('6003051'), np.str_('6003090'), np.str_('6003091'), np.str_('6003130'), np.str_('6003131'), np.str_('6004050'), np.str_('6004051'), np.str_('6004090'), np.str_('6004091'), np.str_('6004130'), np.str_('6004131'), np.str_('6005050'), np.str_('6005051'), np.str_('6005090'), np.str_('6005091'), np.str_('6005130'), np.str_('6005131'), np.str_('6006090'), np.str_('6006091'), np.str_('6006130'), np.str_('6006131'), np.str_('6007090'), np.str_('6007091'), np.str_('6007130'), np.str_('6007131'), np.str_('6008090'), np.str_('6008091'), np.str_('6008130'), np.str_('6008131'), np.str_('6009090'), np.str_('6009091'), np.str_('6009130'), np.str_('6009131'), np.str_('6010130'), np.str_('6011130'), np.str_('6012130'), np.str_('6013130'), np.str_('boundary')]\n",
            "Not setting metadata\n",
            "54 matching events found\n",
            "No baseline correction applied\n",
            "0 projection items activated\n",
            "Using data from preloaded Raw for 54 events and 13001 original time points ...\n",
            "0 bad epochs dropped\n"
          ]
        },
        {
          "name": "stderr",
          "output_type": "stream",
          "text": [
            "<ipython-input-7-5e7cde8d0c1e>:12: RuntimeWarning: The data contains 'boundary' events, indicating data discontinuities. Be cautious of filtering and epoching around these events.\n",
            "  raw = mne.io.read_raw_eeglab(file_path, preload=True)\n"
          ]
        },
        {
          "name": "stdout",
          "output_type": "stream",
          "text": [
            "Not setting metadata\n",
            "54 matching events found\n",
            "No baseline correction applied\n",
            "0 projection items activated\n",
            "Using data from preloaded Raw for 54 events and 21001 original time points ...\n",
            "    Rejecting  epoch based on ECG : ['ECG']\n",
            "1 bad epochs dropped\n",
            "Not setting metadata\n",
            "54 matching events found\n",
            "No baseline correction applied\n",
            "0 projection items activated\n",
            "Using data from preloaded Raw for 54 events and 29001 original time points ...\n",
            "    Rejecting  epoch based on ECG : ['ECG']\n",
            "    Rejecting  epoch based on ECG : ['ECG']\n",
            "2 bad epochs dropped\n"
          ]
        },
        {
          "name": "stderr",
          "output_type": "stream",
          "text": [
            "\rProcessing subjects:  89%|████████▉ | 74/83 [1:14:43<12:03, 80.39s/it]"
          ]
        },
        {
          "name": "stdout",
          "output_type": "stream",
          "text": [
            "\n",
            "🔍 Processing sub-089...\n"
          ]
        },
        {
          "name": "stderr",
          "output_type": "stream",
          "text": [
            "/usr/local/lib/python3.11/dist-packages/pymatreader/utils.py:168: UserWarning: Complex objects (like classes) are not supported. They are imported on a best effort base but your mileage will vary.\n",
            "  warn(\n"
          ]
        },
        {
          "name": "stdout",
          "output_type": "stream",
          "text": [
            "Used Annotations descriptions: [np.str_('500105'), np.str_('500109'), np.str_('500113'), np.str_('500205'), np.str_('500209'), np.str_('500213'), np.str_('500305'), np.str_('500309'), np.str_('500313'), np.str_('500405'), np.str_('500409'), np.str_('500413'), np.str_('500505'), np.str_('500509'), np.str_('500513'), np.str_('500609'), np.str_('500613'), np.str_('500709'), np.str_('500713'), np.str_('500809'), np.str_('500813'), np.str_('500909'), np.str_('500913'), np.str_('501013'), np.str_('501113'), np.str_('501213'), np.str_('501313'), np.str_('6001051'), np.str_('6001090'), np.str_('6001091'), np.str_('6001130'), np.str_('6001131'), np.str_('6002050'), np.str_('6002051'), np.str_('6002090'), np.str_('6002091'), np.str_('6002130'), np.str_('6002131'), np.str_('6003050'), np.str_('6003051'), np.str_('6003090'), np.str_('6003091'), np.str_('6003130'), np.str_('6003131'), np.str_('6004050'), np.str_('6004051'), np.str_('6004090'), np.str_('6004091'), np.str_('6004130'), np.str_('6004131'), np.str_('6005051'), np.str_('6005090'), np.str_('6005091'), np.str_('6005130'), np.str_('6005131'), np.str_('6006090'), np.str_('6006091'), np.str_('6006130'), np.str_('6006131'), np.str_('6007090'), np.str_('6007091'), np.str_('6007130'), np.str_('6007131'), np.str_('6008090'), np.str_('6008091'), np.str_('6008130'), np.str_('6008131'), np.str_('6009090'), np.str_('6009091'), np.str_('6009130'), np.str_('6009131'), np.str_('6010130'), np.str_('6010131'), np.str_('6011130'), np.str_('6011131'), np.str_('6012130'), np.str_('6013130'), np.str_('boundary')]\n",
            "Not setting metadata\n",
            "56 matching events found\n",
            "No baseline correction applied\n",
            "0 projection items activated\n",
            "Using data from preloaded Raw for 56 events and 13001 original time points ...\n",
            "0 bad epochs dropped\n"
          ]
        },
        {
          "name": "stderr",
          "output_type": "stream",
          "text": [
            "<ipython-input-7-5e7cde8d0c1e>:12: RuntimeWarning: The data contains 'boundary' events, indicating data discontinuities. Be cautious of filtering and epoching around these events.\n",
            "  raw = mne.io.read_raw_eeglab(file_path, preload=True)\n",
            "/usr/local/lib/python3.11/dist-packages/neurokit2/signal/signal_period.py:84: NeuroKitWarning: Too few peaks detected to compute the rate. Returning empty vector.\n",
            "  warn(\n"
          ]
        },
        {
          "name": "stdout",
          "output_type": "stream",
          "text": [
            "⚠️ [sub-089] Trial 12 processing failed: cannot convert float NaN to integer\n",
            "Not setting metadata\n",
            "56 matching events found\n",
            "No baseline correction applied\n",
            "0 projection items activated\n",
            "Using data from preloaded Raw for 56 events and 21001 original time points ...\n",
            "0 bad epochs dropped\n",
            "Not setting metadata\n",
            "51 matching events found\n",
            "No baseline correction applied\n",
            "0 projection items activated\n",
            "Using data from preloaded Raw for 51 events and 29001 original time points ...\n",
            "0 bad epochs dropped\n"
          ]
        },
        {
          "name": "stderr",
          "output_type": "stream",
          "text": [
            "\rProcessing subjects:  90%|█████████ | 75/83 [1:16:07<10:50, 81.37s/it]"
          ]
        },
        {
          "name": "stdout",
          "output_type": "stream",
          "text": [
            "\n",
            "🔍 Processing sub-093...\n"
          ]
        },
        {
          "name": "stderr",
          "output_type": "stream",
          "text": [
            "/usr/local/lib/python3.11/dist-packages/pymatreader/utils.py:168: UserWarning: Complex objects (like classes) are not supported. They are imported on a best effort base but your mileage will vary.\n",
            "  warn(\n"
          ]
        },
        {
          "name": "stdout",
          "output_type": "stream",
          "text": [
            "Used Annotations descriptions: [np.str_('500105'), np.str_('500109'), np.str_('500113'), np.str_('500205'), np.str_('500209'), np.str_('500213'), np.str_('500305'), np.str_('500309'), np.str_('500313'), np.str_('500405'), np.str_('500409'), np.str_('500413'), np.str_('500505'), np.str_('500509'), np.str_('500513'), np.str_('500609'), np.str_('500613'), np.str_('500709'), np.str_('500713'), np.str_('500809'), np.str_('500813'), np.str_('500909'), np.str_('500913'), np.str_('501013'), np.str_('501113'), np.str_('501213'), np.str_('501313'), np.str_('6001051'), np.str_('6001090'), np.str_('6001091'), np.str_('6001130'), np.str_('6001131'), np.str_('6002050'), np.str_('6002051'), np.str_('6002090'), np.str_('6002091'), np.str_('6002130'), np.str_('6002131'), np.str_('6003050'), np.str_('6003051'), np.str_('6003090'), np.str_('6003091'), np.str_('6003130'), np.str_('6003131'), np.str_('6004050'), np.str_('6004051'), np.str_('6004090'), np.str_('6004091'), np.str_('6004130'), np.str_('6004131'), np.str_('6005050'), np.str_('6005051'), np.str_('6005090'), np.str_('6005091'), np.str_('6005130'), np.str_('6005131'), np.str_('6006090'), np.str_('6006091'), np.str_('6006130'), np.str_('6006131'), np.str_('6007090'), np.str_('6007091'), np.str_('6007130'), np.str_('6007131'), np.str_('6008090'), np.str_('6008091'), np.str_('6008130'), np.str_('6008131'), np.str_('6009090'), np.str_('6009091'), np.str_('6009130'), np.str_('6009131'), np.str_('6010130'), np.str_('6010131'), np.str_('6011130'), np.str_('6011131'), np.str_('6012130'), np.str_('6012131'), np.str_('6013130'), np.str_('6013131'), np.str_('boundary')]\n",
            "Not setting metadata\n",
            "55 matching events found\n",
            "No baseline correction applied\n",
            "0 projection items activated\n",
            "Using data from preloaded Raw for 55 events and 13001 original time points ...\n",
            "0 bad epochs dropped\n"
          ]
        },
        {
          "name": "stderr",
          "output_type": "stream",
          "text": [
            "<ipython-input-7-5e7cde8d0c1e>:12: RuntimeWarning: The data contains 'boundary' events, indicating data discontinuities. Be cautious of filtering and epoching around these events.\n",
            "  raw = mne.io.read_raw_eeglab(file_path, preload=True)\n"
          ]
        },
        {
          "name": "stdout",
          "output_type": "stream",
          "text": [
            "Not setting metadata\n",
            "54 matching events found\n",
            "No baseline correction applied\n",
            "0 projection items activated\n",
            "Using data from preloaded Raw for 54 events and 21001 original time points ...\n",
            "0 bad epochs dropped\n",
            "Not setting metadata\n",
            "54 matching events found\n",
            "No baseline correction applied\n",
            "0 projection items activated\n",
            "Using data from preloaded Raw for 54 events and 29001 original time points ...\n",
            "0 bad epochs dropped\n"
          ]
        },
        {
          "name": "stderr",
          "output_type": "stream",
          "text": [
            "\rProcessing subjects:  92%|█████████▏| 76/83 [1:17:26<09:24, 80.63s/it]"
          ]
        },
        {
          "name": "stdout",
          "output_type": "stream",
          "text": [
            "\n",
            "🔍 Processing sub-098...\n"
          ]
        },
        {
          "name": "stderr",
          "output_type": "stream",
          "text": [
            "/usr/local/lib/python3.11/dist-packages/pymatreader/utils.py:168: UserWarning: Complex objects (like classes) are not supported. They are imported on a best effort base but your mileage will vary.\n",
            "  warn(\n"
          ]
        },
        {
          "name": "stdout",
          "output_type": "stream",
          "text": [
            "Used Annotations descriptions: [np.str_('500105'), np.str_('500109'), np.str_('500113'), np.str_('500205'), np.str_('500209'), np.str_('500213'), np.str_('500305'), np.str_('500309'), np.str_('500313'), np.str_('500405'), np.str_('500409'), np.str_('500413'), np.str_('500505'), np.str_('500509'), np.str_('500513'), np.str_('500609'), np.str_('500613'), np.str_('500709'), np.str_('500713'), np.str_('500809'), np.str_('500813'), np.str_('500909'), np.str_('500913'), np.str_('501013'), np.str_('501113'), np.str_('501213'), np.str_('501313'), np.str_('6001051'), np.str_('6001090'), np.str_('6001091'), np.str_('6001130'), np.str_('6001131'), np.str_('6002050'), np.str_('6002051'), np.str_('6002090'), np.str_('6002091'), np.str_('6002130'), np.str_('6002131'), np.str_('6003050'), np.str_('6003051'), np.str_('6003090'), np.str_('6003091'), np.str_('6003130'), np.str_('6003131'), np.str_('6004050'), np.str_('6004051'), np.str_('6004090'), np.str_('6004091'), np.str_('6004130'), np.str_('6004131'), np.str_('6005050'), np.str_('6005051'), np.str_('6005090'), np.str_('6005091'), np.str_('6005130'), np.str_('6005131'), np.str_('6006090'), np.str_('6006091'), np.str_('6006130'), np.str_('6006131'), np.str_('6007090'), np.str_('6007091'), np.str_('6007130'), np.str_('6007131'), np.str_('6008090'), np.str_('6008091'), np.str_('6008130'), np.str_('6008131'), np.str_('6009090'), np.str_('6009091'), np.str_('6009130'), np.str_('6009131'), np.str_('6010130'), np.str_('6010131'), np.str_('6011130'), np.str_('6012130'), np.str_('6013130'), np.str_('boundary')]\n",
            "Not setting metadata\n",
            "55 matching events found\n",
            "No baseline correction applied\n",
            "0 projection items activated\n",
            "Using data from preloaded Raw for 55 events and 13001 original time points ...\n",
            "0 bad epochs dropped\n"
          ]
        },
        {
          "name": "stderr",
          "output_type": "stream",
          "text": [
            "<ipython-input-7-5e7cde8d0c1e>:12: RuntimeWarning: The data contains 'boundary' events, indicating data discontinuities. Be cautious of filtering and epoching around these events.\n",
            "  raw = mne.io.read_raw_eeglab(file_path, preload=True)\n"
          ]
        },
        {
          "name": "stdout",
          "output_type": "stream",
          "text": [
            "Not setting metadata\n",
            "56 matching events found\n",
            "No baseline correction applied\n",
            "0 projection items activated\n",
            "Using data from preloaded Raw for 56 events and 21001 original time points ...\n",
            "0 bad epochs dropped\n",
            "Not setting metadata\n",
            "52 matching events found\n",
            "No baseline correction applied\n",
            "0 projection items activated\n",
            "Using data from preloaded Raw for 52 events and 29001 original time points ...\n",
            "0 bad epochs dropped\n"
          ]
        },
        {
          "name": "stderr",
          "output_type": "stream",
          "text": [
            "\rProcessing subjects:  93%|█████████▎| 77/83 [1:18:42<07:56, 79.44s/it]"
          ]
        },
        {
          "name": "stdout",
          "output_type": "stream",
          "text": [
            "\n",
            "🔍 Processing sub-095...\n"
          ]
        },
        {
          "name": "stderr",
          "output_type": "stream",
          "text": [
            "/usr/local/lib/python3.11/dist-packages/pymatreader/utils.py:168: UserWarning: Complex objects (like classes) are not supported. They are imported on a best effort base but your mileage will vary.\n",
            "  warn(\n"
          ]
        },
        {
          "name": "stdout",
          "output_type": "stream",
          "text": [
            "Used Annotations descriptions: [np.str_('500105'), np.str_('500109'), np.str_('500113'), np.str_('500205'), np.str_('500209'), np.str_('500213'), np.str_('500305'), np.str_('500309'), np.str_('500313'), np.str_('500405'), np.str_('500409'), np.str_('500413'), np.str_('500505'), np.str_('500509'), np.str_('500513'), np.str_('500609'), np.str_('500613'), np.str_('500709'), np.str_('500713'), np.str_('500809'), np.str_('500813'), np.str_('500909'), np.str_('500913'), np.str_('501013'), np.str_('501113'), np.str_('501213'), np.str_('501313'), np.str_('6001051'), np.str_('6001090'), np.str_('6001091'), np.str_('6001130'), np.str_('6001131'), np.str_('6002050'), np.str_('6002051'), np.str_('6002090'), np.str_('6002091'), np.str_('6002130'), np.str_('6002131'), np.str_('6003050'), np.str_('6003051'), np.str_('6003090'), np.str_('6003091'), np.str_('6003130'), np.str_('6003131'), np.str_('6004050'), np.str_('6004051'), np.str_('6004090'), np.str_('6004091'), np.str_('6004130'), np.str_('6004131'), np.str_('6005050'), np.str_('6005051'), np.str_('6005090'), np.str_('6005091'), np.str_('6005130'), np.str_('6005131'), np.str_('6006090'), np.str_('6006091'), np.str_('6006130'), np.str_('6006131'), np.str_('6007090'), np.str_('6007091'), np.str_('6007130'), np.str_('6007131'), np.str_('6008090'), np.str_('6008091'), np.str_('6008130'), np.str_('6008131'), np.str_('6009090'), np.str_('6009091'), np.str_('6009130'), np.str_('6009131'), np.str_('6010130'), np.str_('6010131'), np.str_('6011130'), np.str_('6012130'), np.str_('6013130'), np.str_('boundary')]\n",
            "Not setting metadata\n",
            "57 matching events found\n",
            "No baseline correction applied\n",
            "0 projection items activated\n",
            "Using data from preloaded Raw for 57 events and 13001 original time points ...\n",
            "0 bad epochs dropped\n"
          ]
        },
        {
          "name": "stderr",
          "output_type": "stream",
          "text": [
            "<ipython-input-7-5e7cde8d0c1e>:12: RuntimeWarning: The data contains 'boundary' events, indicating data discontinuities. Be cautious of filtering and epoching around these events.\n",
            "  raw = mne.io.read_raw_eeglab(file_path, preload=True)\n"
          ]
        },
        {
          "name": "stdout",
          "output_type": "stream",
          "text": [
            "Not setting metadata\n",
            "57 matching events found\n",
            "No baseline correction applied\n",
            "0 projection items activated\n",
            "Using data from preloaded Raw for 57 events and 21001 original time points ...\n",
            "0 bad epochs dropped\n",
            "Not setting metadata\n",
            "49 matching events found\n",
            "No baseline correction applied\n",
            "0 projection items activated\n",
            "Using data from preloaded Raw for 49 events and 29001 original time points ...\n",
            "0 bad epochs dropped\n"
          ]
        },
        {
          "name": "stderr",
          "output_type": "stream",
          "text": [
            "\rProcessing subjects:  94%|█████████▍| 78/83 [1:20:02<06:37, 79.42s/it]"
          ]
        },
        {
          "name": "stdout",
          "output_type": "stream",
          "text": [
            "\n",
            "🔍 Processing sub-091...\n"
          ]
        },
        {
          "name": "stderr",
          "output_type": "stream",
          "text": [
            "/usr/local/lib/python3.11/dist-packages/pymatreader/utils.py:168: UserWarning: Complex objects (like classes) are not supported. They are imported on a best effort base but your mileage will vary.\n",
            "  warn(\n"
          ]
        },
        {
          "name": "stdout",
          "output_type": "stream",
          "text": [
            "Used Annotations descriptions: [np.str_('500105'), np.str_('500109'), np.str_('500113'), np.str_('500205'), np.str_('500209'), np.str_('500213'), np.str_('500305'), np.str_('500309'), np.str_('500313'), np.str_('500405'), np.str_('500409'), np.str_('500413'), np.str_('500505'), np.str_('500509'), np.str_('500513'), np.str_('500609'), np.str_('500613'), np.str_('500709'), np.str_('500713'), np.str_('500809'), np.str_('500813'), np.str_('500909'), np.str_('500913'), np.str_('501013'), np.str_('501113'), np.str_('501213'), np.str_('501313'), np.str_('6001050'), np.str_('6001051'), np.str_('6001090'), np.str_('6001091'), np.str_('6001130'), np.str_('6001131'), np.str_('6002050'), np.str_('6002051'), np.str_('6002090'), np.str_('6002091'), np.str_('6002130'), np.str_('6002131'), np.str_('6003050'), np.str_('6003051'), np.str_('6003090'), np.str_('6003091'), np.str_('6003130'), np.str_('6003131'), np.str_('6004050'), np.str_('6004051'), np.str_('6004090'), np.str_('6004091'), np.str_('6004130'), np.str_('6004131'), np.str_('6005050'), np.str_('6005051'), np.str_('6005090'), np.str_('6005091'), np.str_('6005130'), np.str_('6005131'), np.str_('6006090'), np.str_('6006091'), np.str_('6006130'), np.str_('6006131'), np.str_('6007090'), np.str_('6007091'), np.str_('6007130'), np.str_('6007131'), np.str_('6008090'), np.str_('6008091'), np.str_('6008130'), np.str_('6008131'), np.str_('6009090'), np.str_('6009091'), np.str_('6009130'), np.str_('6009131'), np.str_('6010130'), np.str_('6010131'), np.str_('6011130'), np.str_('6012130'), np.str_('6013130'), np.str_('boundary')]\n",
            "Not setting metadata\n",
            "54 matching events found\n",
            "No baseline correction applied\n",
            "0 projection items activated\n",
            "Using data from preloaded Raw for 54 events and 13001 original time points ...\n",
            "0 bad epochs dropped\n"
          ]
        },
        {
          "name": "stderr",
          "output_type": "stream",
          "text": [
            "<ipython-input-7-5e7cde8d0c1e>:12: RuntimeWarning: The data contains 'boundary' events, indicating data discontinuities. Be cautious of filtering and epoching around these events.\n",
            "  raw = mne.io.read_raw_eeglab(file_path, preload=True)\n"
          ]
        },
        {
          "name": "stdout",
          "output_type": "stream",
          "text": [
            "Not setting metadata\n",
            "54 matching events found\n",
            "No baseline correction applied\n",
            "0 projection items activated\n",
            "Using data from preloaded Raw for 54 events and 21001 original time points ...\n",
            "0 bad epochs dropped\n",
            "Not setting metadata\n",
            "54 matching events found\n",
            "No baseline correction applied\n",
            "0 projection items activated\n",
            "Using data from preloaded Raw for 54 events and 29001 original time points ...\n",
            "0 bad epochs dropped\n"
          ]
        },
        {
          "name": "stderr",
          "output_type": "stream",
          "text": [
            "\rProcessing subjects:  95%|█████████▌| 79/83 [1:21:20<05:16, 79.10s/it]"
          ]
        },
        {
          "name": "stdout",
          "output_type": "stream",
          "text": [
            "\n",
            "🔍 Processing sub-092...\n"
          ]
        },
        {
          "name": "stderr",
          "output_type": "stream",
          "text": [
            "/usr/local/lib/python3.11/dist-packages/pymatreader/utils.py:168: UserWarning: Complex objects (like classes) are not supported. They are imported on a best effort base but your mileage will vary.\n",
            "  warn(\n"
          ]
        },
        {
          "name": "stdout",
          "output_type": "stream",
          "text": [
            "Used Annotations descriptions: [np.str_('500105'), np.str_('500109'), np.str_('500113'), np.str_('500205'), np.str_('500209'), np.str_('500213'), np.str_('500305'), np.str_('500309'), np.str_('500313'), np.str_('500405'), np.str_('500409'), np.str_('500413'), np.str_('500505'), np.str_('500509'), np.str_('500513'), np.str_('500609'), np.str_('500613'), np.str_('500709'), np.str_('500713'), np.str_('500809'), np.str_('500813'), np.str_('500909'), np.str_('500913'), np.str_('501013'), np.str_('501113'), np.str_('501213'), np.str_('501313'), np.str_('6001051'), np.str_('6001090'), np.str_('6001091'), np.str_('6001130'), np.str_('6001131'), np.str_('6002050'), np.str_('6002051'), np.str_('6002090'), np.str_('6002091'), np.str_('6002130'), np.str_('6002131'), np.str_('6003050'), np.str_('6003051'), np.str_('6003090'), np.str_('6003091'), np.str_('6003130'), np.str_('6003131'), np.str_('6004050'), np.str_('6004051'), np.str_('6004090'), np.str_('6004091'), np.str_('6004130'), np.str_('6004131'), np.str_('6005050'), np.str_('6005051'), np.str_('6005090'), np.str_('6005091'), np.str_('6005130'), np.str_('6005131'), np.str_('6006090'), np.str_('6006091'), np.str_('6006130'), np.str_('6006131'), np.str_('6007090'), np.str_('6007091'), np.str_('6007130'), np.str_('6007131'), np.str_('6008090'), np.str_('6008091'), np.str_('6008130'), np.str_('6008131'), np.str_('6009090'), np.str_('6009091'), np.str_('6009130'), np.str_('6009131'), np.str_('6010130'), np.str_('6010131'), np.str_('6011130'), np.str_('6012130'), np.str_('6013130'), np.str_('boundary')]\n",
            "Not setting metadata\n",
            "57 matching events found\n",
            "No baseline correction applied\n",
            "0 projection items activated\n",
            "Using data from preloaded Raw for 57 events and 13001 original time points ...\n",
            "0 bad epochs dropped\n"
          ]
        },
        {
          "name": "stderr",
          "output_type": "stream",
          "text": [
            "<ipython-input-7-5e7cde8d0c1e>:12: RuntimeWarning: The data contains 'boundary' events, indicating data discontinuities. Be cautious of filtering and epoching around these events.\n",
            "  raw = mne.io.read_raw_eeglab(file_path, preload=True)\n"
          ]
        },
        {
          "name": "stdout",
          "output_type": "stream",
          "text": [
            "Not setting metadata\n",
            "57 matching events found\n",
            "No baseline correction applied\n",
            "0 projection items activated\n",
            "Using data from preloaded Raw for 57 events and 21001 original time points ...\n",
            "0 bad epochs dropped\n",
            "Not setting metadata\n",
            "50 matching events found\n",
            "No baseline correction applied\n",
            "0 projection items activated\n",
            "Using data from preloaded Raw for 50 events and 29001 original time points ...\n",
            "0 bad epochs dropped\n"
          ]
        },
        {
          "name": "stderr",
          "output_type": "stream",
          "text": [
            "\rProcessing subjects:  96%|█████████▋| 80/83 [1:22:36<03:54, 78.06s/it]"
          ]
        },
        {
          "name": "stdout",
          "output_type": "stream",
          "text": [
            "\n",
            "🔍 Processing sub-096...\n"
          ]
        },
        {
          "name": "stderr",
          "output_type": "stream",
          "text": [
            "/usr/local/lib/python3.11/dist-packages/pymatreader/utils.py:168: UserWarning: Complex objects (like classes) are not supported. They are imported on a best effort base but your mileage will vary.\n",
            "  warn(\n"
          ]
        },
        {
          "name": "stdout",
          "output_type": "stream",
          "text": [
            "Used Annotations descriptions: [np.str_('500105'), np.str_('500109'), np.str_('500113'), np.str_('500205'), np.str_('500209'), np.str_('500213'), np.str_('500305'), np.str_('500309'), np.str_('500313'), np.str_('500405'), np.str_('500409'), np.str_('500413'), np.str_('500505'), np.str_('500509'), np.str_('500513'), np.str_('500609'), np.str_('500613'), np.str_('500709'), np.str_('500713'), np.str_('500809'), np.str_('500813'), np.str_('500909'), np.str_('500913'), np.str_('501013'), np.str_('501113'), np.str_('501213'), np.str_('501313'), np.str_('6001051'), np.str_('6001091'), np.str_('6001131'), np.str_('6002050'), np.str_('6002051'), np.str_('6002090'), np.str_('6002091'), np.str_('6002130'), np.str_('6002131'), np.str_('6003050'), np.str_('6003051'), np.str_('6003090'), np.str_('6003091'), np.str_('6003130'), np.str_('6003131'), np.str_('6004050'), np.str_('6004051'), np.str_('6004090'), np.str_('6004091'), np.str_('6004130'), np.str_('6004131'), np.str_('6005050'), np.str_('6005051'), np.str_('6005090'), np.str_('6005091'), np.str_('6005130'), np.str_('6005131'), np.str_('6006090'), np.str_('6006091'), np.str_('6006130'), np.str_('6006131'), np.str_('6007090'), np.str_('6007091'), np.str_('6007130'), np.str_('6007131'), np.str_('6008090'), np.str_('6008091'), np.str_('6008130'), np.str_('6008131'), np.str_('6009090'), np.str_('6009091'), np.str_('6009130'), np.str_('6009131'), np.str_('6010130'), np.str_('6011130'), np.str_('6012130'), np.str_('6013130'), np.str_('boundary')]\n",
            "Not setting metadata\n",
            "90 matching events found\n",
            "No baseline correction applied\n",
            "0 projection items activated\n",
            "Using data from preloaded Raw for 90 events and 13001 original time points ...\n",
            "0 bad epochs dropped\n"
          ]
        },
        {
          "name": "stderr",
          "output_type": "stream",
          "text": [
            "<ipython-input-7-5e7cde8d0c1e>:12: RuntimeWarning: The data contains 'boundary' events, indicating data discontinuities. Be cautious of filtering and epoching around these events.\n",
            "  raw = mne.io.read_raw_eeglab(file_path, preload=True)\n"
          ]
        },
        {
          "name": "stdout",
          "output_type": "stream",
          "text": [
            "Not setting metadata\n",
            "55 matching events found\n",
            "No baseline correction applied\n",
            "0 projection items activated\n",
            "Using data from preloaded Raw for 55 events and 21001 original time points ...\n",
            "0 bad epochs dropped\n",
            "Not setting metadata\n",
            "54 matching events found\n",
            "No baseline correction applied\n",
            "0 projection items activated\n",
            "Using data from preloaded Raw for 54 events and 29001 original time points ...\n",
            "    Rejecting  epoch based on ECG : ['ECG']\n",
            "1 bad epochs dropped\n"
          ]
        },
        {
          "name": "stderr",
          "output_type": "stream",
          "text": [
            "\rProcessing subjects:  98%|█████████▊| 81/83 [1:23:56<02:37, 78.83s/it]"
          ]
        },
        {
          "name": "stdout",
          "output_type": "stream",
          "text": [
            "\n",
            "🔍 Processing sub-097...\n"
          ]
        },
        {
          "name": "stderr",
          "output_type": "stream",
          "text": [
            "/usr/local/lib/python3.11/dist-packages/pymatreader/utils.py:168: UserWarning: Complex objects (like classes) are not supported. They are imported on a best effort base but your mileage will vary.\n",
            "  warn(\n"
          ]
        },
        {
          "name": "stdout",
          "output_type": "stream",
          "text": [
            "Used Annotations descriptions: [np.str_('500105'), np.str_('500109'), np.str_('500113'), np.str_('500205'), np.str_('500209'), np.str_('500213'), np.str_('500305'), np.str_('500309'), np.str_('500313'), np.str_('500405'), np.str_('500409'), np.str_('500413'), np.str_('500505'), np.str_('500509'), np.str_('500513'), np.str_('500609'), np.str_('500613'), np.str_('500709'), np.str_('500713'), np.str_('500809'), np.str_('500813'), np.str_('500909'), np.str_('500913'), np.str_('501013'), np.str_('501113'), np.str_('501213'), np.str_('501313'), np.str_('6001051'), np.str_('6001090'), np.str_('6001091'), np.str_('6001130'), np.str_('6001131'), np.str_('6002050'), np.str_('6002051'), np.str_('6002090'), np.str_('6002091'), np.str_('6002130'), np.str_('6002131'), np.str_('6003050'), np.str_('6003051'), np.str_('6003090'), np.str_('6003091'), np.str_('6003130'), np.str_('6003131'), np.str_('6004050'), np.str_('6004051'), np.str_('6004090'), np.str_('6004091'), np.str_('6004130'), np.str_('6004131'), np.str_('6005050'), np.str_('6005051'), np.str_('6005090'), np.str_('6005091'), np.str_('6005130'), np.str_('6005131'), np.str_('6006090'), np.str_('6006091'), np.str_('6006130'), np.str_('6006131'), np.str_('6007090'), np.str_('6007091'), np.str_('6007130'), np.str_('6007131'), np.str_('6008090'), np.str_('6008091'), np.str_('6008130'), np.str_('6008131'), np.str_('6009090'), np.str_('6009091'), np.str_('6009130'), np.str_('6009131'), np.str_('6010130'), np.str_('6011130'), np.str_('6011131'), np.str_('6012130'), np.str_('6012131'), np.str_('6013130'), np.str_('boundary')]\n",
            "Not setting metadata\n",
            "58 matching events found\n",
            "No baseline correction applied\n",
            "0 projection items activated\n",
            "Using data from preloaded Raw for 58 events and 13001 original time points ...\n",
            "0 bad epochs dropped\n"
          ]
        },
        {
          "name": "stderr",
          "output_type": "stream",
          "text": [
            "<ipython-input-7-5e7cde8d0c1e>:12: RuntimeWarning: The data contains 'boundary' events, indicating data discontinuities. Be cautious of filtering and epoching around these events.\n",
            "  raw = mne.io.read_raw_eeglab(file_path, preload=True)\n"
          ]
        },
        {
          "name": "stdout",
          "output_type": "stream",
          "text": [
            "Not setting metadata\n",
            "58 matching events found\n",
            "No baseline correction applied\n",
            "0 projection items activated\n",
            "Using data from preloaded Raw for 58 events and 21001 original time points ...\n",
            "0 bad epochs dropped\n",
            "Not setting metadata\n",
            "50 matching events found\n",
            "No baseline correction applied\n",
            "0 projection items activated\n",
            "Using data from preloaded Raw for 50 events and 29001 original time points ...\n",
            "0 bad epochs dropped\n"
          ]
        },
        {
          "name": "stderr",
          "output_type": "stream",
          "text": [
            "\rProcessing subjects:  99%|█████████▉| 82/83 [1:25:16<01:18, 78.92s/it]"
          ]
        },
        {
          "name": "stdout",
          "output_type": "stream",
          "text": [
            "\n",
            "🔍 Processing sub-094...\n"
          ]
        },
        {
          "name": "stderr",
          "output_type": "stream",
          "text": [
            "/usr/local/lib/python3.11/dist-packages/pymatreader/utils.py:168: UserWarning: Complex objects (like classes) are not supported. They are imported on a best effort base but your mileage will vary.\n",
            "  warn(\n"
          ]
        },
        {
          "name": "stdout",
          "output_type": "stream",
          "text": [
            "Used Annotations descriptions: [np.str_('500105'), np.str_('500109'), np.str_('500113'), np.str_('500205'), np.str_('500209'), np.str_('500213'), np.str_('500305'), np.str_('500309'), np.str_('500313'), np.str_('500405'), np.str_('500409'), np.str_('500413'), np.str_('500505'), np.str_('500509'), np.str_('500513'), np.str_('500609'), np.str_('500613'), np.str_('500709'), np.str_('500713'), np.str_('500809'), np.str_('500813'), np.str_('500909'), np.str_('500913'), np.str_('501013'), np.str_('501113'), np.str_('501213'), np.str_('501313'), np.str_('6001050'), np.str_('6001051'), np.str_('6001090'), np.str_('6001091'), np.str_('6001130'), np.str_('6001131'), np.str_('6002050'), np.str_('6002051'), np.str_('6002090'), np.str_('6002091'), np.str_('6002130'), np.str_('6002131'), np.str_('6003051'), np.str_('6003090'), np.str_('6003091'), np.str_('6003130'), np.str_('6003131'), np.str_('6004050'), np.str_('6004051'), np.str_('6004090'), np.str_('6004091'), np.str_('6004130'), np.str_('6004131'), np.str_('6005051'), np.str_('6005090'), np.str_('6005091'), np.str_('6005130'), np.str_('6005131'), np.str_('6006090'), np.str_('6006091'), np.str_('6006130'), np.str_('6006131'), np.str_('6007090'), np.str_('6007091'), np.str_('6007130'), np.str_('6007131'), np.str_('6008090'), np.str_('6008091'), np.str_('6008130'), np.str_('6008131'), np.str_('6009090'), np.str_('6009091'), np.str_('6009130'), np.str_('6009131'), np.str_('6010130'), np.str_('6010131'), np.str_('6011130'), np.str_('6011131'), np.str_('6012130'), np.str_('6013130'), np.str_('Buffer Overflow'), np.str_('boundary')]\n",
            "Not setting metadata\n",
            "48 matching events found\n",
            "No baseline correction applied\n",
            "0 projection items activated\n",
            "Using data from preloaded Raw for 48 events and 13001 original time points ...\n",
            "    Rejecting  epoch based on ECG : ['ECG']\n",
            "1 bad epochs dropped\n"
          ]
        },
        {
          "name": "stderr",
          "output_type": "stream",
          "text": [
            "<ipython-input-7-5e7cde8d0c1e>:12: RuntimeWarning: The data contains 'boundary' events, indicating data discontinuities. Be cautious of filtering and epoching around these events.\n",
            "  raw = mne.io.read_raw_eeglab(file_path, preload=True)\n"
          ]
        },
        {
          "name": "stdout",
          "output_type": "stream",
          "text": [
            "Not setting metadata\n",
            "48 matching events found\n",
            "No baseline correction applied\n",
            "0 projection items activated\n",
            "Using data from preloaded Raw for 48 events and 21001 original time points ...\n",
            "0 bad epochs dropped\n",
            "Not setting metadata\n",
            "48 matching events found\n",
            "No baseline correction applied\n",
            "0 projection items activated\n",
            "Using data from preloaded Raw for 48 events and 29001 original time points ...\n",
            "0 bad epochs dropped\n"
          ]
        },
        {
          "name": "stderr",
          "output_type": "stream",
          "text": [
            "Processing subjects: 100%|██████████| 83/83 [1:26:33<00:00, 62.57s/it]\n"
          ]
        }
      ],
      "source": [
        "subject_list = []\n",
        "data_array = []\n",
        "\n",
        "# ✅ Loop through all files\n",
        "for file_path in tqdm(set_files, desc=\"Processing subjects\"):\n",
        "    subject_id = os.path.basename(file_path).split(\"_\")[0]\n",
        "    if subject_id in excluded_subjects:\n",
        "        continue\n",
        "\n",
        "    try:\n",
        "        print(f\"\\n🔍 Processing {subject_id}...\")\n",
        "        raw = mne.io.read_raw_eeglab(file_path, preload=True)\n",
        "        raw.set_channel_types({\"ECG\": \"ecg\"})\n",
        "        events, _ = mne.events_from_annotations(raw)\n",
        "\n",
        "        # Preallocate subject 4D array (condition × subcondition × trial × time)\n",
        "        subject_data = np.full((num_conditions, num_subconditions, num_trials, max_time), np.nan, dtype=np.float32)\n",
        "\n",
        "        for condition_idx, (condition, event_dict) in enumerate(event_dicts.items()):\n",
        "            available_event_ids = set(events[:, 2])\n",
        "            filtered_event_dict = {k: v for k, v in event_dict.items() if v in available_event_ids}\n",
        "            if not filtered_event_dict:\n",
        "                print(f\"⚠️ Skipping condition '{condition}' for {subject_id}: No matching events.\")\n",
        "                continue\n",
        "\n",
        "            try:\n",
        "                epochs = mne.Epochs(\n",
        "                    raw, events, tmin=-3, tmax=epoch_durations[condition],\n",
        "                    event_id=filtered_event_dict, preload=True,\n",
        "                    reject=reject_criteria, baseline=None\n",
        "                )\n",
        "            except Exception as e:\n",
        "                print(f\"❌ [{subject_id}] Epoching failed: {e}\")\n",
        "                continue\n",
        "\n",
        "            for trial_idx in range(min(num_trials, len(epochs))):\n",
        "                try:\n",
        "                    selected_epoch = epochs[trial_idx]\n",
        "                    ecg_signal = selected_epoch.get_data(picks=\"ECG\")[0, 0, :]\n",
        "\n",
        "                    if np.isnan(ecg_signal).all() or len(ecg_signal) < 1000 or np.std(ecg_signal) < 1e-6:\n",
        "                        continue\n",
        "\n",
        "                    ecg_cleaned = nk.ecg_clean(ecg_signal, sampling_rate=1000)\n",
        "                    _, rpeaks_dict = nk.ecg_peaks(ecg_cleaned, sampling_rate=1000)\n",
        "                    rpeaks = rpeaks_dict[\"ECG_R_Peaks\"]\n",
        "\n",
        "                    if len(rpeaks) < 3:\n",
        "                        continue\n",
        "\n",
        "                    signals, info = nk.ecg_process(ecg_cleaned, sampling_rate=1000)\n",
        "\n",
        "                    # Event and subcondition mapping\n",
        "                    event_code = epochs.events[trial_idx, 2]\n",
        "                    if event_code in event_dict.values():\n",
        "                        event_label = list(event_dict.keys())[list(event_dict.values()).index(event_code)]\n",
        "                        subcondition_idx = 0 if \"justlisten\" in event_label else (1 if \"memory/correct\" in event_label else 2)\n",
        "                    else:\n",
        "                        continue\n",
        "\n",
        "                    time_length = len(ecg_signal)\n",
        "                    if time_length > max_time:\n",
        "                        ecg_data_trimmed = ecg_signal[:max_time]\n",
        "                    else:\n",
        "                        ecg_data_trimmed = np.pad(ecg_signal, (0, max_time - time_length), constant_values=np.nan)\n",
        "\n",
        "                    subject_data[condition_idx, subcondition_idx, trial_idx, :] = ecg_data_trimmed.astype(np.float32)\n",
        "\n",
        "                    # Save ECG plot\n",
        "                    if SAVE_PLOTS:\n",
        "                        fig = nk.ecg_plot(signals, info)\n",
        "                        plot_path = os.path.join(output_images_dir, f\"{subject_id}_{condition}_{trial_idx}.png\")\n",
        "                        fig.savefig(plot_path)\n",
        "                        plt.close(fig)\n",
        "\n",
        "                except Exception as e:\n",
        "                    print(f\"⚠️ [{subject_id}] Trial {trial_idx} processing failed: {e}\")\n",
        "                    continue\n",
        "\n",
        "        subject_list.append(subject_id)\n",
        "        data_array.append(subject_data)\n",
        "\n",
        "        # ✅ Clean up memory\n",
        "        del raw, epochs, subject_data\n",
        "        gc.collect()\n",
        "\n",
        "    except Exception as e:\n",
        "        print(f\"❌ Failed to process {subject_id}: {e}\")\n",
        "        continue\n",
        "\n",
        "# ✅ Final 5D data array\n",
        "final_data_array = np.array(data_array, dtype=np.float32)"
      ]
    },
    {
      "cell_type": "code",
      "execution_count": 8,
      "metadata": {
        "colab": {
          "base_uri": "https://localhost:8080/"
        },
        "id": "H2Jc7mLADMqn",
        "outputId": "350ea847-c195-4841-8268-eac88cefce48"
      },
      "outputs": [
        {
          "name": "stdout",
          "output_type": "stream",
          "text": [
            "\n",
            " ECG Processing Complete!\n",
            " Data shape: (65, 3, 3, 54, 26000)\n",
            " Subjects: 65 | Saved to: /content/output_ecg_data/processed_ecg_data.pkl\n"
          ]
        }
      ],
      "source": [
        "# Save as pickle\n",
        "pickle_filename = os.path.join(output_root, \"processed_ecg_data.pkl\")\n",
        "with open(pickle_filename, \"wb\") as f:\n",
        "    pickle.dump({\"subjects\": subject_list, \"data\": final_data_array}, f)\n",
        "\n",
        "print(\"\\n ECG Processing Complete!\")\n",
        "print(f\" Data shape: {final_data_array.shape}\")\n",
        "print(f\" Subjects: {len(subject_list)} | Saved to: {pickle_filename}\")"
      ]
    }
  ],
  "metadata": {
    "colab": {
      "provenance": []
    },
    "kernelspec": {
      "display_name": "Python 3",
      "name": "python3"
    },
    "language_info": {
      "name": "python"
    }
  },
  "nbformat": 4,
  "nbformat_minor": 0
}
