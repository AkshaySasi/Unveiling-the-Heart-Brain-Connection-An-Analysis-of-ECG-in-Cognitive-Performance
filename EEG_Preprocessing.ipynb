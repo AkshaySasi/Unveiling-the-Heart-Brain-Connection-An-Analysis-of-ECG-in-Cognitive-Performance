{
  "nbformat": 4,
  "nbformat_minor": 0,
  "metadata": {
    "colab": {
      "provenance": []
    },
    "kernelspec": {
      "name": "python3",
      "display_name": "Python 3"
    },
    "language_info": {
      "name": "python"
    }
  },
  "cells": [
    {
      "cell_type": "code",
      "source": [
        "!pip install pymatreader h5py mne neurokit2"
      ],
      "metadata": {
        "colab": {
          "base_uri": "https://localhost:8080/"
        },
        "id": "XvLqqGvn4GR5",
        "outputId": "2ca4a161-fd68-423b-b80e-8948efa43b72"
      },
      "execution_count": null,
      "outputs": [
        {
          "output_type": "stream",
          "name": "stdout",
          "text": [
            "Collecting pymatreader\n",
            "  Downloading pymatreader-1.0.0-py3-none-any.whl.metadata (1.5 kB)\n",
            "Requirement already satisfied: h5py in /usr/local/lib/python3.11/dist-packages (3.13.0)\n",
            "Requirement already satisfied: mne in /usr/local/lib/python3.11/dist-packages (1.9.0)\n",
            "Requirement already satisfied: neurokit2 in /usr/local/lib/python3.11/dist-packages (0.2.10)\n",
            "Requirement already satisfied: numpy in /usr/local/lib/python3.11/dist-packages (from pymatreader) (2.0.2)\n",
            "Requirement already satisfied: scipy>=1.7.1 in /usr/local/lib/python3.11/dist-packages (from pymatreader) (1.14.1)\n",
            "Collecting xmltodict (from pymatreader)\n",
            "  Downloading xmltodict-0.14.2-py2.py3-none-any.whl.metadata (8.0 kB)\n",
            "Requirement already satisfied: decorator in /usr/local/lib/python3.11/dist-packages (from mne) (4.4.2)\n",
            "Requirement already satisfied: jinja2 in /usr/local/lib/python3.11/dist-packages (from mne) (3.1.6)\n",
            "Requirement already satisfied: lazy-loader>=0.3 in /usr/local/lib/python3.11/dist-packages (from mne) (0.4)\n",
            "Requirement already satisfied: matplotlib>=3.6 in /usr/local/lib/python3.11/dist-packages (from mne) (3.10.0)\n",
            "Requirement already satisfied: packaging in /usr/local/lib/python3.11/dist-packages (from mne) (24.2)\n",
            "Requirement already satisfied: pooch>=1.5 in /usr/local/lib/python3.11/dist-packages (from mne) (1.8.2)\n",
            "Requirement already satisfied: tqdm in /usr/local/lib/python3.11/dist-packages (from mne) (4.67.1)\n",
            "Requirement already satisfied: requests in /usr/local/lib/python3.11/dist-packages (from neurokit2) (2.32.3)\n",
            "Requirement already satisfied: pandas in /usr/local/lib/python3.11/dist-packages (from neurokit2) (2.2.2)\n",
            "Requirement already satisfied: scikit-learn>=1.0.0 in /usr/local/lib/python3.11/dist-packages (from neurokit2) (1.6.1)\n",
            "Requirement already satisfied: contourpy>=1.0.1 in /usr/local/lib/python3.11/dist-packages (from matplotlib>=3.6->mne) (1.3.2)\n",
            "Requirement already satisfied: cycler>=0.10 in /usr/local/lib/python3.11/dist-packages (from matplotlib>=3.6->mne) (0.12.1)\n",
            "Requirement already satisfied: fonttools>=4.22.0 in /usr/local/lib/python3.11/dist-packages (from matplotlib>=3.6->mne) (4.57.0)\n",
            "Requirement already satisfied: kiwisolver>=1.3.1 in /usr/local/lib/python3.11/dist-packages (from matplotlib>=3.6->mne) (1.4.8)\n",
            "Requirement already satisfied: pillow>=8 in /usr/local/lib/python3.11/dist-packages (from matplotlib>=3.6->mne) (11.1.0)\n",
            "Requirement already satisfied: pyparsing>=2.3.1 in /usr/local/lib/python3.11/dist-packages (from matplotlib>=3.6->mne) (3.2.3)\n",
            "Requirement already satisfied: python-dateutil>=2.7 in /usr/local/lib/python3.11/dist-packages (from matplotlib>=3.6->mne) (2.8.2)\n",
            "Requirement already satisfied: platformdirs>=2.5.0 in /usr/local/lib/python3.11/dist-packages (from pooch>=1.5->mne) (4.3.7)\n",
            "Requirement already satisfied: charset-normalizer<4,>=2 in /usr/local/lib/python3.11/dist-packages (from requests->neurokit2) (3.4.1)\n",
            "Requirement already satisfied: idna<4,>=2.5 in /usr/local/lib/python3.11/dist-packages (from requests->neurokit2) (3.10)\n",
            "Requirement already satisfied: urllib3<3,>=1.21.1 in /usr/local/lib/python3.11/dist-packages (from requests->neurokit2) (2.3.0)\n",
            "Requirement already satisfied: certifi>=2017.4.17 in /usr/local/lib/python3.11/dist-packages (from requests->neurokit2) (2025.1.31)\n",
            "Requirement already satisfied: joblib>=1.2.0 in /usr/local/lib/python3.11/dist-packages (from scikit-learn>=1.0.0->neurokit2) (1.4.2)\n",
            "Requirement already satisfied: threadpoolctl>=3.1.0 in /usr/local/lib/python3.11/dist-packages (from scikit-learn>=1.0.0->neurokit2) (3.6.0)\n",
            "Requirement already satisfied: MarkupSafe>=2.0 in /usr/local/lib/python3.11/dist-packages (from jinja2->mne) (3.0.2)\n",
            "Requirement already satisfied: pytz>=2020.1 in /usr/local/lib/python3.11/dist-packages (from pandas->neurokit2) (2025.2)\n",
            "Requirement already satisfied: tzdata>=2022.7 in /usr/local/lib/python3.11/dist-packages (from pandas->neurokit2) (2025.2)\n",
            "Requirement already satisfied: six>=1.5 in /usr/local/lib/python3.11/dist-packages (from python-dateutil>=2.7->matplotlib>=3.6->mne) (1.17.0)\n",
            "Downloading pymatreader-1.0.0-py3-none-any.whl (9.3 kB)\n",
            "Downloading xmltodict-0.14.2-py2.py3-none-any.whl (10.0 kB)\n",
            "Installing collected packages: xmltodict, pymatreader\n",
            "Successfully installed pymatreader-1.0.0 xmltodict-0.14.2\n"
          ]
        }
      ]
    },
    {
      "cell_type": "code",
      "source": [
        "# ✅ Install necessary libraries\n",
        "!pip install mne neurokit2 matplotlib tqdm --quiet"
      ],
      "metadata": {
        "colab": {
          "base_uri": "https://localhost:8080/"
        },
        "id": "oT1RsbVD3Thl",
        "outputId": "218ad535-ebf6-479e-d215-072f54022eda"
      },
      "execution_count": null,
      "outputs": [
        {
          "output_type": "stream",
          "name": "stdout",
          "text": [
            "\u001b[?25l   \u001b[90m━━━━━━━━━━━━━━━━━━━━━━━━━━━━━━━━━━━━━━━━\u001b[0m \u001b[32m0.0/7.4 MB\u001b[0m \u001b[31m?\u001b[0m eta \u001b[36m-:--:--\u001b[0m\r\u001b[2K   \u001b[91m━━\u001b[0m\u001b[91m╸\u001b[0m\u001b[90m━━━━━━━━━━━━━━━━━━━━━━━━━━━━━━━━━━━━━\u001b[0m \u001b[32m0.6/7.4 MB\u001b[0m \u001b[31m16.8 MB/s\u001b[0m eta \u001b[36m0:00:01\u001b[0m\r\u001b[2K   \u001b[91m━━━━━━━━━━━━━━━━━━━━━\u001b[0m\u001b[91m╸\u001b[0m\u001b[90m━━━━━━━━━━━━━━━━━━\u001b[0m \u001b[32m4.1/7.4 MB\u001b[0m \u001b[31m58.3 MB/s\u001b[0m eta \u001b[36m0:00:01\u001b[0m\r\u001b[2K   \u001b[91m━━━━━━━━━━━━━━━━━━━━━━━━━━━━━━━━━━━━━━━\u001b[0m\u001b[91m╸\u001b[0m \u001b[32m7.4/7.4 MB\u001b[0m \u001b[31m83.1 MB/s\u001b[0m eta \u001b[36m0:00:01\u001b[0m\r\u001b[2K   \u001b[90m━━━━━━━━━━━━━━━━━━━━━━━━━━━━━━━━━━━━━━━━\u001b[0m \u001b[32m7.4/7.4 MB\u001b[0m \u001b[31m60.6 MB/s\u001b[0m eta \u001b[36m0:00:00\u001b[0m\n",
            "\u001b[?25h\u001b[?25l   \u001b[90m━━━━━━━━━━━━━━━━━━━━━━━━━━━━━━━━━━━━━━━━\u001b[0m \u001b[32m0.0/693.1 kB\u001b[0m \u001b[31m?\u001b[0m eta \u001b[36m-:--:--\u001b[0m\r\u001b[2K   \u001b[90m━━━━━━━━━━━━━━━━━━━━━━━━━━━━━━━━━━━━━━━━\u001b[0m \u001b[32m693.1/693.1 kB\u001b[0m \u001b[31m40.1 MB/s\u001b[0m eta \u001b[36m0:00:00\u001b[0m\n",
            "\u001b[?25h"
          ]
        }
      ]
    },
    {
      "cell_type": "code",
      "execution_count": null,
      "metadata": {
        "id": "HJ8Rpppo1lmT"
      },
      "outputs": [],
      "source": [
        "\n",
        "\n",
        "# ✅ Imports\n",
        "import os\n",
        "import mne\n",
        "import numpy as np\n",
        "import pickle\n",
        "import matplotlib.pyplot as plt\n",
        "import gc\n",
        "from tqdm import tqdm\n",
        "\n",
        "# ✅ Parameters\n",
        "SAVE_PLOTS = False  # Set True to save EEG plots\n",
        "dataset_path = \"/content/drive/MyDrive/EntireDataset_240GB\"\n",
        "output_root = \"/content/output_eeg_data\"\n",
        "output_images_dir = \"/content/output_eeg_images\"\n",
        "os.makedirs(output_root, exist_ok=True)\n",
        "if SAVE_PLOTS:\n",
        "    os.makedirs(output_images_dir, exist_ok=True)\n",
        "\n",
        "# Constants\n",
        "num_conditions = 3\n",
        "num_subconditions = 3\n",
        "num_trials = 54\n",
        "max_time = 26000  # same as ECG\n",
        "sampling_rate = 1000\n",
        "\n",
        "# ✅ Event dictionary\n",
        "event_dicts = {\n",
        "    \"five\": {\n",
        "        \"justlisten/five\": 1,\n",
        "        \"memory/correct/five\": 29,\n",
        "        \"memory/incorrect/five\": 28\n",
        "    },\n",
        "    \"nine\": {\n",
        "        \"justlisten/nine\": 2,\n",
        "        \"memory/correct/nine\": 31,\n",
        "        \"memory/incorrect/nine\": 30\n",
        "    },\n",
        "    \"thirteen\": {\n",
        "        \"justlisten/thirteen\": 3,\n",
        "        \"memory/correct/thirteen\": 33,\n",
        "        \"memory/incorrect/thirteen\": 32\n",
        "    }\n",
        "}\n",
        "\n"
      ]
    },
    {
      "cell_type": "code",
      "source": [
        "# ✅ Duration and reject criteria\n",
        "epoch_durations = {\"five\": 10, \"nine\": 18, \"thirteen\": 26}\n",
        "reject_criteria = dict(eeg=200e-6)  # 200 µV\n",
        "\n",
        "# ✅ Exclude problematic subjects\n",
        "excluded_subjects = {\n",
        "    \"sub-013\", \"sub-014\", \"sub-015\", \"sub-016\", \"sub-017\", \"sub-018\", \"sub-019\",\n",
        "    \"sub-020\", \"sub-021\", \"sub-022\", \"sub-023\", \"sub-024\", \"sub-025\", \"sub-026\",\n",
        "    \"sub-027\", \"sub-028\", \"sub-029\", \"sub-030\", \"sub-031\", \"sub-037\", \"sub-066\"\n",
        "}\n",
        "\n",
        "# ✅ Locate EEG .set files\n",
        "def find_set_files(root_dir):\n",
        "    set_files = []\n",
        "    for root, _, files in os.walk(root_dir):\n",
        "        for file in files:\n",
        "            if file.endswith(\".set\") and \"task-memory_eeg\" in file:  # for EEG now\n",
        "                set_files.append(os.path.join(root, file))\n",
        "    return set_files\n",
        "\n",
        "set_files = find_set_files(dataset_path)\n",
        "\n",
        "# ✅ Data storage\n",
        "subject_list = []\n",
        "data_array = []\n",
        "\n",
        "# ✅ Loop through all EEG files\n",
        "for file_path in tqdm(set_files, desc=\"Processing EEG subjects\"):\n",
        "    subject_id = os.path.basename(file_path).split(\"_\")[0]\n",
        "    if subject_id in excluded_subjects:\n",
        "        continue\n",
        "\n",
        "    try:\n",
        "        print(f\"\\n🔍 Processing {subject_id}...\")\n",
        "        raw = mne.io.read_raw_eeglab(file_path, preload=True)\n",
        "\n",
        "        # Select frontal channel(s), e.g., Fz (modify if needed)\n",
        "        frontal_channel = \"Fz\"\n",
        "        if frontal_channel not in raw.ch_names:\n",
        "            print(f\"⚠️ {subject_id}: {frontal_channel} not found, skipping.\")\n",
        "            continue\n",
        "\n",
        "        raw.pick_channels([frontal_channel])\n",
        "        events, _ = mne.events_from_annotations(raw)\n",
        "\n",
        "        # Preallocate subject 4D array\n",
        "        subject_data = np.full((num_conditions, num_subconditions, num_trials, max_time), np.nan, dtype=np.float32)\n",
        "\n",
        "        for condition_idx, (condition, event_dict) in enumerate(event_dicts.items()):\n",
        "            available_event_ids = set(events[:, 2])\n",
        "            filtered_event_dict = {k: v for k, v in event_dict.items() if v in available_event_ids}\n",
        "            if not filtered_event_dict:\n",
        "                print(f\"⚠️ Skipping condition '{condition}' for {subject_id}: No matching events.\")\n",
        "                continue\n",
        "\n",
        "            try:\n",
        "                epochs = mne.Epochs(\n",
        "                    raw, events, tmin=-3, tmax=epoch_durations[condition],\n",
        "                    event_id=filtered_event_dict, preload=True,\n",
        "                    reject=reject_criteria, baseline=None\n",
        "                )\n",
        "            except Exception as e:\n",
        "                print(f\"❌ [{subject_id}] Epoching failed: {e}\")\n",
        "                continue\n",
        "\n",
        "            for trial_idx in range(min(num_trials, len(epochs))):\n",
        "                try:\n",
        "                    selected_epoch = epochs[trial_idx]\n",
        "                    eeg_signal = selected_epoch.get_data()[0, 0, :]\n",
        "\n",
        "                    if np.isnan(eeg_signal).all() or len(eeg_signal) < 1000 or np.std(eeg_signal) < 1e-6:\n",
        "                        continue\n",
        "\n",
        "                    time_length = len(eeg_signal)\n",
        "                    if time_length > max_time:\n",
        "                        eeg_data_trimmed = eeg_signal[:max_time]\n",
        "                    else:\n",
        "                        eeg_data_trimmed = np.pad(eeg_signal, (0, max_time - time_length), constant_values=np.nan)\n",
        "\n",
        "                    # Event label\n",
        "                    event_code = epochs.events[trial_idx, 2]\n",
        "                    if event_code in event_dict.values():\n",
        "                        event_label = list(event_dict.keys())[list(event_dict.values()).index(event_code)]\n",
        "                        subcondition_idx = 0 if \"justlisten\" in event_label else (1 if \"memory/correct\" in event_label else 2)\n",
        "                    else:\n",
        "                        continue\n",
        "\n",
        "                    subject_data[condition_idx, subcondition_idx, trial_idx, :] = eeg_data_trimmed.astype(np.float32)\n",
        "\n",
        "                    # Optional EEG plot\n",
        "                    if SAVE_PLOTS:\n",
        "                        plt.figure(figsize=(10, 2))\n",
        "                        plt.plot(eeg_data_trimmed)\n",
        "                        plt.title(f\"{subject_id} - {condition} - Trial {trial_idx}\")\n",
        "                        plt.xlabel(\"Time (ms)\")\n",
        "                        plt.ylabel(\"EEG (µV)\")\n",
        "                        plot_path = os.path.join(output_images_dir, f\"{subject_id}_{condition}_{trial_idx}.png\")\n",
        "                        plt.savefig(plot_path)\n",
        "                        plt.close()\n",
        "\n",
        "                except Exception as e:\n",
        "                    print(f\"⚠️ [{subject_id}] Trial {trial_idx} processing failed: {e}\")\n",
        "                    continue\n",
        "\n",
        "        subject_list.append(subject_id)\n",
        "        data_array.append(subject_data)\n",
        "        del raw, epochs, subject_data\n",
        "        gc.collect()\n",
        "\n",
        "    except Exception as e:\n",
        "        print(f\"❌ Failed to process {subject_id}: {e}\")\n",
        "        continue\n",
        "\n",
        "# ✅ Save as pickle\n",
        "pickle_filename = os.path.join(output_root, \"processed_eeg_data.pkl\")\n",
        "with open(pickle_filename, \"wb\") as f:\n",
        "    pickle.dump({\"subjects\": subject_list, \"data\": np.array(data_array, dtype=np.float32)}, f)\n",
        "\n",
        "print(\"\\n EEG Processing Complete!\")\n",
        "print(f\" Data shape: {np.array(data_array).shape}\")\n",
        "print(f\" Subjects: {len(subject_list)} | Saved to: {pickle_filename}\")\n"
      ],
      "metadata": {
        "colab": {
          "base_uri": "https://localhost:8080/"
        },
        "id": "5ouMUWaT3ifs",
        "outputId": "a634b238-d049-4543-c130-5e470a22a1f6"
      },
      "execution_count": null,
      "outputs": [
        {
          "output_type": "stream",
          "name": "stderr",
          "text": [
            "\rProcessing EEG subjects:   0%|          | 0/65 [00:00<?, ?it/s]"
          ]
        },
        {
          "output_type": "stream",
          "name": "stdout",
          "text": [
            "\n",
            "🔍 Processing sub-033...\n"
          ]
        },
        {
          "output_type": "stream",
          "name": "stderr",
          "text": [
            "/usr/local/lib/python3.11/dist-packages/pymatreader/utils.py:168: UserWarning: Complex objects (like classes) are not supported. They are imported on a best effort base but your mileage will vary.\n",
            "  warn(\n"
          ]
        },
        {
          "output_type": "stream",
          "name": "stdout",
          "text": [
            "NOTE: pick_channels() is a legacy function. New code should use inst.pick(...).\n"
          ]
        },
        {
          "output_type": "stream",
          "name": "stderr",
          "text": [
            "<ipython-input-2-8a7cce88ed6d>:35: RuntimeWarning: The data contains 'boundary' events, indicating data discontinuities. Be cautious of filtering and epoching around these events.\n",
            "  raw = mne.io.read_raw_eeglab(file_path, preload=True)\n"
          ]
        },
        {
          "output_type": "stream",
          "name": "stdout",
          "text": [
            "Used Annotations descriptions: [np.str_('500105'), np.str_('500109'), np.str_('500113'), np.str_('500205'), np.str_('500209'), np.str_('500213'), np.str_('500305'), np.str_('500309'), np.str_('500313'), np.str_('500405'), np.str_('500409'), np.str_('500413'), np.str_('500505'), np.str_('500509'), np.str_('500513'), np.str_('500609'), np.str_('500613'), np.str_('500709'), np.str_('500713'), np.str_('500809'), np.str_('500813'), np.str_('500909'), np.str_('500913'), np.str_('501013'), np.str_('501113'), np.str_('501213'), np.str_('501313'), np.str_('6001050'), np.str_('6001051'), np.str_('6001090'), np.str_('6001091'), np.str_('6001130'), np.str_('6001131'), np.str_('6002050'), np.str_('6002051'), np.str_('6002090'), np.str_('6002091'), np.str_('6002130'), np.str_('6002131'), np.str_('6003050'), np.str_('6003051'), np.str_('6003090'), np.str_('6003091'), np.str_('6003130'), np.str_('6003131'), np.str_('6004050'), np.str_('6004051'), np.str_('6004090'), np.str_('6004091'), np.str_('6004130'), np.str_('6004131'), np.str_('6005050'), np.str_('6005051'), np.str_('6005090'), np.str_('6005091'), np.str_('6005130'), np.str_('6005131'), np.str_('6006090'), np.str_('6006091'), np.str_('6006130'), np.str_('6006131'), np.str_('6007090'), np.str_('6007091'), np.str_('6007130'), np.str_('6007131'), np.str_('6008090'), np.str_('6008130'), np.str_('6009090'), np.str_('6009130'), np.str_('6009131'), np.str_('6010130'), np.str_('6011130'), np.str_('6012130'), np.str_('6013130'), np.str_('boundary')]\n",
            "Not setting metadata\n",
            "54 matching events found\n",
            "No baseline correction applied\n",
            "0 projection items activated\n",
            "Using data from preloaded Raw for 54 events and 13001 original time points ...\n",
            "    Rejecting  epoch based on EEG : ['Fz']\n",
            "    Rejecting  epoch based on EEG : ['Fz']\n",
            "    Rejecting  epoch based on EEG : ['Fz']\n",
            "    Rejecting  epoch based on EEG : ['Fz']\n",
            "    Rejecting  epoch based on EEG : ['Fz']\n",
            "5 bad epochs dropped\n",
            "Not setting metadata\n",
            "54 matching events found\n",
            "No baseline correction applied\n",
            "0 projection items activated\n",
            "Using data from preloaded Raw for 54 events and 21001 original time points ...\n",
            "    Rejecting  epoch based on EEG : ['Fz']\n",
            "    Rejecting  epoch based on EEG : ['Fz']\n",
            "    Rejecting  epoch based on EEG : ['Fz']\n",
            "    Rejecting  epoch based on EEG : ['Fz']\n",
            "    Rejecting  epoch based on EEG : ['Fz']\n",
            "    Rejecting  epoch based on EEG : ['Fz']\n",
            "    Rejecting  epoch based on EEG : ['Fz']\n",
            "7 bad epochs dropped\n",
            "Not setting metadata\n",
            "54 matching events found\n",
            "No baseline correction applied\n",
            "0 projection items activated\n",
            "Using data from preloaded Raw for 54 events and 29001 original time points ...\n",
            "    Rejecting  epoch based on EEG : ['Fz']\n",
            "    Rejecting  epoch based on EEG : ['Fz']\n",
            "    Rejecting  epoch based on EEG : ['Fz']\n",
            "    Rejecting  epoch based on EEG : ['Fz']\n",
            "    Rejecting  epoch based on EEG : ['Fz']\n",
            "    Rejecting  epoch based on EEG : ['Fz']\n",
            "    Rejecting  epoch based on EEG : ['Fz']\n",
            "    Rejecting  epoch based on EEG : ['Fz']\n",
            "    Rejecting  epoch based on EEG : ['Fz']\n",
            "    Rejecting  epoch based on EEG : ['Fz']\n",
            "    Rejecting  epoch based on EEG : ['Fz']\n",
            "    Rejecting  epoch based on EEG : ['Fz']\n",
            "    Rejecting  epoch based on EEG : ['Fz']\n",
            "    Rejecting  epoch based on EEG : ['Fz']\n",
            "    Rejecting  epoch based on EEG : ['Fz']\n",
            "    Rejecting  epoch based on EEG : ['Fz']\n",
            "    Rejecting  epoch based on EEG : ['Fz']\n",
            "    Rejecting  epoch based on EEG : ['Fz']\n",
            "    Rejecting  epoch based on EEG : ['Fz']\n",
            "    Rejecting  epoch based on EEG : ['Fz']\n",
            "    Rejecting  epoch based on EEG : ['Fz']\n",
            "21 bad epochs dropped\n"
          ]
        },
        {
          "output_type": "stream",
          "name": "stderr",
          "text": [
            "\rProcessing EEG subjects:   2%|▏         | 1/65 [01:45<1:52:30, 105.48s/it]"
          ]
        },
        {
          "output_type": "stream",
          "name": "stdout",
          "text": [
            "\n",
            "🔍 Processing sub-038...\n"
          ]
        },
        {
          "output_type": "stream",
          "name": "stderr",
          "text": [
            "/usr/local/lib/python3.11/dist-packages/pymatreader/utils.py:168: UserWarning: Complex objects (like classes) are not supported. They are imported on a best effort base but your mileage will vary.\n",
            "  warn(\n"
          ]
        },
        {
          "output_type": "stream",
          "name": "stdout",
          "text": [
            "NOTE: pick_channels() is a legacy function. New code should use inst.pick(...).\n"
          ]
        },
        {
          "output_type": "stream",
          "name": "stderr",
          "text": [
            "<ipython-input-2-8a7cce88ed6d>:35: RuntimeWarning: The data contains 'boundary' events, indicating data discontinuities. Be cautious of filtering and epoching around these events.\n",
            "  raw = mne.io.read_raw_eeglab(file_path, preload=True)\n"
          ]
        },
        {
          "output_type": "stream",
          "name": "stdout",
          "text": [
            "Used Annotations descriptions: [np.str_('500105'), np.str_('500109'), np.str_('500113'), np.str_('500205'), np.str_('500209'), np.str_('500213'), np.str_('500305'), np.str_('500309'), np.str_('500313'), np.str_('500405'), np.str_('500409'), np.str_('500413'), np.str_('500505'), np.str_('500509'), np.str_('500513'), np.str_('500609'), np.str_('500613'), np.str_('500709'), np.str_('500713'), np.str_('500809'), np.str_('500813'), np.str_('500909'), np.str_('500913'), np.str_('501013'), np.str_('501113'), np.str_('501213'), np.str_('501313'), np.str_('6001051'), np.str_('6001090'), np.str_('6001091'), np.str_('6001130'), np.str_('6001131'), np.str_('6002050'), np.str_('6002051'), np.str_('6002090'), np.str_('6002091'), np.str_('6002130'), np.str_('6002131'), np.str_('6003050'), np.str_('6003051'), np.str_('6003090'), np.str_('6003091'), np.str_('6003130'), np.str_('6003131'), np.str_('6004050'), np.str_('6004051'), np.str_('6004090'), np.str_('6004091'), np.str_('6004130'), np.str_('6004131'), np.str_('6005050'), np.str_('6005051'), np.str_('6005090'), np.str_('6005091'), np.str_('6005130'), np.str_('6005131'), np.str_('6006090'), np.str_('6006091'), np.str_('6006130'), np.str_('6007090'), np.str_('6007091'), np.str_('6007130'), np.str_('6007131'), np.str_('6008090'), np.str_('6008091'), np.str_('6008130'), np.str_('6008131'), np.str_('6009090'), np.str_('6009130'), np.str_('6009131'), np.str_('6010130'), np.str_('6011130'), np.str_('6011131'), np.str_('6012130'), np.str_('6013130'), np.str_('boundary')]\n",
            "Not setting metadata\n",
            "62 matching events found\n",
            "No baseline correction applied\n",
            "0 projection items activated\n",
            "Using data from preloaded Raw for 62 events and 13001 original time points ...\n",
            "    Rejecting  epoch based on EEG : ['Fz']\n",
            "    Rejecting  epoch based on EEG : ['Fz']\n",
            "    Rejecting  epoch based on EEG : ['Fz']\n",
            "    Rejecting  epoch based on EEG : ['Fz']\n",
            "    Rejecting  epoch based on EEG : ['Fz']\n",
            "    Rejecting  epoch based on EEG : ['Fz']\n",
            "    Rejecting  epoch based on EEG : ['Fz']\n",
            "    Rejecting  epoch based on EEG : ['Fz']\n",
            "    Rejecting  epoch based on EEG : ['Fz']\n",
            "    Rejecting  epoch based on EEG : ['Fz']\n",
            "    Rejecting  epoch based on EEG : ['Fz']\n",
            "11 bad epochs dropped\n",
            "Not setting metadata\n",
            "56 matching events found\n",
            "No baseline correction applied\n",
            "0 projection items activated\n",
            "Using data from preloaded Raw for 56 events and 21001 original time points ...\n",
            "    Rejecting  epoch based on EEG : ['Fz']\n",
            "    Rejecting  epoch based on EEG : ['Fz']\n",
            "    Rejecting  epoch based on EEG : ['Fz']\n",
            "    Rejecting  epoch based on EEG : ['Fz']\n",
            "    Rejecting  epoch based on EEG : ['Fz']\n",
            "    Rejecting  epoch based on EEG : ['Fz']\n",
            "    Rejecting  epoch based on EEG : ['Fz']\n",
            "    Rejecting  epoch based on EEG : ['Fz']\n",
            "    Rejecting  epoch based on EEG : ['Fz']\n",
            "    Rejecting  epoch based on EEG : ['Fz']\n",
            "10 bad epochs dropped\n",
            "Not setting metadata\n",
            "48 matching events found\n",
            "No baseline correction applied\n",
            "0 projection items activated\n",
            "Using data from preloaded Raw for 48 events and 29001 original time points ...\n",
            "    Rejecting  epoch based on EEG : ['Fz']\n",
            "    Rejecting  epoch based on EEG : ['Fz']\n",
            "    Rejecting  epoch based on EEG : ['Fz']\n",
            "    Rejecting  epoch based on EEG : ['Fz']\n",
            "    Rejecting  epoch based on EEG : ['Fz']\n",
            "    Rejecting  epoch based on EEG : ['Fz']\n",
            "    Rejecting  epoch based on EEG : ['Fz']\n",
            "    Rejecting  epoch based on EEG : ['Fz']\n",
            "    Rejecting  epoch based on EEG : ['Fz']\n",
            "    Rejecting  epoch based on EEG : ['Fz']\n",
            "    Rejecting  epoch based on EEG : ['Fz']\n",
            "    Rejecting  epoch based on EEG : ['Fz']\n",
            "12 bad epochs dropped\n"
          ]
        },
        {
          "output_type": "stream",
          "name": "stderr",
          "text": [
            "\rProcessing EEG subjects:   3%|▎         | 2/65 [03:02<1:32:54, 88.48s/it] "
          ]
        },
        {
          "output_type": "stream",
          "name": "stdout",
          "text": [
            "\n",
            "🔍 Processing sub-040...\n"
          ]
        },
        {
          "output_type": "stream",
          "name": "stderr",
          "text": [
            "/usr/local/lib/python3.11/dist-packages/pymatreader/utils.py:168: UserWarning: Complex objects (like classes) are not supported. They are imported on a best effort base but your mileage will vary.\n",
            "  warn(\n"
          ]
        },
        {
          "output_type": "stream",
          "name": "stdout",
          "text": [
            "NOTE: pick_channels() is a legacy function. New code should use inst.pick(...).\n"
          ]
        },
        {
          "output_type": "stream",
          "name": "stderr",
          "text": [
            "<ipython-input-2-8a7cce88ed6d>:35: RuntimeWarning: The data contains 'boundary' events, indicating data discontinuities. Be cautious of filtering and epoching around these events.\n",
            "  raw = mne.io.read_raw_eeglab(file_path, preload=True)\n"
          ]
        },
        {
          "output_type": "stream",
          "name": "stdout",
          "text": [
            "Used Annotations descriptions: [np.str_('500105'), np.str_('500109'), np.str_('500113'), np.str_('500205'), np.str_('500209'), np.str_('500213'), np.str_('500305'), np.str_('500309'), np.str_('500313'), np.str_('500405'), np.str_('500409'), np.str_('500413'), np.str_('500505'), np.str_('500509'), np.str_('500513'), np.str_('500609'), np.str_('500613'), np.str_('500709'), np.str_('500713'), np.str_('500809'), np.str_('500813'), np.str_('500909'), np.str_('500913'), np.str_('501013'), np.str_('501113'), np.str_('501213'), np.str_('501313'), np.str_('6001051'), np.str_('6001090'), np.str_('6001091'), np.str_('6001130'), np.str_('6001131'), np.str_('6002051'), np.str_('6002090'), np.str_('6002091'), np.str_('6002130'), np.str_('6002131'), np.str_('6003051'), np.str_('6003090'), np.str_('6003091'), np.str_('6003130'), np.str_('6003131'), np.str_('6004051'), np.str_('6004090'), np.str_('6004091'), np.str_('6004130'), np.str_('6004131'), np.str_('6005051'), np.str_('6005090'), np.str_('6005091'), np.str_('6005130'), np.str_('6005131'), np.str_('6006090'), np.str_('6006091'), np.str_('6006130'), np.str_('6006131'), np.str_('6007090'), np.str_('6007091'), np.str_('6007130'), np.str_('6007131'), np.str_('6008090'), np.str_('6008091'), np.str_('6008130'), np.str_('6008131'), np.str_('6009090'), np.str_('6009091'), np.str_('6009130'), np.str_('6009131'), np.str_('6010130'), np.str_('6010131'), np.str_('6011130'), np.str_('6012130'), np.str_('6013130'), np.str_('boundary')]\n",
            "Not setting metadata\n",
            "58 matching events found\n",
            "No baseline correction applied\n",
            "0 projection items activated\n",
            "Using data from preloaded Raw for 58 events and 13001 original time points ...\n",
            "    Rejecting  epoch based on EEG : ['Fz']\n",
            "    Rejecting  epoch based on EEG : ['Fz']\n",
            "    Rejecting  epoch based on EEG : ['Fz']\n",
            "3 bad epochs dropped\n",
            "Not setting metadata\n",
            "55 matching events found\n",
            "No baseline correction applied\n",
            "0 projection items activated\n",
            "Using data from preloaded Raw for 55 events and 21001 original time points ...\n",
            "    Rejecting  epoch based on EEG : ['Fz']\n",
            "    Rejecting  epoch based on EEG : ['Fz']\n",
            "    Rejecting  epoch based on EEG : ['Fz']\n",
            "3 bad epochs dropped\n",
            "Not setting metadata\n",
            "85 matching events found\n",
            "No baseline correction applied\n",
            "0 projection items activated\n",
            "Using data from preloaded Raw for 85 events and 29001 original time points ...\n",
            "    Rejecting  epoch based on EEG : ['Fz']\n",
            "    Rejecting  epoch based on EEG : ['Fz']\n",
            "    Rejecting  epoch based on EEG : ['Fz']\n",
            "    Rejecting  epoch based on EEG : ['Fz']\n",
            "4 bad epochs dropped\n"
          ]
        },
        {
          "output_type": "stream",
          "name": "stderr",
          "text": [
            "\rProcessing EEG subjects:   5%|▍         | 3/65 [04:31<1:32:06, 89.14s/it]"
          ]
        },
        {
          "output_type": "stream",
          "name": "stdout",
          "text": [
            "\n",
            "🔍 Processing sub-039...\n"
          ]
        },
        {
          "output_type": "stream",
          "name": "stderr",
          "text": [
            "/usr/local/lib/python3.11/dist-packages/pymatreader/utils.py:168: UserWarning: Complex objects (like classes) are not supported. They are imported on a best effort base but your mileage will vary.\n",
            "  warn(\n"
          ]
        },
        {
          "output_type": "stream",
          "name": "stdout",
          "text": [
            "NOTE: pick_channels() is a legacy function. New code should use inst.pick(...).\n"
          ]
        },
        {
          "output_type": "stream",
          "name": "stderr",
          "text": [
            "<ipython-input-2-8a7cce88ed6d>:35: RuntimeWarning: The data contains 'boundary' events, indicating data discontinuities. Be cautious of filtering and epoching around these events.\n",
            "  raw = mne.io.read_raw_eeglab(file_path, preload=True)\n"
          ]
        },
        {
          "output_type": "stream",
          "name": "stdout",
          "text": [
            "Used Annotations descriptions: [np.str_('500105'), np.str_('500109'), np.str_('500113'), np.str_('500205'), np.str_('500209'), np.str_('500213'), np.str_('500305'), np.str_('500309'), np.str_('500313'), np.str_('500405'), np.str_('500409'), np.str_('500413'), np.str_('500505'), np.str_('500509'), np.str_('500513'), np.str_('500609'), np.str_('500613'), np.str_('500709'), np.str_('500713'), np.str_('500809'), np.str_('500813'), np.str_('500909'), np.str_('500913'), np.str_('501013'), np.str_('501113'), np.str_('501213'), np.str_('501313'), np.str_('6001051'), np.str_('6001091'), np.str_('6001130'), np.str_('6001131'), np.str_('6002051'), np.str_('6002090'), np.str_('6002091'), np.str_('6002130'), np.str_('6002131'), np.str_('6003051'), np.str_('6003090'), np.str_('6003091'), np.str_('6003130'), np.str_('6003131'), np.str_('6004050'), np.str_('6004051'), np.str_('6004090'), np.str_('6004091'), np.str_('6004130'), np.str_('6004131'), np.str_('6005050'), np.str_('6005051'), np.str_('6005090'), np.str_('6005091'), np.str_('6005130'), np.str_('6005131'), np.str_('6006090'), np.str_('6006091'), np.str_('6006130'), np.str_('6006131'), np.str_('6007090'), np.str_('6007091'), np.str_('6007130'), np.str_('6007131'), np.str_('6008090'), np.str_('6008091'), np.str_('6008130'), np.str_('6008131'), np.str_('6009090'), np.str_('6009091'), np.str_('6009130'), np.str_('6009131'), np.str_('6010130'), np.str_('6010131'), np.str_('6011130'), np.str_('6012130'), np.str_('6013130'), np.str_('boundary')]\n",
            "Not setting metadata\n",
            "90 matching events found\n",
            "No baseline correction applied\n",
            "0 projection items activated\n",
            "Using data from preloaded Raw for 90 events and 13001 original time points ...\n",
            "    Rejecting  epoch based on EEG : ['Fz']\n",
            "    Rejecting  epoch based on EEG : ['Fz']\n",
            "    Rejecting  epoch based on EEG : ['Fz']\n",
            "    Rejecting  epoch based on EEG : ['Fz']\n",
            "    Rejecting  epoch based on EEG : ['Fz']\n",
            "    Rejecting  epoch based on EEG : ['Fz']\n",
            "    Rejecting  epoch based on EEG : ['Fz']\n",
            "    Rejecting  epoch based on EEG : ['Fz']\n",
            "    Rejecting  epoch based on EEG : ['Fz']\n",
            "9 bad epochs dropped\n",
            "Not setting metadata\n",
            "54 matching events found\n",
            "No baseline correction applied\n",
            "0 projection items activated\n",
            "Using data from preloaded Raw for 54 events and 21001 original time points ...\n",
            "    Rejecting  epoch based on EEG : ['Fz']\n",
            "    Rejecting  epoch based on EEG : ['Fz']\n",
            "    Rejecting  epoch based on EEG : ['Fz']\n",
            "    Rejecting  epoch based on EEG : ['Fz']\n",
            "    Rejecting  epoch based on EEG : ['Fz']\n",
            "    Rejecting  epoch based on EEG : ['Fz']\n",
            "    Rejecting  epoch based on EEG : ['Fz']\n",
            "    Rejecting  epoch based on EEG : ['Fz']\n",
            "    Rejecting  epoch based on EEG : ['Fz']\n",
            "9 bad epochs dropped\n",
            "Not setting metadata\n",
            "60 matching events found\n",
            "No baseline correction applied\n",
            "0 projection items activated\n",
            "Using data from preloaded Raw for 60 events and 29001 original time points ...\n",
            "    Rejecting  epoch based on EEG : ['Fz']\n",
            "    Rejecting  epoch based on EEG : ['Fz']\n",
            "    Rejecting  epoch based on EEG : ['Fz']\n",
            "    Rejecting  epoch based on EEG : ['Fz']\n",
            "    Rejecting  epoch based on EEG : ['Fz']\n",
            "    Rejecting  epoch based on EEG : ['Fz']\n",
            "    Rejecting  epoch based on EEG : ['Fz']\n",
            "    Rejecting  epoch based on EEG : ['Fz']\n",
            "    Rejecting  epoch based on EEG : ['Fz']\n",
            "    Rejecting  epoch based on EEG : ['Fz']\n",
            "    Rejecting  epoch based on EEG : ['Fz']\n",
            "    Rejecting  epoch based on EEG : ['Fz']\n",
            "    Rejecting  epoch based on EEG : ['Fz']\n",
            "    Rejecting  epoch based on EEG : ['Fz']\n",
            "    Rejecting  epoch based on EEG : ['Fz']\n",
            "    Rejecting  epoch based on EEG : ['Fz']\n",
            "    Rejecting  epoch based on EEG : ['Fz']\n",
            "    Rejecting  epoch based on EEG : ['Fz']\n",
            "    Rejecting  epoch based on EEG : ['Fz']\n",
            "    Rejecting  epoch based on EEG : ['Fz']\n",
            "    Rejecting  epoch based on EEG : ['Fz']\n",
            "    Rejecting  epoch based on EEG : ['Fz']\n",
            "    Rejecting  epoch based on EEG : ['Fz']\n",
            "    Rejecting  epoch based on EEG : ['Fz']\n",
            "    Rejecting  epoch based on EEG : ['Fz']\n",
            "    Rejecting  epoch based on EEG : ['Fz']\n",
            "    Rejecting  epoch based on EEG : ['Fz']\n",
            "    Rejecting  epoch based on EEG : ['Fz']\n",
            "28 bad epochs dropped\n"
          ]
        },
        {
          "output_type": "stream",
          "name": "stderr",
          "text": [
            "\rProcessing EEG subjects:   6%|▌         | 4/65 [05:54<1:27:57, 86.51s/it]"
          ]
        },
        {
          "output_type": "stream",
          "name": "stdout",
          "text": [
            "\n",
            "🔍 Processing sub-032...\n"
          ]
        },
        {
          "output_type": "stream",
          "name": "stderr",
          "text": [
            "/usr/local/lib/python3.11/dist-packages/pymatreader/utils.py:168: UserWarning: Complex objects (like classes) are not supported. They are imported on a best effort base but your mileage will vary.\n",
            "  warn(\n"
          ]
        },
        {
          "output_type": "stream",
          "name": "stdout",
          "text": [
            "NOTE: pick_channels() is a legacy function. New code should use inst.pick(...).\n"
          ]
        },
        {
          "output_type": "stream",
          "name": "stderr",
          "text": [
            "<ipython-input-2-8a7cce88ed6d>:35: RuntimeWarning: The data contains 'boundary' events, indicating data discontinuities. Be cautious of filtering and epoching around these events.\n",
            "  raw = mne.io.read_raw_eeglab(file_path, preload=True)\n"
          ]
        },
        {
          "output_type": "stream",
          "name": "stdout",
          "text": [
            "Used Annotations descriptions: [np.str_('500105'), np.str_('500109'), np.str_('500113'), np.str_('500205'), np.str_('500209'), np.str_('500213'), np.str_('500305'), np.str_('500309'), np.str_('500313'), np.str_('500405'), np.str_('500409'), np.str_('500413'), np.str_('500505'), np.str_('500509'), np.str_('500513'), np.str_('500609'), np.str_('500613'), np.str_('500709'), np.str_('500713'), np.str_('500809'), np.str_('500813'), np.str_('500909'), np.str_('500913'), np.str_('501013'), np.str_('501113'), np.str_('501213'), np.str_('501313'), np.str_('6001051'), np.str_('6001090'), np.str_('6001091'), np.str_('6001130'), np.str_('6001131'), np.str_('6002051'), np.str_('6002090'), np.str_('6002091'), np.str_('6002130'), np.str_('6002131'), np.str_('6003051'), np.str_('6003090'), np.str_('6003091'), np.str_('6003130'), np.str_('6003131'), np.str_('6004051'), np.str_('6004090'), np.str_('6004091'), np.str_('6004130'), np.str_('6004131'), np.str_('6005051'), np.str_('6005090'), np.str_('6005091'), np.str_('6005130'), np.str_('6005131'), np.str_('6006090'), np.str_('6006091'), np.str_('6006130'), np.str_('6006131'), np.str_('6007090'), np.str_('6007091'), np.str_('6007130'), np.str_('6007131'), np.str_('6008090'), np.str_('6008091'), np.str_('6008130'), np.str_('6008131'), np.str_('6009090'), np.str_('6009091'), np.str_('6009130'), np.str_('6009131'), np.str_('6010130'), np.str_('6011130'), np.str_('6012130'), np.str_('6013130'), np.str_('boundary')]\n",
            "Not setting metadata\n",
            "55 matching events found\n",
            "No baseline correction applied\n",
            "0 projection items activated\n",
            "Using data from preloaded Raw for 55 events and 13001 original time points ...\n",
            "0 bad epochs dropped\n",
            "Not setting metadata\n",
            "54 matching events found\n",
            "No baseline correction applied\n",
            "0 projection items activated\n",
            "Using data from preloaded Raw for 54 events and 21001 original time points ...\n",
            "0 bad epochs dropped\n",
            "Not setting metadata\n",
            "89 matching events found\n",
            "No baseline correction applied\n",
            "0 projection items activated\n",
            "Using data from preloaded Raw for 89 events and 29001 original time points ...\n",
            "    Rejecting  epoch based on EEG : ['Fz']\n",
            "1 bad epochs dropped\n"
          ]
        },
        {
          "output_type": "stream",
          "name": "stderr",
          "text": [
            "\rProcessing EEG subjects:   8%|▊         | 5/65 [07:21<1:26:52, 86.87s/it]"
          ]
        },
        {
          "output_type": "stream",
          "name": "stdout",
          "text": [
            "\n",
            "🔍 Processing sub-034...\n"
          ]
        },
        {
          "output_type": "stream",
          "name": "stderr",
          "text": [
            "/usr/local/lib/python3.11/dist-packages/pymatreader/utils.py:168: UserWarning: Complex objects (like classes) are not supported. They are imported on a best effort base but your mileage will vary.\n",
            "  warn(\n"
          ]
        },
        {
          "output_type": "stream",
          "name": "stdout",
          "text": [
            "NOTE: pick_channels() is a legacy function. New code should use inst.pick(...).\n"
          ]
        },
        {
          "output_type": "stream",
          "name": "stderr",
          "text": [
            "<ipython-input-2-8a7cce88ed6d>:35: RuntimeWarning: The data contains 'boundary' events, indicating data discontinuities. Be cautious of filtering and epoching around these events.\n",
            "  raw = mne.io.read_raw_eeglab(file_path, preload=True)\n"
          ]
        },
        {
          "output_type": "stream",
          "name": "stdout",
          "text": [
            "Used Annotations descriptions: [np.str_('500105'), np.str_('500109'), np.str_('500113'), np.str_('500205'), np.str_('500209'), np.str_('500213'), np.str_('500305'), np.str_('500309'), np.str_('500313'), np.str_('500405'), np.str_('500409'), np.str_('500413'), np.str_('500505'), np.str_('500509'), np.str_('500513'), np.str_('500609'), np.str_('500613'), np.str_('500709'), np.str_('500713'), np.str_('500809'), np.str_('500813'), np.str_('500909'), np.str_('500913'), np.str_('501013'), np.str_('501113'), np.str_('501213'), np.str_('501313'), np.str_('6001051'), np.str_('6001091'), np.str_('6001131'), np.str_('6002051'), np.str_('6002090'), np.str_('6002091'), np.str_('6002130'), np.str_('6002131'), np.str_('6003051'), np.str_('6003090'), np.str_('6003091'), np.str_('6003130'), np.str_('6003131'), np.str_('6004051'), np.str_('6004090'), np.str_('6004091'), np.str_('6004130'), np.str_('6004131'), np.str_('6005051'), np.str_('6005090'), np.str_('6005091'), np.str_('6005130'), np.str_('6005131'), np.str_('6006090'), np.str_('6006091'), np.str_('6006130'), np.str_('6006131'), np.str_('6007090'), np.str_('6007091'), np.str_('6007130'), np.str_('6007131'), np.str_('6008090'), np.str_('6008091'), np.str_('6008130'), np.str_('6008131'), np.str_('6009090'), np.str_('6009091'), np.str_('6009130'), np.str_('6009131'), np.str_('6010130'), np.str_('6010131'), np.str_('6011130'), np.str_('6012130'), np.str_('6013130'), np.str_('boundary')]\n",
            "Not setting metadata\n",
            "90 matching events found\n",
            "No baseline correction applied\n",
            "0 projection items activated\n",
            "Using data from preloaded Raw for 90 events and 13001 original time points ...\n",
            "0 bad epochs dropped\n",
            "Not setting metadata\n",
            "90 matching events found\n",
            "No baseline correction applied\n",
            "0 projection items activated\n",
            "Using data from preloaded Raw for 90 events and 21001 original time points ...\n",
            "    Rejecting  epoch based on EEG : ['Fz']\n",
            "1 bad epochs dropped\n",
            "Not setting metadata\n",
            "54 matching events found\n",
            "No baseline correction applied\n",
            "0 projection items activated\n",
            "Using data from preloaded Raw for 54 events and 29001 original time points ...\n",
            "    Rejecting  epoch based on EEG : ['Fz']\n",
            "    Rejecting  epoch based on EEG : ['Fz']\n",
            "2 bad epochs dropped\n"
          ]
        },
        {
          "output_type": "stream",
          "name": "stderr",
          "text": [
            "\rProcessing EEG subjects:   9%|▉         | 6/65 [08:50<1:25:59, 87.45s/it]"
          ]
        },
        {
          "output_type": "stream",
          "name": "stdout",
          "text": [
            "\n",
            "🔍 Processing sub-036...\n"
          ]
        },
        {
          "output_type": "stream",
          "name": "stderr",
          "text": [
            "/usr/local/lib/python3.11/dist-packages/pymatreader/utils.py:168: UserWarning: Complex objects (like classes) are not supported. They are imported on a best effort base but your mileage will vary.\n",
            "  warn(\n"
          ]
        },
        {
          "output_type": "stream",
          "name": "stdout",
          "text": [
            "NOTE: pick_channels() is a legacy function. New code should use inst.pick(...).\n"
          ]
        },
        {
          "output_type": "stream",
          "name": "stderr",
          "text": [
            "<ipython-input-2-8a7cce88ed6d>:35: RuntimeWarning: The data contains 'boundary' events, indicating data discontinuities. Be cautious of filtering and epoching around these events.\n",
            "  raw = mne.io.read_raw_eeglab(file_path, preload=True)\n"
          ]
        },
        {
          "output_type": "stream",
          "name": "stdout",
          "text": [
            "Used Annotations descriptions: [np.str_('500105'), np.str_('500109'), np.str_('500113'), np.str_('500205'), np.str_('500209'), np.str_('500213'), np.str_('500305'), np.str_('500309'), np.str_('500313'), np.str_('500405'), np.str_('500409'), np.str_('500413'), np.str_('500505'), np.str_('500509'), np.str_('500513'), np.str_('500609'), np.str_('500613'), np.str_('500709'), np.str_('500713'), np.str_('500809'), np.str_('500813'), np.str_('500909'), np.str_('500913'), np.str_('501013'), np.str_('501113'), np.str_('501213'), np.str_('501313'), np.str_('6001050'), np.str_('6001051'), np.str_('6001090'), np.str_('6001091'), np.str_('6001130'), np.str_('6001131'), np.str_('6002050'), np.str_('6002051'), np.str_('6002090'), np.str_('6002091'), np.str_('6002130'), np.str_('6002131'), np.str_('6003050'), np.str_('6003051'), np.str_('6003090'), np.str_('6003091'), np.str_('6003130'), np.str_('6003131'), np.str_('6004050'), np.str_('6004051'), np.str_('6004090'), np.str_('6004091'), np.str_('6004130'), np.str_('6004131'), np.str_('6005050'), np.str_('6005051'), np.str_('6005090'), np.str_('6005091'), np.str_('6005130'), np.str_('6005131'), np.str_('6006090'), np.str_('6006091'), np.str_('6006130'), np.str_('6006131'), np.str_('6007090'), np.str_('6007091'), np.str_('6007130'), np.str_('6007131'), np.str_('6008090'), np.str_('6008130'), np.str_('6008131'), np.str_('6009090'), np.str_('6009091'), np.str_('6009130'), np.str_('6009131'), np.str_('6010130'), np.str_('6011130'), np.str_('6012130'), np.str_('6013130'), np.str_('boundary')]\n",
            "Not setting metadata\n",
            "54 matching events found\n",
            "No baseline correction applied\n",
            "0 projection items activated\n",
            "Using data from preloaded Raw for 54 events and 13001 original time points ...\n",
            "0 bad epochs dropped\n",
            "Not setting metadata\n",
            "54 matching events found\n",
            "No baseline correction applied\n",
            "0 projection items activated\n",
            "Using data from preloaded Raw for 54 events and 21001 original time points ...\n",
            "0 bad epochs dropped\n",
            "Not setting metadata\n",
            "54 matching events found\n",
            "No baseline correction applied\n",
            "0 projection items activated\n",
            "Using data from preloaded Raw for 54 events and 29001 original time points ...\n",
            "    Rejecting  epoch based on EEG : ['Fz']\n",
            "1 bad epochs dropped\n"
          ]
        },
        {
          "output_type": "stream",
          "name": "stderr",
          "text": [
            "\rProcessing EEG subjects:  11%|█         | 7/65 [10:25<1:26:54, 89.91s/it]"
          ]
        },
        {
          "output_type": "stream",
          "name": "stdout",
          "text": [
            "\n",
            "🔍 Processing sub-035...\n"
          ]
        },
        {
          "output_type": "stream",
          "name": "stderr",
          "text": [
            "/usr/local/lib/python3.11/dist-packages/pymatreader/utils.py:168: UserWarning: Complex objects (like classes) are not supported. They are imported on a best effort base but your mileage will vary.\n",
            "  warn(\n"
          ]
        },
        {
          "output_type": "stream",
          "name": "stdout",
          "text": [
            "NOTE: pick_channels() is a legacy function. New code should use inst.pick(...).\n"
          ]
        },
        {
          "output_type": "stream",
          "name": "stderr",
          "text": [
            "<ipython-input-2-8a7cce88ed6d>:35: RuntimeWarning: The data contains 'boundary' events, indicating data discontinuities. Be cautious of filtering and epoching around these events.\n",
            "  raw = mne.io.read_raw_eeglab(file_path, preload=True)\n"
          ]
        },
        {
          "output_type": "stream",
          "name": "stdout",
          "text": [
            "Used Annotations descriptions: [np.str_('500105'), np.str_('500109'), np.str_('500113'), np.str_('500205'), np.str_('500209'), np.str_('500213'), np.str_('500305'), np.str_('500309'), np.str_('500313'), np.str_('500405'), np.str_('500409'), np.str_('500413'), np.str_('500505'), np.str_('500509'), np.str_('500513'), np.str_('500609'), np.str_('500613'), np.str_('500709'), np.str_('500713'), np.str_('500809'), np.str_('500813'), np.str_('500909'), np.str_('500913'), np.str_('501013'), np.str_('501113'), np.str_('501213'), np.str_('501313'), np.str_('6001051'), np.str_('6001090'), np.str_('6001091'), np.str_('6001130'), np.str_('6001131'), np.str_('6002051'), np.str_('6002090'), np.str_('6002091'), np.str_('6002130'), np.str_('6002131'), np.str_('6003050'), np.str_('6003051'), np.str_('6003090'), np.str_('6003091'), np.str_('6003130'), np.str_('6003131'), np.str_('6004050'), np.str_('6004051'), np.str_('6004090'), np.str_('6004091'), np.str_('6004130'), np.str_('6004131'), np.str_('6005050'), np.str_('6005051'), np.str_('6005090'), np.str_('6005091'), np.str_('6005130'), np.str_('6005131'), np.str_('6006090'), np.str_('6006091'), np.str_('6006130'), np.str_('6006131'), np.str_('6007090'), np.str_('6007091'), np.str_('6007130'), np.str_('6007131'), np.str_('6008090'), np.str_('6008091'), np.str_('6008130'), np.str_('6008131'), np.str_('6009090'), np.str_('6009091'), np.str_('6009130'), np.str_('6009131'), np.str_('6010130'), np.str_('6010131'), np.str_('6011130'), np.str_('6011131'), np.str_('6012130'), np.str_('6012131'), np.str_('6013130'), np.str_('boundary')]\n",
            "Not setting metadata\n",
            "56 matching events found\n",
            "No baseline correction applied\n",
            "0 projection items activated\n",
            "Using data from preloaded Raw for 56 events and 13001 original time points ...\n",
            "0 bad epochs dropped\n",
            "Not setting metadata\n",
            "61 matching events found\n",
            "No baseline correction applied\n",
            "0 projection items activated\n",
            "Using data from preloaded Raw for 61 events and 21001 original time points ...\n",
            "0 bad epochs dropped\n",
            "Not setting metadata\n",
            "81 matching events found\n",
            "No baseline correction applied\n",
            "0 projection items activated\n",
            "Using data from preloaded Raw for 81 events and 29001 original time points ...\n",
            "0 bad epochs dropped\n"
          ]
        },
        {
          "output_type": "stream",
          "name": "stderr",
          "text": [
            "\rProcessing EEG subjects:  12%|█▏        | 8/65 [11:50<1:23:49, 88.23s/it]"
          ]
        },
        {
          "output_type": "stream",
          "name": "stdout",
          "text": [
            "\n",
            "🔍 Processing sub-041...\n"
          ]
        },
        {
          "output_type": "stream",
          "name": "stderr",
          "text": [
            "/usr/local/lib/python3.11/dist-packages/pymatreader/utils.py:168: UserWarning: Complex objects (like classes) are not supported. They are imported on a best effort base but your mileage will vary.\n",
            "  warn(\n"
          ]
        },
        {
          "output_type": "stream",
          "name": "stdout",
          "text": [
            "NOTE: pick_channels() is a legacy function. New code should use inst.pick(...).\n"
          ]
        },
        {
          "output_type": "stream",
          "name": "stderr",
          "text": [
            "<ipython-input-2-8a7cce88ed6d>:35: RuntimeWarning: The data contains 'boundary' events, indicating data discontinuities. Be cautious of filtering and epoching around these events.\n",
            "  raw = mne.io.read_raw_eeglab(file_path, preload=True)\n"
          ]
        },
        {
          "output_type": "stream",
          "name": "stdout",
          "text": [
            "Used Annotations descriptions: [np.str_('500105'), np.str_('500109'), np.str_('500113'), np.str_('500205'), np.str_('500209'), np.str_('500213'), np.str_('500305'), np.str_('500309'), np.str_('500313'), np.str_('500405'), np.str_('500409'), np.str_('500413'), np.str_('500505'), np.str_('500509'), np.str_('500513'), np.str_('500609'), np.str_('500613'), np.str_('500709'), np.str_('500713'), np.str_('500809'), np.str_('500813'), np.str_('500909'), np.str_('500913'), np.str_('501013'), np.str_('501113'), np.str_('501213'), np.str_('501313'), np.str_('6001051'), np.str_('6001090'), np.str_('6001091'), np.str_('6001130'), np.str_('6001131'), np.str_('6002051'), np.str_('6002090'), np.str_('6002091'), np.str_('6002130'), np.str_('6002131'), np.str_('6003050'), np.str_('6003051'), np.str_('6003090'), np.str_('6003091'), np.str_('6003130'), np.str_('6003131'), np.str_('6004050'), np.str_('6004051'), np.str_('6004090'), np.str_('6004091'), np.str_('6004130'), np.str_('6004131'), np.str_('6005050'), np.str_('6005051'), np.str_('6005090'), np.str_('6005091'), np.str_('6005130'), np.str_('6005131'), np.str_('6006090'), np.str_('6006091'), np.str_('6006130'), np.str_('6006131'), np.str_('6007090'), np.str_('6007091'), np.str_('6007130'), np.str_('6007131'), np.str_('6008090'), np.str_('6008091'), np.str_('6008130'), np.str_('6008131'), np.str_('6009090'), np.str_('6009091'), np.str_('6009130'), np.str_('6009131'), np.str_('6010130'), np.str_('6010131'), np.str_('6011130'), np.str_('6011131'), np.str_('6012130'), np.str_('6012131'), np.str_('6013130'), np.str_('boundary')]\n",
            "Not setting metadata\n",
            "57 matching events found\n",
            "No baseline correction applied\n",
            "0 projection items activated\n",
            "Using data from preloaded Raw for 57 events and 13001 original time points ...\n",
            "0 bad epochs dropped\n",
            "Not setting metadata\n",
            "56 matching events found\n",
            "No baseline correction applied\n",
            "0 projection items activated\n",
            "Using data from preloaded Raw for 56 events and 21001 original time points ...\n",
            "    Rejecting  epoch based on EEG : ['Fz']\n",
            "    Rejecting  epoch based on EEG : ['Fz']\n",
            "    Rejecting  epoch based on EEG : ['Fz']\n",
            "    Rejecting  epoch based on EEG : ['Fz']\n",
            "    Rejecting  epoch based on EEG : ['Fz']\n",
            "    Rejecting  epoch based on EEG : ['Fz']\n",
            "    Rejecting  epoch based on EEG : ['Fz']\n",
            "    Rejecting  epoch based on EEG : ['Fz']\n",
            "    Rejecting  epoch based on EEG : ['Fz']\n",
            "    Rejecting  epoch based on EEG : ['Fz']\n",
            "    Rejecting  epoch based on EEG : ['Fz']\n",
            "    Rejecting  epoch based on EEG : ['Fz']\n",
            "12 bad epochs dropped\n",
            "Not setting metadata\n",
            "85 matching events found\n",
            "No baseline correction applied\n",
            "0 projection items activated\n",
            "Using data from preloaded Raw for 85 events and 29001 original time points ...\n",
            "    Rejecting  epoch based on EEG : ['Fz']\n",
            "    Rejecting  epoch based on EEG : ['Fz']\n",
            "    Rejecting  epoch based on EEG : ['Fz']\n",
            "    Rejecting  epoch based on EEG : ['Fz']\n",
            "    Rejecting  epoch based on EEG : ['Fz']\n",
            "    Rejecting  epoch based on EEG : ['Fz']\n",
            "    Rejecting  epoch based on EEG : ['Fz']\n",
            "    Rejecting  epoch based on EEG : ['Fz']\n",
            "    Rejecting  epoch based on EEG : ['Fz']\n",
            "9 bad epochs dropped\n"
          ]
        },
        {
          "output_type": "stream",
          "name": "stderr",
          "text": [
            "\rProcessing EEG subjects:  14%|█▍        | 9/65 [13:26<1:24:51, 90.91s/it]"
          ]
        },
        {
          "output_type": "stream",
          "name": "stdout",
          "text": [
            "\n",
            "🔍 Processing sub-047...\n"
          ]
        },
        {
          "output_type": "stream",
          "name": "stderr",
          "text": [
            "/usr/local/lib/python3.11/dist-packages/pymatreader/utils.py:168: UserWarning: Complex objects (like classes) are not supported. They are imported on a best effort base but your mileage will vary.\n",
            "  warn(\n"
          ]
        },
        {
          "output_type": "stream",
          "name": "stdout",
          "text": [
            "NOTE: pick_channels() is a legacy function. New code should use inst.pick(...).\n"
          ]
        },
        {
          "output_type": "stream",
          "name": "stderr",
          "text": [
            "<ipython-input-2-8a7cce88ed6d>:35: RuntimeWarning: The data contains 'boundary' events, indicating data discontinuities. Be cautious of filtering and epoching around these events.\n",
            "  raw = mne.io.read_raw_eeglab(file_path, preload=True)\n"
          ]
        },
        {
          "output_type": "stream",
          "name": "stdout",
          "text": [
            "Used Annotations descriptions: [np.str_('500105'), np.str_('500109'), np.str_('500113'), np.str_('500205'), np.str_('500209'), np.str_('500213'), np.str_('500305'), np.str_('500309'), np.str_('500313'), np.str_('500405'), np.str_('500409'), np.str_('500413'), np.str_('500505'), np.str_('500509'), np.str_('500513'), np.str_('500609'), np.str_('500613'), np.str_('500709'), np.str_('500713'), np.str_('500809'), np.str_('500813'), np.str_('500909'), np.str_('500913'), np.str_('501013'), np.str_('501113'), np.str_('501213'), np.str_('501313'), np.str_('6001050'), np.str_('6001051'), np.str_('6001090'), np.str_('6001091'), np.str_('6001130'), np.str_('6001131'), np.str_('6002051'), np.str_('6002090'), np.str_('6002091'), np.str_('6002130'), np.str_('6002131'), np.str_('6003050'), np.str_('6003051'), np.str_('6003090'), np.str_('6003091'), np.str_('6003130'), np.str_('6003131'), np.str_('6004050'), np.str_('6004051'), np.str_('6004090'), np.str_('6004091'), np.str_('6004130'), np.str_('6004131'), np.str_('6005050'), np.str_('6005051'), np.str_('6005090'), np.str_('6005091'), np.str_('6005130'), np.str_('6005131'), np.str_('6006090'), np.str_('6006091'), np.str_('6006130'), np.str_('6006131'), np.str_('6007090'), np.str_('6007091'), np.str_('6007130'), np.str_('6007131'), np.str_('6008090'), np.str_('6008091'), np.str_('6008130'), np.str_('6008131'), np.str_('6009090'), np.str_('6009091'), np.str_('6009130'), np.str_('6009131'), np.str_('6010130'), np.str_('6010131'), np.str_('6011130'), np.str_('6011131'), np.str_('6012130'), np.str_('6013130'), np.str_('boundary')]\n",
            "Not setting metadata\n",
            "54 matching events found\n",
            "No baseline correction applied\n",
            "0 projection items activated\n",
            "Using data from preloaded Raw for 54 events and 13001 original time points ...\n",
            "0 bad epochs dropped\n",
            "Not setting metadata\n",
            "54 matching events found\n",
            "No baseline correction applied\n",
            "0 projection items activated\n",
            "Using data from preloaded Raw for 54 events and 21001 original time points ...\n",
            "0 bad epochs dropped\n",
            "Not setting metadata\n",
            "54 matching events found\n",
            "No baseline correction applied\n",
            "0 projection items activated\n",
            "Using data from preloaded Raw for 54 events and 29001 original time points ...\n",
            "0 bad epochs dropped\n"
          ]
        },
        {
          "output_type": "stream",
          "name": "stderr",
          "text": [
            "\rProcessing EEG subjects:  15%|█▌        | 10/65 [14:54<1:22:16, 89.76s/it]"
          ]
        },
        {
          "output_type": "stream",
          "name": "stdout",
          "text": [
            "\n",
            "🔍 Processing sub-043...\n"
          ]
        },
        {
          "output_type": "stream",
          "name": "stderr",
          "text": [
            "/usr/local/lib/python3.11/dist-packages/pymatreader/utils.py:168: UserWarning: Complex objects (like classes) are not supported. They are imported on a best effort base but your mileage will vary.\n",
            "  warn(\n"
          ]
        },
        {
          "output_type": "stream",
          "name": "stdout",
          "text": [
            "NOTE: pick_channels() is a legacy function. New code should use inst.pick(...).\n"
          ]
        },
        {
          "output_type": "stream",
          "name": "stderr",
          "text": [
            "<ipython-input-2-8a7cce88ed6d>:35: RuntimeWarning: The data contains 'boundary' events, indicating data discontinuities. Be cautious of filtering and epoching around these events.\n",
            "  raw = mne.io.read_raw_eeglab(file_path, preload=True)\n"
          ]
        },
        {
          "output_type": "stream",
          "name": "stdout",
          "text": [
            "Used Annotations descriptions: [np.str_('500105'), np.str_('500109'), np.str_('500113'), np.str_('500205'), np.str_('500209'), np.str_('500213'), np.str_('500305'), np.str_('500309'), np.str_('500313'), np.str_('500405'), np.str_('500409'), np.str_('500413'), np.str_('500505'), np.str_('500509'), np.str_('500513'), np.str_('500609'), np.str_('500613'), np.str_('500709'), np.str_('500713'), np.str_('500809'), np.str_('500813'), np.str_('500909'), np.str_('500913'), np.str_('501013'), np.str_('501113'), np.str_('501213'), np.str_('501313'), np.str_('6001050'), np.str_('6001051'), np.str_('6001090'), np.str_('6001091'), np.str_('6001130'), np.str_('6001131'), np.str_('6002050'), np.str_('6002051'), np.str_('6002090'), np.str_('6002091'), np.str_('6002130'), np.str_('6002131'), np.str_('6003050'), np.str_('6003051'), np.str_('6003090'), np.str_('6003091'), np.str_('6003130'), np.str_('6003131'), np.str_('6004050'), np.str_('6004051'), np.str_('6004090'), np.str_('6004091'), np.str_('6004130'), np.str_('6004131'), np.str_('6005050'), np.str_('6005051'), np.str_('6005090'), np.str_('6005091'), np.str_('6005130'), np.str_('6005131'), np.str_('6006090'), np.str_('6006091'), np.str_('6006130'), np.str_('6006131'), np.str_('6007090'), np.str_('6007091'), np.str_('6007130'), np.str_('6007131'), np.str_('6008090'), np.str_('6008091'), np.str_('6008130'), np.str_('6008131'), np.str_('6009090'), np.str_('6009091'), np.str_('6009130'), np.str_('6009131'), np.str_('6010130'), np.str_('6010131'), np.str_('6011130'), np.str_('6012130'), np.str_('6013130'), np.str_('boundary')]\n",
            "Not setting metadata\n",
            "54 matching events found\n",
            "No baseline correction applied\n",
            "0 projection items activated\n",
            "Using data from preloaded Raw for 54 events and 13001 original time points ...\n",
            "0 bad epochs dropped\n",
            "Not setting metadata\n",
            "54 matching events found\n",
            "No baseline correction applied\n",
            "0 projection items activated\n",
            "Using data from preloaded Raw for 54 events and 21001 original time points ...\n",
            "    Rejecting  epoch based on EEG : ['Fz']\n",
            "    Rejecting  epoch based on EEG : ['Fz']\n",
            "2 bad epochs dropped\n",
            "Not setting metadata\n",
            "54 matching events found\n",
            "No baseline correction applied\n",
            "0 projection items activated\n",
            "Using data from preloaded Raw for 54 events and 29001 original time points ...\n",
            "    Rejecting  epoch based on EEG : ['Fz']\n",
            "    Rejecting  epoch based on EEG : ['Fz']\n",
            "    Rejecting  epoch based on EEG : ['Fz']\n",
            "    Rejecting  epoch based on EEG : ['Fz']\n",
            "    Rejecting  epoch based on EEG : ['Fz']\n",
            "    Rejecting  epoch based on EEG : ['Fz']\n",
            "    Rejecting  epoch based on EEG : ['Fz']\n",
            "    Rejecting  epoch based on EEG : ['Fz']\n",
            "    Rejecting  epoch based on EEG : ['Fz']\n",
            "9 bad epochs dropped\n"
          ]
        },
        {
          "output_type": "stream",
          "name": "stderr",
          "text": [
            "\rProcessing EEG subjects:  17%|█▋        | 11/65 [16:18<1:19:17, 88.10s/it]"
          ]
        },
        {
          "output_type": "stream",
          "name": "stdout",
          "text": [
            "\n",
            "🔍 Processing sub-044...\n"
          ]
        },
        {
          "output_type": "stream",
          "name": "stderr",
          "text": [
            "/usr/local/lib/python3.11/dist-packages/pymatreader/utils.py:168: UserWarning: Complex objects (like classes) are not supported. They are imported on a best effort base but your mileage will vary.\n",
            "  warn(\n"
          ]
        },
        {
          "output_type": "stream",
          "name": "stdout",
          "text": [
            "NOTE: pick_channels() is a legacy function. New code should use inst.pick(...).\n"
          ]
        },
        {
          "output_type": "stream",
          "name": "stderr",
          "text": [
            "<ipython-input-2-8a7cce88ed6d>:35: RuntimeWarning: The data contains 'boundary' events, indicating data discontinuities. Be cautious of filtering and epoching around these events.\n",
            "  raw = mne.io.read_raw_eeglab(file_path, preload=True)\n"
          ]
        },
        {
          "output_type": "stream",
          "name": "stdout",
          "text": [
            "Used Annotations descriptions: [np.str_('500105'), np.str_('500109'), np.str_('500113'), np.str_('500205'), np.str_('500209'), np.str_('500213'), np.str_('500305'), np.str_('500309'), np.str_('500313'), np.str_('500405'), np.str_('500409'), np.str_('500413'), np.str_('500505'), np.str_('500509'), np.str_('500513'), np.str_('500609'), np.str_('500613'), np.str_('500709'), np.str_('500713'), np.str_('500809'), np.str_('500813'), np.str_('500909'), np.str_('500913'), np.str_('501013'), np.str_('501113'), np.str_('501213'), np.str_('501313'), np.str_('6001050'), np.str_('6001051'), np.str_('6001091'), np.str_('6001130'), np.str_('6001131'), np.str_('6002050'), np.str_('6002051'), np.str_('6002090'), np.str_('6002091'), np.str_('6002130'), np.str_('6002131'), np.str_('6003050'), np.str_('6003051'), np.str_('6003090'), np.str_('6003091'), np.str_('6003130'), np.str_('6003131'), np.str_('6004050'), np.str_('6004051'), np.str_('6004090'), np.str_('6004091'), np.str_('6004130'), np.str_('6004131'), np.str_('6005050'), np.str_('6005051'), np.str_('6005090'), np.str_('6005091'), np.str_('6005130'), np.str_('6005131'), np.str_('6006090'), np.str_('6006091'), np.str_('6006130'), np.str_('6006131'), np.str_('6007090'), np.str_('6007091'), np.str_('6007130'), np.str_('6007131'), np.str_('6008090'), np.str_('6008091'), np.str_('6008130'), np.str_('6008131'), np.str_('6009090'), np.str_('6009091'), np.str_('6009130'), np.str_('6009131'), np.str_('6010130'), np.str_('6010131'), np.str_('6011130'), np.str_('6012130'), np.str_('6012131'), np.str_('6013130'), np.str_('boundary')]\n",
            "Not setting metadata\n",
            "54 matching events found\n",
            "No baseline correction applied\n",
            "0 projection items activated\n",
            "Using data from preloaded Raw for 54 events and 13001 original time points ...\n",
            "0 bad epochs dropped\n",
            "Not setting metadata\n",
            "59 matching events found\n",
            "No baseline correction applied\n",
            "0 projection items activated\n",
            "Using data from preloaded Raw for 59 events and 21001 original time points ...\n",
            "0 bad epochs dropped\n",
            "Not setting metadata\n",
            "50 matching events found\n",
            "No baseline correction applied\n",
            "0 projection items activated\n",
            "Using data from preloaded Raw for 50 events and 29001 original time points ...\n",
            "0 bad epochs dropped\n"
          ]
        },
        {
          "output_type": "stream",
          "name": "stderr",
          "text": [
            "\rProcessing EEG subjects:  18%|█▊        | 12/65 [17:43<1:16:53, 87.05s/it]"
          ]
        },
        {
          "output_type": "stream",
          "name": "stdout",
          "text": [
            "\n",
            "🔍 Processing sub-045...\n"
          ]
        },
        {
          "output_type": "stream",
          "name": "stderr",
          "text": [
            "/usr/local/lib/python3.11/dist-packages/pymatreader/utils.py:168: UserWarning: Complex objects (like classes) are not supported. They are imported on a best effort base but your mileage will vary.\n",
            "  warn(\n"
          ]
        },
        {
          "output_type": "stream",
          "name": "stdout",
          "text": [
            "NOTE: pick_channels() is a legacy function. New code should use inst.pick(...).\n"
          ]
        },
        {
          "output_type": "stream",
          "name": "stderr",
          "text": [
            "<ipython-input-2-8a7cce88ed6d>:35: RuntimeWarning: The data contains 'boundary' events, indicating data discontinuities. Be cautious of filtering and epoching around these events.\n",
            "  raw = mne.io.read_raw_eeglab(file_path, preload=True)\n"
          ]
        },
        {
          "output_type": "stream",
          "name": "stdout",
          "text": [
            "Used Annotations descriptions: [np.str_('500105'), np.str_('500109'), np.str_('500113'), np.str_('500205'), np.str_('500209'), np.str_('500213'), np.str_('500305'), np.str_('500309'), np.str_('500313'), np.str_('500405'), np.str_('500409'), np.str_('500413'), np.str_('500505'), np.str_('500509'), np.str_('500513'), np.str_('500609'), np.str_('500613'), np.str_('500709'), np.str_('500713'), np.str_('500809'), np.str_('500813'), np.str_('500909'), np.str_('500913'), np.str_('501013'), np.str_('501113'), np.str_('501213'), np.str_('501313'), np.str_('6001050'), np.str_('6001051'), np.str_('6001090'), np.str_('6001091'), np.str_('6001130'), np.str_('6001131'), np.str_('6002050'), np.str_('6002051'), np.str_('6002090'), np.str_('6002091'), np.str_('6002130'), np.str_('6002131'), np.str_('6003050'), np.str_('6003051'), np.str_('6003090'), np.str_('6003091'), np.str_('6003130'), np.str_('6003131'), np.str_('6004050'), np.str_('6004051'), np.str_('6004090'), np.str_('6004091'), np.str_('6004130'), np.str_('6004131'), np.str_('6005050'), np.str_('6005051'), np.str_('6005090'), np.str_('6005091'), np.str_('6005130'), np.str_('6005131'), np.str_('6006090'), np.str_('6006091'), np.str_('6006130'), np.str_('6006131'), np.str_('6007090'), np.str_('6007091'), np.str_('6007130'), np.str_('6007131'), np.str_('6008090'), np.str_('6008091'), np.str_('6008130'), np.str_('6008131'), np.str_('6009090'), np.str_('6009130'), np.str_('6010130'), np.str_('6011130'), np.str_('6012130'), np.str_('6013130'), np.str_('boundary')]\n",
            "Not setting metadata\n",
            "54 matching events found\n",
            "No baseline correction applied\n",
            "0 projection items activated\n",
            "Using data from preloaded Raw for 54 events and 13001 original time points ...\n",
            "0 bad epochs dropped\n",
            "Not setting metadata\n",
            "54 matching events found\n",
            "No baseline correction applied\n",
            "0 projection items activated\n",
            "Using data from preloaded Raw for 54 events and 21001 original time points ...\n",
            "    Rejecting  epoch based on EEG : ['Fz']\n",
            "1 bad epochs dropped\n",
            "Not setting metadata\n",
            "54 matching events found\n",
            "No baseline correction applied\n",
            "0 projection items activated\n",
            "Using data from preloaded Raw for 54 events and 29001 original time points ...\n",
            "    Rejecting  epoch based on EEG : ['Fz']\n",
            "    Rejecting  epoch based on EEG : ['Fz']\n",
            "    Rejecting  epoch based on EEG : ['Fz']\n",
            "    Rejecting  epoch based on EEG : ['Fz']\n",
            "4 bad epochs dropped\n"
          ]
        },
        {
          "output_type": "stream",
          "name": "stderr",
          "text": [
            "\rProcessing EEG subjects:  20%|██        | 13/65 [19:19<1:17:52, 89.87s/it]"
          ]
        },
        {
          "output_type": "stream",
          "name": "stdout",
          "text": [
            "\n",
            "🔍 Processing sub-046...\n"
          ]
        },
        {
          "output_type": "stream",
          "name": "stderr",
          "text": [
            "/usr/local/lib/python3.11/dist-packages/pymatreader/utils.py:168: UserWarning: Complex objects (like classes) are not supported. They are imported on a best effort base but your mileage will vary.\n",
            "  warn(\n"
          ]
        },
        {
          "output_type": "stream",
          "name": "stdout",
          "text": [
            "NOTE: pick_channels() is a legacy function. New code should use inst.pick(...).\n"
          ]
        },
        {
          "output_type": "stream",
          "name": "stderr",
          "text": [
            "<ipython-input-2-8a7cce88ed6d>:35: RuntimeWarning: The data contains 'boundary' events, indicating data discontinuities. Be cautious of filtering and epoching around these events.\n",
            "  raw = mne.io.read_raw_eeglab(file_path, preload=True)\n"
          ]
        },
        {
          "output_type": "stream",
          "name": "stdout",
          "text": [
            "Used Annotations descriptions: [np.str_('500105'), np.str_('500109'), np.str_('500113'), np.str_('500205'), np.str_('500209'), np.str_('500213'), np.str_('500305'), np.str_('500309'), np.str_('500313'), np.str_('500405'), np.str_('500409'), np.str_('500413'), np.str_('500505'), np.str_('500509'), np.str_('500513'), np.str_('500609'), np.str_('500613'), np.str_('500709'), np.str_('500713'), np.str_('500809'), np.str_('500813'), np.str_('500909'), np.str_('500913'), np.str_('501013'), np.str_('501113'), np.str_('501213'), np.str_('501313'), np.str_('6001050'), np.str_('6001051'), np.str_('6001090'), np.str_('6001091'), np.str_('6001130'), np.str_('6001131'), np.str_('6002050'), np.str_('6002051'), np.str_('6002090'), np.str_('6002091'), np.str_('6002130'), np.str_('6002131'), np.str_('6003050'), np.str_('6003051'), np.str_('6003090'), np.str_('6003091'), np.str_('6003130'), np.str_('6003131'), np.str_('6004050'), np.str_('6004051'), np.str_('6004090'), np.str_('6004091'), np.str_('6004130'), np.str_('6004131'), np.str_('6005050'), np.str_('6005051'), np.str_('6005090'), np.str_('6005091'), np.str_('6005130'), np.str_('6005131'), np.str_('6006090'), np.str_('6006091'), np.str_('6006130'), np.str_('6006131'), np.str_('6007090'), np.str_('6007091'), np.str_('6007130'), np.str_('6007131'), np.str_('6008090'), np.str_('6008091'), np.str_('6008130'), np.str_('6008131'), np.str_('6009090'), np.str_('6009091'), np.str_('6009130'), np.str_('6009131'), np.str_('6010130'), np.str_('6010131'), np.str_('6011130'), np.str_('6011131'), np.str_('6012130'), np.str_('6012131'), np.str_('6013130'), np.str_('boundary')]\n",
            "Not setting metadata\n",
            "54 matching events found\n",
            "No baseline correction applied\n",
            "0 projection items activated\n",
            "Using data from preloaded Raw for 54 events and 13001 original time points ...\n",
            "0 bad epochs dropped\n",
            "Not setting metadata\n",
            "54 matching events found\n",
            "No baseline correction applied\n",
            "0 projection items activated\n",
            "Using data from preloaded Raw for 54 events and 21001 original time points ...\n",
            "    Rejecting  epoch based on EEG : ['Fz']\n",
            "1 bad epochs dropped\n",
            "Not setting metadata\n",
            "54 matching events found\n",
            "No baseline correction applied\n",
            "0 projection items activated\n",
            "Using data from preloaded Raw for 54 events and 29001 original time points ...\n",
            "0 bad epochs dropped\n"
          ]
        },
        {
          "output_type": "stream",
          "name": "stderr",
          "text": [
            "\rProcessing EEG subjects:  22%|██▏       | 14/65 [20:44<1:15:12, 88.49s/it]"
          ]
        },
        {
          "output_type": "stream",
          "name": "stdout",
          "text": [
            "\n",
            "🔍 Processing sub-050...\n"
          ]
        },
        {
          "output_type": "stream",
          "name": "stderr",
          "text": [
            "/usr/local/lib/python3.11/dist-packages/pymatreader/utils.py:168: UserWarning: Complex objects (like classes) are not supported. They are imported on a best effort base but your mileage will vary.\n",
            "  warn(\n"
          ]
        },
        {
          "output_type": "stream",
          "name": "stdout",
          "text": [
            "NOTE: pick_channels() is a legacy function. New code should use inst.pick(...).\n"
          ]
        },
        {
          "output_type": "stream",
          "name": "stderr",
          "text": [
            "<ipython-input-2-8a7cce88ed6d>:35: RuntimeWarning: The data contains 'boundary' events, indicating data discontinuities. Be cautious of filtering and epoching around these events.\n",
            "  raw = mne.io.read_raw_eeglab(file_path, preload=True)\n"
          ]
        },
        {
          "output_type": "stream",
          "name": "stdout",
          "text": [
            "Used Annotations descriptions: [np.str_('500105'), np.str_('500109'), np.str_('500113'), np.str_('500205'), np.str_('500209'), np.str_('500213'), np.str_('500305'), np.str_('500309'), np.str_('500313'), np.str_('500405'), np.str_('500409'), np.str_('500413'), np.str_('500505'), np.str_('500509'), np.str_('500513'), np.str_('500609'), np.str_('500613'), np.str_('500709'), np.str_('500713'), np.str_('500809'), np.str_('500813'), np.str_('500909'), np.str_('500913'), np.str_('501013'), np.str_('501113'), np.str_('501213'), np.str_('501313'), np.str_('6001050'), np.str_('6001051'), np.str_('6001090'), np.str_('6001091'), np.str_('6001130'), np.str_('6001131'), np.str_('6002050'), np.str_('6002051'), np.str_('6002090'), np.str_('6002091'), np.str_('6002130'), np.str_('6002131'), np.str_('6003050'), np.str_('6003051'), np.str_('6003090'), np.str_('6003091'), np.str_('6003130'), np.str_('6003131'), np.str_('6004050'), np.str_('6004051'), np.str_('6004090'), np.str_('6004091'), np.str_('6004130'), np.str_('6004131'), np.str_('6005050'), np.str_('6005051'), np.str_('6005090'), np.str_('6005091'), np.str_('6005130'), np.str_('6005131'), np.str_('6006090'), np.str_('6006091'), np.str_('6006130'), np.str_('6006131'), np.str_('6007090'), np.str_('6007091'), np.str_('6007130'), np.str_('6007131'), np.str_('6008090'), np.str_('6008091'), np.str_('6008130'), np.str_('6008131'), np.str_('6009090'), np.str_('6009091'), np.str_('6009130'), np.str_('6009131'), np.str_('6010130'), np.str_('6011130'), np.str_('6012130'), np.str_('6013130'), np.str_('6013131'), np.str_('boundary')]\n",
            "Not setting metadata\n",
            "54 matching events found\n",
            "No baseline correction applied\n",
            "0 projection items activated\n",
            "Using data from preloaded Raw for 54 events and 13001 original time points ...\n",
            "    Rejecting  epoch based on EEG : ['Fz']\n",
            "    Rejecting  epoch based on EEG : ['Fz']\n",
            "    Rejecting  epoch based on EEG : ['Fz']\n",
            "    Rejecting  epoch based on EEG : ['Fz']\n",
            "4 bad epochs dropped\n",
            "Not setting metadata\n",
            "54 matching events found\n",
            "No baseline correction applied\n",
            "0 projection items activated\n",
            "Using data from preloaded Raw for 54 events and 21001 original time points ...\n",
            "    Rejecting  epoch based on EEG : ['Fz']\n",
            "    Rejecting  epoch based on EEG : ['Fz']\n",
            "2 bad epochs dropped\n",
            "Not setting metadata\n",
            "54 matching events found\n",
            "No baseline correction applied\n",
            "0 projection items activated\n",
            "Using data from preloaded Raw for 54 events and 29001 original time points ...\n",
            "    Rejecting  epoch based on EEG : ['Fz']\n",
            "    Rejecting  epoch based on EEG : ['Fz']\n",
            "    Rejecting  epoch based on EEG : ['Fz']\n",
            "    Rejecting  epoch based on EEG : ['Fz']\n",
            "4 bad epochs dropped\n"
          ]
        },
        {
          "output_type": "stream",
          "name": "stderr",
          "text": [
            "\rProcessing EEG subjects:  23%|██▎       | 15/65 [22:23<1:16:19, 91.58s/it]"
          ]
        },
        {
          "output_type": "stream",
          "name": "stdout",
          "text": [
            "\n",
            "🔍 Processing sub-042...\n"
          ]
        },
        {
          "output_type": "stream",
          "name": "stderr",
          "text": [
            "/usr/local/lib/python3.11/dist-packages/pymatreader/utils.py:168: UserWarning: Complex objects (like classes) are not supported. They are imported on a best effort base but your mileage will vary.\n",
            "  warn(\n"
          ]
        },
        {
          "output_type": "stream",
          "name": "stdout",
          "text": [
            "NOTE: pick_channels() is a legacy function. New code should use inst.pick(...).\n"
          ]
        },
        {
          "output_type": "stream",
          "name": "stderr",
          "text": [
            "<ipython-input-2-8a7cce88ed6d>:35: RuntimeWarning: The data contains 'boundary' events, indicating data discontinuities. Be cautious of filtering and epoching around these events.\n",
            "  raw = mne.io.read_raw_eeglab(file_path, preload=True)\n"
          ]
        },
        {
          "output_type": "stream",
          "name": "stdout",
          "text": [
            "Used Annotations descriptions: [np.str_('500105'), np.str_('500109'), np.str_('500113'), np.str_('500205'), np.str_('500209'), np.str_('500213'), np.str_('500305'), np.str_('500309'), np.str_('500313'), np.str_('500405'), np.str_('500409'), np.str_('500413'), np.str_('500505'), np.str_('500509'), np.str_('500513'), np.str_('500609'), np.str_('500613'), np.str_('500709'), np.str_('500713'), np.str_('500809'), np.str_('500813'), np.str_('500909'), np.str_('500913'), np.str_('501013'), np.str_('501113'), np.str_('501213'), np.str_('501313'), np.str_('6001051'), np.str_('6001091'), np.str_('6001130'), np.str_('6001131'), np.str_('6002051'), np.str_('6002090'), np.str_('6002091'), np.str_('6002130'), np.str_('6002131'), np.str_('6003050'), np.str_('6003051'), np.str_('6003090'), np.str_('6003091'), np.str_('6003130'), np.str_('6003131'), np.str_('6004051'), np.str_('6004090'), np.str_('6004091'), np.str_('6004130'), np.str_('6004131'), np.str_('6005050'), np.str_('6005051'), np.str_('6005090'), np.str_('6005091'), np.str_('6005130'), np.str_('6005131'), np.str_('6006090'), np.str_('6006091'), np.str_('6006130'), np.str_('6006131'), np.str_('6007090'), np.str_('6007091'), np.str_('6007130'), np.str_('6007131'), np.str_('6008090'), np.str_('6008091'), np.str_('6008130'), np.str_('6008131'), np.str_('6009090'), np.str_('6009091'), np.str_('6009130'), np.str_('6009131'), np.str_('6010130'), np.str_('6010131'), np.str_('6011130'), np.str_('6012130'), np.str_('6013130'), np.str_('boundary')]\n",
            "Not setting metadata\n",
            "91 matching events found\n",
            "No baseline correction applied\n",
            "0 projection items activated\n",
            "Using data from preloaded Raw for 91 events and 13001 original time points ...\n",
            "0 bad epochs dropped\n",
            "Not setting metadata\n",
            "55 matching events found\n",
            "No baseline correction applied\n",
            "0 projection items activated\n",
            "Using data from preloaded Raw for 55 events and 21001 original time points ...\n",
            "    Rejecting  epoch based on EEG : ['Fz']\n",
            "    Rejecting  epoch based on EEG : ['Fz']\n",
            "    Rejecting  epoch based on EEG : ['Fz']\n",
            "3 bad epochs dropped\n",
            "Not setting metadata\n",
            "59 matching events found\n",
            "No baseline correction applied\n",
            "0 projection items activated\n",
            "Using data from preloaded Raw for 59 events and 29001 original time points ...\n",
            "    Rejecting  epoch based on EEG : ['Fz']\n",
            "    Rejecting  epoch based on EEG : ['Fz']\n",
            "    Rejecting  epoch based on EEG : ['Fz']\n",
            "    Rejecting  epoch based on EEG : ['Fz']\n",
            "    Rejecting  epoch based on EEG : ['Fz']\n",
            "    Rejecting  epoch based on EEG : ['Fz']\n",
            "6 bad epochs dropped\n"
          ]
        },
        {
          "output_type": "stream",
          "name": "stderr",
          "text": [
            "\rProcessing EEG subjects:  25%|██▍       | 16/65 [24:13<1:19:14, 97.04s/it]"
          ]
        },
        {
          "output_type": "stream",
          "name": "stdout",
          "text": [
            "\n",
            "🔍 Processing sub-049...\n"
          ]
        },
        {
          "output_type": "stream",
          "name": "stderr",
          "text": [
            "/usr/local/lib/python3.11/dist-packages/pymatreader/utils.py:168: UserWarning: Complex objects (like classes) are not supported. They are imported on a best effort base but your mileage will vary.\n",
            "  warn(\n"
          ]
        },
        {
          "output_type": "stream",
          "name": "stdout",
          "text": [
            "NOTE: pick_channels() is a legacy function. New code should use inst.pick(...).\n"
          ]
        },
        {
          "output_type": "stream",
          "name": "stderr",
          "text": [
            "<ipython-input-2-8a7cce88ed6d>:35: RuntimeWarning: The data contains 'boundary' events, indicating data discontinuities. Be cautious of filtering and epoching around these events.\n",
            "  raw = mne.io.read_raw_eeglab(file_path, preload=True)\n"
          ]
        },
        {
          "output_type": "stream",
          "name": "stdout",
          "text": [
            "Used Annotations descriptions: [np.str_('500105'), np.str_('500109'), np.str_('500113'), np.str_('500205'), np.str_('500209'), np.str_('500213'), np.str_('500305'), np.str_('500309'), np.str_('500313'), np.str_('500405'), np.str_('500409'), np.str_('500413'), np.str_('500505'), np.str_('500509'), np.str_('500513'), np.str_('500609'), np.str_('500613'), np.str_('500709'), np.str_('500713'), np.str_('500809'), np.str_('500813'), np.str_('500909'), np.str_('500913'), np.str_('501013'), np.str_('501113'), np.str_('501213'), np.str_('501313'), np.str_('6001051'), np.str_('6001090'), np.str_('6001091'), np.str_('6001130'), np.str_('6001131'), np.str_('6002050'), np.str_('6002051'), np.str_('6002090'), np.str_('6002091'), np.str_('6002130'), np.str_('6002131'), np.str_('6003050'), np.str_('6003051'), np.str_('6003090'), np.str_('6003091'), np.str_('6003130'), np.str_('6003131'), np.str_('6004050'), np.str_('6004051'), np.str_('6004090'), np.str_('6004091'), np.str_('6004130'), np.str_('6004131'), np.str_('6005050'), np.str_('6005051'), np.str_('6005090'), np.str_('6005091'), np.str_('6005130'), np.str_('6005131'), np.str_('6006090'), np.str_('6006091'), np.str_('6006130'), np.str_('6006131'), np.str_('6007090'), np.str_('6007091'), np.str_('6007130'), np.str_('6007131'), np.str_('6008090'), np.str_('6008091'), np.str_('6008130'), np.str_('6008131'), np.str_('6009090'), np.str_('6009091'), np.str_('6009130'), np.str_('6009131'), np.str_('6010130'), np.str_('6010131'), np.str_('6011130'), np.str_('6011131'), np.str_('6012130'), np.str_('6013130'), np.str_('boundary')]\n",
            "Not setting metadata\n",
            "61 matching events found\n",
            "No baseline correction applied\n",
            "0 projection items activated\n",
            "Using data from preloaded Raw for 61 events and 13001 original time points ...\n",
            "0 bad epochs dropped\n",
            "Not setting metadata\n",
            "49 matching events found\n",
            "No baseline correction applied\n",
            "0 projection items activated\n",
            "Using data from preloaded Raw for 49 events and 21001 original time points ...\n",
            "    Rejecting  epoch based on EEG : ['Fz']\n",
            "    Rejecting  epoch based on EEG : ['Fz']\n",
            "    Rejecting  epoch based on EEG : ['Fz']\n",
            "    Rejecting  epoch based on EEG : ['Fz']\n",
            "4 bad epochs dropped\n",
            "Not setting metadata\n",
            "54 matching events found\n",
            "No baseline correction applied\n",
            "0 projection items activated\n",
            "Using data from preloaded Raw for 54 events and 29001 original time points ...\n",
            "    Rejecting  epoch based on EEG : ['Fz']\n",
            "    Rejecting  epoch based on EEG : ['Fz']\n",
            "    Rejecting  epoch based on EEG : ['Fz']\n",
            "3 bad epochs dropped\n"
          ]
        },
        {
          "output_type": "stream",
          "name": "stderr",
          "text": [
            "\rProcessing EEG subjects:  26%|██▌       | 17/65 [25:46<1:16:47, 95.99s/it]"
          ]
        },
        {
          "output_type": "stream",
          "name": "stdout",
          "text": [
            "\n",
            "🔍 Processing sub-048...\n"
          ]
        },
        {
          "output_type": "stream",
          "name": "stderr",
          "text": [
            "/usr/local/lib/python3.11/dist-packages/pymatreader/utils.py:168: UserWarning: Complex objects (like classes) are not supported. They are imported on a best effort base but your mileage will vary.\n",
            "  warn(\n"
          ]
        },
        {
          "output_type": "stream",
          "name": "stdout",
          "text": [
            "NOTE: pick_channels() is a legacy function. New code should use inst.pick(...).\n"
          ]
        },
        {
          "output_type": "stream",
          "name": "stderr",
          "text": [
            "<ipython-input-2-8a7cce88ed6d>:35: RuntimeWarning: The data contains 'boundary' events, indicating data discontinuities. Be cautious of filtering and epoching around these events.\n",
            "  raw = mne.io.read_raw_eeglab(file_path, preload=True)\n"
          ]
        },
        {
          "output_type": "stream",
          "name": "stdout",
          "text": [
            "Used Annotations descriptions: [np.str_('500105'), np.str_('500109'), np.str_('500113'), np.str_('500205'), np.str_('500209'), np.str_('500213'), np.str_('500305'), np.str_('500309'), np.str_('500313'), np.str_('500405'), np.str_('500409'), np.str_('500413'), np.str_('500505'), np.str_('500509'), np.str_('500513'), np.str_('500609'), np.str_('500613'), np.str_('500709'), np.str_('500713'), np.str_('500809'), np.str_('500813'), np.str_('500909'), np.str_('500913'), np.str_('501013'), np.str_('501113'), np.str_('501213'), np.str_('501313'), np.str_('6001050'), np.str_('6001051'), np.str_('6001090'), np.str_('6001091'), np.str_('6001130'), np.str_('6001131'), np.str_('6002050'), np.str_('6002051'), np.str_('6002090'), np.str_('6002091'), np.str_('6002130'), np.str_('6002131'), np.str_('6003050'), np.str_('6003051'), np.str_('6003090'), np.str_('6003091'), np.str_('6003130'), np.str_('6003131'), np.str_('6004050'), np.str_('6004051'), np.str_('6004090'), np.str_('6004091'), np.str_('6004130'), np.str_('6004131'), np.str_('6005050'), np.str_('6005051'), np.str_('6005090'), np.str_('6005091'), np.str_('6005130'), np.str_('6005131'), np.str_('6006090'), np.str_('6006091'), np.str_('6006130'), np.str_('6006131'), np.str_('6007090'), np.str_('6007091'), np.str_('6007130'), np.str_('6007131'), np.str_('6008090'), np.str_('6008091'), np.str_('6008130'), np.str_('6008131'), np.str_('6009090'), np.str_('6009091'), np.str_('6009130'), np.str_('6009131'), np.str_('6010130'), np.str_('6010131'), np.str_('6011130'), np.str_('6011131'), np.str_('6012130'), np.str_('6012131'), np.str_('6013130'), np.str_('6013131'), np.str_('boundary')]\n",
            "Not setting metadata\n",
            "54 matching events found\n",
            "No baseline correction applied\n",
            "0 projection items activated\n",
            "Using data from preloaded Raw for 54 events and 13001 original time points ...\n",
            "    Rejecting  epoch based on EEG : ['Fz']\n",
            "    Rejecting  epoch based on EEG : ['Fz']\n",
            "2 bad epochs dropped\n",
            "Not setting metadata\n",
            "54 matching events found\n",
            "No baseline correction applied\n",
            "0 projection items activated\n",
            "Using data from preloaded Raw for 54 events and 21001 original time points ...\n",
            "    Rejecting  epoch based on EEG : ['Fz']\n",
            "1 bad epochs dropped\n",
            "Not setting metadata\n",
            "54 matching events found\n",
            "No baseline correction applied\n",
            "0 projection items activated\n",
            "Using data from preloaded Raw for 54 events and 29001 original time points ...\n",
            "    Rejecting  epoch based on EEG : ['Fz']\n",
            "    Rejecting  epoch based on EEG : ['Fz']\n",
            "2 bad epochs dropped\n"
          ]
        },
        {
          "output_type": "stream",
          "name": "stderr",
          "text": [
            "\rProcessing EEG subjects:  28%|██▊       | 18/65 [27:16<1:13:38, 94.01s/it]"
          ]
        },
        {
          "output_type": "stream",
          "name": "stdout",
          "text": [
            "\n",
            "🔍 Processing sub-060...\n"
          ]
        },
        {
          "output_type": "stream",
          "name": "stderr",
          "text": [
            "/usr/local/lib/python3.11/dist-packages/pymatreader/utils.py:168: UserWarning: Complex objects (like classes) are not supported. They are imported on a best effort base but your mileage will vary.\n",
            "  warn(\n"
          ]
        },
        {
          "output_type": "stream",
          "name": "stdout",
          "text": [
            "NOTE: pick_channels() is a legacy function. New code should use inst.pick(...).\n"
          ]
        },
        {
          "output_type": "stream",
          "name": "stderr",
          "text": [
            "<ipython-input-2-8a7cce88ed6d>:35: RuntimeWarning: The data contains 'boundary' events, indicating data discontinuities. Be cautious of filtering and epoching around these events.\n",
            "  raw = mne.io.read_raw_eeglab(file_path, preload=True)\n"
          ]
        },
        {
          "output_type": "stream",
          "name": "stdout",
          "text": [
            "Used Annotations descriptions: [np.str_('500105'), np.str_('500109'), np.str_('500113'), np.str_('500205'), np.str_('500209'), np.str_('500213'), np.str_('500305'), np.str_('500309'), np.str_('500313'), np.str_('500405'), np.str_('500409'), np.str_('500413'), np.str_('500505'), np.str_('500509'), np.str_('500513'), np.str_('500609'), np.str_('500613'), np.str_('500709'), np.str_('500713'), np.str_('500809'), np.str_('500813'), np.str_('500909'), np.str_('500913'), np.str_('501013'), np.str_('501113'), np.str_('501213'), np.str_('501313'), np.str_('6001050'), np.str_('6001051'), np.str_('6001090'), np.str_('6001091'), np.str_('6001130'), np.str_('6001131'), np.str_('6002051'), np.str_('6002090'), np.str_('6002091'), np.str_('6002130'), np.str_('6002131'), np.str_('6003050'), np.str_('6003051'), np.str_('6003090'), np.str_('6003091'), np.str_('6003130'), np.str_('6003131'), np.str_('6004050'), np.str_('6004051'), np.str_('6004090'), np.str_('6004091'), np.str_('6004130'), np.str_('6004131'), np.str_('6005050'), np.str_('6005051'), np.str_('6005090'), np.str_('6005091'), np.str_('6005130'), np.str_('6005131'), np.str_('6006090'), np.str_('6006091'), np.str_('6006130'), np.str_('6006131'), np.str_('6007090'), np.str_('6007091'), np.str_('6007130'), np.str_('6007131'), np.str_('6008090'), np.str_('6008091'), np.str_('6008130'), np.str_('6008131'), np.str_('6009090'), np.str_('6009091'), np.str_('6009130'), np.str_('6009131'), np.str_('6010130'), np.str_('6010131'), np.str_('6011130'), np.str_('6012130'), np.str_('6012131'), np.str_('6013130'), np.str_('6013131'), np.str_('boundary')]\n",
            "Not setting metadata\n",
            "54 matching events found\n",
            "No baseline correction applied\n",
            "0 projection items activated\n",
            "Using data from preloaded Raw for 54 events and 13001 original time points ...\n",
            "0 bad epochs dropped\n",
            "Not setting metadata\n",
            "54 matching events found\n",
            "No baseline correction applied\n",
            "0 projection items activated\n",
            "Using data from preloaded Raw for 54 events and 21001 original time points ...\n",
            "0 bad epochs dropped\n",
            "Not setting metadata\n",
            "54 matching events found\n",
            "No baseline correction applied\n",
            "0 projection items activated\n",
            "Using data from preloaded Raw for 54 events and 29001 original time points ...\n",
            "0 bad epochs dropped\n"
          ]
        },
        {
          "output_type": "stream",
          "name": "stderr",
          "text": [
            "\rProcessing EEG subjects:  29%|██▉       | 19/65 [28:52<1:12:31, 94.61s/it]"
          ]
        },
        {
          "output_type": "stream",
          "name": "stdout",
          "text": [
            "\n",
            "🔍 Processing sub-057...\n"
          ]
        },
        {
          "output_type": "stream",
          "name": "stderr",
          "text": [
            "/usr/local/lib/python3.11/dist-packages/pymatreader/utils.py:168: UserWarning: Complex objects (like classes) are not supported. They are imported on a best effort base but your mileage will vary.\n",
            "  warn(\n"
          ]
        },
        {
          "output_type": "stream",
          "name": "stdout",
          "text": [
            "NOTE: pick_channels() is a legacy function. New code should use inst.pick(...).\n"
          ]
        },
        {
          "output_type": "stream",
          "name": "stderr",
          "text": [
            "<ipython-input-2-8a7cce88ed6d>:35: RuntimeWarning: The data contains 'boundary' events, indicating data discontinuities. Be cautious of filtering and epoching around these events.\n",
            "  raw = mne.io.read_raw_eeglab(file_path, preload=True)\n"
          ]
        },
        {
          "output_type": "stream",
          "name": "stdout",
          "text": [
            "Used Annotations descriptions: [np.str_('500105'), np.str_('500109'), np.str_('500113'), np.str_('500205'), np.str_('500209'), np.str_('500213'), np.str_('500305'), np.str_('500309'), np.str_('500313'), np.str_('500405'), np.str_('500409'), np.str_('500413'), np.str_('500505'), np.str_('500509'), np.str_('500513'), np.str_('500609'), np.str_('500613'), np.str_('500709'), np.str_('500713'), np.str_('500809'), np.str_('500813'), np.str_('500909'), np.str_('500913'), np.str_('501013'), np.str_('501113'), np.str_('501213'), np.str_('501313'), np.str_('6001050'), np.str_('6001051'), np.str_('6001090'), np.str_('6001091'), np.str_('6001130'), np.str_('6001131'), np.str_('6002051'), np.str_('6002090'), np.str_('6002091'), np.str_('6002130'), np.str_('6002131'), np.str_('6003050'), np.str_('6003051'), np.str_('6003090'), np.str_('6003091'), np.str_('6003130'), np.str_('6003131'), np.str_('6004051'), np.str_('6004090'), np.str_('6004091'), np.str_('6004130'), np.str_('6004131'), np.str_('6005051'), np.str_('6005090'), np.str_('6005091'), np.str_('6005130'), np.str_('6005131'), np.str_('6006090'), np.str_('6006091'), np.str_('6006130'), np.str_('6006131'), np.str_('6007090'), np.str_('6007091'), np.str_('6007130'), np.str_('6007131'), np.str_('6008090'), np.str_('6008091'), np.str_('6008130'), np.str_('6008131'), np.str_('6009090'), np.str_('6009091'), np.str_('6009130'), np.str_('6009131'), np.str_('6010130'), np.str_('6010131'), np.str_('6011130'), np.str_('6011131'), np.str_('6012130'), np.str_('6012131'), np.str_('6013130'), np.str_('6013131'), np.str_('boundary')]\n",
            "Not setting metadata\n",
            "54 matching events found\n",
            "No baseline correction applied\n",
            "0 projection items activated\n",
            "Using data from preloaded Raw for 54 events and 13001 original time points ...\n",
            "0 bad epochs dropped\n",
            "Not setting metadata\n",
            "54 matching events found\n",
            "No baseline correction applied\n",
            "0 projection items activated\n",
            "Using data from preloaded Raw for 54 events and 21001 original time points ...\n",
            "0 bad epochs dropped\n",
            "Not setting metadata\n",
            "54 matching events found\n",
            "No baseline correction applied\n",
            "0 projection items activated\n",
            "Using data from preloaded Raw for 54 events and 29001 original time points ...\n",
            "    Rejecting  epoch based on EEG : ['Fz']\n",
            "    Rejecting  epoch based on EEG : ['Fz']\n",
            "    Rejecting  epoch based on EEG : ['Fz']\n",
            "    Rejecting  epoch based on EEG : ['Fz']\n",
            "    Rejecting  epoch based on EEG : ['Fz']\n",
            "5 bad epochs dropped\n"
          ]
        },
        {
          "output_type": "stream",
          "name": "stderr",
          "text": [
            "\rProcessing EEG subjects:  31%|███       | 20/65 [30:24<1:10:21, 93.82s/it]"
          ]
        },
        {
          "output_type": "stream",
          "name": "stdout",
          "text": [
            "\n",
            "🔍 Processing sub-059...\n"
          ]
        },
        {
          "output_type": "stream",
          "name": "stderr",
          "text": [
            "/usr/local/lib/python3.11/dist-packages/pymatreader/utils.py:168: UserWarning: Complex objects (like classes) are not supported. They are imported on a best effort base but your mileage will vary.\n",
            "  warn(\n"
          ]
        },
        {
          "output_type": "stream",
          "name": "stdout",
          "text": [
            "NOTE: pick_channels() is a legacy function. New code should use inst.pick(...).\n"
          ]
        },
        {
          "output_type": "stream",
          "name": "stderr",
          "text": [
            "<ipython-input-2-8a7cce88ed6d>:35: RuntimeWarning: The data contains 'boundary' events, indicating data discontinuities. Be cautious of filtering and epoching around these events.\n",
            "  raw = mne.io.read_raw_eeglab(file_path, preload=True)\n"
          ]
        },
        {
          "output_type": "stream",
          "name": "stdout",
          "text": [
            "Used Annotations descriptions: [np.str_('500105'), np.str_('500109'), np.str_('500113'), np.str_('500205'), np.str_('500209'), np.str_('500213'), np.str_('500305'), np.str_('500309'), np.str_('500313'), np.str_('500405'), np.str_('500409'), np.str_('500413'), np.str_('500505'), np.str_('500509'), np.str_('500513'), np.str_('500609'), np.str_('500613'), np.str_('500709'), np.str_('500713'), np.str_('500809'), np.str_('500813'), np.str_('500909'), np.str_('500913'), np.str_('501013'), np.str_('501113'), np.str_('501213'), np.str_('501313'), np.str_('6001050'), np.str_('6001051'), np.str_('6001090'), np.str_('6001091'), np.str_('6001130'), np.str_('6001131'), np.str_('6002050'), np.str_('6002051'), np.str_('6002090'), np.str_('6002091'), np.str_('6002130'), np.str_('6002131'), np.str_('6003050'), np.str_('6003051'), np.str_('6003090'), np.str_('6003091'), np.str_('6003130'), np.str_('6003131'), np.str_('6004050'), np.str_('6004051'), np.str_('6004090'), np.str_('6004091'), np.str_('6004130'), np.str_('6004131'), np.str_('6005050'), np.str_('6005051'), np.str_('6005090'), np.str_('6005091'), np.str_('6005130'), np.str_('6005131'), np.str_('6006090'), np.str_('6006091'), np.str_('6006130'), np.str_('6006131'), np.str_('6007090'), np.str_('6007091'), np.str_('6007130'), np.str_('6007131'), np.str_('6008090'), np.str_('6008091'), np.str_('6008130'), np.str_('6008131'), np.str_('6009090'), np.str_('6009091'), np.str_('6009130'), np.str_('6010130'), np.str_('6011130'), np.str_('6012130'), np.str_('6013130'), np.str_('boundary')]\n",
            "Not setting metadata\n",
            "54 matching events found\n",
            "No baseline correction applied\n",
            "0 projection items activated\n",
            "Using data from preloaded Raw for 54 events and 13001 original time points ...\n",
            "0 bad epochs dropped\n",
            "Not setting metadata\n",
            "54 matching events found\n",
            "No baseline correction applied\n",
            "0 projection items activated\n",
            "Using data from preloaded Raw for 54 events and 21001 original time points ...\n",
            "0 bad epochs dropped\n",
            "Not setting metadata\n",
            "54 matching events found\n",
            "No baseline correction applied\n",
            "0 projection items activated\n",
            "Using data from preloaded Raw for 54 events and 29001 original time points ...\n",
            "    Rejecting  epoch based on EEG : ['Fz']\n",
            "1 bad epochs dropped\n"
          ]
        },
        {
          "output_type": "stream",
          "name": "stderr",
          "text": [
            "\rProcessing EEG subjects:  32%|███▏      | 21/65 [32:06<1:10:35, 96.26s/it]"
          ]
        },
        {
          "output_type": "stream",
          "name": "stdout",
          "text": [
            "\n",
            "🔍 Processing sub-053...\n"
          ]
        },
        {
          "output_type": "stream",
          "name": "stderr",
          "text": [
            "/usr/local/lib/python3.11/dist-packages/pymatreader/utils.py:168: UserWarning: Complex objects (like classes) are not supported. They are imported on a best effort base but your mileage will vary.\n",
            "  warn(\n"
          ]
        },
        {
          "output_type": "stream",
          "name": "stdout",
          "text": [
            "NOTE: pick_channels() is a legacy function. New code should use inst.pick(...).\n"
          ]
        },
        {
          "output_type": "stream",
          "name": "stderr",
          "text": [
            "<ipython-input-2-8a7cce88ed6d>:35: RuntimeWarning: The data contains 'boundary' events, indicating data discontinuities. Be cautious of filtering and epoching around these events.\n",
            "  raw = mne.io.read_raw_eeglab(file_path, preload=True)\n"
          ]
        },
        {
          "output_type": "stream",
          "name": "stdout",
          "text": [
            "Used Annotations descriptions: [np.str_('500105'), np.str_('500109'), np.str_('500113'), np.str_('500205'), np.str_('500209'), np.str_('500213'), np.str_('500305'), np.str_('500309'), np.str_('500313'), np.str_('500405'), np.str_('500409'), np.str_('500413'), np.str_('500505'), np.str_('500509'), np.str_('500513'), np.str_('500609'), np.str_('500613'), np.str_('500709'), np.str_('500713'), np.str_('500809'), np.str_('500813'), np.str_('500909'), np.str_('500913'), np.str_('501013'), np.str_('501113'), np.str_('501213'), np.str_('501313'), np.str_('6001051'), np.str_('6001090'), np.str_('6001091'), np.str_('6001130'), np.str_('6001131'), np.str_('6002050'), np.str_('6002051'), np.str_('6002090'), np.str_('6002091'), np.str_('6002130'), np.str_('6002131'), np.str_('6003050'), np.str_('6003051'), np.str_('6003090'), np.str_('6003091'), np.str_('6003130'), np.str_('6003131'), np.str_('6004050'), np.str_('6004051'), np.str_('6004090'), np.str_('6004091'), np.str_('6004130'), np.str_('6004131'), np.str_('6005050'), np.str_('6005051'), np.str_('6005090'), np.str_('6005091'), np.str_('6005130'), np.str_('6005131'), np.str_('6006090'), np.str_('6006091'), np.str_('6006130'), np.str_('6006131'), np.str_('6007090'), np.str_('6007091'), np.str_('6007130'), np.str_('6007131'), np.str_('6008090'), np.str_('6008091'), np.str_('6008130'), np.str_('6008131'), np.str_('6009090'), np.str_('6009091'), np.str_('6009130'), np.str_('6009131'), np.str_('6010130'), np.str_('6010131'), np.str_('6011130'), np.str_('6012130'), np.str_('6013130'), np.str_('boundary')]\n",
            "Not setting metadata\n",
            "56 matching events found\n",
            "No baseline correction applied\n",
            "0 projection items activated\n",
            "Using data from preloaded Raw for 56 events and 13001 original time points ...\n",
            "    Rejecting  epoch based on EEG : ['Fz']\n",
            "    Rejecting  epoch based on EEG : ['Fz']\n",
            "2 bad epochs dropped\n",
            "Not setting metadata\n",
            "55 matching events found\n",
            "No baseline correction applied\n",
            "0 projection items activated\n",
            "Using data from preloaded Raw for 55 events and 21001 original time points ...\n",
            "    Rejecting  epoch based on EEG : ['Fz']\n",
            "    Rejecting  epoch based on EEG : ['Fz']\n",
            "2 bad epochs dropped\n",
            "Not setting metadata\n",
            "55 matching events found\n",
            "No baseline correction applied\n",
            "0 projection items activated\n",
            "Using data from preloaded Raw for 55 events and 29001 original time points ...\n",
            "0 bad epochs dropped\n"
          ]
        },
        {
          "output_type": "stream",
          "name": "stderr",
          "text": [
            "\rProcessing EEG subjects:  34%|███▍      | 22/65 [34:01<1:13:02, 101.91s/it]"
          ]
        },
        {
          "output_type": "stream",
          "name": "stdout",
          "text": [
            "\n",
            "🔍 Processing sub-055...\n"
          ]
        },
        {
          "output_type": "stream",
          "name": "stderr",
          "text": [
            "/usr/local/lib/python3.11/dist-packages/pymatreader/utils.py:168: UserWarning: Complex objects (like classes) are not supported. They are imported on a best effort base but your mileage will vary.\n",
            "  warn(\n"
          ]
        },
        {
          "output_type": "stream",
          "name": "stdout",
          "text": [
            "NOTE: pick_channels() is a legacy function. New code should use inst.pick(...).\n"
          ]
        },
        {
          "output_type": "stream",
          "name": "stderr",
          "text": [
            "<ipython-input-2-8a7cce88ed6d>:35: RuntimeWarning: The data contains 'boundary' events, indicating data discontinuities. Be cautious of filtering and epoching around these events.\n",
            "  raw = mne.io.read_raw_eeglab(file_path, preload=True)\n"
          ]
        },
        {
          "output_type": "stream",
          "name": "stdout",
          "text": [
            "Used Annotations descriptions: [np.str_('500105'), np.str_('500109'), np.str_('500113'), np.str_('500205'), np.str_('500209'), np.str_('500213'), np.str_('500305'), np.str_('500309'), np.str_('500313'), np.str_('500405'), np.str_('500409'), np.str_('500413'), np.str_('500505'), np.str_('500509'), np.str_('500513'), np.str_('500609'), np.str_('500613'), np.str_('500709'), np.str_('500713'), np.str_('500809'), np.str_('500813'), np.str_('500909'), np.str_('500913'), np.str_('501013'), np.str_('501113'), np.str_('501213'), np.str_('501313'), np.str_('6001050'), np.str_('6001051'), np.str_('6001090'), np.str_('6001091'), np.str_('6001130'), np.str_('6001131'), np.str_('6002050'), np.str_('6002051'), np.str_('6002090'), np.str_('6002091'), np.str_('6002130'), np.str_('6002131'), np.str_('6003050'), np.str_('6003051'), np.str_('6003090'), np.str_('6003091'), np.str_('6003130'), np.str_('6003131'), np.str_('6004050'), np.str_('6004051'), np.str_('6004090'), np.str_('6004091'), np.str_('6004130'), np.str_('6004131'), np.str_('6005050'), np.str_('6005051'), np.str_('6005090'), np.str_('6005091'), np.str_('6005130'), np.str_('6005131'), np.str_('6006090'), np.str_('6006091'), np.str_('6006130'), np.str_('6006131'), np.str_('6007090'), np.str_('6007091'), np.str_('6007130'), np.str_('6007131'), np.str_('6008090'), np.str_('6008091'), np.str_('6008130'), np.str_('6008131'), np.str_('6009090'), np.str_('6009091'), np.str_('6009130'), np.str_('6009131'), np.str_('6010130'), np.str_('6010131'), np.str_('6011130'), np.str_('6011131'), np.str_('6012130'), np.str_('6013130'), np.str_('boundary')]\n",
            "Not setting metadata\n",
            "54 matching events found\n",
            "No baseline correction applied\n",
            "0 projection items activated\n",
            "Using data from preloaded Raw for 54 events and 13001 original time points ...\n",
            "0 bad epochs dropped\n",
            "Not setting metadata\n",
            "54 matching events found\n",
            "No baseline correction applied\n",
            "0 projection items activated\n",
            "Using data from preloaded Raw for 54 events and 21001 original time points ...\n",
            "    Rejecting  epoch based on EEG : ['Fz']\n",
            "    Rejecting  epoch based on EEG : ['Fz']\n",
            "    Rejecting  epoch based on EEG : ['Fz']\n",
            "3 bad epochs dropped\n",
            "Not setting metadata\n",
            "54 matching events found\n",
            "No baseline correction applied\n",
            "0 projection items activated\n",
            "Using data from preloaded Raw for 54 events and 29001 original time points ...\n",
            "0 bad epochs dropped\n"
          ]
        },
        {
          "output_type": "stream",
          "name": "stderr",
          "text": [
            "\rProcessing EEG subjects:  35%|███▌      | 23/65 [35:35<1:09:49, 99.74s/it] "
          ]
        },
        {
          "output_type": "stream",
          "name": "stdout",
          "text": [
            "\n",
            "🔍 Processing sub-054...\n"
          ]
        },
        {
          "output_type": "stream",
          "name": "stderr",
          "text": [
            "/usr/local/lib/python3.11/dist-packages/pymatreader/utils.py:168: UserWarning: Complex objects (like classes) are not supported. They are imported on a best effort base but your mileage will vary.\n",
            "  warn(\n"
          ]
        },
        {
          "output_type": "stream",
          "name": "stdout",
          "text": [
            "NOTE: pick_channels() is a legacy function. New code should use inst.pick(...).\n"
          ]
        },
        {
          "output_type": "stream",
          "name": "stderr",
          "text": [
            "<ipython-input-2-8a7cce88ed6d>:35: RuntimeWarning: The data contains 'boundary' events, indicating data discontinuities. Be cautious of filtering and epoching around these events.\n",
            "  raw = mne.io.read_raw_eeglab(file_path, preload=True)\n"
          ]
        },
        {
          "output_type": "stream",
          "name": "stdout",
          "text": [
            "Used Annotations descriptions: [np.str_('500105'), np.str_('500109'), np.str_('500113'), np.str_('500205'), np.str_('500209'), np.str_('500213'), np.str_('500305'), np.str_('500309'), np.str_('500313'), np.str_('500405'), np.str_('500409'), np.str_('500413'), np.str_('500505'), np.str_('500509'), np.str_('500513'), np.str_('500609'), np.str_('500613'), np.str_('500709'), np.str_('500713'), np.str_('500809'), np.str_('500813'), np.str_('500909'), np.str_('500913'), np.str_('501013'), np.str_('501113'), np.str_('501213'), np.str_('501313'), np.str_('6001050'), np.str_('6001051'), np.str_('6001090'), np.str_('6001091'), np.str_('6001130'), np.str_('6001131'), np.str_('6002050'), np.str_('6002051'), np.str_('6002090'), np.str_('6002091'), np.str_('6002130'), np.str_('6002131'), np.str_('6003050'), np.str_('6003051'), np.str_('6003090'), np.str_('6003091'), np.str_('6003130'), np.str_('6003131'), np.str_('6004050'), np.str_('6004051'), np.str_('6004090'), np.str_('6004091'), np.str_('6004130'), np.str_('6004131'), np.str_('6005050'), np.str_('6005051'), np.str_('6005090'), np.str_('6005091'), np.str_('6005130'), np.str_('6005131'), np.str_('6006090'), np.str_('6006091'), np.str_('6006130'), np.str_('6006131'), np.str_('6007090'), np.str_('6007091'), np.str_('6007130'), np.str_('6007131'), np.str_('6008090'), np.str_('6008091'), np.str_('6008130'), np.str_('6008131'), np.str_('6009090'), np.str_('6009091'), np.str_('6009130'), np.str_('6009131'), np.str_('6010130'), np.str_('6010131'), np.str_('6011130'), np.str_('6011131'), np.str_('6012130'), np.str_('6012131'), np.str_('6013130'), np.str_('boundary')]\n",
            "Not setting metadata\n",
            "54 matching events found\n",
            "No baseline correction applied\n",
            "0 projection items activated\n",
            "Using data from preloaded Raw for 54 events and 13001 original time points ...\n",
            "    Rejecting  epoch based on EEG : ['Fz']\n",
            "    Rejecting  epoch based on EEG : ['Fz']\n",
            "2 bad epochs dropped\n",
            "Not setting metadata\n",
            "54 matching events found\n",
            "No baseline correction applied\n",
            "0 projection items activated\n",
            "Using data from preloaded Raw for 54 events and 21001 original time points ...\n",
            "0 bad epochs dropped\n",
            "Not setting metadata\n",
            "54 matching events found\n",
            "No baseline correction applied\n",
            "0 projection items activated\n",
            "Using data from preloaded Raw for 54 events and 29001 original time points ...\n",
            "0 bad epochs dropped\n"
          ]
        },
        {
          "output_type": "stream",
          "name": "stderr",
          "text": [
            "\rProcessing EEG subjects:  37%|███▋      | 24/65 [37:09<1:06:49, 97.80s/it]"
          ]
        },
        {
          "output_type": "stream",
          "name": "stdout",
          "text": [
            "\n",
            "🔍 Processing sub-056...\n"
          ]
        },
        {
          "output_type": "stream",
          "name": "stderr",
          "text": [
            "/usr/local/lib/python3.11/dist-packages/pymatreader/utils.py:168: UserWarning: Complex objects (like classes) are not supported. They are imported on a best effort base but your mileage will vary.\n",
            "  warn(\n"
          ]
        },
        {
          "output_type": "stream",
          "name": "stdout",
          "text": [
            "NOTE: pick_channels() is a legacy function. New code should use inst.pick(...).\n"
          ]
        },
        {
          "output_type": "stream",
          "name": "stderr",
          "text": [
            "<ipython-input-2-8a7cce88ed6d>:35: RuntimeWarning: The data contains 'boundary' events, indicating data discontinuities. Be cautious of filtering and epoching around these events.\n",
            "  raw = mne.io.read_raw_eeglab(file_path, preload=True)\n"
          ]
        },
        {
          "output_type": "stream",
          "name": "stdout",
          "text": [
            "Used Annotations descriptions: [np.str_('500105'), np.str_('500109'), np.str_('500113'), np.str_('500205'), np.str_('500209'), np.str_('500213'), np.str_('500305'), np.str_('500309'), np.str_('500313'), np.str_('500405'), np.str_('500409'), np.str_('500413'), np.str_('500505'), np.str_('500509'), np.str_('500513'), np.str_('500609'), np.str_('500613'), np.str_('500709'), np.str_('500713'), np.str_('500809'), np.str_('500813'), np.str_('500909'), np.str_('500913'), np.str_('501013'), np.str_('501113'), np.str_('501213'), np.str_('501313'), np.str_('6001050'), np.str_('6001051'), np.str_('6001090'), np.str_('6001091'), np.str_('6001130'), np.str_('6001131'), np.str_('6002050'), np.str_('6002051'), np.str_('6002090'), np.str_('6002091'), np.str_('6002130'), np.str_('6002131'), np.str_('6003050'), np.str_('6003051'), np.str_('6003090'), np.str_('6003091'), np.str_('6003130'), np.str_('6003131'), np.str_('6004050'), np.str_('6004051'), np.str_('6004090'), np.str_('6004091'), np.str_('6004130'), np.str_('6004131'), np.str_('6005050'), np.str_('6005051'), np.str_('6005090'), np.str_('6005091'), np.str_('6005130'), np.str_('6005131'), np.str_('6006090'), np.str_('6006091'), np.str_('6006130'), np.str_('6006131'), np.str_('6007090'), np.str_('6007091'), np.str_('6007130'), np.str_('6007131'), np.str_('6008090'), np.str_('6008091'), np.str_('6008130'), np.str_('6008131'), np.str_('6009090'), np.str_('6009091'), np.str_('6009130'), np.str_('6009131'), np.str_('6010130'), np.str_('6011130'), np.str_('6012130'), np.str_('6013130'), np.str_('boundary')]\n",
            "Not setting metadata\n",
            "54 matching events found\n",
            "No baseline correction applied\n",
            "0 projection items activated\n",
            "Using data from preloaded Raw for 54 events and 13001 original time points ...\n",
            "0 bad epochs dropped\n",
            "Not setting metadata\n",
            "54 matching events found\n",
            "No baseline correction applied\n",
            "0 projection items activated\n",
            "Using data from preloaded Raw for 54 events and 21001 original time points ...\n",
            "0 bad epochs dropped\n",
            "Not setting metadata\n",
            "54 matching events found\n",
            "No baseline correction applied\n",
            "0 projection items activated\n",
            "Using data from preloaded Raw for 54 events and 29001 original time points ...\n",
            "0 bad epochs dropped\n"
          ]
        },
        {
          "output_type": "stream",
          "name": "stderr",
          "text": [
            "\rProcessing EEG subjects:  38%|███▊      | 25/65 [38:37<1:03:22, 95.06s/it]"
          ]
        },
        {
          "output_type": "stream",
          "name": "stdout",
          "text": [
            "\n",
            "🔍 Processing sub-051...\n"
          ]
        },
        {
          "output_type": "stream",
          "name": "stderr",
          "text": [
            "/usr/local/lib/python3.11/dist-packages/pymatreader/utils.py:168: UserWarning: Complex objects (like classes) are not supported. They are imported on a best effort base but your mileage will vary.\n",
            "  warn(\n"
          ]
        },
        {
          "output_type": "stream",
          "name": "stdout",
          "text": [
            "NOTE: pick_channels() is a legacy function. New code should use inst.pick(...).\n"
          ]
        },
        {
          "output_type": "stream",
          "name": "stderr",
          "text": [
            "<ipython-input-2-8a7cce88ed6d>:35: RuntimeWarning: The data contains 'boundary' events, indicating data discontinuities. Be cautious of filtering and epoching around these events.\n",
            "  raw = mne.io.read_raw_eeglab(file_path, preload=True)\n"
          ]
        },
        {
          "output_type": "stream",
          "name": "stdout",
          "text": [
            "Used Annotations descriptions: [np.str_('500105'), np.str_('500109'), np.str_('500113'), np.str_('500205'), np.str_('500209'), np.str_('500213'), np.str_('500305'), np.str_('500309'), np.str_('500313'), np.str_('500405'), np.str_('500409'), np.str_('500413'), np.str_('500505'), np.str_('500509'), np.str_('500513'), np.str_('500609'), np.str_('500613'), np.str_('500709'), np.str_('500713'), np.str_('500809'), np.str_('500813'), np.str_('500909'), np.str_('500913'), np.str_('501013'), np.str_('501113'), np.str_('501213'), np.str_('501313'), np.str_('6001051'), np.str_('6001091'), np.str_('6001130'), np.str_('6001131'), np.str_('6002051'), np.str_('6002090'), np.str_('6002091'), np.str_('6002130'), np.str_('6002131'), np.str_('6003050'), np.str_('6003051'), np.str_('6003090'), np.str_('6003091'), np.str_('6003130'), np.str_('6003131'), np.str_('6004050'), np.str_('6004051'), np.str_('6004090'), np.str_('6004091'), np.str_('6004130'), np.str_('6004131'), np.str_('6005050'), np.str_('6005051'), np.str_('6005090'), np.str_('6005091'), np.str_('6005130'), np.str_('6005131'), np.str_('6006090'), np.str_('6006091'), np.str_('6006130'), np.str_('6006131'), np.str_('6007090'), np.str_('6007091'), np.str_('6007130'), np.str_('6007131'), np.str_('6008090'), np.str_('6008091'), np.str_('6008130'), np.str_('6008131'), np.str_('6009090'), np.str_('6009091'), np.str_('6009130'), np.str_('6009131'), np.str_('6010130'), np.str_('6011130'), np.str_('6012130'), np.str_('6013130'), np.str_('boundary')]\n",
            "Not setting metadata\n",
            "90 matching events found\n",
            "No baseline correction applied\n",
            "0 projection items activated\n",
            "Using data from preloaded Raw for 90 events and 13001 original time points ...\n",
            "0 bad epochs dropped\n",
            "Not setting metadata\n",
            "54 matching events found\n",
            "No baseline correction applied\n",
            "0 projection items activated\n",
            "Using data from preloaded Raw for 54 events and 21001 original time points ...\n",
            "0 bad epochs dropped\n",
            "Not setting metadata\n",
            "55 matching events found\n",
            "No baseline correction applied\n",
            "0 projection items activated\n",
            "Using data from preloaded Raw for 55 events and 29001 original time points ...\n",
            "0 bad epochs dropped\n"
          ]
        },
        {
          "output_type": "stream",
          "name": "stderr",
          "text": [
            "\rProcessing EEG subjects:  40%|████      | 26/65 [40:07<1:00:40, 93.35s/it]"
          ]
        },
        {
          "output_type": "stream",
          "name": "stdout",
          "text": [
            "\n",
            "🔍 Processing sub-052...\n"
          ]
        },
        {
          "output_type": "stream",
          "name": "stderr",
          "text": [
            "/usr/local/lib/python3.11/dist-packages/pymatreader/utils.py:168: UserWarning: Complex objects (like classes) are not supported. They are imported on a best effort base but your mileage will vary.\n",
            "  warn(\n"
          ]
        },
        {
          "output_type": "stream",
          "name": "stdout",
          "text": [
            "NOTE: pick_channels() is a legacy function. New code should use inst.pick(...).\n"
          ]
        },
        {
          "output_type": "stream",
          "name": "stderr",
          "text": [
            "<ipython-input-2-8a7cce88ed6d>:35: RuntimeWarning: The data contains 'boundary' events, indicating data discontinuities. Be cautious of filtering and epoching around these events.\n",
            "  raw = mne.io.read_raw_eeglab(file_path, preload=True)\n"
          ]
        },
        {
          "output_type": "stream",
          "name": "stdout",
          "text": [
            "Used Annotations descriptions: [np.str_('500105'), np.str_('500109'), np.str_('500113'), np.str_('500205'), np.str_('500209'), np.str_('500213'), np.str_('500305'), np.str_('500309'), np.str_('500313'), np.str_('500405'), np.str_('500409'), np.str_('500413'), np.str_('500505'), np.str_('500509'), np.str_('500513'), np.str_('500609'), np.str_('500613'), np.str_('500709'), np.str_('500713'), np.str_('500809'), np.str_('500813'), np.str_('500909'), np.str_('500913'), np.str_('501013'), np.str_('501113'), np.str_('501213'), np.str_('501313'), np.str_('6001051'), np.str_('6001090'), np.str_('6001091'), np.str_('6001130'), np.str_('6001131'), np.str_('6002050'), np.str_('6002051'), np.str_('6002090'), np.str_('6002091'), np.str_('6002130'), np.str_('6002131'), np.str_('6003050'), np.str_('6003051'), np.str_('6003090'), np.str_('6003091'), np.str_('6003130'), np.str_('6003131'), np.str_('6004050'), np.str_('6004051'), np.str_('6004090'), np.str_('6004091'), np.str_('6004130'), np.str_('6004131'), np.str_('6005050'), np.str_('6005051'), np.str_('6005090'), np.str_('6005091'), np.str_('6005130'), np.str_('6005131'), np.str_('6006090'), np.str_('6006091'), np.str_('6006130'), np.str_('6006131'), np.str_('6007090'), np.str_('6007091'), np.str_('6007130'), np.str_('6007131'), np.str_('6008090'), np.str_('6008130'), np.str_('6008131'), np.str_('6009090'), np.str_('6009130'), np.str_('6010130'), np.str_('6011130'), np.str_('6012130'), np.str_('6013130'), np.str_('boundary')]\n",
            "Not setting metadata\n",
            "73 matching events found\n",
            "No baseline correction applied\n",
            "0 projection items activated\n",
            "Using data from preloaded Raw for 73 events and 13001 original time points ...\n",
            "0 bad epochs dropped\n",
            "Not setting metadata\n",
            "55 matching events found\n",
            "No baseline correction applied\n",
            "0 projection items activated\n",
            "Using data from preloaded Raw for 55 events and 21001 original time points ...\n",
            "    Rejecting  epoch based on EEG : ['Fz']\n",
            "    Rejecting  epoch based on EEG : ['Fz']\n",
            "    Rejecting  epoch based on EEG : ['Fz']\n",
            "    Rejecting  epoch based on EEG : ['Fz']\n",
            "    Rejecting  epoch based on EEG : ['Fz']\n",
            "    Rejecting  epoch based on EEG : ['Fz']\n",
            "    Rejecting  epoch based on EEG : ['Fz']\n",
            "7 bad epochs dropped\n",
            "Not setting metadata\n",
            "35 matching events found\n",
            "No baseline correction applied\n",
            "0 projection items activated\n",
            "Using data from preloaded Raw for 35 events and 29001 original time points ...\n",
            "    Rejecting  epoch based on EEG : ['Fz']\n",
            "    Rejecting  epoch based on EEG : ['Fz']\n",
            "    Rejecting  epoch based on EEG : ['Fz']\n",
            "    Rejecting  epoch based on EEG : ['Fz']\n",
            "    Rejecting  epoch based on EEG : ['Fz']\n",
            "    Rejecting  epoch based on EEG : ['Fz']\n",
            "    Rejecting  epoch based on EEG : ['Fz']\n",
            "7 bad epochs dropped\n"
          ]
        },
        {
          "output_type": "stream",
          "name": "stderr",
          "text": [
            "\rProcessing EEG subjects:  42%|████▏     | 27/65 [41:31<57:21, 90.58s/it]  "
          ]
        },
        {
          "output_type": "stream",
          "name": "stdout",
          "text": [
            "\n",
            "🔍 Processing sub-058...\n"
          ]
        },
        {
          "output_type": "stream",
          "name": "stderr",
          "text": [
            "/usr/local/lib/python3.11/dist-packages/pymatreader/utils.py:168: UserWarning: Complex objects (like classes) are not supported. They are imported on a best effort base but your mileage will vary.\n",
            "  warn(\n"
          ]
        },
        {
          "output_type": "stream",
          "name": "stdout",
          "text": [
            "NOTE: pick_channels() is a legacy function. New code should use inst.pick(...).\n"
          ]
        },
        {
          "output_type": "stream",
          "name": "stderr",
          "text": [
            "<ipython-input-2-8a7cce88ed6d>:35: RuntimeWarning: The data contains 'boundary' events, indicating data discontinuities. Be cautious of filtering and epoching around these events.\n",
            "  raw = mne.io.read_raw_eeglab(file_path, preload=True)\n"
          ]
        },
        {
          "output_type": "stream",
          "name": "stdout",
          "text": [
            "Used Annotations descriptions: [np.str_('500105'), np.str_('500109'), np.str_('500113'), np.str_('500205'), np.str_('500209'), np.str_('500213'), np.str_('500305'), np.str_('500309'), np.str_('500313'), np.str_('500405'), np.str_('500409'), np.str_('500413'), np.str_('500505'), np.str_('500509'), np.str_('500513'), np.str_('500609'), np.str_('500613'), np.str_('500709'), np.str_('500713'), np.str_('500809'), np.str_('500813'), np.str_('500909'), np.str_('500913'), np.str_('501013'), np.str_('501113'), np.str_('501213'), np.str_('501313'), np.str_('6001051'), np.str_('6001090'), np.str_('6001091'), np.str_('6001130'), np.str_('6001131'), np.str_('6002051'), np.str_('6002090'), np.str_('6002091'), np.str_('6002130'), np.str_('6002131'), np.str_('6003050'), np.str_('6003051'), np.str_('6003090'), np.str_('6003091'), np.str_('6003130'), np.str_('6003131'), np.str_('6004050'), np.str_('6004051'), np.str_('6004090'), np.str_('6004091'), np.str_('6004130'), np.str_('6004131'), np.str_('6005050'), np.str_('6005051'), np.str_('6005090'), np.str_('6005091'), np.str_('6005130'), np.str_('6005131'), np.str_('6006090'), np.str_('6006091'), np.str_('6006130'), np.str_('6006131'), np.str_('6007090'), np.str_('6007091'), np.str_('6007130'), np.str_('6007131'), np.str_('6008090'), np.str_('6008091'), np.str_('6008130'), np.str_('6008131'), np.str_('6009090'), np.str_('6009091'), np.str_('6009130'), np.str_('6009131'), np.str_('6010130'), np.str_('6011130'), np.str_('6012130'), np.str_('6013130'), np.str_('boundary')]\n",
            "Not setting metadata\n",
            "55 matching events found\n",
            "No baseline correction applied\n",
            "0 projection items activated\n",
            "Using data from preloaded Raw for 55 events and 13001 original time points ...\n",
            "0 bad epochs dropped\n",
            "Not setting metadata\n",
            "55 matching events found\n",
            "No baseline correction applied\n",
            "0 projection items activated\n",
            "Using data from preloaded Raw for 55 events and 21001 original time points ...\n",
            "0 bad epochs dropped\n",
            "Not setting metadata\n",
            "88 matching events found\n",
            "No baseline correction applied\n",
            "0 projection items activated\n",
            "Using data from preloaded Raw for 88 events and 29001 original time points ...\n",
            "    Rejecting  epoch based on EEG : ['Fz']\n",
            "    Rejecting  epoch based on EEG : ['Fz']\n",
            "    Rejecting  epoch based on EEG : ['Fz']\n",
            "3 bad epochs dropped\n"
          ]
        },
        {
          "output_type": "stream",
          "name": "stderr",
          "text": [
            "\rProcessing EEG subjects:  43%|████▎     | 28/65 [43:01<55:44, 90.39s/it]"
          ]
        },
        {
          "output_type": "stream",
          "name": "stdout",
          "text": [
            "\n",
            "🔍 Processing sub-068...\n"
          ]
        },
        {
          "output_type": "stream",
          "name": "stderr",
          "text": [
            "/usr/local/lib/python3.11/dist-packages/pymatreader/utils.py:168: UserWarning: Complex objects (like classes) are not supported. They are imported on a best effort base but your mileage will vary.\n",
            "  warn(\n"
          ]
        },
        {
          "output_type": "stream",
          "name": "stdout",
          "text": [
            "NOTE: pick_channels() is a legacy function. New code should use inst.pick(...).\n"
          ]
        },
        {
          "output_type": "stream",
          "name": "stderr",
          "text": [
            "<ipython-input-2-8a7cce88ed6d>:35: RuntimeWarning: The data contains 'boundary' events, indicating data discontinuities. Be cautious of filtering and epoching around these events.\n",
            "  raw = mne.io.read_raw_eeglab(file_path, preload=True)\n"
          ]
        },
        {
          "output_type": "stream",
          "name": "stdout",
          "text": [
            "Used Annotations descriptions: [np.str_('500105'), np.str_('500109'), np.str_('500113'), np.str_('500205'), np.str_('500209'), np.str_('500213'), np.str_('500305'), np.str_('500309'), np.str_('500313'), np.str_('500405'), np.str_('500409'), np.str_('500413'), np.str_('500505'), np.str_('500509'), np.str_('500513'), np.str_('500609'), np.str_('500613'), np.str_('500709'), np.str_('500713'), np.str_('500809'), np.str_('500813'), np.str_('500909'), np.str_('500913'), np.str_('501013'), np.str_('501113'), np.str_('501213'), np.str_('501313'), np.str_('6001051'), np.str_('6001091'), np.str_('6001131'), np.str_('6002051'), np.str_('6002090'), np.str_('6002091'), np.str_('6002130'), np.str_('6002131'), np.str_('6003050'), np.str_('6003051'), np.str_('6003090'), np.str_('6003091'), np.str_('6003130'), np.str_('6003131'), np.str_('6004050'), np.str_('6004051'), np.str_('6004090'), np.str_('6004091'), np.str_('6004130'), np.str_('6004131'), np.str_('6005050'), np.str_('6005051'), np.str_('6005090'), np.str_('6005091'), np.str_('6005130'), np.str_('6005131'), np.str_('6006090'), np.str_('6006091'), np.str_('6006130'), np.str_('6006131'), np.str_('6007090'), np.str_('6007091'), np.str_('6007130'), np.str_('6007131'), np.str_('6008090'), np.str_('6008091'), np.str_('6008130'), np.str_('6008131'), np.str_('6009090'), np.str_('6009091'), np.str_('6009130'), np.str_('6009131'), np.str_('6010130'), np.str_('6011130'), np.str_('6012130'), np.str_('6013130'), np.str_('boundary')]\n",
            "Not setting metadata\n",
            "90 matching events found\n",
            "No baseline correction applied\n",
            "0 projection items activated\n",
            "Using data from preloaded Raw for 90 events and 13001 original time points ...\n",
            "    Rejecting  epoch based on EEG : ['Fz']\n",
            "    Rejecting  epoch based on EEG : ['Fz']\n",
            "2 bad epochs dropped\n",
            "Not setting metadata\n",
            "90 matching events found\n",
            "No baseline correction applied\n",
            "0 projection items activated\n",
            "Using data from preloaded Raw for 90 events and 21001 original time points ...\n",
            "    Rejecting  epoch based on EEG : ['Fz']\n",
            "    Rejecting  epoch based on EEG : ['Fz']\n",
            "    Rejecting  epoch based on EEG : ['Fz']\n",
            "    Rejecting  epoch based on EEG : ['Fz']\n",
            "    Rejecting  epoch based on EEG : ['Fz']\n",
            "    Rejecting  epoch based on EEG : ['Fz']\n",
            "    Rejecting  epoch based on EEG : ['Fz']\n",
            "7 bad epochs dropped\n",
            "Not setting metadata\n",
            "54 matching events found\n",
            "No baseline correction applied\n",
            "0 projection items activated\n",
            "Using data from preloaded Raw for 54 events and 29001 original time points ...\n",
            "    Rejecting  epoch based on EEG : ['Fz']\n",
            "    Rejecting  epoch based on EEG : ['Fz']\n",
            "    Rejecting  epoch based on EEG : ['Fz']\n",
            "    Rejecting  epoch based on EEG : ['Fz']\n",
            "    Rejecting  epoch based on EEG : ['Fz']\n",
            "    Rejecting  epoch based on EEG : ['Fz']\n",
            "    Rejecting  epoch based on EEG : ['Fz']\n",
            "    Rejecting  epoch based on EEG : ['Fz']\n",
            "    Rejecting  epoch based on EEG : ['Fz']\n",
            "    Rejecting  epoch based on EEG : ['Fz']\n",
            "    Rejecting  epoch based on EEG : ['Fz']\n",
            "    Rejecting  epoch based on EEG : ['Fz']\n",
            "    Rejecting  epoch based on EEG : ['Fz']\n",
            "    Rejecting  epoch based on EEG : ['Fz']\n",
            "    Rejecting  epoch based on EEG : ['Fz']\n",
            "    Rejecting  epoch based on EEG : ['Fz']\n",
            "16 bad epochs dropped\n"
          ]
        },
        {
          "output_type": "stream",
          "name": "stderr",
          "text": [
            "\rProcessing EEG subjects:  45%|████▍     | 29/65 [44:28<53:37, 89.39s/it]"
          ]
        },
        {
          "output_type": "stream",
          "name": "stdout",
          "text": [
            "\n",
            "🔍 Processing sub-063...\n"
          ]
        },
        {
          "output_type": "stream",
          "name": "stderr",
          "text": [
            "/usr/local/lib/python3.11/dist-packages/pymatreader/utils.py:168: UserWarning: Complex objects (like classes) are not supported. They are imported on a best effort base but your mileage will vary.\n",
            "  warn(\n"
          ]
        },
        {
          "output_type": "stream",
          "name": "stdout",
          "text": [
            "NOTE: pick_channels() is a legacy function. New code should use inst.pick(...).\n"
          ]
        },
        {
          "output_type": "stream",
          "name": "stderr",
          "text": [
            "<ipython-input-2-8a7cce88ed6d>:35: RuntimeWarning: The data contains 'boundary' events, indicating data discontinuities. Be cautious of filtering and epoching around these events.\n",
            "  raw = mne.io.read_raw_eeglab(file_path, preload=True)\n"
          ]
        },
        {
          "output_type": "stream",
          "name": "stdout",
          "text": [
            "Used Annotations descriptions: [np.str_('500105'), np.str_('500109'), np.str_('500113'), np.str_('500205'), np.str_('500209'), np.str_('500213'), np.str_('500305'), np.str_('500309'), np.str_('500313'), np.str_('500405'), np.str_('500409'), np.str_('500413'), np.str_('500505'), np.str_('500509'), np.str_('500513'), np.str_('500609'), np.str_('500613'), np.str_('500709'), np.str_('500713'), np.str_('500809'), np.str_('500813'), np.str_('500909'), np.str_('500913'), np.str_('501013'), np.str_('501113'), np.str_('501213'), np.str_('501313'), np.str_('6001051'), np.str_('6001090'), np.str_('6001091'), np.str_('6001130'), np.str_('6001131'), np.str_('6002050'), np.str_('6002051'), np.str_('6002090'), np.str_('6002091'), np.str_('6002130'), np.str_('6002131'), np.str_('6003050'), np.str_('6003051'), np.str_('6003090'), np.str_('6003091'), np.str_('6003130'), np.str_('6003131'), np.str_('6004050'), np.str_('6004051'), np.str_('6004090'), np.str_('6004091'), np.str_('6004130'), np.str_('6004131'), np.str_('6005050'), np.str_('6005051'), np.str_('6005090'), np.str_('6005091'), np.str_('6005130'), np.str_('6005131'), np.str_('6006090'), np.str_('6006091'), np.str_('6006130'), np.str_('6006131'), np.str_('6007090'), np.str_('6007091'), np.str_('6007130'), np.str_('6007131'), np.str_('6008090'), np.str_('6008091'), np.str_('6008130'), np.str_('6008131'), np.str_('6009090'), np.str_('6009091'), np.str_('6009130'), np.str_('6009131'), np.str_('6010130'), np.str_('6010131'), np.str_('6011130'), np.str_('6011131'), np.str_('6012130'), np.str_('6012131'), np.str_('6013130'), np.str_('6013131'), np.str_('boundary')]\n",
            "Not setting metadata\n",
            "61 matching events found\n",
            "No baseline correction applied\n",
            "0 projection items activated\n",
            "Using data from preloaded Raw for 61 events and 13001 original time points ...\n",
            "0 bad epochs dropped\n",
            "Not setting metadata\n",
            "56 matching events found\n",
            "No baseline correction applied\n",
            "0 projection items activated\n",
            "Using data from preloaded Raw for 56 events and 21001 original time points ...\n",
            "0 bad epochs dropped\n",
            "Not setting metadata\n",
            "47 matching events found\n",
            "No baseline correction applied\n",
            "0 projection items activated\n",
            "Using data from preloaded Raw for 47 events and 29001 original time points ...\n",
            "0 bad epochs dropped\n"
          ]
        },
        {
          "output_type": "stream",
          "name": "stderr",
          "text": [
            "\rProcessing EEG subjects:  46%|████▌     | 30/65 [46:14<55:10, 94.57s/it]"
          ]
        },
        {
          "output_type": "stream",
          "name": "stdout",
          "text": [
            "\n",
            "🔍 Processing sub-067...\n"
          ]
        },
        {
          "output_type": "stream",
          "name": "stderr",
          "text": [
            "/usr/local/lib/python3.11/dist-packages/pymatreader/utils.py:168: UserWarning: Complex objects (like classes) are not supported. They are imported on a best effort base but your mileage will vary.\n",
            "  warn(\n"
          ]
        }
      ]
    }
  ]
}